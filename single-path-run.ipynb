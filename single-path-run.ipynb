{
 "cells": [
  {
   "cell_type": "code",
   "execution_count": 1,
   "metadata": {},
   "outputs": [],
   "source": [
    "import numpy as np\n",
    "from scipy.stats import rv_discrete\n",
    "from matplotlib import pyplot as plt\n",
    "import cvxpy as cp\n",
    "import pickle\n",
    "import gurobipy as gp\n",
    "from gurobipy import GRB\n",
    "# import gurobipy"
   ]
  },
  {
   "cell_type": "code",
   "execution_count": 2,
   "metadata": {},
   "outputs": [],
   "source": [
    "import utils\n",
    "def run_extremes(N, W, pmf_cust, pmf_serv, gurobi_flag = 1):\n",
    "    Ex = round (np.sum(np.outer(pmf_cust,pmf_serv)*W), 3) \n",
    "    print(\"Expected cost for c = 0 case:\", Ex )\n",
    "    if gurobi_flag == 1:\n",
    "        fluid_sol = utils.fluid_solution_gurobi(N, W, pmf_cust, pmf_serv)\n",
    "    else:\n",
    "        fluid_sol = utils.fluid_solution(N, W, pmf_cust, pmf_serv)\n",
    "#     print(\"\\nFluid Solution:\\n\")\n",
    "#     print(fluid_sol)\n",
    "    return([Ex,fluid_sol])\n",
    "def plot_from_sim_paths(file_name, save_file= 0, frac = 0):\n",
    "    with open(file_name,'rb') as f:\n",
    "        M_res,B_res, N, W, pmf_cust, pmf_serv = pickle.load(f)\n",
    "    Q_paths_M = M_res[\"Q_paths\"]\n",
    "    C_paths_M = M_res[\"C_paths\"]\n",
    "    Q_paths_B = B_res[\"Q_paths\"]\n",
    "    C_paths_B = B_res[\"C_paths\"]\n",
    "    (average_cost_M, average_queue_M) = utils.average_paths(C_paths_M,Q_paths_M, frac)\n",
    "    (average_cost_B, average_queue_B) = utils.average_paths(C_paths_B,Q_paths_B, frac)\n",
    "    [Ex,fluid_sol] = run_extremes(N,W,pmf_cust,pmf_serv)\n",
    "    utils.qc_plot(Ex,fluid_sol,average_queue_B,average_cost_B,average_queue_M,average_cost_M, save_file)\n",
    "    \n",
    "def generate_weights(N_grid, is_spatial = 1):\n",
    "    Weights = np.zeros(shape=(N_grid,N_grid))\n",
    "    if is_spatial:\n",
    "        X = np.arange(0.5,N_grid,1)\n",
    "        Y = np.arange(0.5,N_grid,1)\n",
    "        cell_locs = []\n",
    "        for i in range(N_grid):\n",
    "            for j in range(N_grid):\n",
    "                cell_locs.append([X[i],Y[j]])\n",
    "        N_cells = N_grid*N_grid\n",
    "        Weights = np.zeros(shape=(N_cells,N_cells))\n",
    "\n",
    "        for i in range(N_cells):\n",
    "            for j in range(N_cells):\n",
    "                Weights[i,j] = np.sqrt((cell_locs[i][0] - cell_locs[j][0])**2 + (cell_locs[i][1] - cell_locs[j][1])**2)\n",
    "        print(Weights)\n",
    "    else:\n",
    "        rand_weights = np.random.rand(N_grid, N_grid)\n",
    "        N_cells = N_grid*N_grid\n",
    "        for counter in range(N_cells):\n",
    "            for i in range(N_grid):\n",
    "                for j in range(N_grid):\n",
    "                    for k in range(N_grid):\n",
    "                        rand_weights[i,j] = min(rand_weights[i,j],rand_weights[i,k] + rand_weights[k,j] )\n",
    "        print(rand_weights)\n",
    "        Weights = rand_weights\n",
    "    return(Weights)"
   ]
  },
  {
   "cell_type": "code",
   "execution_count": 16,
   "metadata": {
    "scrolled": true
   },
   "outputs": [
    {
     "name": "stdout",
     "output_type": "stream",
     "text": [
      "Expected cost for c = 0 case: 0.854\n",
      "Set parameter Username\n",
      "Academic license - for non-commercial use only - expires 2024-09-03\n",
      "Gurobi Optimizer version 10.0.3 build v10.0.3rc0 (win64)\n",
      "\n",
      "CPU model: Intel(R) Core(TM) i7-8550U CPU @ 1.80GHz, instruction set [SSE2|AVX|AVX2]\n",
      "Thread count: 4 physical cores, 8 logical processors, using up to 8 threads\n",
      "\n",
      "Optimize a model with 8 rows, 16 columns and 32 nonzeros\n",
      "Model fingerprint: 0x1e0e9b1b\n",
      "Coefficient statistics:\n",
      "  Matrix range     [1e+00, 1e+00]\n",
      "  Objective range  [1e+00, 1e+00]\n",
      "  Bounds range     [1e+00, 1e+00]\n",
      "  RHS range        [3e-01, 3e-01]\n",
      "Presolve time: 0.05s\n",
      "Presolved: 8 rows, 16 columns, 32 nonzeros\n",
      "\n",
      "Iteration    Objective       Primal Inf.    Dual Inf.      Time\n",
      "       0    0.0000000e+00   0.000000e+00   0.000000e+00      0s\n",
      "\n",
      "Solved in 0 iterations and 0.17 seconds (0.00 work units)\n",
      "Optimal objective  0.000000000e+00\n",
      "Objective Value: 0.00\n",
      "x:  [[0.25 0.   0.   0.  ]\n",
      " [0.   0.25 0.   0.  ]\n",
      " [0.   0.   0.25 0.  ]\n",
      " [0.   0.   0.   0.25]]\n"
     ]
    },
    {
     "data": {
      "image/png": "[encoded data removed]",
      "text/plain": [
       "<Figure size 720x432 with 1 Axes>"
      ]
     },
     "metadata": {
      "needs_background": "light"
     },
     "output_type": "display_data"
    }
   ],
   "source": [
    "file_name = '../sim_paths_spatial_uniform_4.pkl'\n",
    "plot_from_sim_paths(file_name)"
   ]
  },
  {
   "cell_type": "code",
   "execution_count": 3,
   "metadata": {},
   "outputs": [],
   "source": [
    "alpha_values = alpha_values = np.asarray( [0, 0.2, 0.25, 0.35, 0.4, 0.45, 0.5, 0.55, 0.6, 0.65, 0.675, 0.7, 0.725, 0.75, 0.8, 0.825, 0.85, 0.875,  0.9, 0.925, 0.95] )"
   ]
  },
  {
   "cell_type": "code",
   "execution_count": 4,
   "metadata": {},
   "outputs": [
    {
     "data": {
      "text/plain": [
       "(21,)"
      ]
     },
     "execution_count": 4,
     "metadata": {},
     "output_type": "execute_result"
    }
   ],
   "source": [
    "alpha_values.shape"
   ]
  },
  {
   "cell_type": "code",
   "execution_count": 41,
   "metadata": {},
   "outputs": [
    {
     "name": "stdout",
     "output_type": "stream",
     "text": [
      "[[0.         1.         1.         1.41421356]\n",
      " [1.         0.         1.41421356 1.        ]\n",
      " [1.         1.41421356 0.         1.        ]\n",
      " [1.41421356 1.         1.         0.        ]]\n",
      "[0.25 0.25 0.25 0.25] [0.25 0.25 0.25 0.25]\n"
     ]
    }
   ],
   "source": [
    "N = 2\n",
    "\n",
    "is_spatial = 1\n",
    "W = generate_weights(N,is_spatial)\n",
    "\n",
    "time_steps = 10000\n",
    "\n",
    "\n",
    "if is_spatial:\n",
    "    N = N*N\n",
    "    \n",
    "pmf_cust = np.ones(N)*(1/N)\n",
    "pmf_serv = np.ones(N)*(1/N)\n",
    "print(pmf_cust,pmf_serv)\n",
    "\n",
    "arrival_ids = np.arange(0,N,1)\n",
    "cust_process = rv_discrete(name='cust_arr', values=(arrival_ids, pmf_cust))\n",
    "serv_process = rv_discrete(name='serv_arr', values=(arrival_ids, pmf_serv))"
   ]
  },
  {
   "cell_type": "code",
   "execution_count": 4,
   "metadata": {},
   "outputs": [],
   "source": [
    "cust_arrivals = cust_process.rvs( size = time_steps )\n",
    "serv_arrivals = serv_process.rvs( size = time_steps )"
   ]
  },
  {
   "cell_type": "code",
   "execution_count": 5,
   "metadata": {},
   "outputs": [],
   "source": [
    "alpha = 0.9\n",
    "Q_mw = []\n",
    "Qtilde_mw = []\n",
    "Mstars_mw = []"
   ]
  },
  {
   "cell_type": "code",
   "execution_count": 6,
   "metadata": {
    "scrolled": true
   },
   "outputs": [],
   "source": [
    "q = np.zeros(N)\n",
    "q[cust_arrivals[0]] = 1\n",
    "qtilde = np.zeros(N)\n",
    "qtilde[serv_arrivals[0]] = 1\n",
    "\n",
    "cost_path_mw = [0]\n",
    "total_queue = []\n",
    "total_queue.append(np.sum(q))\n",
    "\n",
    "for k in range(1,time_steps):\n",
    "    # Maxweight Matching\n",
    "    M = cp.Variable((N,N),integer=True)\n",
    "    constraints = []\n",
    "    for i in range(N):\n",
    "        constraints.append( cp.sum(M[i,:]) <= q[i] )\n",
    "        constraints.append( cp.sum(M[:,i]) <= qtilde[i] )\n",
    "    constraints.append( M[:,:]>=0 )\n",
    "\n",
    "    objective = cp.Maximize( cp.sum( (1-alpha)*( cp.multiply( q, cp.sum(M, axis=1) ) + cp.multiply( qtilde, cp.sum(M, axis=0) ) ) )\n",
    "                            - cp.sum( alpha*cp.multiply( W,M  ) ) )\n",
    "    problem  = cp.Problem(objective, constraints)         \n",
    "    problem.solve(solver=\"GLPK_MI\")\n",
    "    # print(\"q=\",q)\n",
    "    # print(\"qtilde=\",qtilde)\n",
    "    # print(problem)\n",
    "\n",
    "\n",
    "    # Check arrivals\n",
    "    a = np.zeros(N)\n",
    "    atilde = np.zeros(N)\n",
    "\n",
    "    a[cust_arrivals[k]] = 1\n",
    "    atilde[serv_arrivals[k]] = 1\n",
    "    # State Update\n",
    "    Mstar = M.value\n",
    "    # print(\"M=\", Mstar)\n",
    "    matching_cost = np.sum(np.multiply(Mstar,W)) \n",
    "    q = q + a - np.sum(Mstar, 1)\n",
    "    qtilde = qtilde + atilde - np.sum(Mstar,0)\n",
    "    Q_mw.append(q)\n",
    "    Qtilde_mw.append(qtilde)\n",
    "    Mstars_mw.append(Mstar)\n",
    "    total_queue.append(np.sum(q))\n",
    "    cost_path_mw.append(matching_cost)"
   ]
  },
  {
   "cell_type": "code",
   "execution_count": 7,
   "metadata": {
    "scrolled": true
   },
   "outputs": [
    {
     "name": "stdout",
     "output_type": "stream",
     "text": [
      "0.11806467529817258\n",
      "4.7633\n"
     ]
    }
   ],
   "source": [
    "average_cost_mw = np.average(cost_path_mw)\n",
    "print(average_cost_mw)\n",
    "average_queue_mw = np.average(total_queue)\n",
    "print(average_queue_mw)"
   ]
  },
  {
   "cell_type": "code",
   "execution_count": 8,
   "metadata": {},
   "outputs": [],
   "source": [
    "T = 9\n",
    "Q_b = []\n",
    "Qtilde_b = []\n",
    "Mstars_b = []"
   ]
  },
  {
   "cell_type": "code",
   "execution_count": 9,
   "metadata": {},
   "outputs": [],
   "source": [
    "q = np.zeros(N)\n",
    "q[cust_arrivals[0]] = 1\n",
    "qtilde = np.zeros(N)\n",
    "qtilde[serv_arrivals[0]] = 1\n",
    "\n",
    "running_cost = 0\n",
    "cost_path = [0]\n",
    "total_queue = [] \n",
    "total_queue.append(np.sum(q))\n",
    "\n",
    "for k in range(1,time_steps):\n",
    "    # Check arrivals\n",
    "    a = np.zeros(N)\n",
    "    atilde = np.zeros(N)\n",
    "\n",
    "    a[cust_arrivals[k]] = 1\n",
    "    atilde[serv_arrivals[k]] = 1\n",
    "    # State Update\n",
    "    Mstar = np.zeros(shape=(N,N))\n",
    "\n",
    "    # Matching is done every T time steps \n",
    "    if(k%T==0):\n",
    "        constraints = []\n",
    "        M = cp.Variable((N,N),integer=True)\n",
    "        constraints = []\n",
    "        for i in range(N):\n",
    "            constraints.append( cp.sum(M[i,:]) == q[i] )\n",
    "            constraints.append( cp.sum(M[:,i]) == qtilde[i] )\n",
    "        constraints.append( M[:,:]>=0 )\n",
    "\n",
    "        objective = cp.Minimize( cp.sum( cp.multiply( W, M ) ) )\n",
    "        problem  = cp.Problem(objective, constraints)         \n",
    "        problem.solve(solver=\"GLPK_MI\")\n",
    "        Mstar = M.value\n",
    "\n",
    "    running_cost += np.sum(np.multiply(Mstar,W))\n",
    "    q = q + a - np.sum(Mstar, 1)\n",
    "    if q[0] < 0:\n",
    "        print(q-a+np.sum(Mstar, 1))\n",
    "        print(Mstar, k)\n",
    "        print(constraints)\n",
    "        break\n",
    "    qtilde = qtilde + atilde - np.sum(Mstar,0)\n",
    "    Q_b.append(q)\n",
    "    Qtilde_b.append(qtilde)\n",
    "    Mstars_b.append(Mstar)\n",
    "    total_queue.append(np.sum(q))\n",
    "    cost_path.append(np.sum(np.multiply(Mstar,W)))"
   ]
  },
  {
   "cell_type": "code",
   "execution_count": 10,
   "metadata": {},
   "outputs": [
    {
     "name": "stdout",
     "output_type": "stream",
     "text": [
      "0.34715129855222066\n",
      "4.9996\n"
     ]
    }
   ],
   "source": [
    "average_cost_b = np.average(cost_path)\n",
    "print(average_cost_b)\n",
    "average_queue_b = np.average(total_queue)\n",
    "print(average_queue_b)"
   ]
  },
  {
   "cell_type": "code",
   "execution_count": 16,
   "metadata": {},
   "outputs": [],
   "source": [
    "with open(\"../single_path_run.pkl\", 'wb') as f:\n",
    "    pickle.dump([Q_mw, Qtilde_mw, Mstars_mw, Q_b, Qtilde_b, Mstars_b ],f)"
   ]
  },
  {
   "cell_type": "code",
   "execution_count": 3,
   "metadata": {},
   "outputs": [],
   "source": [
    "with open(\"../single_path_run.pkl\", 'rb') as f:\n",
    "    Q_mw, Qtilde_mw, Mstars_mw, Q_b, Qtilde_b, Mstars_b = pickle.load(f)"
   ]
  },
  {
   "cell_type": "code",
   "execution_count": 10,
   "metadata": {},
   "outputs": [],
   "source": [
    "Q_mw = np.asarray(Q_mw,dtype='int64')"
   ]
  },
  {
   "cell_type": "code",
   "execution_count": 11,
   "metadata": {},
   "outputs": [],
   "source": [
    "Q_mw = np.asarray(Q_mw)\n",
    "Qtilde_mw = np.asarray(Qtilde_mw)\n",
    "Mstars_mw = np.asarray(Mstars_mw)"
   ]
  },
  {
   "cell_type": "code",
   "execution_count": 12,
   "metadata": {},
   "outputs": [],
   "source": [
    "Q_b = np.asarray(Q_b)\n",
    "Qtilde_b = np.asarray(Qtilde_b)\n",
    "Mstars_b = np.asarray(Mstars_b)"
   ]
  },
  {
   "cell_type": "code",
   "execution_count": 17,
   "metadata": {
    "scrolled": true
   },
   "outputs": [
    {
     "name": "stdout",
     "output_type": "stream",
     "text": [
      "Expected cost for c = 0 case: 0.854\n",
      "Gurobi Optimizer version 10.0.3 build v10.0.3rc0 (win64)\n",
      "\n",
      "CPU model: Intel(R) Core(TM) i7-8550U CPU @ 1.80GHz, instruction set [SSE2|AVX|AVX2]\n",
      "Thread count: 4 physical cores, 8 logical processors, using up to 8 threads\n",
      "\n",
      "Optimize a model with 8 rows, 16 columns and 32 nonzeros\n",
      "Model fingerprint: 0x1e0e9b1b\n",
      "Coefficient statistics:\n",
      "  Matrix range     [1e+00, 1e+00]\n",
      "  Objective range  [1e+00, 1e+00]\n",
      "  Bounds range     [1e+00, 1e+00]\n",
      "  RHS range        [3e-01, 3e-01]\n",
      "Presolve time: 0.01s\n",
      "Presolved: 8 rows, 16 columns, 32 nonzeros\n",
      "\n",
      "Iteration    Objective       Primal Inf.    Dual Inf.      Time\n",
      "       0    0.0000000e+00   0.000000e+00   0.000000e+00      0s\n",
      "\n",
      "Solved in 0 iterations and 0.02 seconds (0.00 work units)\n",
      "Optimal objective  0.000000000e+00\n",
      "Objective Value: 0.00\n",
      "x:  [[0.25 0.   0.   0.  ]\n",
      " [0.   0.25 0.   0.  ]\n",
      " [0.   0.   0.25 0.  ]\n",
      " [0.   0.   0.   0.25]]\n"
     ]
    },
    {
     "data": {
      "image/png": "[encoded data removed]",
      "text/plain": [
       "<Figure size 720x432 with 1 Axes>"
      ]
     },
     "metadata": {
      "needs_background": "light"
     },
     "output_type": "display_data"
    }
   ],
   "source": [
    "file_name = '../sim_paths_spatial_uniform_4.pkl'\n",
    "plot_from_sim_paths(file_name)"
   ]
  },
  {
   "cell_type": "markdown",
   "metadata": {},
   "source": [
    "### Analysis"
   ]
  },
  {
   "cell_type": "code",
   "execution_count": 8,
   "metadata": {},
   "outputs": [],
   "source": [
    "Mstars_b = np.asarray(Mstars_b)"
   ]
  },
  {
   "cell_type": "code",
   "execution_count": 30,
   "metadata": {},
   "outputs": [
    {
     "data": {
      "image/png": "[encoded data removed]",
      "text/plain": [
       "<Figure size 864x432 with 1 Axes>"
      ]
     },
     "metadata": {
      "needs_background": "light"
     },
     "output_type": "display_data"
    }
   ],
   "source": [
    "plt.figure( figsize=(12,6) )\n",
    "plot_length = 200\n",
    "plt.step(np.arange(0,plot_length,1), Q_mw[:plot_length,0],linewidth=2)\n",
    "plt.step(np.arange(0,plot_length,1), Qtilde_mw[:plot_length,0],linewidth=2)\n",
    "plt.ylabel(\"Queue length\", weight='bold',fontsize=12)\n",
    "plt.xlabel(\"Time\", weight='bold',fontsize=12)\n",
    "plt.title(\"Queue lengths vs time - Maxweight\", weight='bold',fontsize=15)\n",
    "plt.legend(['Customer Queue length', 'Server Queue length'])\n",
    "plt.savefig('../../plots_stash/single-path-mw.jpg')"
   ]
  },
  {
   "cell_type": "code",
   "execution_count": 34,
   "metadata": {},
   "outputs": [
    {
     "data": {
      "image/png": "[encoded data removed]",
      "text/plain": [
       "<Figure size 864x432 with 1 Axes>"
      ]
     },
     "metadata": {
      "needs_background": "light"
     },
     "output_type": "display_data"
    }
   ],
   "source": [
    "plt.figure( figsize=(12,6) )\n",
    "plot_length = 200\n",
    "plt.step(np.arange(0,plot_length,1), Q_b[:plot_length,0],linewidth=2)\n",
    "plt.step(np.arange(0,plot_length,1), Qtilde_b[:plot_length,0],linewidth=2)\n",
    "plt.ylabel(\"Queue length\", weight='bold',fontsize=12)\n",
    "plt.xlabel(\"Time\", weight='bold',fontsize=12)\n",
    "plt.title(\"Queue lengths vs time - Batching\", weight='bold',fontsize=15)\n",
    "plt.legend(['Customer Queue length', 'Server Queue length'])\n",
    "plt.savefig('../../plots_stash/single-path-B.jpg')"
   ]
  },
  {
   "cell_type": "code",
   "execution_count": 29,
   "metadata": {},
   "outputs": [
    {
     "data": {
      "text/plain": [
       "[<matplotlib.lines.Line2D at 0x29aca890908>]"
      ]
     },
     "execution_count": 29,
     "metadata": {},
     "output_type": "execute_result"
    },
    {
     "data": {
      "image/png": "[encoded data removed]",
      "text/plain": [
       "<Figure size 432x288 with 1 Axes>"
      ]
     },
     "metadata": {
      "needs_background": "light"
     },
     "output_type": "display_data"
    }
   ],
   "source": [
    "\n",
    "plot_length = 100\n",
    "plt.step(np.arange(0,plot_length,1), Q_mw[:plot_length,1])\n",
    "plt.step(np.arange(0,plot_length,1), Qtilde_mw[:plot_length,1])"
   ]
  },
  {
   "cell_type": "code",
   "execution_count": 37,
   "metadata": {},
   "outputs": [
    {
     "data": {
      "image/png": "[encoded data removed]",
      "text/plain": [
       "<Figure size 864x432 with 1 Axes>"
      ]
     },
     "metadata": {
      "needs_background": "light"
     },
     "output_type": "display_data"
    }
   ],
   "source": [
    "plt.figure( figsize=(12,6) )\n",
    "plot_length = 200\n",
    "plt.step(np.arange(0,plot_length,1), Q_mw[:plot_length,2],linewidth=2)\n",
    "plt.step(np.arange(0,plot_length,1), Qtilde_mw[:plot_length,1],linewidth=2)\n",
    "plt.ylabel(\"Queue length\", weight='bold',fontsize=12)\n",
    "plt.xlabel(\"Time\", weight='bold',fontsize=12)\n",
    "plt.title(\"Queue lengths vs time - Maxweight\", weight='bold',fontsize=15)\n",
    "plt.legend(['Customer Queue length', 'Server Queue length'])\n",
    "plt.savefig('../../plots_stash/single-path-mw-1.jpg')"
   ]
  },
  {
   "cell_type": "code",
   "execution_count": 32,
   "metadata": {},
   "outputs": [
    {
     "data": {
      "text/plain": [
       "[<matplotlib.lines.Line2D at 0x29ac9229780>]"
      ]
     },
     "execution_count": 32,
     "metadata": {},
     "output_type": "execute_result"
    },
    {
     "data": {
      "image/png": "[encoded data removed]",
      "text/plain": [
       "<Figure size 432x288 with 1 Axes>"
      ]
     },
     "metadata": {
      "needs_background": "light"
     },
     "output_type": "display_data"
    }
   ],
   "source": [
    "Tplot_length = 100\n",
    "plt.step(np.arange(0,plot_length,1), Q_b[:plot_length,1])\n",
    "plt.step(np.arange(0,plot_length,1), Qtilde_b[:plot_length,1])"
   ]
  },
  {
   "cell_type": "code",
   "execution_count": 36,
   "metadata": {},
   "outputs": [
    {
     "data": {
      "image/png": "[encoded data removed]",
      "text/plain": [
       "<Figure size 864x432 with 1 Axes>"
      ]
     },
     "metadata": {
      "needs_background": "light"
     },
     "output_type": "display_data"
    }
   ],
   "source": [
    "plt.figure( figsize=(12,6) )\n",
    "plot_length = 200\n",
    "plt.step(np.arange(0,plot_length,1), Q_b[:plot_length,1],linewidth=2)\n",
    "plt.step(np.arange(0,plot_length,1), Qtilde_b[:plot_length,1],linewidth=2)\n",
    "plt.ylabel(\"Queue length\", weight='bold',fontsize=12)\n",
    "plt.xlabel(\"Time\", weight='bold',fontsize=12)\n",
    "plt.title(\"Queue lengths vs time - Batching\", weight='bold',fontsize=15)\n",
    "plt.legend(['Customer Queue length', 'Server Queue length'])\n",
    "plt.savefig('../../plots_stash/single-path-B-1.jpg')"
   ]
  },
  {
   "cell_type": "code",
   "execution_count": 48,
   "metadata": {},
   "outputs": [],
   "source": [
    "N = int( len(Mstars_mw) )\n",
    "cost_path_mw = np.zeros(N)\n",
    "cost_path_b  = np.zeros(N)\n",
    "for i in range(N):\n",
    "    cost_path_mw[i] = np.sum( np.multiply(Mstars_mw[i],W) )\n",
    "    cost_path_b[i] = np.sum( np.multiply(Mstars_b[i],W) )"
   ]
  },
  {
   "cell_type": "code",
   "execution_count": 49,
   "metadata": {},
   "outputs": [
    {
     "data": {
      "text/plain": [
       "array([[0., 0., 0., 0.],\n",
       "       [0., 0., 0., 0.],\n",
       "       [0., 0., 0., 0.],\n",
       "       [0., 0., 0., 0.]])"
      ]
     },
     "execution_count": 49,
     "metadata": {},
     "output_type": "execute_result"
    }
   ],
   "source": [
    "np.multiply(Mstars_mw[i],W)"
   ]
  },
  {
   "cell_type": "code",
   "execution_count": 62,
   "metadata": {},
   "outputs": [
    {
     "data": {
      "image/png": "[encoded data removed]",
      "text/plain": [
       "<Figure size 864x432 with 1 Axes>"
      ]
     },
     "metadata": {
      "needs_background": "light"
     },
     "output_type": "display_data"
    }
   ],
   "source": [
    "plt.figure( figsize=(12,6) )\n",
    "plot_length = 1000\n",
    "plt.step(np.arange(0,plot_length,1), cost_path_mw[:plot_length],linewidth=2)\n",
    "plt.ylabel(\"Cost\", weight='bold',fontsize=12)\n",
    "plt.xlabel(\"Time\", weight='bold',fontsize=12)\n",
    "plt.title(\"Cost Path - Maxweight\", weight='bold',fontsize=15)\n",
    "plt.savefig('../../plots_stash/cost-path-MW.jpg')"
   ]
  },
  {
   "cell_type": "code",
   "execution_count": 66,
   "metadata": {},
   "outputs": [
    {
     "data": {
      "image/png": "[encoded data removed]",
      "text/plain": [
       "<Figure size 864x432 with 1 Axes>"
      ]
     },
     "metadata": {
      "needs_background": "light"
     },
     "output_type": "display_data"
    }
   ],
   "source": [
    "plt.figure( figsize=(12,6) )\n",
    "plot_length = 1000\n",
    "plt.step(np.arange(0,plot_length,1), cost_path_b[:plot_length],linewidth=2)\n",
    "plt.ylabel(\"Cost\", weight='bold',fontsize=12)\n",
    "plt.xlabel(\"Time\", weight='bold',fontsize=12)\n",
    "plt.title(\"Cost Path - Batching\", weight='bold',fontsize=15)\n",
    "plt.savefig('../../plots_stash/cost-path-B.jpg')"
   ]
  },
  {
   "cell_type": "code",
   "execution_count": 73,
   "metadata": {},
   "outputs": [],
   "source": [
    "cost_path_b = []\n",
    "for i in range(9999):\n",
    "    cost_path_b.append(np.sum(np.multiply(Mstars_b[i],W)))"
   ]
  },
  {
   "cell_type": "code",
   "execution_count": 74,
   "metadata": {},
   "outputs": [],
   "source": [
    "cost_path_b = np.asarray(cost_path_b)"
   ]
  },
  {
   "cell_type": "code",
   "execution_count": 62,
   "metadata": {},
   "outputs": [
    {
     "data": {
      "text/plain": [
       "array([[0.        , 1.        , 1.        , 1.41421356],\n",
       "       [1.        , 0.        , 1.41421356, 1.        ],\n",
       "       [1.        , 1.41421356, 0.        , 1.        ],\n",
       "       [1.41421356, 1.        , 1.        , 0.        ]])"
      ]
     },
     "execution_count": 62,
     "metadata": {},
     "output_type": "execute_result"
    }
   ],
   "source": [
    "W"
   ]
  },
  {
   "cell_type": "code",
   "execution_count": 68,
   "metadata": {},
   "outputs": [
    {
     "data": {
      "text/plain": [
       "array([[0., 0., 0., 0.],\n",
       "       [0., 0., 0., 0.],\n",
       "       [0., 0., 0., 0.],\n",
       "       [0., 4., 0., 0.]])"
      ]
     },
     "execution_count": 68,
     "metadata": {},
     "output_type": "execute_result"
    }
   ],
   "source": [
    "Mstars_mw[22]"
   ]
  },
  {
   "cell_type": "code",
   "execution_count": 79,
   "metadata": {},
   "outputs": [
    {
     "data": {
      "text/plain": [
       "array([[2146.,  141.,  167.,   58.],\n",
       "       [ 152., 2210.,   33.,  161.],\n",
       "       [ 112.,   35., 2202.,  181.],\n",
       "       [  44.,   79.,  105., 2171.]])"
      ]
     },
     "execution_count": 79,
     "metadata": {},
     "output_type": "execute_result"
    }
   ],
   "source": [
    "np.sum(Mstars_mw,0)"
   ]
  },
  {
   "cell_type": "code",
   "execution_count": 79,
   "metadata": {},
   "outputs": [
    {
     "data": {
      "image/png": "[encoded data removed]",
      "text/plain": [
       "<Figure size 720x432 with 1 Axes>"
      ]
     },
     "metadata": {
      "needs_background": "light"
     },
     "output_type": "display_data"
    }
   ],
   "source": [
    "plt.figure( figsize=(10,6) )\n",
    "new = [2146+2210+2202+2171, 9997-(2146+2210+2202+2171)-(44+35+33+58), 44+35+33+58]\n",
    "plt.bar([0,1,1.414],new,0.1)\n",
    "# plt.grid(True)\n",
    "# rc('axes', linewidth=2)\n",
    "# rc('font', weight='bold')\n",
    "plt.ylabel(\"Cost\", weight='bold',fontsize=12)\n",
    "plt.xlabel(\"Time\", weight='bold',fontsize=12)\n",
    "plt.title(\"Cost Path - Maxweight\", weight='bold',fontsize=15)\n",
    "plt.savefig('../../plots_stash/cost-distribution-MW.jpg')"
   ]
  },
  {
   "cell_type": "code",
   "execution_count": 80,
   "metadata": {},
   "outputs": [
    {
     "data": {
      "text/plain": [
       "array([[1756.,  368.,  254.,  203.],\n",
       "       [ 286., 1726.,  186.,  251.],\n",
       "       [ 239.,  226., 1718.,  349.],\n",
       "       [ 195.,  256.,  323., 1663.]])"
      ]
     },
     "execution_count": 80,
     "metadata": {},
     "output_type": "execute_result"
    }
   ],
   "source": [
    "np.sum(Mstars_b,0)"
   ]
  },
  {
   "cell_type": "code",
   "execution_count": 81,
   "metadata": {},
   "outputs": [
    {
     "data": {
      "image/png": "[encoded data removed]",
      "text/plain": [
       "<Figure size 720x432 with 1 Axes>"
      ]
     },
     "metadata": {
      "needs_background": "light"
     },
     "output_type": "display_data"
    }
   ],
   "source": [
    "plt.figure( figsize=(10,6) )\n",
    "batching = [1702+1709+1703+1706, 9999-(1702+1709+1703+1706)-(158+194+210+190), 158+194+210+190]\n",
    "plt.bar([0,1,1.414],batching,0.1)\n",
    "plt.ylabel(\"Cost\", weight='bold',fontsize=12)\n",
    "plt.xlabel(\"Time\", weight='bold',fontsize=12)\n",
    "plt.title(\"Cost Path - Batching\", weight='bold',fontsize=15)\n",
    "plt.savefig('../../plots_stash/cost-distribution-B.jpg')"
   ]
  },
  {
   "cell_type": "code",
   "execution_count": 96,
   "metadata": {},
   "outputs": [
    {
     "data": {
      "text/plain": [
       "[8729, 1098, 170]"
      ]
     },
     "execution_count": 96,
     "metadata": {},
     "output_type": "execute_result"
    }
   ],
   "source": [
    "new"
   ]
  },
  {
   "cell_type": "code",
   "execution_count": 97,
   "metadata": {},
   "outputs": [
    {
     "data": {
      "text/plain": [
       "[6820, 2427, 752]"
      ]
     },
     "execution_count": 97,
     "metadata": {},
     "output_type": "execute_result"
    }
   ],
   "source": [
    "batching"
   ]
  },
  {
   "cell_type": "code",
   "execution_count": null,
   "metadata": {},
   "outputs": [],
   "source": [
    "    Q_mw.append(q)\n",
    "    Qtilde_mw.append(qtilde)\n",
    "    Mstars_mw.append(Mstar)\n",
    "    total_queue.append(np.sum(q))\n",
    "    cost_path_mw.append(matching_cost)"
   ]
  },
  {
   "cell_type": "code",
   "execution_count": 15,
   "metadata": {},
   "outputs": [
    {
     "data": {
      "text/plain": [
       "(9999, 4)"
      ]
     },
     "execution_count": 15,
     "metadata": {},
     "output_type": "execute_result"
    }
   ],
   "source": [
    "Q_mw = np.asarray(Q_mw)\n",
    "Q_mw.shape"
   ]
  },
  {
   "cell_type": "code",
   "execution_count": 18,
   "metadata": {},
   "outputs": [
    {
     "data": {
      "text/plain": [
       "(array([4098., 2566., 1296.,    0.,  923.,  569.,    0.,  376.,  144.,\n",
       "          27.]),\n",
       " array([0. , 0.7, 1.4, 2.1, 2.8, 3.5, 4.2, 4.9, 5.6, 6.3, 7. ]),\n",
       " <BarContainer object of 10 artists>)"
      ]
     },
     "execution_count": 18,
     "metadata": {},
     "output_type": "execute_result"
    },
    {
     "data": {
      "image/png": "[encoded data removed]",
      "text/plain": [
       "<Figure size 432x288 with 1 Axes>"
      ]
     },
     "metadata": {
      "needs_background": "light"
     },
     "output_type": "display_data"
    }
   ],
   "source": [
    "plt.hist(Q_mw[:,0])"
   ]
  },
  {
   "cell_type": "code",
   "execution_count": 43,
   "metadata": {},
   "outputs": [
    {
     "name": "stdout",
     "output_type": "stream",
     "text": [
      "Counter({0.0: 4098, 1.0: 2566, 2.0: 1296, 3.0: 923, 4.0: 569, 5.0: 376, 6.0: 144, 7.0: 27})\n"
     ]
    },
    {
     "ename": "AttributeError",
     "evalue": "'Counter' object has no attribute '_keys'",
     "output_type": "error",
     "traceback": [
      "\u001b[1;31m---------------------------------------------------------------------------\u001b[0m",
      "\u001b[1;31mAttributeError\u001b[0m                            Traceback (most recent call last)",
      "\u001b[1;32m<ipython-input-43-f2d6aeafb738>\u001b[0m in \u001b[0;36m<module>\u001b[1;34m\u001b[0m\n\u001b[0;32m      2\u001b[0m \u001b[0mcounter\u001b[0m \u001b[1;33m=\u001b[0m \u001b[0mcollections\u001b[0m\u001b[1;33m.\u001b[0m\u001b[0mCounter\u001b[0m\u001b[1;33m(\u001b[0m\u001b[0mQ_mw\u001b[0m\u001b[1;33m[\u001b[0m\u001b[1;33m:\u001b[0m\u001b[1;33m,\u001b[0m\u001b[1;36m0\u001b[0m\u001b[1;33m]\u001b[0m\u001b[1;33m)\u001b[0m\u001b[1;33m\u001b[0m\u001b[1;33m\u001b[0m\u001b[0m\n\u001b[0;32m      3\u001b[0m \u001b[0mprint\u001b[0m\u001b[1;33m(\u001b[0m\u001b[0mcounter\u001b[0m\u001b[1;33m)\u001b[0m\u001b[1;33m\u001b[0m\u001b[1;33m\u001b[0m\u001b[0m\n\u001b[1;32m----> 4\u001b[1;33m \u001b[0mplt\u001b[0m\u001b[1;33m.\u001b[0m\u001b[0mbar\u001b[0m\u001b[1;33m(\u001b[0m\u001b[0mcounter\u001b[0m\u001b[1;33m.\u001b[0m\u001b[0m_keys\u001b[0m\u001b[1;33m,\u001b[0m\u001b[0mcounter\u001b[0m\u001b[1;33m.\u001b[0m\u001b[0mv_alues\u001b[0m\u001b[1;33m)\u001b[0m\u001b[1;33m\u001b[0m\u001b[1;33m\u001b[0m\u001b[0m\n\u001b[0m",
      "\u001b[1;31mAttributeError\u001b[0m: 'Counter' object has no attribute '_keys'"
     ]
    }
   ],
   "source": [
    "import collections\n",
    "counter = collections.Counter(Q_mw[:,0])\n",
    "print(counter)\n",
    "plt.bar(counter._keys,counter.v_alues)"
   ]
  },
  {
   "cell_type": "code",
   "execution_count": 77,
   "metadata": {},
   "outputs": [
    {
     "data": {
      "image/png": "[encoded data removed]",
      "text/plain": [
       "<Figure size 720x432 with 1 Axes>"
      ]
     },
     "metadata": {
      "needs_background": "light"
     },
     "output_type": "display_data"
    }
   ],
   "source": [
    "plt.figure( figsize=(10,6) )\n",
    "\n",
    "Q_mw = Q_mw.astype('int64')\n",
    "plt.bar(np.unique(Q_mw[:,0]), np.bincount(Q_mw[:,0]) )\n",
    "\n",
    "plt.ylabel(\"Count\", weight='bold',fontsize=12)\n",
    "plt.xlabel(\"Queue length\", weight='bold',fontsize=12)\n",
    "plt.title(\"Queue length distribution - MW\", weight='bold',fontsize=15)\n",
    "plt.savefig('../../plots_stash/queue-distribution-MW.jpg')"
   ]
  },
  {
   "cell_type": "markdown",
   "metadata": {},
   "source": []
  },
  {
   "cell_type": "code",
   "execution_count": 14,
   "metadata": {},
   "outputs": [
    {
     "data": {
      "text/plain": [
       "Text(0.5, 1.0, 'Queue length distribution - B')"
      ]
     },
     "execution_count": 14,
     "metadata": {},
     "output_type": "execute_result"
    },
    {
     "data": {
      "image/png": "[encoded data removed]",
      "text/plain": [
       "<Figure size 720x432 with 1 Axes>"
      ]
     },
     "metadata": {
      "needs_background": "light"
     },
     "output_type": "display_data"
    }
   ],
   "source": [
    "plt.figure(figsize=(10,6))\n",
    "Q_b = np.asarray(Q_b)\n",
    "Q_b = Q_b.astype('int64')\n",
    "i = 0\n",
    "plt.bar(np.unique(Q_b[:,i]), np.bincount(Q_b[:,i]) )\n",
    "plt.ylabel(\"Count\", weight='bold',fontsize=12)\n",
    "plt.xlabel(\"Queue length\", weight='bold',fontsize=12)\n",
    "plt.title(\"Queue length distribution - B\", weight='bold',fontsize=15)\n",
    "# plt.savefig('../../plots_stash/queue-distribution-B.jpg')"
   ]
  },
  {
   "cell_type": "code",
   "execution_count": 35,
   "metadata": {},
   "outputs": [
    {
     "data": {
      "text/plain": [
       "(array([3.111e+03, 3.228e+03, 2.189e+03, 0.000e+00, 9.970e+02, 3.410e+02,\n",
       "        0.000e+00, 1.110e+02, 2.000e+01, 2.000e+00]),\n",
       " array([0. , 0.7, 1.4, 2.1, 2.8, 3.5, 4.2, 4.9, 5.6, 6.3, 7. ]),\n",
       " <BarContainer object of 10 artists>)"
      ]
     },
     "execution_count": 35,
     "metadata": {},
     "output_type": "execute_result"
    },
    {
     "data": {
      "image/png": "[encoded data removed]",
      "text/plain": [
       "<Figure size 432x288 with 1 Axes>"
      ]
     },
     "metadata": {
      "needs_background": "light"
     },
     "output_type": "display_data"
    }
   ],
   "source": [
    "Q_b = np.asarray(Q_b)\n",
    "plt.hist(Q_b[:,2])"
   ]
  },
  {
   "cell_type": "code",
   "execution_count": 34,
   "metadata": {},
   "outputs": [
    {
     "data": {
      "text/plain": [
       "array([0., 1., 2., 3., 4., 5., 6., 7.])"
      ]
     },
     "execution_count": 34,
     "metadata": {},
     "output_type": "execute_result"
    }
   ],
   "source": [
    "np.unique(Q_b)"
   ]
  },
  {
   "cell_type": "code",
   "execution_count": 30,
   "metadata": {},
   "outputs": [
    {
     "data": {
      "text/plain": [
       "array([0.81236423])"
      ]
     },
     "execution_count": 30,
     "metadata": {},
     "output_type": "execute_result"
    }
   ],
   "source": [
    "np.random.random(1)"
   ]
  },
  {
   "cell_type": "markdown",
   "metadata": {},
   "source": [
    "### Distribution for Q_mw"
   ]
  },
  {
   "cell_type": "markdown",
   "metadata": {},
   "source": [
    "#### MLE geometric"
   ]
  },
  {
   "cell_type": "code",
   "execution_count": 57,
   "metadata": {},
   "outputs": [
    {
     "name": "stdout",
     "output_type": "stream",
     "text": [
      "0.8746501049685095\n"
     ]
    }
   ],
   "source": [
    "p = 9999/np.sum(Q_mw[:,1])\n",
    "print(p)"
   ]
  },
  {
   "cell_type": "code",
   "execution_count": 58,
   "metadata": {},
   "outputs": [],
   "source": [
    "vals = np.unique(Q_mw[:,1])\n",
    "bincounts= np.bincount(Q_mw[:,1])\n",
    "probabs = bincounts/9999"
   ]
  },
  {
   "cell_type": "code",
   "execution_count": 59,
   "metadata": {},
   "outputs": [],
   "source": [
    "geom_fit = [p, p*(1-p), p*((1-p)**2), p*((1-p)**3) ]"
   ]
  },
  {
   "cell_type": "code",
   "execution_count": 60,
   "metadata": {},
   "outputs": [
    {
     "name": "stdout",
     "output_type": "stream",
     "text": [
      "[4.51545155e-01 2.56125613e-01 1.20912091e-01 8.84088409e-02\n",
      " 4.87048705e-02 2.23022302e-02 1.04010401e-02 1.40014001e-03\n",
      " 2.00020002e-04]\n"
     ]
    }
   ],
   "source": [
    "print(probabs)"
   ]
  },
  {
   "cell_type": "code",
   "execution_count": 61,
   "metadata": {},
   "outputs": [
    {
     "name": "stdout",
     "output_type": "stream",
     "text": [
      "[0.8746501049685095, 0.10963729884708483, 0.01374302390201824, 0.0017226866035332518]\n"
     ]
    }
   ],
   "source": [
    "print(geom_fit)"
   ]
  },
  {
   "cell_type": "markdown",
   "metadata": {},
   "source": [
    "can't be negative binomial because -ve binomial is not uniformly decreasing"
   ]
  },
  {
   "cell_type": "code",
   "execution_count": 7,
   "metadata": {},
   "outputs": [
    {
     "data": {
      "text/plain": [
       "<BarContainer object of 9 artists>"
      ]
     },
     "execution_count": 7,
     "metadata": {},
     "output_type": "execute_result"
    },
    {
     "data": {
      "image/png": "[encoded data removed]",
      "text/plain": [
       "<Figure size 432x288 with 1 Axes>"
      ]
     },
     "metadata": {
      "needs_background": "light"
     },
     "output_type": "display_data"
    }
   ],
   "source": [
    "#Q_mw = np.asarray(Q_mw)\n",
    "#Q_mw = Q_mw.astype('int64')\n",
    "plt.bar(np.unique(Q_mw[:,3]), np.bincount(Q_mw[:,3]) )"
   ]
  },
  {
   "cell_type": "code",
   "execution_count": 8,
   "metadata": {},
   "outputs": [
    {
     "data": {
      "text/plain": [
       "(9999, 4)"
      ]
     },
     "execution_count": 8,
     "metadata": {},
     "output_type": "execute_result"
    }
   ],
   "source": [
    "Q_mw.shape"
   ]
  },
  {
   "cell_type": "code",
   "execution_count": 63,
   "metadata": {},
   "outputs": [
    {
     "data": {
      "text/plain": [
       "<BarContainer object of 9 artists>"
      ]
     },
     "execution_count": 63,
     "metadata": {},
     "output_type": "execute_result"
    },
    {
     "data": {
      "image/png": "[encoded data removed]",
      "text/plain": [
       "<Figure size 432x288 with 1 Axes>"
      ]
     },
     "metadata": {
      "needs_background": "light"
     },
     "output_type": "display_data"
    }
   ],
   "source": [
    "Q_mw = Q_mw.astype('int64')\n",
    "plt.bar(np.unique(Q_mw[:,2]), np.bincount(Q_mw[:,2]) )"
   ]
  },
  {
   "cell_type": "code",
   "execution_count": 64,
   "metadata": {},
   "outputs": [
    {
     "data": {
      "text/plain": [
       "<BarContainer object of 9 artists>"
      ]
     },
     "execution_count": 64,
     "metadata": {},
     "output_type": "execute_result"
    },
    {
     "data": {
      "image/png": "[encoded data removed]",
      "text/plain": [
       "<Figure size 432x288 with 1 Axes>"
      ]
     },
     "metadata": {
      "needs_background": "light"
     },
     "output_type": "display_data"
    }
   ],
   "source": [
    "Q_mw = Q_mw.astype('int64')\n",
    "plt.bar(np.unique(Q_mw[:,3]), np.bincount(Q_mw[:,3]) )"
   ]
  },
  {
   "cell_type": "code",
   "execution_count": 84,
   "metadata": {},
   "outputs": [
    {
     "data": {
      "image/png": "[encoded data removed]",
      "text/plain": [
       "<Figure size 720x432 with 1 Axes>"
      ]
     },
     "metadata": {
      "needs_background": "light"
     },
     "output_type": "display_data"
    }
   ],
   "source": [
    "plt.figure(figsize=(10,6))\n",
    "plt.hist(np.sum(Q_mw,axis=1), bins = np.arange(0,11,1))\n",
    "plt.ylabel(\"Count\", weight='bold',fontsize=12)\n",
    "plt.xlabel(\"Queue length\", weight='bold',fontsize=12)\n",
    "plt.title(\"Total Queue length distribution - MW\", weight='bold',fontsize=15)\n",
    "plt.savefig('../../plots_stash/total-queue-distribution-MW.jpg')"
   ]
  },
  {
   "cell_type": "code",
   "execution_count": 85,
   "metadata": {
    "scrolled": true
   },
   "outputs": [
    {
     "data": {
      "image/png": "[encoded data removed]",
      "text/plain": [
       "<Figure size 720x432 with 1 Axes>"
      ]
     },
     "metadata": {
      "needs_background": "light"
     },
     "output_type": "display_data"
    }
   ],
   "source": [
    "plt.figure(figsize=(10,6))\n",
    "plt.hist(np.sum(Q_b,axis=1), bins = np.arange(0,11,1))\n",
    "plt.ylabel(\"Count\", weight='bold',fontsize=12)\n",
    "plt.xlabel(\"Queue length\", weight='bold',fontsize=12)\n",
    "plt.title(\"Total Queue length distribution - Batching\", weight='bold',fontsize=15)\n",
    "plt.savefig('../../plots_stash/total-queue-distribution-B.jpg')"
   ]
  },
  {
   "cell_type": "code",
   "execution_count": 72,
   "metadata": {},
   "outputs": [
    {
     "name": "stdout",
     "output_type": "stream",
     "text": [
      "[0 1 2 3 4 5 6 7 8 9]\n"
     ]
    }
   ],
   "source": [
    "bins = np.arange(0,10,1)\n",
    "print(bins)"
   ]
  },
  {
   "cell_type": "code",
   "execution_count": 8,
   "metadata": {},
   "outputs": [],
   "source": [
    "file_name = '../sim_paths_spatial_uniform_4.pkl'\n",
    "with open(file_name,'rb') as f:\n",
    "    M_res,B_res, N, W, pmf_cust, pmf_serv = pickle.load(f)\n",
    "Q_paths_M = M_res[\"Q_paths\"]\n",
    "C_paths_M = M_res[\"C_paths\"]\n",
    "Q_paths_B = B_res[\"Q_paths\"]\n",
    "C_paths_B = B_res[\"C_paths\"]"
   ]
  },
  {
   "cell_type": "code",
   "execution_count": 9,
   "metadata": {},
   "outputs": [],
   "source": [
    "Q_paths_M = np.asarray(Q_paths_M,dtype='int64')\n",
    "Q_paths_B = np.asarray(Q_paths_B,dtype='int64')"
   ]
  },
  {
   "cell_type": "code",
   "execution_count": 10,
   "metadata": {},
   "outputs": [
    {
     "data": {
      "text/plain": [
       "(array([    0., 24295., 67282.,  8423.,     0.,     0.,     0.,     0.,\n",
       "            0.,     0.]),\n",
       " array([ 0,  1,  2,  3,  4,  5,  6,  7,  8,  9, 10]),\n",
       " <BarContainer object of 10 artists>)"
      ]
     },
     "execution_count": 10,
     "metadata": {},
     "output_type": "execute_result"
    },
    {
     "data": {
      "image/png": "[encoded data removed]",
      "text/plain": [
       "<Figure size 432x288 with 1 Axes>"
      ]
     },
     "metadata": {
      "needs_background": "light"
     },
     "output_type": "display_data"
    }
   ],
   "source": [
    "plt.hist(Q_paths_M[15,:], bins = np.arange(0,11,1))"
   ]
  },
  {
   "cell_type": "code",
   "execution_count": 82,
   "metadata": {},
   "outputs": [
    {
     "data": {
      "text/plain": [
       "(25, 100000)"
      ]
     },
     "execution_count": 82,
     "metadata": {},
     "output_type": "execute_result"
    }
   ],
   "source": [
    "Q_paths_M.shape"
   ]
  },
  {
   "cell_type": "code",
   "execution_count": 12,
   "metadata": {},
   "outputs": [],
   "source": [
    "np.savetxt( \"../full_queue.txt\", np.sum(Q_mw,axis=1) )"
   ]
  },
  {
   "cell_type": "code",
   "execution_count": 7,
   "metadata": {},
   "outputs": [
    {
     "data": {
      "text/plain": [
       "(9999,)"
      ]
     },
     "execution_count": 7,
     "metadata": {},
     "output_type": "execute_result"
    }
   ],
   "source": [
    "Q_mw[:,0].shape"
   ]
  },
  {
   "cell_type": "code",
   "execution_count": 18,
   "metadata": {},
   "outputs": [
    {
     "data": {
      "text/plain": [
       "<BarContainer object of 8 artists>"
      ]
     },
     "execution_count": 18,
     "metadata": {},
     "output_type": "execute_result"
    },
    {
     "data": {
      "image/png": "[encoded data removed]",
      "text/plain": [
       "<Figure size 432x288 with 1 Axes>"
      ]
     },
     "metadata": {
      "needs_background": "light"
     },
     "output_type": "display_data"
    }
   ],
   "source": [
    "Q_b = np.asarray(Q_b, dtype='int64')\n",
    "plt.bar(np.unique(Q_b[:,3]), np.bincount(Q_b[:,3]) )"
   ]
  },
  {
   "cell_type": "code",
   "execution_count": null,
   "metadata": {},
   "outputs": [],
   "source": [
    " "
   ]
  }
 ],
 "metadata": {
  "kernelspec": {
   "display_name": "Python 3",
   "language": "python",
   "name": "python3"
  },
  "language_info": {
   "codemirror_mode": {
    "name": "ipython",
    "version": 3
   },
   "file_extension": ".py",
   "mimetype": "text/x-python",
   "name": "python",
   "nbconvert_exporter": "python",
   "pygments_lexer": "ipython3",
   "version": "3.7.3"
  }
 },
 "nbformat": 4,
 "nbformat_minor": 4
}
