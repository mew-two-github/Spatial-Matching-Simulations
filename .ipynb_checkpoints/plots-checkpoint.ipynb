{
 "cells": [
  {
   "cell_type": "code",
   "execution_count": 1,
   "metadata": {},
   "outputs": [],
   "source": [
    "import numpy as np\n",
    "from scipy.stats import rv_discrete\n",
    "from matplotlib import pyplot as plt\n",
    "import cvxpy as cp\n",
    "import pickle\n",
    "# import gurobipy"
   ]
  },
  {
   "cell_type": "code",
   "execution_count": 34,
   "metadata": {},
   "outputs": [],
   "source": [
    "import utils\n",
    "\n",
    "\n",
    "\n",
    "def fluid_solution(N, W, pmf_cust, pmf_serv):\n",
    "    M11 = cp.Variable()\n",
    "    M12 = cp.Variable()\n",
    "    M22 = cp.Variable()\n",
    "    M21 = cp.Variable()\n",
    "    print(W)\n",
    "    constraints = []                          \n",
    "    constraints.append( M11 + M12 == pmf_cust[0] )\n",
    "    constraints.append( M21 + M22 == pmf_cust[1] )\n",
    "    constraints.append( M11 + M21 == pmf_serv[0] )\n",
    "    constraints.append( M12 + M22 == pmf_serv[1] )\n",
    "\n",
    "    constraints.append( M11>=0 )\n",
    "    constraints.append( M12>=0 )\n",
    "    constraints.append( M21>=0 )\n",
    "    constraints.append( M22>=0 )\n",
    "\n",
    "    constraints.append( M11<=1 )\n",
    "    constraints.append( M12<=1 )\n",
    "    constraints.append( M21<=1 )\n",
    "    constraints.append( M22<=1 )                 \n",
    "\n",
    "    objective = cp.Minimize(  W[0][0]*M11 + W[1][0]*M21 + W[0][1]*M12 + W[1][1]*M22 )\n",
    "    problem = cp.Problem(objective, constraints)\n",
    "    problem.solve()  \n",
    "    print(problem)\n",
    "    Mstar = np.zeros(shape=(2,2))\n",
    "    Mstar[0][0] = M11.value\n",
    "    Mstar[0][1] = M12.value\n",
    "    Mstar[1][0] = M21.value\n",
    "    Mstar[1][1] = M22.value\n",
    "    return({\"X\": Mstar, \"Cost\": problem.value })\n",
    "\n",
    "def run_extremes(N, W, pmf_cust, pmf_serv, gurobi_flag = 1):\n",
    "    Ex = round (np.sum(np.outer(pmf_cust,pmf_serv)*W), 3) \n",
    "    print(\"Expected cost for c = 0 case:\", Ex )\n",
    "    if gurobi_flag == 1:\n",
    "        fluid_sol = fluid_solution(N, W, pmf_cust, pmf_serv)\n",
    "    else:\n",
    "        fluid_sol = utils.fluid_solution(N, W, pmf_cust, pmf_serv)\n",
    "    print(\"\\nFluid Solution:\\n\")\n",
    "    print(fluid_sol)\n",
    "    return([Ex,fluid_sol])"
   ]
  },
  {
   "cell_type": "code",
   "execution_count": 35,
   "metadata": {},
   "outputs": [
    {
     "name": "stdout",
     "output_type": "stream",
     "text": [
      "Expected cost for c = 0 case: 6.158\n",
      "[[ 2.1 10. ]\n",
      " [ 5.   3.5]]\n",
      "minimize 2.1 @ var1156 + 5.0 @ var1159 + 10.0 @ var1157 + 3.5 @ var1158\n",
      "subject to var1156 + var1157 == 0.6\n",
      "           var1159 + var1158 == 0.4\n",
      "           var1156 + var1159 == 0.3\n",
      "           var1157 + var1158 == 0.7\n",
      "           0.0 <= var1156\n",
      "           0.0 <= var1157\n",
      "           0.0 <= var1159\n",
      "           0.0 <= var1158\n",
      "           var1156 <= 1.0\n",
      "           var1157 <= 1.0\n",
      "           var1159 <= 1.0\n",
      "           var1158 <= 1.0\n",
      "\n",
      "Fluid Solution:\n",
      "\n",
      "{'X': array([[3.0000000e-01, 3.0000000e-01],\n",
      "       [2.9733875e-11, 4.0000000e-01]]), 'Cost': 5.030000000279436}\n"
     ]
    }
   ],
   "source": [
    "[Ex,fluid_sol] = run_extremes(N,W,pmf_cust,pmf_serv)"
   ]
  },
  {
   "cell_type": "code",
   "execution_count": 36,
   "metadata": {},
   "outputs": [
    {
     "name": "stdout",
     "output_type": "stream",
     "text": [
      "Expected cost for c = 0 case: 6.158\n",
      "[[ 2.1 10. ]\n",
      " [ 5.   3.5]]\n",
      "minimize 2.1 @ var1301 + 5.0 @ var1304 + 10.0 @ var1302 + 3.5 @ var1303\n",
      "subject to var1301 + var1302 == 0.6\n",
      "           var1304 + var1303 == 0.4\n",
      "           var1301 + var1304 == 0.3\n",
      "           var1302 + var1303 == 0.7\n",
      "           0.0 <= var1301\n",
      "           0.0 <= var1302\n",
      "           0.0 <= var1304\n",
      "           0.0 <= var1303\n",
      "           var1301 <= 1.0\n",
      "           var1302 <= 1.0\n",
      "           var1304 <= 1.0\n",
      "           var1303 <= 1.0\n",
      "\n",
      "Fluid Solution:\n",
      "\n",
      "{'X': array([[3.0000000e-01, 3.0000000e-01],\n",
      "       [2.9733875e-11, 4.0000000e-01]]), 'Cost': 5.030000000279436}\n"
     ]
    },
    {
     "data": {
      "image/png": "[encoded data removed]",
      "text/plain": [
       "<Figure size 720x432 with 1 Axes>"
      ]
     },
     "metadata": {
      "needs_background": "light"
     },
     "output_type": "display_data"
    }
   ],
   "source": [
    "import pickle\n",
    "frac = 0\n",
    "with open('sim_paths_mw_new.pkl','rb') as f:\n",
    "    Qpaths,Cpaths, N, W, pmf_cust, pmf_serv = pickle.load(f)\n",
    "Q_paths_M = Qpaths\n",
    "C_paths_M = Cpaths\n",
    "with open('sim_paths_batch.pkl','rb') as f:\n",
    "    Qpaths,Cpaths, N, W, pmf_cust, pmf_serv = pickle.load(f)\n",
    "Q_paths_B = Qpaths\n",
    "C_paths_B = Cpaths\n",
    "(average_cost_M, average_queue_M) = utils.average_paths(C_paths_M,Q_paths_M,frac)\n",
    "(average_cost_B, average_queue_B) = utils.average_paths(C_paths_B,Q_paths_B,frac)\n",
    "[Ex,fluid_sol] = run_extremes(N,W,pmf_cust,pmf_serv)\n",
    "utils.qc_plot(Ex,fluid_sol,average_queue_B,average_cost_B,average_queue_M,average_cost_M)"
   ]
  },
  {
   "cell_type": "code",
   "execution_count": 39,
   "metadata": {},
   "outputs": [
    {
     "name": "stdout",
     "output_type": "stream",
     "text": [
      "Expected cost for c = 0 case: 6.158\n",
      "[[ 2.1 10. ]\n",
      " [ 5.   3.5]]\n",
      "minimize 2.1 @ var1591 + 5.0 @ var1594 + 10.0 @ var1592 + 3.5 @ var1593\n",
      "subject to var1591 + var1592 == 0.6\n",
      "           var1594 + var1593 == 0.4\n",
      "           var1591 + var1594 == 0.3\n",
      "           var1592 + var1593 == 0.7\n",
      "           0.0 <= var1591\n",
      "           0.0 <= var1592\n",
      "           0.0 <= var1594\n",
      "           0.0 <= var1593\n",
      "           var1591 <= 1.0\n",
      "           var1592 <= 1.0\n",
      "           var1594 <= 1.0\n",
      "           var1593 <= 1.0\n",
      "\n",
      "Fluid Solution:\n",
      "\n",
      "{'X': array([[3.0000000e-01, 3.0000000e-01],\n",
      "       [2.9733875e-11, 4.0000000e-01]]), 'Cost': 5.030000000279436}\n"
     ]
    },
    {
     "data": {
      "image/png": "[encoded data removed]",
      "text/plain": [
       "<Figure size 720x432 with 1 Axes>"
      ]
     },
     "metadata": {
      "needs_background": "light"
     },
     "output_type": "display_data"
    }
   ],
   "source": [
    "import pickle\n",
    "frac = 0\n",
    "endM = 10\n",
    "endB = 8\n",
    "with open('sim_paths_mw_new.pkl','rb') as f:\n",
    "    Qpaths,Cpaths, N, W, pmf_cust, pmf_serv = pickle.load(f)\n",
    "Q_paths_M = Qpaths[0:endM][ :]\n",
    "C_paths_M = Cpaths[0:endM][ :]\n",
    "with open('sim_paths_batch.pkl','rb') as f:\n",
    "    Qpaths,Cpaths, N, W, pmf_cust, pmf_serv = pickle.load(f)\n",
    "Q_paths_B = Qpaths[0:endB][ :]\n",
    "C_paths_B = Cpaths[0:endB][ :]\n",
    "(average_cost_M, average_queue_M) = utils.average_paths(C_paths_M,Q_paths_M,frac)\n",
    "(average_cost_B, average_queue_B) = utils.average_paths(C_paths_B,Q_paths_B,frac)\n",
    "[Ex,fluid_sol] = run_extremes(N,W,pmf_cust,pmf_serv)\n",
    "utils.qc_plot(Ex,fluid_sol,average_queue_B,average_cost_B,average_queue_M,average_cost_M)"
   ]
  },
  {
   "cell_type": "code",
   "execution_count": 14,
   "metadata": {},
   "outputs": [
    {
     "data": {
      "text/plain": [
       "array([0.3, 0.7])"
      ]
     },
     "execution_count": 14,
     "metadata": {},
     "output_type": "execute_result"
    }
   ],
   "source": [
    "pmf_serv"
   ]
  },
  {
   "cell_type": "code",
   "execution_count": 24,
   "metadata": {},
   "outputs": [
    {
     "name": "stdout",
     "output_type": "stream",
     "text": [
      "[[ 2.1 10. ]\n",
      " [ 5.   3.5]]\n",
      "minimize Sum(var831 @ [[ 2.1 10. ]\n",
      " [ 5.   3.5]], None, False)\n",
      "subject to 0.0 <= var831[0, 0]\n",
      "           var831[0, 0] <= 1.0\n",
      "           0.0 <= var831[0, 1]\n",
      "           var831[0, 1] <= 1.0\n",
      "           0.0 <= var831[1, 0]\n",
      "           var831[1, 0] <= 1.0\n",
      "           0.0 <= var831[1, 1]\n",
      "           var831[1, 1] <= 1.0\n",
      "           Sum(var831[0, 0:2], None, False) == 0.6\n",
      "           Sum(var831[1, 0:2], None, False) == 0.4\n",
      "           Sum(var831[0:2, 0], None, False) == 0.3\n",
      "           Sum(var831[0:2, 1], None, False) == 0.7\n"
     ]
    }
   ],
   "source": [
    "x = cp.Variable((N,N)) # fraction of matchings from i to j\n",
    "print(W)\n",
    "constraints = []                          \n",
    "for i in range(N):\n",
    "    for j in range(N):\n",
    "        constraints.append(x[i,j] >= 0)\n",
    "        constraints.append(x[i,j] <= 1)\n",
    "# inequality to avoid round off, and violating equality is anyway penalised by objective\n",
    "for i in range(N):\n",
    "    constraints.append(cp.sum(x[i,:]) == pmf_cust[i] ) \n",
    "for j in range(N):\n",
    "    constraints.append(cp.sum(x[:,j]) == pmf_serv[j] )                      \n",
    "\n",
    "objective = cp.Minimize( cp.sum( cp.multiply( x , W ) ) )\n",
    "problem = cp.Problem(objective, constraints)\n",
    "problem.solve()  \n",
    "print(problem)"
   ]
  },
  {
   "cell_type": "code",
   "execution_count": 25,
   "metadata": {},
   "outputs": [],
   "source": [
    "N = 2\n",
    "W = np.asarray([[2.1,10],[5,3.5]])\n",
    "arrival_ids = np.arange(0,N,1)\n",
    "pmf_cust = np.asarray([0.6, 0.4])\n",
    "pmf_serv = np.asarray([0.3, 0.7])"
   ]
  },
  {
   "cell_type": "code",
   "execution_count": 26,
   "metadata": {},
   "outputs": [
    {
     "name": "stdout",
     "output_type": "stream",
     "text": [
      "5.030000000279436\n"
     ]
    }
   ],
   "source": [
    "print(problem.value)"
   ]
  },
  {
   "cell_type": "code",
   "execution_count": 27,
   "metadata": {},
   "outputs": [
    {
     "name": "stdout",
     "output_type": "stream",
     "text": [
      "[[3.00000000e-01 3.00000000e-01]\n",
      " [2.97339742e-11 4.00000000e-01]]\n"
     ]
    }
   ],
   "source": [
    "print(x.value)"
   ]
  },
  {
   "cell_type": "code",
   "execution_count": 33,
   "metadata": {},
   "outputs": [
    {
     "name": "stdout",
     "output_type": "stream",
     "text": [
      "q= [0. 1.]\n",
      "qtilde= [0. 1.]\n",
      "maximize Sum(Promote(0.5, (2,)) @ ([0. 1.] @ Sum(var3692, 1, False) + [0. 1.] @ Sum(var3692, 0, False)), None, False) + -Sum(Promote(0.5, (2, 2)) @ [[ 2.1 10. ]\n",
      " [ 5.   3.5]] @ var3692, None, False)\n",
      "subject to Sum(var3692[0, 0:2], None, False) <= 0.0\n",
      "           Sum(var3692[0:2, 0], None, False) <= 0.0\n",
      "           Sum(var3692[1, 0:2], None, False) <= 1.0\n",
      "           Sum(var3692[0:2, 1], None, False) <= 1.0\n",
      "           0.0 <= var3692[0:2, 0:2]\n",
      "M= [[-0. -0.]\n",
      " [-0. -0.]]\n",
      "q= [1. 1.]\n",
      "qtilde= [1. 1.]\n",
      "maximize Sum(Promote(0.5, (2,)) @ ([1. 1.] @ Sum(var3791, 1, False) + [1. 1.] @ Sum(var3791, 0, False)), None, False) + -Sum(Promote(0.5, (2, 2)) @ [[ 2.1 10. ]\n",
      " [ 5.   3.5]] @ var3791, None, False)\n",
      "subject to Sum(var3791[0, 0:2], None, False) <= 1.0\n",
      "           Sum(var3791[0:2, 0], None, False) <= 1.0\n",
      "           Sum(var3791[1, 0:2], None, False) <= 1.0\n",
      "           Sum(var3791[0:2, 1], None, False) <= 1.0\n",
      "           0.0 <= var3791[0:2, 0:2]\n",
      "M= [[-0. -0.]\n",
      " [-0. -0.]]\n",
      "q= [2. 1.]\n",
      "qtilde= [1. 2.]\n",
      "maximize Sum(Promote(0.5, (2,)) @ ([2. 1.] @ Sum(var3890, 1, False) + [1. 2.] @ Sum(var3890, 0, False)), None, False) + -Sum(Promote(0.5, (2, 2)) @ [[ 2.1 10. ]\n",
      " [ 5.   3.5]] @ var3890, None, False)\n",
      "subject to Sum(var3890[0, 0:2], None, False) <= 2.0\n",
      "           Sum(var3890[0:2, 0], None, False) <= 1.0\n",
      "           Sum(var3890[1, 0:2], None, False) <= 1.0\n",
      "           Sum(var3890[0:2, 1], None, False) <= 2.0\n",
      "           0.0 <= var3890[0:2, 0:2]\n",
      "M= [[ 1. -0.]\n",
      " [-0. -0.]]\n",
      "q= [1. 2.]\n",
      "qtilde= [0. 3.]\n",
      "maximize Sum(Promote(0.5, (2,)) @ ([1. 2.] @ Sum(var3989, 1, False) + [0. 3.] @ Sum(var3989, 0, False)), None, False) + -Sum(Promote(0.5, (2, 2)) @ [[ 2.1 10. ]\n",
      " [ 5.   3.5]] @ var3989, None, False)\n",
      "subject to Sum(var3989[0, 0:2], None, False) <= 1.0\n",
      "           Sum(var3989[0:2, 0], None, False) <= 0.0\n",
      "           Sum(var3989[1, 0:2], None, False) <= 2.0\n",
      "           Sum(var3989[0:2, 1], None, False) <= 3.0\n",
      "           0.0 <= var3989[0:2, 0:2]\n",
      "M= [[-0. -0.]\n",
      " [-0.  2.]]\n",
      "q= [2. 0.]\n",
      "qtilde= [0. 2.]\n",
      "maximize Sum(Promote(0.5, (2,)) @ ([2. 0.] @ Sum(var4088, 1, False) + [0. 2.] @ Sum(var4088, 0, False)), None, False) + -Sum(Promote(0.5, (2, 2)) @ [[ 2.1 10. ]\n",
      " [ 5.   3.5]] @ var4088, None, False)\n",
      "subject to Sum(var4088[0, 0:2], None, False) <= 2.0\n",
      "           Sum(var4088[0:2, 0], None, False) <= 0.0\n",
      "           Sum(var4088[1, 0:2], None, False) <= 0.0\n",
      "           Sum(var4088[0:2, 1], None, False) <= 2.0\n",
      "           0.0 <= var4088[0:2, 0:2]\n",
      "M= [[-0. -0.]\n",
      " [-0. -0.]]\n",
      "q= [3. 0.]\n",
      "qtilde= [0. 3.]\n",
      "maximize Sum(Promote(0.5, (2,)) @ ([3. 0.] @ Sum(var4187, 1, False) + [0. 3.] @ Sum(var4187, 0, False)), None, False) + -Sum(Promote(0.5, (2, 2)) @ [[ 2.1 10. ]\n",
      " [ 5.   3.5]] @ var4187, None, False)\n",
      "subject to Sum(var4187[0, 0:2], None, False) <= 3.0\n",
      "           Sum(var4187[0:2, 0], None, False) <= 0.0\n",
      "           Sum(var4187[1, 0:2], None, False) <= 0.0\n",
      "           Sum(var4187[0:2, 1], None, False) <= 3.0\n",
      "           0.0 <= var4187[0:2, 0:2]\n",
      "M= [[ 0. -0.]\n",
      " [-0. -0.]]\n",
      "q= [3. 1.]\n",
      "qtilde= [1. 3.]\n",
      "maximize Sum(Promote(0.5, (2,)) @ ([3. 1.] @ Sum(var4286, 1, False) + [1. 3.] @ Sum(var4286, 0, False)), None, False) + -Sum(Promote(0.5, (2, 2)) @ [[ 2.1 10. ]\n",
      " [ 5.   3.5]] @ var4286, None, False)\n",
      "subject to Sum(var4286[0, 0:2], None, False) <= 3.0\n",
      "           Sum(var4286[0:2, 0], None, False) <= 1.0\n",
      "           Sum(var4286[1, 0:2], None, False) <= 1.0\n",
      "           Sum(var4286[0:2, 1], None, False) <= 3.0\n",
      "           0.0 <= var4286[0:2, 0:2]\n",
      "M= [[ 1. -0.]\n",
      " [-0.  1.]]\n",
      "q= [2. 1.]\n",
      "qtilde= [1. 2.]\n",
      "maximize Sum(Promote(0.5, (2,)) @ ([2. 1.] @ Sum(var4385, 1, False) + [1. 2.] @ Sum(var4385, 0, False)), None, False) + -Sum(Promote(0.5, (2, 2)) @ [[ 2.1 10. ]\n",
      " [ 5.   3.5]] @ var4385, None, False)\n",
      "subject to Sum(var4385[0, 0:2], None, False) <= 2.0\n",
      "           Sum(var4385[0:2, 0], None, False) <= 1.0\n",
      "           Sum(var4385[1, 0:2], None, False) <= 1.0\n",
      "           Sum(var4385[0:2, 1], None, False) <= 2.0\n",
      "           0.0 <= var4385[0:2, 0:2]\n",
      "M= [[ 1. -0.]\n",
      " [-0. -0.]]\n",
      "q= [2. 1.]\n",
      "qtilde= [1. 2.]\n",
      "maximize Sum(Promote(0.5, (2,)) @ ([2. 1.] @ Sum(var4484, 1, False) + [1. 2.] @ Sum(var4484, 0, False)), None, False) + -Sum(Promote(0.5, (2, 2)) @ [[ 2.1 10. ]\n",
      " [ 5.   3.5]] @ var4484, None, False)\n",
      "subject to Sum(var4484[0, 0:2], None, False) <= 2.0\n",
      "           Sum(var4484[0:2, 0], None, False) <= 1.0\n",
      "           Sum(var4484[1, 0:2], None, False) <= 1.0\n",
      "           Sum(var4484[0:2, 1], None, False) <= 2.0\n",
      "           0.0 <= var4484[0:2, 0:2]\n",
      "M= [[ 1. -0.]\n",
      " [-0. -0.]]\n"
     ]
    }
   ],
   "source": [
    "time_steps = 10\n",
    "cust_process = rv_discrete(name='cust_arr', values=(arrival_ids, pmf_cust))\n",
    "serv_process = rv_discrete(name='serv_arr', values=(arrival_ids, pmf_serv))\n",
    "\n",
    "cust_arrivals = cust_process.rvs( size = time_steps )\n",
    "serv_arrivals = serv_process.rvs( size = time_steps )\n",
    "alpha = 0.5\n",
    "q = np.zeros(N)\n",
    "q[cust_arrivals[0]] = 1\n",
    "qtilde = np.zeros(N)\n",
    "qtilde[serv_arrivals[0]] = 1\n",
    "\n",
    "cost_path = [0]\n",
    "total_queue = []\n",
    "total_queue.append(np.sum(q))\n",
    "\n",
    "for k in range(1,time_steps):\n",
    "# Maxweight Matching\n",
    "    M = cp.Variable((N,N),integer=True)\n",
    "    constraints = []\n",
    "    for i in range(N):\n",
    "        constraints.append( cp.sum(M[i,:]) <= q[i] )\n",
    "        constraints.append( cp.sum(M[:,i]) <= qtilde[i] )\n",
    "    constraints.append( M[:,:]>=0 )\n",
    "\n",
    "    objective = cp.Maximize( cp.sum( (1-alpha)*( cp.multiply( q, cp.sum(M, axis=1) ) \n",
    "                                                + cp.multiply( qtilde, cp.sum(M, axis=0) ) ) )\n",
    "                            - cp.sum( alpha*cp.multiply( W,M  ) )  )\n",
    "    problem  = cp.Problem(objective, constraints)         \n",
    "    problem.solve()\n",
    "    print(\"q=\",q)\n",
    "    print(\"qtilde=\",qtilde)\n",
    "    print(problem)\n",
    "\n",
    "\n",
    "    # Check arrivals\n",
    "    a = np.zeros(N)\n",
    "    atilde = np.zeros(N)\n",
    "\n",
    "    a[cust_arrivals[k]] = 1\n",
    "    atilde[serv_arrivals[k]] = 1\n",
    "    # State Update\n",
    "    Mstar = M.value\n",
    "    print(\"M=\", Mstar)\n",
    "    matching_cost = np.sum(np.multiply(Mstar,W)) \n",
    "    q = q + a - np.sum(Mstar, 1)\n",
    "    qtilde = qtilde + atilde - np.sum(Mstar,0)\n",
    "\n",
    "    total_queue.append(np.sum(q))\n",
    "    cost_path.append(matching_cost)\n"
   ]
  },
  {
   "cell_type": "code",
   "execution_count": null,
   "metadata": {},
   "outputs": [],
   "source": []
  },
  {
   "cell_type": "markdown",
   "metadata": {},
   "source": [
    "### Generating weight Matrix - Spatial"
   ]
  },
  {
   "cell_type": "code",
   "execution_count": 17,
   "metadata": {},
   "outputs": [],
   "source": [
    "import numpy as np\n",
    "N = 6\n",
    "lengths = int(N/2)\n",
    "X = np.arange(1,N,2)\n",
    "Y = np.arange(1,N,2)"
   ]
  },
  {
   "cell_type": "code",
   "execution_count": 33,
   "metadata": {},
   "outputs": [
    {
     "name": "stdout",
     "output_type": "stream",
     "text": [
      "[[0.         1.         1.         1.41421356]\n",
      " [1.         0.         1.41421356 1.        ]\n",
      " [1.         1.41421356 0.         1.        ]\n",
      " [1.41421356 1.         1.         0.        ]]\n"
     ]
    }
   ],
   "source": [
    "N_grid = 2\n",
    "lengths = int(N_grid/2)\n",
    "X = np.arange(0.5,N_grid,1)\n",
    "Y = np.arange(0.5,N_grid,1)\n",
    "cell_locs = []\n",
    "for i in range(N_grid):\n",
    "    for j in range(N_grid):\n",
    "        cell_locs.append([X[i],Y[j]])\n",
    "N_cells = N_grid*N_grid\n",
    "Weights = np.zeros(shape=(N_cells,N_cells))\n",
    "\n",
    "for i in range(N_cells):\n",
    "    for j in range(N_cells):\n",
    "        Weights[i,j] = np.sqrt((cell_locs[i][0] - cell_locs[j][0])**2 + (cell_locs[i][1] - cell_locs[j][1])**2)\n",
    "print(Weights)"
   ]
  },
  {
   "cell_type": "code",
   "execution_count": 39,
   "metadata": {},
   "outputs": [
    {
     "name": "stdout",
     "output_type": "stream",
     "text": [
      "[[0.22346721]\n",
      " [0.16620877]\n",
      " [0.31575429]\n",
      " [0.29456972]]\n"
     ]
    }
   ],
   "source": [
    "N = 2\n",
    "pmf_cust = np.random.rand(N*N,1)\n",
    "pmf_cust = pmf_cust/(np.sum(pmf_cust))\n",
    "print(pmf_cust)"
   ]
  },
  {
   "cell_type": "code",
   "execution_count": 40,
   "metadata": {},
   "outputs": [
    {
     "data": {
      "text/plain": [
       "1.0"
      ]
     },
     "execution_count": 40,
     "metadata": {},
     "output_type": "execute_result"
    }
   ],
   "source": [
    "np.sum(pmf_cust)"
   ]
  },
  {
   "cell_type": "code",
   "execution_count": 18,
   "metadata": {},
   "outputs": [
    {
     "name": "stdout",
     "output_type": "stream",
     "text": [
      "[[0.         2.         4.         2.         2.82842712 4.47213595\n",
      "  4.         4.47213595 5.65685425]\n",
      " [2.         0.         2.         2.82842712 2.         2.82842712\n",
      "  4.47213595 4.         4.47213595]\n",
      " [4.         2.         0.         4.47213595 2.82842712 2.\n",
      "  5.65685425 4.47213595 4.        ]\n",
      " [2.         2.82842712 4.47213595 0.         2.         4.\n",
      "  2.         2.82842712 4.47213595]\n",
      " [2.82842712 2.         2.82842712 2.         0.         2.\n",
      "  2.82842712 2.         2.82842712]\n",
      " [4.47213595 2.82842712 2.         4.         2.         0.\n",
      "  4.47213595 2.82842712 2.        ]\n",
      " [4.         4.47213595 5.65685425 2.         2.82842712 4.47213595\n",
      "  0.         2.         4.        ]\n",
      " [4.47213595 4.         4.47213595 2.82842712 2.         2.82842712\n",
      "  2.         0.         2.        ]\n",
      " [5.65685425 4.47213595 4.         4.47213595 2.82842712 2.\n",
      "  4.         2.         0.        ]]\n"
     ]
    }
   ],
   "source": [
    "cell_locs = []\n",
    "for i in range(lengths):\n",
    "  for j in range(lengths):\n",
    "    cell_locs.append([X[i],Y[j]])\n",
    "N_cells = lengths*lengths\n",
    "\n",
    "\n",
    "Weights = np.zeros(shape=(N_cells,N_cells))\n",
    "for i in range(N_cells):\n",
    "  for j in range(N_cells):\n",
    "    Weights[i,j] = np.sqrt((cell_locs[i][0] - cell_locs[j][0])**2 + (cell_locs[i][1] - cell_locs[j][1])**2)\n",
    "print(Weights)"
   ]
  },
  {
   "cell_type": "code",
   "execution_count": 20,
   "metadata": {},
   "outputs": [
    {
     "data": {
      "text/plain": [
       "(9, 9)"
      ]
     },
     "execution_count": 20,
     "metadata": {},
     "output_type": "execute_result"
    }
   ],
   "source": [
    "Weights.shape"
   ]
  },
  {
   "cell_type": "markdown",
   "metadata": {},
   "source": [
    "### Generating Weight Matrix - Random"
   ]
  },
  {
   "cell_type": "code",
   "execution_count": 36,
   "metadata": {},
   "outputs": [
    {
     "name": "stdout",
     "output_type": "stream",
     "text": [
      "[[0.28338066 0.56754989 0.77080269 0.01481711]\n",
      " [0.08586285 0.07953872 0.05654574 0.34079503]\n",
      " [0.20895795 0.68254874 0.21033633 0.08395774]\n",
      " [0.23517306 0.06071984 0.19550994 0.97447317]]\n"
     ]
    }
   ],
   "source": [
    "N_grid = 4\n",
    "a = np.random.rand(N_grid, N_grid)\n",
    "rand_weights = np.random.rand(N_grid, N_grid)\n",
    "print(rand_weights)"
   ]
  },
  {
   "cell_type": "code",
   "execution_count": 11,
   "metadata": {},
   "outputs": [],
   "source": [
    "N_cells = N_grid*N_grid\n",
    "for counter in range(N_cells):\n",
    "  for i in range(N_grid):\n",
    "      for j in range(N_grid):\n",
    "          for k in range(N_grid):\n",
    "             rand_weights[i,j] = min(rand_weights[i,j],rand_weights[i,k] + rand_weights[k,j] )\n"
   ]
  },
  {
   "cell_type": "code",
   "execution_count": 12,
   "metadata": {},
   "outputs": [
    {
     "data": {
      "text/plain": [
       "array([[0.32083364, 0.54635051, 0.30588502, 0.99969315],\n",
       "       [0.50259525, 0.7945825 , 0.80848026, 0.57915419],\n",
       "       [0.01494862, 0.56129913, 0.20175529, 0.85191266],\n",
       "       [0.85035753, 0.54081972, 0.92632343, 0.93198135]])"
      ]
     },
     "execution_count": 12,
     "metadata": {},
     "output_type": "execute_result"
    }
   ],
   "source": [
    "rand_weights"
   ]
  },
  {
   "cell_type": "code",
   "execution_count": 13,
   "metadata": {},
   "outputs": [],
   "source": [
    "for i in range(N_grid):\n",
    "    for j in range(N_grid):\n",
    "        for k in range(N_grid):\n",
    "           rand_weights[i,j] = min(rand_weights[i,j],rand_weights[i,k] + rand_weights[k,j] )"
   ]
  },
  {
   "cell_type": "code",
   "execution_count": 14,
   "metadata": {},
   "outputs": [
    {
     "data": {
      "text/plain": [
       "array([[0.32083364, 0.54635051, 0.30588502, 0.99969315],\n",
       "       [0.50259525, 0.7945825 , 0.80848026, 0.57915419],\n",
       "       [0.01494862, 0.56129913, 0.20175529, 0.85191266],\n",
       "       [0.85035753, 0.54081972, 0.92632343, 0.93198135]])"
      ]
     },
     "execution_count": 14,
     "metadata": {},
     "output_type": "execute_result"
    }
   ],
   "source": [
    "rand_weights"
   ]
  },
  {
   "cell_type": "code",
   "execution_count": 26,
   "metadata": {},
   "outputs": [
    {
     "data": {
      "text/plain": [
       "<module 'utils' from 'C:\\\\Users\\\\HP\\\\Documents\\\\Acad stuff\\\\GaTech\\\\research\\\\prof_siva_spl_problems\\\\simulations\\\\repo\\\\utils.py'>"
      ]
     },
     "execution_count": 26,
     "metadata": {},
     "output_type": "execute_result"
    }
   ],
   "source": [
    "import importlib\n",
    "importlib.reload(utils)"
   ]
  },
  {
   "cell_type": "markdown",
   "metadata": {},
   "source": [
    "### Back to plots"
   ]
  },
  {
   "cell_type": "code",
   "execution_count": 27,
   "metadata": {},
   "outputs": [],
   "source": [
    "import utils\n",
    "def run_extremes(N, W, pmf_cust, pmf_serv, gurobi_flag = 1):\n",
    "    Ex = round (np.sum(np.outer(pmf_cust,pmf_serv)*W), 3) \n",
    "    print(\"Expected cost for c = 0 case:\", Ex )\n",
    "    if gurobi_flag == 1:\n",
    "        fluid_sol = utils.fluid_solution_gurobi(N, W, pmf_cust, pmf_serv)\n",
    "    else:\n",
    "        fluid_sol = utils.fluid_solution(N, W, pmf_cust, pmf_serv)\n",
    "    print(\"\\nFluid Solution:\\n\")\n",
    "    print(fluid_sol)\n",
    "    return([Ex,fluid_sol])\n",
    "def plot_from_sim_paths(file_name, save_file= 0, frac = 0):\n",
    "    with open(file_name,'rb') as f:\n",
    "        M_res,B_res, N, W, pmf_cust, pmf_serv = pickle.load(f)\n",
    "    Q_paths_M = M_res[\"Q_paths\"]\n",
    "    C_paths_M = M_res[\"C_paths\"]\n",
    "    Q_paths_B = B_res[\"Q_paths\"]\n",
    "    C_paths_B = B_res[\"C_paths\"]\n",
    "    (average_cost_M, average_queue_M) = utils.average_paths(C_paths_M,Q_paths_M, frac)\n",
    "    (average_cost_B, average_queue_B) = utils.average_paths(C_paths_B,Q_paths_B, frac)\n",
    "    [Ex,fluid_sol] = run_extremes(N,W,pmf_cust,pmf_serv)\n",
    "    utils.qc_plot(Ex,fluid_sol,average_queue_B,average_cost_B,average_queue_M,average_cost_M, save_file)"
   ]
  },
  {
   "cell_type": "code",
   "execution_count": 19,
   "metadata": {},
   "outputs": [
    {
     "name": "stdout",
     "output_type": "stream",
     "text": [
      "Expected cost for c = 0 case: 0.835\n",
      "Gurobi Optimizer version 10.0.3 build v10.0.3rc0 (win64)\n",
      "\n",
      "CPU model: Intel(R) Core(TM) i7-8550U CPU @ 1.80GHz, instruction set [SSE2|AVX|AVX2]\n",
      "Thread count: 4 physical cores, 8 logical processors, using up to 8 threads\n",
      "\n",
      "Optimize a model with 8 rows, 16 columns and 32 nonzeros\n",
      "Model fingerprint: 0x817357d8\n",
      "Coefficient statistics:\n",
      "  Matrix range     [1e+00, 1e+00]\n",
      "  Objective range  [1e+00, 1e+00]\n",
      "  Bounds range     [1e+00, 1e+00]\n",
      "  RHS range        [8e-02, 4e-01]\n",
      "Presolve time: 0.02s\n",
      "Presolved: 8 rows, 16 columns, 32 nonzeros\n",
      "\n",
      "Iteration    Objective       Primal Inf.    Dual Inf.      Time\n",
      "       0    0.0000000e+00   3.800000e-01   0.000000e+00      0s\n",
      "       3    2.3142136e-01   0.000000e+00   0.000000e+00      0s\n",
      "\n",
      "Solved in 3 iterations and 0.03 seconds (0.00 work units)\n",
      "Optimal objective  2.314213562e-01\n",
      "Objective Value: 0.23\n",
      "x:  [[0.09 0.   0.   0.1 ]\n",
      " [0.   0.23 0.   0.08]\n",
      " [0.   0.   0.41 0.01]\n",
      " [0.   0.   0.   0.08]]\n",
      "\n",
      "Fluid Solution:\n",
      "\n",
      "{'Cost': 0.23142135623730953, 'X_matrix': array([[0.09, 0.  , 0.  , 0.1 ],\n",
      "       [0.  , 0.23, 0.  , 0.08],\n",
      "       [0.  , 0.  , 0.41, 0.01],\n",
      "       [0.  , 0.  , 0.  , 0.08]])}\n"
     ]
    },
    {
     "data": {
      "image/png": "[encoded data removed]",
      "text/plain": [
       "<Figure size 720x432 with 1 Axes>"
      ]
     },
     "metadata": {
      "needs_background": "light"
     },
     "output_type": "display_data"
    }
   ],
   "source": [
    "plot_from_sim_paths(\"sim_paths_spatial.pkl\")"
   ]
  },
  {
   "cell_type": "code",
   "execution_count": 20,
   "metadata": {
    "scrolled": true
   },
   "outputs": [
    {
     "name": "stdout",
     "output_type": "stream",
     "text": [
      "Expected cost for c = 0 case: 0.341\n",
      "Gurobi Optimizer version 10.0.3 build v10.0.3rc0 (win64)\n",
      "\n",
      "CPU model: Intel(R) Core(TM) i7-8550U CPU @ 1.80GHz, instruction set [SSE2|AVX|AVX2]\n",
      "Thread count: 4 physical cores, 8 logical processors, using up to 8 threads\n",
      "\n",
      "Optimize a model with 8 rows, 16 columns and 32 nonzeros\n",
      "Model fingerprint: 0xda645c90\n",
      "Coefficient statistics:\n",
      "  Matrix range     [1e+00, 1e+00]\n",
      "  Objective range  [2e-02, 7e-01]\n",
      "  Bounds range     [1e+00, 1e+00]\n",
      "  RHS range        [8e-02, 4e-01]\n",
      "Presolve time: 0.03s\n",
      "Presolved: 8 rows, 16 columns, 32 nonzeros\n",
      "\n",
      "Iteration    Objective       Primal Inf.    Dual Inf.      Time\n",
      "       0    1.3470507e-01   1.280000e+00   0.000000e+00      0s\n",
      "       4    2.6600024e-01   0.000000e+00   0.000000e+00      0s\n",
      "\n",
      "Solved in 4 iterations and 0.04 seconds (0.00 work units)\n",
      "Optimal objective  2.660002396e-01\n",
      "Objective Value: 0.27\n",
      "x:  [[0.   0.   0.1  0.09]\n",
      " [0.   0.   0.31 0.  ]\n",
      " [0.01 0.23 0.   0.18]\n",
      " [0.08 0.   0.   0.  ]]\n",
      "\n",
      "Fluid Solution:\n",
      "\n",
      "{'Cost': 0.2660002396215362, 'X_matrix': array([[0.  , 0.  , 0.1 , 0.09],\n",
      "       [0.  , 0.  , 0.31, 0.  ],\n",
      "       [0.01, 0.23, 0.  , 0.18],\n",
      "       [0.08, 0.  , 0.  , 0.  ]])}\n"
     ]
    },
    {
     "data": {
      "image/png": "[encoded data removed]",
      "text/plain": [
       "<Figure size 720x432 with 1 Axes>"
      ]
     },
     "metadata": {
      "needs_background": "light"
     },
     "output_type": "display_data"
    }
   ],
   "source": [
    "plot_from_sim_paths(\"sim_paths_random.pkl\")"
   ]
  },
  {
   "cell_type": "code",
   "execution_count": 23,
   "metadata": {},
   "outputs": [
    {
     "name": "stdout",
     "output_type": "stream",
     "text": [
      "4 [[0.20905745 0.56418628 0.27388864 0.04863301]\n",
      " [0.1793404  0.64312121 0.2053665  0.01891596]\n",
      " [0.25420689 0.43775471 0.52809553 0.3028399 ]\n",
      " [0.16042444 0.72461073 0.43431309 0.20905745]] [0.19, 0.31, 0.42, 0.08] [0.09, 0.23, 0.41, 0.27]\n"
     ]
    }
   ],
   "source": [
    "with open(\"sim_paths_random.pkl\",'rb') as f:\n",
    "    M_res,B_res, N, W, pmf_cust, pmf_serv = pickle.load(f)\n",
    "Q_paths_M = M_res[\"Q_paths\"]\n",
    "C_paths_M = M_res[\"C_paths\"]\n",
    "Q_paths_B = B_res[\"Q_paths\"]\n",
    "C_paths_B = B_res[\"C_paths\"]\n",
    "(average_cost_M, average_queue_M) = utils.average_paths(C_paths_M,Q_paths_M)\n",
    "(average_cost_B, average_queue_B) = utils.average_paths(C_paths_B,Q_paths_B)\n",
    "print(N, W, pmf_cust, pmf_serv)"
   ]
  },
  {
   "cell_type": "code",
   "execution_count": 24,
   "metadata": {},
   "outputs": [
    {
     "name": "stdout",
     "output_type": "stream",
     "text": [
      "4 [[0.         1.         1.         1.41421356]\n",
      " [1.         0.         1.41421356 1.        ]\n",
      " [1.         1.41421356 0.         1.        ]\n",
      " [1.41421356 1.         1.         0.        ]] [0.19, 0.31, 0.42, 0.08] [0.09, 0.23, 0.41, 0.27]\n"
     ]
    }
   ],
   "source": [
    "with open(\"sim_paths_spatial.pkl\",'rb') as f:\n",
    "    M_res,B_res, N, W, pmf_cust, pmf_serv = pickle.load(f)\n",
    "Q_paths_M = M_res[\"Q_paths\"]\n",
    "C_paths_M = M_res[\"C_paths\"]\n",
    "Q_paths_B = B_res[\"Q_paths\"]\n",
    "C_paths_B = B_res[\"C_paths\"]\n",
    "(average_cost_M, average_queue_M) = utils.average_paths(C_paths_M,Q_paths_M)\n",
    "(average_cost_B, average_queue_B) = utils.average_paths(C_paths_B,Q_paths_B)\n",
    "print( N, W, pmf_cust, pmf_serv)"
   ]
  },
  {
   "cell_type": "code",
   "execution_count": 3,
   "metadata": {
    "scrolled": true
   },
   "outputs": [
    {
     "name": "stdout",
     "output_type": "stream",
     "text": [
      "Expected cost for c = 0 case: 4.001\n",
      "Set parameter Username\n",
      "Academic license - for non-commercial use only - expires 2024-09-03\n",
      "Gurobi Optimizer version 10.0.3 build v10.0.3rc0 (win64)\n",
      "\n",
      "CPU model: Intel(R) Core(TM) i7-8550U CPU @ 1.80GHz, instruction set [SSE2|AVX|AVX2]\n",
      "Thread count: 4 physical cores, 8 logical processors, using up to 8 threads\n",
      "\n",
      "Optimize a model with 8 rows, 16 columns and 32 nonzeros\n",
      "Model fingerprint: 0x996df94b\n",
      "Coefficient statistics:\n",
      "  Matrix range     [1e+00, 1e+00]\n",
      "  Objective range  [2e+00, 5e+00]\n",
      "  Bounds range     [1e+00, 1e+00]\n",
      "  RHS range        [8e-02, 4e-01]\n",
      "Presolve time: 0.02s\n",
      "Presolved: 8 rows, 16 columns, 32 nonzeros\n",
      "\n",
      "Iteration    Objective       Primal Inf.    Dual Inf.      Time\n",
      "       0    3.1550463e+00   8.200000e-01   0.000000e+00      0s\n",
      "       2    3.4944399e+00   0.000000e+00   0.000000e+00      0s\n",
      "\n",
      "Solved in 2 iterations and 0.08 seconds (0.00 work units)\n",
      "Optimal objective  3.494439860e+00\n",
      "Objective Value: 3.49\n",
      "x:  [[0.   0.   0.   0.19]\n",
      " [0.09 0.22 0.   0.  ]\n",
      " [0.   0.01 0.41 0.  ]\n",
      " [0.   0.   0.   0.08]]\n",
      "\n",
      "Fluid Solution:\n",
      "\n",
      "{'Cost': 3.494439860178127, 'X_matrix': array([[0.  , 0.  , 0.  , 0.19],\n",
      "       [0.09, 0.22, 0.  , 0.  ],\n",
      "       [0.  , 0.01, 0.41, 0.  ],\n",
      "       [0.  , 0.  , 0.  , 0.08]])}\n"
     ]
    },
    {
     "data": {
      "image/png": "[encoded data removed]",
      "text/plain": [
       "<Figure size 720x432 with 1 Axes>"
      ]
     },
     "metadata": {
      "needs_background": "light"
     },
     "output_type": "display_data"
    }
   ],
   "source": [
    "plot_from_sim_paths(\"sim_paths_random_4.pkl\")"
   ]
  },
  {
   "cell_type": "code",
   "execution_count": 3,
   "metadata": {},
   "outputs": [
    {
     "name": "stdout",
     "output_type": "stream",
     "text": [
      "Expected cost for c = 0 case: 2.053\n",
      "Set parameter Username\n",
      "Academic license - for non-commercial use only - expires 2024-09-03\n",
      "Gurobi Optimizer version 10.0.3 build v10.0.3rc0 (win64)\n",
      "\n",
      "CPU model: Intel(R) Core(TM) i7-8550U CPU @ 1.80GHz, instruction set [SSE2|AVX|AVX2]\n",
      "Thread count: 4 physical cores, 8 logical processors, using up to 8 threads\n",
      "\n",
      "Optimize a model with 32 rows, 256 columns and 512 nonzeros\n",
      "Model fingerprint: 0xcd695ad1\n",
      "Coefficient statistics:\n",
      "  Matrix range     [1e+00, 1e+00]\n",
      "  Objective range  [1e+00, 4e+00]\n",
      "  Bounds range     [1e+00, 1e+00]\n",
      "  RHS range        [2e-03, 1e-01]\n",
      "Presolve time: 0.05s\n",
      "Presolved: 32 rows, 256 columns, 512 nonzeros\n",
      "\n",
      "Iteration    Objective       Primal Inf.    Dual Inf.      Time\n",
      "       0    0.0000000e+00   5.291625e-01   0.000000e+00      0s\n",
      "      22    4.6844441e-01   0.000000e+00   0.000000e+00      0s\n",
      "\n",
      "Solved in 22 iterations and 0.08 seconds (0.00 work units)\n",
      "Optimal objective  4.684444113e-01\n",
      "Objective Value: 0.47\n",
      "x:  [[0.0079288  0.         0.         0.         0.04791917 0.\n",
      "  0.         0.03736686 0.         0.         0.         0.\n",
      "  0.         0.         0.         0.        ]\n",
      " [0.         0.07887512 0.         0.02002304 0.         0.\n",
      "  0.         0.010687   0.         0.         0.         0.\n",
      "  0.         0.         0.         0.        ]\n",
      " [0.         0.         0.0024633  0.00167678 0.         0.\n",
      "  0.         0.         0.         0.         0.         0.\n",
      "  0.         0.         0.         0.        ]\n",
      " [0.         0.         0.         0.09283723 0.         0.\n",
      "  0.         0.         0.         0.         0.         0.\n",
      "  0.         0.         0.         0.        ]\n",
      " [0.         0.         0.         0.         0.06721505 0.\n",
      "  0.         0.         0.         0.         0.         0.\n",
      "  0.         0.         0.         0.        ]\n",
      " [0.         0.         0.         0.         0.         0.04860185\n",
      "  0.02242724 0.         0.         0.         0.01827945 0.\n",
      "  0.         0.         0.         0.        ]\n",
      " [0.         0.         0.         0.         0.         0.\n",
      "  0.01778982 0.06014514 0.         0.         0.         0.\n",
      "  0.         0.         0.         0.        ]\n",
      " [0.         0.         0.         0.         0.         0.\n",
      "  0.         0.00464118 0.         0.         0.         0.\n",
      "  0.         0.         0.         0.        ]\n",
      " [0.         0.         0.         0.         0.         0.\n",
      "  0.         0.         0.02379985 0.         0.         0.\n",
      "  0.0075023  0.         0.         0.        ]\n",
      " [0.         0.         0.         0.         0.         0.\n",
      "  0.         0.         0.         0.06089401 0.         0.\n",
      "  0.         0.         0.         0.0230558 ]\n",
      " [0.         0.         0.         0.         0.         0.\n",
      "  0.         0.         0.         0.         0.04290138 0.\n",
      "  0.         0.         0.         0.01427039]\n",
      " [0.         0.         0.         0.         0.         0.\n",
      "  0.         0.         0.         0.         0.         0.09891412\n",
      "  0.         0.         0.         0.0008203 ]\n",
      " [0.         0.         0.         0.         0.         0.\n",
      "  0.         0.         0.         0.         0.         0.\n",
      "  0.06721596 0.         0.         0.        ]\n",
      " [0.         0.         0.         0.         0.         0.\n",
      "  0.         0.         0.         0.         0.         0.\n",
      "  0.01647389 0.03157025 0.01477014 0.00586139]\n",
      " [0.         0.         0.         0.         0.         0.\n",
      "  0.         0.         0.         0.         0.         0.\n",
      "  0.         0.         0.         0.00529258]\n",
      " [0.         0.         0.         0.         0.         0.\n",
      "  0.         0.         0.         0.         0.         0.\n",
      "  0.         0.         0.         0.04778059]]\n",
      "\n",
      "Fluid Solution:\n",
      "\n",
      "{'Cost': 0.4684444113382702, 'X_matrix': array([[0.0079288 , 0.        , 0.        , 0.        , 0.04791917,\n",
      "        0.        , 0.        , 0.03736686, 0.        , 0.        ,\n",
      "        0.        , 0.        , 0.        , 0.        , 0.        ,\n",
      "        0.        ],\n",
      "       [0.        , 0.07887512, 0.        , 0.02002304, 0.        ,\n",
      "        0.        , 0.        , 0.010687  , 0.        , 0.        ,\n",
      "        0.        , 0.        , 0.        , 0.        , 0.        ,\n",
      "        0.        ],\n",
      "       [0.        , 0.        , 0.0024633 , 0.00167678, 0.        ,\n",
      "        0.        , 0.        , 0.        , 0.        , 0.        ,\n",
      "        0.        , 0.        , 0.        , 0.        , 0.        ,\n",
      "        0.        ],\n",
      "       [0.        , 0.        , 0.        , 0.09283723, 0.        ,\n",
      "        0.        , 0.        , 0.        , 0.        , 0.        ,\n",
      "        0.        , 0.        , 0.        , 0.        , 0.        ,\n",
      "        0.        ],\n",
      "       [0.        , 0.        , 0.        , 0.        , 0.06721505,\n",
      "        0.        , 0.        , 0.        , 0.        , 0.        ,\n",
      "        0.        , 0.        , 0.        , 0.        , 0.        ,\n",
      "        0.        ],\n",
      "       [0.        , 0.        , 0.        , 0.        , 0.        ,\n",
      "        0.04860185, 0.02242724, 0.        , 0.        , 0.        ,\n",
      "        0.01827945, 0.        , 0.        , 0.        , 0.        ,\n",
      "        0.        ],\n",
      "       [0.        , 0.        , 0.        , 0.        , 0.        ,\n",
      "        0.        , 0.01778982, 0.06014514, 0.        , 0.        ,\n",
      "        0.        , 0.        , 0.        , 0.        , 0.        ,\n",
      "        0.        ],\n",
      "       [0.        , 0.        , 0.        , 0.        , 0.        ,\n",
      "        0.        , 0.        , 0.00464118, 0.        , 0.        ,\n",
      "        0.        , 0.        , 0.        , 0.        , 0.        ,\n",
      "        0.        ],\n",
      "       [0.        , 0.        , 0.        , 0.        , 0.        ,\n",
      "        0.        , 0.        , 0.        , 0.02379985, 0.        ,\n",
      "        0.        , 0.        , 0.0075023 , 0.        , 0.        ,\n",
      "        0.        ],\n",
      "       [0.        , 0.        , 0.        , 0.        , 0.        ,\n",
      "        0.        , 0.        , 0.        , 0.        , 0.06089401,\n",
      "        0.        , 0.        , 0.        , 0.        , 0.        ,\n",
      "        0.0230558 ],\n",
      "       [0.        , 0.        , 0.        , 0.        , 0.        ,\n",
      "        0.        , 0.        , 0.        , 0.        , 0.        ,\n",
      "        0.04290138, 0.        , 0.        , 0.        , 0.        ,\n",
      "        0.01427039],\n",
      "       [0.        , 0.        , 0.        , 0.        , 0.        ,\n",
      "        0.        , 0.        , 0.        , 0.        , 0.        ,\n",
      "        0.        , 0.09891412, 0.        , 0.        , 0.        ,\n",
      "        0.0008203 ],\n",
      "       [0.        , 0.        , 0.        , 0.        , 0.        ,\n",
      "        0.        , 0.        , 0.        , 0.        , 0.        ,\n",
      "        0.        , 0.        , 0.06721596, 0.        , 0.        ,\n",
      "        0.        ],\n",
      "       [0.        , 0.        , 0.        , 0.        , 0.        ,\n",
      "        0.        , 0.        , 0.        , 0.        , 0.        ,\n",
      "        0.        , 0.        , 0.01647389, 0.03157025, 0.01477014,\n",
      "        0.00586139],\n",
      "       [0.        , 0.        , 0.        , 0.        , 0.        ,\n",
      "        0.        , 0.        , 0.        , 0.        , 0.        ,\n",
      "        0.        , 0.        , 0.        , 0.        , 0.        ,\n",
      "        0.00529258],\n",
      "       [0.        , 0.        , 0.        , 0.        , 0.        ,\n",
      "        0.        , 0.        , 0.        , 0.        , 0.        ,\n",
      "        0.        , 0.        , 0.        , 0.        , 0.        ,\n",
      "        0.04778059]])}\n"
     ]
    },
    {
     "data": {
      "image/png": "[encoded data removed]",
      "text/plain": [
       "<Figure size 720x432 with 1 Axes>"
      ]
     },
     "metadata": {
      "needs_background": "light"
     },
     "output_type": "display_data"
    }
   ],
   "source": [
    "plot_from_sim_paths(\"sim_paths_spatial_4.pkl\")"
   ]
  },
  {
   "cell_type": "code",
   "execution_count": 4,
   "metadata": {},
   "outputs": [
    {
     "name": "stdout",
     "output_type": "stream",
     "text": [
      "Expected cost for c = 0 case: 3.34\n",
      "Gurobi Optimizer version 10.0.3 build v10.0.3rc0 (win64)\n",
      "\n",
      "CPU model: Intel(R) Core(TM) i7-8550U CPU @ 1.80GHz, instruction set [SSE2|AVX|AVX2]\n",
      "Thread count: 4 physical cores, 8 logical processors, using up to 8 threads\n",
      "\n",
      "Optimize a model with 8 rows, 16 columns and 32 nonzeros\n",
      "Model fingerprint: 0x40fcf4a4\n",
      "Coefficient statistics:\n",
      "  Matrix range     [1e+00, 1e+00]\n",
      "  Objective range  [2e+00, 4e+00]\n",
      "  Bounds range     [1e+00, 1e+00]\n",
      "  RHS range        [2e-02, 5e-01]\n",
      "Presolve removed 1 rows and 1 columns\n",
      "Presolve time: 0.03s\n",
      "Presolved: 7 rows, 15 columns, 30 nonzeros\n",
      "\n",
      "Iteration    Objective       Primal Inf.    Dual Inf.      Time\n",
      "       0    2.6330622e+00   1.109701e+00   0.000000e+00      0s\n",
      "       4    2.9525432e+00   0.000000e+00   0.000000e+00      0s\n",
      "\n",
      "Solved in 4 iterations and 0.06 seconds (0.00 work units)\n",
      "Optimal objective  2.952543210e+00\n",
      "Objective Value: 2.95\n",
      "x:  [[0.02336667 0.         0.         0.        ]\n",
      " [0.0298805  0.35229149 0.14130576 0.        ]\n",
      " [0.07403857 0.         0.         0.        ]\n",
      " [0.         0.15089079 0.         0.22822622]]\n",
      "\n",
      "Fluid Solution:\n",
      "\n",
      "{'Cost': 2.9525432102020615, 'X_matrix': array([[0.02336667, 0.        , 0.        , 0.        ],\n",
      "       [0.0298805 , 0.35229149, 0.14130576, 0.        ],\n",
      "       [0.07403857, 0.        , 0.        , 0.        ],\n",
      "       [0.        , 0.15089079, 0.        , 0.22822622]])}\n"
     ]
    },
    {
     "data": {
      "image/png": "[encoded data removed]",
      "text/plain": [
       "<Figure size 720x432 with 1 Axes>"
      ]
     },
     "metadata": {
      "needs_background": "light"
     },
     "output_type": "display_data"
    }
   ],
   "source": [
    "plot_from_sim_paths(\"sim_paths_random_4_random_pmf.pkl\")"
   ]
  },
  {
   "cell_type": "code",
   "execution_count": 5,
   "metadata": {},
   "outputs": [],
   "source": [
    "file_name = 'sim_paths_random_4_random_pmf.pkl'\n",
    "with open(file_name,'rb') as f:\n",
    "    M_res,B_res, N, W, pmf_cust, pmf_serv = pickle.load(f)"
   ]
  },
  {
   "cell_type": "code",
   "execution_count": 6,
   "metadata": {},
   "outputs": [
    {
     "data": {
      "text/plain": [
       "array([[2.17037135, 2.69729681, 1.68559469, 2.12560222],\n",
       "       [3.53744788, 3.6508647 , 1.73814782, 3.3705261 ],\n",
       "       [1.79930005, 1.91271687, 3.48489474, 3.42361234],\n",
       "       [4.04728398, 3.90307957, 4.26768285, 2.37568203]])"
      ]
     },
     "execution_count": 6,
     "metadata": {},
     "output_type": "execute_result"
    }
   ],
   "source": [
    "W"
   ]
  },
  {
   "cell_type": "code",
   "execution_count": 7,
   "metadata": {},
   "outputs": [
    {
     "data": {
      "text/plain": [
       "3.1727999999999996"
      ]
     },
     "execution_count": 7,
     "metadata": {},
     "output_type": "execute_result"
    }
   ],
   "source": [
    "1.3738 + 1.799"
   ]
  },
  {
   "cell_type": "code",
   "execution_count": 10,
   "metadata": {},
   "outputs": [],
   "source": [
    "N_grid = 4\n",
    "rand_weights = W\n",
    "N_cells = N_grid*N_grid\n",
    "for counter in range(N_cells):\n",
    "    for i in range(N_grid):\n",
    "        for j in range(N_grid):\n",
    "            for k in range(N_grid):\n",
    "                rand_weights[i,j] = min(rand_weights[i,j],rand_weights[i,k] + rand_weights[k,j] )\n"
   ]
  },
  {
   "cell_type": "code",
   "execution_count": 11,
   "metadata": {},
   "outputs": [
    {
     "data": {
      "text/plain": [
       "array([[2.17037135, 2.69729681, 1.68559469, 2.12560222],\n",
       "       [3.53744788, 3.6508647 , 1.73814782, 3.3705261 ],\n",
       "       [1.79930005, 1.91271687, 3.48489474, 3.42361234],\n",
       "       [4.04728398, 3.90307957, 4.26768285, 2.37568203]])"
      ]
     },
     "execution_count": 11,
     "metadata": {},
     "output_type": "execute_result"
    }
   ],
   "source": [
    "W"
   ]
  },
  {
   "cell_type": "code",
   "execution_count": 12,
   "metadata": {},
   "outputs": [
    {
     "data": {
      "text/plain": [
       "3.537447875197569"
      ]
     },
     "execution_count": 12,
     "metadata": {},
     "output_type": "execute_result"
    }
   ],
   "source": [
    "rand_weights[1,2] + rand_weights[2,0]"
   ]
  },
  {
   "cell_type": "code",
   "execution_count": 3,
   "metadata": {
    "scrolled": true
   },
   "outputs": [
    {
     "name": "stdout",
     "output_type": "stream",
     "text": [
      "Expected cost for c = 0 case: 2.046\n",
      "Set parameter Username\n",
      "Academic license - for non-commercial use only - expires 2024-09-03\n",
      "Gurobi Optimizer version 10.0.3 build v10.0.3rc0 (win64)\n",
      "\n",
      "CPU model: Intel(R) Core(TM) i7-8550U CPU @ 1.80GHz, instruction set [SSE2|AVX|AVX2]\n",
      "Thread count: 4 physical cores, 8 logical processors, using up to 8 threads\n",
      "\n",
      "Optimize a model with 32 rows, 256 columns and 512 nonzeros\n",
      "Model fingerprint: 0x6c0eaa24\n",
      "Coefficient statistics:\n",
      "  Matrix range     [1e+00, 1e+00]\n",
      "  Objective range  [1e+00, 4e+00]\n",
      "  Bounds range     [1e+00, 1e+00]\n",
      "  RHS range        [1e-03, 2e-01]\n",
      "Presolve time: 0.09s\n",
      "Presolved: 32 rows, 256 columns, 512 nonzeros\n",
      "\n",
      "Iteration    Objective       Primal Inf.    Dual Inf.      Time\n",
      "       0    0.0000000e+00   6.438740e-01   0.000000e+00      0s\n",
      "      21    4.7543473e-01   0.000000e+00   0.000000e+00      0s\n",
      "\n",
      "Solved in 21 iterations and 0.22 seconds (0.00 work units)\n",
      "Optimal objective  4.754347292e-01\n",
      "Objective Value: 0.48\n",
      "x:  [[0.01109994 0.00939293 0.         0.         0.         0.\n",
      "  0.         0.         0.01212069 0.         0.         0.\n",
      "  0.02522285 0.         0.         0.        ]\n",
      " [0.         0.11037705 0.         0.         0.         0.\n",
      "  0.         0.         0.         0.         0.         0.\n",
      "  0.         0.         0.         0.        ]\n",
      " [0.         0.05098951 0.0667131  0.         0.         0.\n",
      "  0.         0.         0.         0.         0.         0.\n",
      "  0.         0.         0.         0.        ]\n",
      " [0.         0.         0.01129884 0.00724217 0.         0.\n",
      "  0.0126397  0.03262725 0.         0.         0.03322884 0.\n",
      "  0.         0.         0.         0.        ]\n",
      " [0.         0.         0.         0.         0.02068965 0.\n",
      "  0.         0.         0.0103878  0.         0.         0.\n",
      "  0.         0.         0.         0.        ]\n",
      " [0.         0.         0.         0.         0.         0.04387873\n",
      "  0.         0.         0.         0.02556005 0.         0.\n",
      "  0.00029488 0.         0.         0.        ]\n",
      " [0.         0.         0.         0.         0.         0.\n",
      "  0.05793314 0.         0.         0.         0.         0.\n",
      "  0.         0.         0.         0.        ]\n",
      " [0.         0.         0.         0.         0.         0.\n",
      "  0.         0.00098626 0.         0.         0.         0.\n",
      "  0.         0.         0.         0.        ]\n",
      " [0.         0.         0.         0.         0.         0.\n",
      "  0.         0.         0.01243352 0.         0.         0.\n",
      "  0.         0.         0.         0.        ]\n",
      " [0.         0.         0.         0.         0.         0.\n",
      "  0.         0.         0.         0.0505967  0.         0.\n",
      "  0.         0.         0.         0.        ]\n",
      " [0.         0.         0.         0.         0.         0.\n",
      "  0.         0.         0.         0.         0.02493502 0.\n",
      "  0.         0.         0.         0.        ]\n",
      " [0.         0.         0.         0.         0.         0.\n",
      "  0.         0.         0.         0.         0.         0.05760885\n",
      "  0.         0.         0.         0.00702853]\n",
      " [0.         0.         0.         0.         0.         0.\n",
      "  0.         0.         0.         0.         0.         0.\n",
      "  0.05670006 0.         0.         0.        ]\n",
      " [0.         0.         0.         0.         0.         0.\n",
      "  0.         0.         0.         0.         0.         0.\n",
      "  0.02826022 0.07615195 0.         0.        ]\n",
      " [0.         0.         0.         0.         0.         0.\n",
      "  0.         0.         0.         0.         0.         0.\n",
      "  0.03295937 0.         0.00129312 0.04122438]\n",
      " [0.         0.         0.         0.         0.         0.\n",
      "  0.         0.         0.         0.         0.         0.\n",
      "  0.         0.         0.         0.06812489]]\n",
      "\n",
      "Fluid Solution:\n",
      "\n",
      "{'Cost': 0.47543472920175167, 'X_matrix': array([[0.01109994, 0.00939293, 0.        , 0.        , 0.        ,\n",
      "        0.        , 0.        , 0.        , 0.01212069, 0.        ,\n",
      "        0.        , 0.        , 0.02522285, 0.        , 0.        ,\n",
      "        0.        ],\n",
      "       [0.        , 0.11037705, 0.        , 0.        , 0.        ,\n",
      "        0.        , 0.        , 0.        , 0.        , 0.        ,\n",
      "        0.        , 0.        , 0.        , 0.        , 0.        ,\n",
      "        0.        ],\n",
      "       [0.        , 0.05098951, 0.0667131 , 0.        , 0.        ,\n",
      "        0.        , 0.        , 0.        , 0.        , 0.        ,\n",
      "        0.        , 0.        , 0.        , 0.        , 0.        ,\n",
      "        0.        ],\n",
      "       [0.        , 0.        , 0.01129884, 0.00724217, 0.        ,\n",
      "        0.        , 0.0126397 , 0.03262725, 0.        , 0.        ,\n",
      "        0.03322884, 0.        , 0.        , 0.        , 0.        ,\n",
      "        0.        ],\n",
      "       [0.        , 0.        , 0.        , 0.        , 0.02068965,\n",
      "        0.        , 0.        , 0.        , 0.0103878 , 0.        ,\n",
      "        0.        , 0.        , 0.        , 0.        , 0.        ,\n",
      "        0.        ],\n",
      "       [0.        , 0.        , 0.        , 0.        , 0.        ,\n",
      "        0.04387873, 0.        , 0.        , 0.        , 0.02556005,\n",
      "        0.        , 0.        , 0.00029488, 0.        , 0.        ,\n",
      "        0.        ],\n",
      "       [0.        , 0.        , 0.        , 0.        , 0.        ,\n",
      "        0.        , 0.05793314, 0.        , 0.        , 0.        ,\n",
      "        0.        , 0.        , 0.        , 0.        , 0.        ,\n",
      "        0.        ],\n",
      "       [0.        , 0.        , 0.        , 0.        , 0.        ,\n",
      "        0.        , 0.        , 0.00098626, 0.        , 0.        ,\n",
      "        0.        , 0.        , 0.        , 0.        , 0.        ,\n",
      "        0.        ],\n",
      "       [0.        , 0.        , 0.        , 0.        , 0.        ,\n",
      "        0.        , 0.        , 0.        , 0.01243352, 0.        ,\n",
      "        0.        , 0.        , 0.        , 0.        , 0.        ,\n",
      "        0.        ],\n",
      "       [0.        , 0.        , 0.        , 0.        , 0.        ,\n",
      "        0.        , 0.        , 0.        , 0.        , 0.0505967 ,\n",
      "        0.        , 0.        , 0.        , 0.        , 0.        ,\n",
      "        0.        ],\n",
      "       [0.        , 0.        , 0.        , 0.        , 0.        ,\n",
      "        0.        , 0.        , 0.        , 0.        , 0.        ,\n",
      "        0.02493502, 0.        , 0.        , 0.        , 0.        ,\n",
      "        0.        ],\n",
      "       [0.        , 0.        , 0.        , 0.        , 0.        ,\n",
      "        0.        , 0.        , 0.        , 0.        , 0.        ,\n",
      "        0.        , 0.05760885, 0.        , 0.        , 0.        ,\n",
      "        0.00702853],\n",
      "       [0.        , 0.        , 0.        , 0.        , 0.        ,\n",
      "        0.        , 0.        , 0.        , 0.        , 0.        ,\n",
      "        0.        , 0.        , 0.05670006, 0.        , 0.        ,\n",
      "        0.        ],\n",
      "       [0.        , 0.        , 0.        , 0.        , 0.        ,\n",
      "        0.        , 0.        , 0.        , 0.        , 0.        ,\n",
      "        0.        , 0.        , 0.02826022, 0.07615195, 0.        ,\n",
      "        0.        ],\n",
      "       [0.        , 0.        , 0.        , 0.        , 0.        ,\n",
      "        0.        , 0.        , 0.        , 0.        , 0.        ,\n",
      "        0.        , 0.        , 0.03295937, 0.        , 0.00129312,\n",
      "        0.04122438],\n",
      "       [0.        , 0.        , 0.        , 0.        , 0.        ,\n",
      "        0.        , 0.        , 0.        , 0.        , 0.        ,\n",
      "        0.        , 0.        , 0.        , 0.        , 0.        ,\n",
      "        0.06812489]])}\n"
     ]
    },
    {
     "data": {
      "image/png": "[encoded data removed]",
      "text/plain": [
       "<Figure size 720x432 with 1 Axes>"
      ]
     },
     "metadata": {
      "needs_background": "light"
     },
     "output_type": "display_data"
    }
   ],
   "source": [
    "plot_from_sim_paths(\"sim_paths_spatial_4_more_maxweight.pkl\")"
   ]
  },
  {
   "cell_type": "code",
   "execution_count": 10,
   "metadata": {},
   "outputs": [
    {
     "name": "stdout",
     "output_type": "stream",
     "text": [
      "Expected cost for c = 0 case: 2.944\n",
      "Set parameter Username\n",
      "Academic license - for non-commercial use only - expires 2024-09-03\n",
      "Gurobi Optimizer version 10.0.3 build v10.0.3rc0 (win64)\n",
      "\n",
      "CPU model: Intel(R) Core(TM) i7-8550U CPU @ 1.80GHz, instruction set [SSE2|AVX|AVX2]\n",
      "Thread count: 4 physical cores, 8 logical processors, using up to 8 threads\n",
      "\n",
      "Optimize a model with 10 rows, 25 columns and 50 nonzeros\n",
      "Model fingerprint: 0x835e4b3c\n",
      "Coefficient statistics:\n",
      "  Matrix range     [1e+00, 1e+00]\n",
      "  Objective range  [2e+00, 5e+00]\n",
      "  Bounds range     [1e+00, 1e+00]\n",
      "  RHS range        [3e-02, 3e-01]\n",
      "Presolve time: 0.01s\n",
      "Presolved: 10 rows, 25 columns, 50 nonzeros\n",
      "\n",
      "Iteration    Objective       Primal Inf.    Dual Inf.      Time\n",
      "       0    2.0736091e+00   6.787672e-01   0.000000e+00      0s\n",
      "       5    2.2288097e+00   0.000000e+00   0.000000e+00      0s\n",
      "\n",
      "Solved in 5 iterations and 0.01 seconds (0.00 work units)\n",
      "Optimal objective  2.228809724e+00\n",
      "Objective Value: 2.23\n",
      "x:  [[0.         0.08524291 0.         0.         0.        ]\n",
      " [0.04188069 0.         0.         0.         0.25192521]\n",
      " [0.04343125 0.         0.         0.2888484  0.        ]\n",
      " [0.07287028 0.         0.0345999  0.         0.        ]\n",
      " [0.11552342 0.06567795 0.         0.         0.        ]]\n",
      "\n",
      "Fluid Solution:\n",
      "\n",
      "{'Cost': 2.2288097244692664, 'X_matrix': array([[0.        , 0.08524291, 0.        , 0.        , 0.        ],\n",
      "       [0.04188069, 0.        , 0.        , 0.        , 0.25192521],\n",
      "       [0.04343125, 0.        , 0.        , 0.2888484 , 0.        ],\n",
      "       [0.07287028, 0.        , 0.0345999 , 0.        , 0.        ],\n",
      "       [0.11552342, 0.06567795, 0.        , 0.        , 0.        ]])}\n"
     ]
    },
    {
     "data": {
      "image/png": "[encoded data removed]",
      "text/plain": [
       "<Figure size 720x432 with 1 Axes>"
      ]
     },
     "metadata": {
      "needs_background": "light"
     },
     "output_type": "display_data"
    }
   ],
   "source": [
    "plot_from_sim_paths(\"sim_paths_random_5.pkl\", 0.9)"
   ]
  },
  {
   "cell_type": "code",
   "execution_count": 11,
   "metadata": {
    "scrolled": true
   },
   "outputs": [
    {
     "name": "stdout",
     "output_type": "stream",
     "text": [
      "Expected cost for c = 0 case: 2.944\n",
      "Gurobi Optimizer version 10.0.3 build v10.0.3rc0 (win64)\n",
      "\n",
      "CPU model: Intel(R) Core(TM) i7-8550U CPU @ 1.80GHz, instruction set [SSE2|AVX|AVX2]\n",
      "Thread count: 4 physical cores, 8 logical processors, using up to 8 threads\n",
      "\n",
      "Optimize a model with 10 rows, 25 columns and 50 nonzeros\n",
      "Model fingerprint: 0x835e4b3c\n",
      "Coefficient statistics:\n",
      "  Matrix range     [1e+00, 1e+00]\n",
      "  Objective range  [2e+00, 5e+00]\n",
      "  Bounds range     [1e+00, 1e+00]\n",
      "  RHS range        [3e-02, 3e-01]\n",
      "Presolve time: 0.00s\n",
      "Presolved: 10 rows, 25 columns, 50 nonzeros\n",
      "\n",
      "Iteration    Objective       Primal Inf.    Dual Inf.      Time\n",
      "       0    2.0736091e+00   6.787672e-01   0.000000e+00      0s\n",
      "       5    2.2288097e+00   0.000000e+00   0.000000e+00      0s\n",
      "\n",
      "Solved in 5 iterations and 0.02 seconds (0.00 work units)\n",
      "Optimal objective  2.228809724e+00\n",
      "Objective Value: 2.23\n",
      "x:  [[0.         0.08524291 0.         0.         0.        ]\n",
      " [0.04188069 0.         0.         0.         0.25192521]\n",
      " [0.04343125 0.         0.         0.2888484  0.        ]\n",
      " [0.07287028 0.         0.0345999  0.         0.        ]\n",
      " [0.11552342 0.06567795 0.         0.         0.        ]]\n",
      "\n",
      "Fluid Solution:\n",
      "\n",
      "{'Cost': 2.2288097244692664, 'X_matrix': array([[0.        , 0.08524291, 0.        , 0.        , 0.        ],\n",
      "       [0.04188069, 0.        , 0.        , 0.        , 0.25192521],\n",
      "       [0.04343125, 0.        , 0.        , 0.2888484 , 0.        ],\n",
      "       [0.07287028, 0.        , 0.0345999 , 0.        , 0.        ],\n",
      "       [0.11552342, 0.06567795, 0.        , 0.        , 0.        ]])}\n"
     ]
    },
    {
     "data": {
      "image/png": "[encoded data removed]",
      "text/plain": [
       "<Figure size 720x432 with 1 Axes>"
      ]
     },
     "metadata": {
      "needs_background": "light"
     },
     "output_type": "display_data"
    }
   ],
   "source": [
    "plot_from_sim_paths(\"sim_paths_random_5.pkl\")"
   ]
  },
  {
   "cell_type": "code",
   "execution_count": 15,
   "metadata": {},
   "outputs": [],
   "source": [
    "file_name = '../sim_paths_spatial_4_more_maxweight.pkl'\n",
    "with open(file_name,'rb') as f:\n",
    "    M_res,B_res, N, W, pmf_cust, pmf_serv = pickle.load(f)"
   ]
  },
  {
   "cell_type": "code",
   "execution_count": 16,
   "metadata": {},
   "outputs": [],
   "source": [
    "frac = 0\n",
    "import utils\n",
    "Q_paths_M = M_res[\"Q_paths\"]\n",
    "C_paths_M = M_res[\"C_paths\"]\n",
    "Q_paths_B = B_res[\"Q_paths\"]\n",
    "C_paths_B = B_res[\"C_paths\"]\n",
    "(average_cost_M, average_queue_M) = utils.average_paths(C_paths_M,Q_paths_M)\n",
    "(average_cost_B, average_queue_B) = utils.average_paths(C_paths_B,Q_paths_B)"
   ]
  },
  {
   "cell_type": "code",
   "execution_count": 17,
   "metadata": {},
   "outputs": [
    {
     "data": {
      "text/plain": [
       "array([2.05134056, 2.04314086, 2.04711437, 2.00823716, 1.6390342 ,\n",
       "       1.54269407, 1.16405191, 1.11830597, 0.95766237, 0.86380141,\n",
       "       0.76891823, 0.7076005 , 0.6903933 , 0.62665715, 0.57594168,\n",
       "       0.55016272, 0.53218523, 0.51858648, 0.50610701, 0.48963726,\n",
       "       0.48508205])"
      ]
     },
     "execution_count": 17,
     "metadata": {},
     "output_type": "execute_result"
    }
   ],
   "source": [
    "average_cost_M"
   ]
  },
  {
   "cell_type": "code",
   "execution_count": 18,
   "metadata": {
    "scrolled": true
   },
   "outputs": [
    {
     "data": {
      "text/html": [
       "<div>\n",
       "<style scoped>\n",
       "    .dataframe tbody tr th:only-of-type {\n",
       "        vertical-align: middle;\n",
       "    }\n",
       "\n",
       "    .dataframe tbody tr th {\n",
       "        vertical-align: top;\n",
       "    }\n",
       "\n",
       "    .dataframe thead th {\n",
       "        text-align: right;\n",
       "    }\n",
       "</style>\n",
       "<table border=\"1\" class=\"dataframe\">\n",
       "  <thead>\n",
       "    <tr style=\"text-align: right;\">\n",
       "      <th></th>\n",
       "      <th>alpha_values</th>\n",
       "      <th>average_queue</th>\n",
       "      <th>average_cost</th>\n",
       "    </tr>\n",
       "  </thead>\n",
       "  <tbody>\n",
       "    <tr>\n",
       "      <th>0</th>\n",
       "      <td>0.000</td>\n",
       "      <td>1.00000</td>\n",
       "      <td>2.051341</td>\n",
       "    </tr>\n",
       "    <tr>\n",
       "      <th>1</th>\n",
       "      <td>0.200</td>\n",
       "      <td>1.00000</td>\n",
       "      <td>2.043141</td>\n",
       "    </tr>\n",
       "    <tr>\n",
       "      <th>2</th>\n",
       "      <td>0.250</td>\n",
       "      <td>1.00000</td>\n",
       "      <td>2.047114</td>\n",
       "    </tr>\n",
       "    <tr>\n",
       "      <th>3</th>\n",
       "      <td>0.350</td>\n",
       "      <td>1.02958</td>\n",
       "      <td>2.008237</td>\n",
       "    </tr>\n",
       "    <tr>\n",
       "      <th>4</th>\n",
       "      <td>0.400</td>\n",
       "      <td>1.38767</td>\n",
       "      <td>1.639034</td>\n",
       "    </tr>\n",
       "    <tr>\n",
       "      <th>5</th>\n",
       "      <td>0.450</td>\n",
       "      <td>1.49887</td>\n",
       "      <td>1.542694</td>\n",
       "    </tr>\n",
       "    <tr>\n",
       "      <th>6</th>\n",
       "      <td>0.500</td>\n",
       "      <td>2.28548</td>\n",
       "      <td>1.164052</td>\n",
       "    </tr>\n",
       "    <tr>\n",
       "      <th>7</th>\n",
       "      <td>0.550</td>\n",
       "      <td>2.40674</td>\n",
       "      <td>1.118306</td>\n",
       "    </tr>\n",
       "    <tr>\n",
       "      <th>8</th>\n",
       "      <td>0.600</td>\n",
       "      <td>3.12880</td>\n",
       "      <td>0.957662</td>\n",
       "    </tr>\n",
       "    <tr>\n",
       "      <th>9</th>\n",
       "      <td>0.650</td>\n",
       "      <td>3.85840</td>\n",
       "      <td>0.863801</td>\n",
       "    </tr>\n",
       "    <tr>\n",
       "      <th>10</th>\n",
       "      <td>0.675</td>\n",
       "      <td>5.41479</td>\n",
       "      <td>0.768918</td>\n",
       "    </tr>\n",
       "    <tr>\n",
       "      <th>11</th>\n",
       "      <td>0.700</td>\n",
       "      <td>6.16884</td>\n",
       "      <td>0.707600</td>\n",
       "    </tr>\n",
       "    <tr>\n",
       "      <th>12</th>\n",
       "      <td>0.725</td>\n",
       "      <td>6.79943</td>\n",
       "      <td>0.690393</td>\n",
       "    </tr>\n",
       "    <tr>\n",
       "      <th>13</th>\n",
       "      <td>0.750</td>\n",
       "      <td>8.85233</td>\n",
       "      <td>0.626657</td>\n",
       "    </tr>\n",
       "    <tr>\n",
       "      <th>14</th>\n",
       "      <td>0.800</td>\n",
       "      <td>12.30021</td>\n",
       "      <td>0.575942</td>\n",
       "    </tr>\n",
       "    <tr>\n",
       "      <th>15</th>\n",
       "      <td>0.825</td>\n",
       "      <td>14.23250</td>\n",
       "      <td>0.550163</td>\n",
       "    </tr>\n",
       "    <tr>\n",
       "      <th>16</th>\n",
       "      <td>0.850</td>\n",
       "      <td>17.99977</td>\n",
       "      <td>0.532185</td>\n",
       "    </tr>\n",
       "    <tr>\n",
       "      <th>17</th>\n",
       "      <td>0.875</td>\n",
       "      <td>23.70648</td>\n",
       "      <td>0.518586</td>\n",
       "    </tr>\n",
       "    <tr>\n",
       "      <th>18</th>\n",
       "      <td>0.900</td>\n",
       "      <td>32.52394</td>\n",
       "      <td>0.506107</td>\n",
       "    </tr>\n",
       "    <tr>\n",
       "      <th>19</th>\n",
       "      <td>0.925</td>\n",
       "      <td>45.88602</td>\n",
       "      <td>0.489637</td>\n",
       "    </tr>\n",
       "    <tr>\n",
       "      <th>20</th>\n",
       "      <td>0.950</td>\n",
       "      <td>74.57511</td>\n",
       "      <td>0.485082</td>\n",
       "    </tr>\n",
       "  </tbody>\n",
       "</table>\n",
       "</div>"
      ],
      "text/plain": [
       "    alpha_values  average_queue  average_cost\n",
       "0          0.000        1.00000      2.051341\n",
       "1          0.200        1.00000      2.043141\n",
       "2          0.250        1.00000      2.047114\n",
       "3          0.350        1.02958      2.008237\n",
       "4          0.400        1.38767      1.639034\n",
       "5          0.450        1.49887      1.542694\n",
       "6          0.500        2.28548      1.164052\n",
       "7          0.550        2.40674      1.118306\n",
       "8          0.600        3.12880      0.957662\n",
       "9          0.650        3.85840      0.863801\n",
       "10         0.675        5.41479      0.768918\n",
       "11         0.700        6.16884      0.707600\n",
       "12         0.725        6.79943      0.690393\n",
       "13         0.750        8.85233      0.626657\n",
       "14         0.800       12.30021      0.575942\n",
       "15         0.825       14.23250      0.550163\n",
       "16         0.850       17.99977      0.532185\n",
       "17         0.875       23.70648      0.518586\n",
       "18         0.900       32.52394      0.506107\n",
       "19         0.925       45.88602      0.489637\n",
       "20         0.950       74.57511      0.485082"
      ]
     },
     "metadata": {},
     "output_type": "display_data"
    }
   ],
   "source": [
    "import pandas as pd\n",
    "alpha_values = alpha_values = np.asarray( [0, 0.2, 0.25, 0.35, 0.4, 0.45, 0.5, 0.55, 0.6, 0.65, 0.675, 0.7, 0.725, 0.75, 0.8, 0.825, 0.85, 0.875,  0.9, 0.925, 0.95] )\n",
    "maxweight = pd.DataFrame({'average_queue': average_queue_M, 'average_cost': list(average_cost_M)}, columns=['average_queue', 'average_cost'])\n",
    "maxweight['alpha_values'] = alpha_values\n",
    "maxweight = maxweight[['alpha_values', 'average_queue', 'average_cost']]\n",
    "display(maxweight)"
   ]
  },
  {
   "cell_type": "code",
   "execution_count": 23,
   "metadata": {},
   "outputs": [],
   "source": [
    "alpha_values = np.asarray( [0, 0.2, 0.25, 0.35, 0.4, 0.45, 0.5, 0.55, 0.6, 0.65, 0.7, 0.8,0.9,0.95] )"
   ]
  },
  {
   "cell_type": "code",
   "execution_count": 24,
   "metadata": {},
   "outputs": [
    {
     "data": {
      "text/plain": [
       "(14,)"
      ]
     },
     "execution_count": 24,
     "metadata": {},
     "output_type": "execute_result"
    }
   ],
   "source": [
    "alpha_values.shape"
   ]
  },
  {
   "cell_type": "code",
   "execution_count": 25,
   "metadata": {},
   "outputs": [
    {
     "name": "stdout",
     "output_type": "stream",
     "text": [
      "Expected cost for c = 0 case: 2.046\n",
      "Gurobi Optimizer version 10.0.3 build v10.0.3rc0 (win64)\n",
      "\n",
      "CPU model: Intel(R) Core(TM) i7-8550U CPU @ 1.80GHz, instruction set [SSE2|AVX|AVX2]\n",
      "Thread count: 4 physical cores, 8 logical processors, using up to 8 threads\n",
      "\n",
      "Optimize a model with 32 rows, 256 columns and 512 nonzeros\n",
      "Model fingerprint: 0x6c0eaa24\n",
      "Coefficient statistics:\n",
      "  Matrix range     [1e+00, 1e+00]\n",
      "  Objective range  [1e+00, 4e+00]\n",
      "  Bounds range     [1e+00, 1e+00]\n",
      "  RHS range        [1e-03, 2e-01]\n",
      "Presolve time: 0.03s\n",
      "Presolved: 32 rows, 256 columns, 512 nonzeros\n",
      "\n",
      "Iteration    Objective       Primal Inf.    Dual Inf.      Time\n",
      "       0    0.0000000e+00   6.438740e-01   0.000000e+00      0s\n",
      "      21    4.7543473e-01   0.000000e+00   0.000000e+00      0s\n",
      "\n",
      "Solved in 21 iterations and 0.05 seconds (0.00 work units)\n",
      "Optimal objective  4.754347292e-01\n",
      "Objective Value: 0.48\n",
      "x:  [[0.01109994 0.00939293 0.         0.         0.         0.\n",
      "  0.         0.         0.01212069 0.         0.         0.\n",
      "  0.02522285 0.         0.         0.        ]\n",
      " [0.         0.11037705 0.         0.         0.         0.\n",
      "  0.         0.         0.         0.         0.         0.\n",
      "  0.         0.         0.         0.        ]\n",
      " [0.         0.05098951 0.0667131  0.         0.         0.\n",
      "  0.         0.         0.         0.         0.         0.\n",
      "  0.         0.         0.         0.        ]\n",
      " [0.         0.         0.01129884 0.00724217 0.         0.\n",
      "  0.0126397  0.03262725 0.         0.         0.03322884 0.\n",
      "  0.         0.         0.         0.        ]\n",
      " [0.         0.         0.         0.         0.02068965 0.\n",
      "  0.         0.         0.0103878  0.         0.         0.\n",
      "  0.         0.         0.         0.        ]\n",
      " [0.         0.         0.         0.         0.         0.04387873\n",
      "  0.         0.         0.         0.02556005 0.         0.\n",
      "  0.00029488 0.         0.         0.        ]\n",
      " [0.         0.         0.         0.         0.         0.\n",
      "  0.05793314 0.         0.         0.         0.         0.\n",
      "  0.         0.         0.         0.        ]\n",
      " [0.         0.         0.         0.         0.         0.\n",
      "  0.         0.00098626 0.         0.         0.         0.\n",
      "  0.         0.         0.         0.        ]\n",
      " [0.         0.         0.         0.         0.         0.\n",
      "  0.         0.         0.01243352 0.         0.         0.\n",
      "  0.         0.         0.         0.        ]\n",
      " [0.         0.         0.         0.         0.         0.\n",
      "  0.         0.         0.         0.0505967  0.         0.\n",
      "  0.         0.         0.         0.        ]\n",
      " [0.         0.         0.         0.         0.         0.\n",
      "  0.         0.         0.         0.         0.02493502 0.\n",
      "  0.         0.         0.         0.        ]\n",
      " [0.         0.         0.         0.         0.         0.\n",
      "  0.         0.         0.         0.         0.         0.05760885\n",
      "  0.         0.         0.         0.00702853]\n",
      " [0.         0.         0.         0.         0.         0.\n",
      "  0.         0.         0.         0.         0.         0.\n",
      "  0.05670006 0.         0.         0.        ]\n",
      " [0.         0.         0.         0.         0.         0.\n",
      "  0.         0.         0.         0.         0.         0.\n",
      "  0.02826022 0.07615195 0.         0.        ]\n",
      " [0.         0.         0.         0.         0.         0.\n",
      "  0.         0.         0.         0.         0.         0.\n",
      "  0.03295937 0.         0.00129312 0.04122438]\n",
      " [0.         0.         0.         0.         0.         0.\n",
      "  0.         0.         0.         0.         0.         0.\n",
      "  0.         0.         0.         0.06812489]]\n",
      "\n",
      "Fluid Solution:\n",
      "\n",
      "{'Cost': 0.47543472920175167, 'X_matrix': array([[0.01109994, 0.00939293, 0.        , 0.        , 0.        ,\n",
      "        0.        , 0.        , 0.        , 0.01212069, 0.        ,\n",
      "        0.        , 0.        , 0.02522285, 0.        , 0.        ,\n",
      "        0.        ],\n",
      "       [0.        , 0.11037705, 0.        , 0.        , 0.        ,\n",
      "        0.        , 0.        , 0.        , 0.        , 0.        ,\n",
      "        0.        , 0.        , 0.        , 0.        , 0.        ,\n",
      "        0.        ],\n",
      "       [0.        , 0.05098951, 0.0667131 , 0.        , 0.        ,\n",
      "        0.        , 0.        , 0.        , 0.        , 0.        ,\n",
      "        0.        , 0.        , 0.        , 0.        , 0.        ,\n",
      "        0.        ],\n",
      "       [0.        , 0.        , 0.01129884, 0.00724217, 0.        ,\n",
      "        0.        , 0.0126397 , 0.03262725, 0.        , 0.        ,\n",
      "        0.03322884, 0.        , 0.        , 0.        , 0.        ,\n",
      "        0.        ],\n",
      "       [0.        , 0.        , 0.        , 0.        , 0.02068965,\n",
      "        0.        , 0.        , 0.        , 0.0103878 , 0.        ,\n",
      "        0.        , 0.        , 0.        , 0.        , 0.        ,\n",
      "        0.        ],\n",
      "       [0.        , 0.        , 0.        , 0.        , 0.        ,\n",
      "        0.04387873, 0.        , 0.        , 0.        , 0.02556005,\n",
      "        0.        , 0.        , 0.00029488, 0.        , 0.        ,\n",
      "        0.        ],\n",
      "       [0.        , 0.        , 0.        , 0.        , 0.        ,\n",
      "        0.        , 0.05793314, 0.        , 0.        , 0.        ,\n",
      "        0.        , 0.        , 0.        , 0.        , 0.        ,\n",
      "        0.        ],\n",
      "       [0.        , 0.        , 0.        , 0.        , 0.        ,\n",
      "        0.        , 0.        , 0.00098626, 0.        , 0.        ,\n",
      "        0.        , 0.        , 0.        , 0.        , 0.        ,\n",
      "        0.        ],\n",
      "       [0.        , 0.        , 0.        , 0.        , 0.        ,\n",
      "        0.        , 0.        , 0.        , 0.01243352, 0.        ,\n",
      "        0.        , 0.        , 0.        , 0.        , 0.        ,\n",
      "        0.        ],\n",
      "       [0.        , 0.        , 0.        , 0.        , 0.        ,\n",
      "        0.        , 0.        , 0.        , 0.        , 0.0505967 ,\n",
      "        0.        , 0.        , 0.        , 0.        , 0.        ,\n",
      "        0.        ],\n",
      "       [0.        , 0.        , 0.        , 0.        , 0.        ,\n",
      "        0.        , 0.        , 0.        , 0.        , 0.        ,\n",
      "        0.02493502, 0.        , 0.        , 0.        , 0.        ,\n",
      "        0.        ],\n",
      "       [0.        , 0.        , 0.        , 0.        , 0.        ,\n",
      "        0.        , 0.        , 0.        , 0.        , 0.        ,\n",
      "        0.        , 0.05760885, 0.        , 0.        , 0.        ,\n",
      "        0.00702853],\n",
      "       [0.        , 0.        , 0.        , 0.        , 0.        ,\n",
      "        0.        , 0.        , 0.        , 0.        , 0.        ,\n",
      "        0.        , 0.        , 0.05670006, 0.        , 0.        ,\n",
      "        0.        ],\n",
      "       [0.        , 0.        , 0.        , 0.        , 0.        ,\n",
      "        0.        , 0.        , 0.        , 0.        , 0.        ,\n",
      "        0.        , 0.        , 0.02826022, 0.07615195, 0.        ,\n",
      "        0.        ],\n",
      "       [0.        , 0.        , 0.        , 0.        , 0.        ,\n",
      "        0.        , 0.        , 0.        , 0.        , 0.        ,\n",
      "        0.        , 0.        , 0.03295937, 0.        , 0.00129312,\n",
      "        0.04122438],\n",
      "       [0.        , 0.        , 0.        , 0.        , 0.        ,\n",
      "        0.        , 0.        , 0.        , 0.        , 0.        ,\n",
      "        0.        , 0.        , 0.        , 0.        , 0.        ,\n",
      "        0.06812489]])}\n"
     ]
    },
    {
     "data": {
      "image/png": "[encoded data removed]",
      "text/plain": [
       "<Figure size 720x432 with 1 Axes>"
      ]
     },
     "metadata": {
      "needs_background": "light"
     },
     "output_type": "display_data"
    }
   ],
   "source": [
    "plot_from_sim_paths('sim_paths_spatial_4_more_maxweight.pkl')"
   ]
  },
  {
   "cell_type": "code",
   "execution_count": 9,
   "metadata": {},
   "outputs": [
    {
     "data": {
      "text/plain": [
       "array([0.01109994, 0.1707595 , 0.07801194, 0.00724217, 0.02068965,\n",
       "       0.04387873, 0.07057284, 0.03361351, 0.03494201, 0.07615675,\n",
       "       0.05816386, 0.05760885, 0.14343739, 0.07615195, 0.00129312,\n",
       "       0.1163778 ])"
      ]
     },
     "execution_count": 9,
     "metadata": {},
     "output_type": "execute_result"
    }
   ],
   "source": [
    "pmf_serv"
   ]
  },
  {
   "cell_type": "code",
   "execution_count": 4,
   "metadata": {},
   "outputs": [
    {
     "name": "stdout",
     "output_type": "stream",
     "text": [
      "Expected cost for c = 0 case: 2.053\n",
      "Set parameter Username\n",
      "Academic license - for non-commercial use only - expires 2024-09-03\n",
      "Gurobi Optimizer version 10.0.3 build v10.0.3rc0 (win64)\n",
      "\n",
      "CPU model: Intel(R) Core(TM) i7-8550U CPU @ 1.80GHz, instruction set [SSE2|AVX|AVX2]\n",
      "Thread count: 4 physical cores, 8 logical processors, using up to 8 threads\n",
      "\n",
      "Optimize a model with 32 rows, 256 columns and 512 nonzeros\n",
      "Model fingerprint: 0xcd695ad1\n",
      "Coefficient statistics:\n",
      "  Matrix range     [1e+00, 1e+00]\n",
      "  Objective range  [1e+00, 4e+00]\n",
      "  Bounds range     [1e+00, 1e+00]\n",
      "  RHS range        [2e-03, 1e-01]\n",
      "Presolve time: 0.03s\n",
      "Presolved: 32 rows, 256 columns, 512 nonzeros\n",
      "\n",
      "Iteration    Objective       Primal Inf.    Dual Inf.      Time\n",
      "       0    0.0000000e+00   5.291625e-01   0.000000e+00      0s\n",
      "      22    4.6844441e-01   0.000000e+00   0.000000e+00      0s\n",
      "\n",
      "Solved in 22 iterations and 0.05 seconds (0.00 work units)\n",
      "Optimal objective  4.684444113e-01\n",
      "Objective Value: 0.47\n",
      "x:  [[0.0079288  0.         0.         0.         0.04791917 0.\n",
      "  0.         0.03736686 0.         0.         0.         0.\n",
      "  0.         0.         0.         0.        ]\n",
      " [0.         0.07887512 0.         0.02002304 0.         0.\n",
      "  0.         0.010687   0.         0.         0.         0.\n",
      "  0.         0.         0.         0.        ]\n",
      " [0.         0.         0.0024633  0.00167678 0.         0.\n",
      "  0.         0.         0.         0.         0.         0.\n",
      "  0.         0.         0.         0.        ]\n",
      " [0.         0.         0.         0.09283723 0.         0.\n",
      "  0.         0.         0.         0.         0.         0.\n",
      "  0.         0.         0.         0.        ]\n",
      " [0.         0.         0.         0.         0.06721505 0.\n",
      "  0.         0.         0.         0.         0.         0.\n",
      "  0.         0.         0.         0.        ]\n",
      " [0.         0.         0.         0.         0.         0.04860185\n",
      "  0.02242724 0.         0.         0.         0.01827945 0.\n",
      "  0.         0.         0.         0.        ]\n",
      " [0.         0.         0.         0.         0.         0.\n",
      "  0.01778982 0.06014514 0.         0.         0.         0.\n",
      "  0.         0.         0.         0.        ]\n",
      " [0.         0.         0.         0.         0.         0.\n",
      "  0.         0.00464118 0.         0.         0.         0.\n",
      "  0.         0.         0.         0.        ]\n",
      " [0.         0.         0.         0.         0.         0.\n",
      "  0.         0.         0.02379985 0.         0.         0.\n",
      "  0.0075023  0.         0.         0.        ]\n",
      " [0.         0.         0.         0.         0.         0.\n",
      "  0.         0.         0.         0.06089401 0.         0.\n",
      "  0.         0.         0.         0.0230558 ]\n",
      " [0.         0.         0.         0.         0.         0.\n",
      "  0.         0.         0.         0.         0.04290138 0.\n",
      "  0.         0.         0.         0.01427039]\n",
      " [0.         0.         0.         0.         0.         0.\n",
      "  0.         0.         0.         0.         0.         0.09891412\n",
      "  0.         0.         0.         0.0008203 ]\n",
      " [0.         0.         0.         0.         0.         0.\n",
      "  0.         0.         0.         0.         0.         0.\n",
      "  0.06721596 0.         0.         0.        ]\n",
      " [0.         0.         0.         0.         0.         0.\n",
      "  0.         0.         0.         0.         0.         0.\n",
      "  0.01647389 0.03157025 0.01477014 0.00586139]\n",
      " [0.         0.         0.         0.         0.         0.\n",
      "  0.         0.         0.         0.         0.         0.\n",
      "  0.         0.         0.         0.00529258]\n",
      " [0.         0.         0.         0.         0.         0.\n",
      "  0.         0.         0.         0.         0.         0.\n",
      "  0.         0.         0.         0.04778059]]\n",
      "\n",
      "Fluid Solution:\n",
      "\n",
      "{'Cost': 0.4684444113382702, 'X_matrix': array([[0.0079288 , 0.        , 0.        , 0.        , 0.04791917,\n",
      "        0.        , 0.        , 0.03736686, 0.        , 0.        ,\n",
      "        0.        , 0.        , 0.        , 0.        , 0.        ,\n",
      "        0.        ],\n",
      "       [0.        , 0.07887512, 0.        , 0.02002304, 0.        ,\n",
      "        0.        , 0.        , 0.010687  , 0.        , 0.        ,\n",
      "        0.        , 0.        , 0.        , 0.        , 0.        ,\n",
      "        0.        ],\n",
      "       [0.        , 0.        , 0.0024633 , 0.00167678, 0.        ,\n",
      "        0.        , 0.        , 0.        , 0.        , 0.        ,\n",
      "        0.        , 0.        , 0.        , 0.        , 0.        ,\n",
      "        0.        ],\n",
      "       [0.        , 0.        , 0.        , 0.09283723, 0.        ,\n",
      "        0.        , 0.        , 0.        , 0.        , 0.        ,\n",
      "        0.        , 0.        , 0.        , 0.        , 0.        ,\n",
      "        0.        ],\n",
      "       [0.        , 0.        , 0.        , 0.        , 0.06721505,\n",
      "        0.        , 0.        , 0.        , 0.        , 0.        ,\n",
      "        0.        , 0.        , 0.        , 0.        , 0.        ,\n",
      "        0.        ],\n",
      "       [0.        , 0.        , 0.        , 0.        , 0.        ,\n",
      "        0.04860185, 0.02242724, 0.        , 0.        , 0.        ,\n",
      "        0.01827945, 0.        , 0.        , 0.        , 0.        ,\n",
      "        0.        ],\n",
      "       [0.        , 0.        , 0.        , 0.        , 0.        ,\n",
      "        0.        , 0.01778982, 0.06014514, 0.        , 0.        ,\n",
      "        0.        , 0.        , 0.        , 0.        , 0.        ,\n",
      "        0.        ],\n",
      "       [0.        , 0.        , 0.        , 0.        , 0.        ,\n",
      "        0.        , 0.        , 0.00464118, 0.        , 0.        ,\n",
      "        0.        , 0.        , 0.        , 0.        , 0.        ,\n",
      "        0.        ],\n",
      "       [0.        , 0.        , 0.        , 0.        , 0.        ,\n",
      "        0.        , 0.        , 0.        , 0.02379985, 0.        ,\n",
      "        0.        , 0.        , 0.0075023 , 0.        , 0.        ,\n",
      "        0.        ],\n",
      "       [0.        , 0.        , 0.        , 0.        , 0.        ,\n",
      "        0.        , 0.        , 0.        , 0.        , 0.06089401,\n",
      "        0.        , 0.        , 0.        , 0.        , 0.        ,\n",
      "        0.0230558 ],\n",
      "       [0.        , 0.        , 0.        , 0.        , 0.        ,\n",
      "        0.        , 0.        , 0.        , 0.        , 0.        ,\n",
      "        0.04290138, 0.        , 0.        , 0.        , 0.        ,\n",
      "        0.01427039],\n",
      "       [0.        , 0.        , 0.        , 0.        , 0.        ,\n",
      "        0.        , 0.        , 0.        , 0.        , 0.        ,\n",
      "        0.        , 0.09891412, 0.        , 0.        , 0.        ,\n",
      "        0.0008203 ],\n",
      "       [0.        , 0.        , 0.        , 0.        , 0.        ,\n",
      "        0.        , 0.        , 0.        , 0.        , 0.        ,\n",
      "        0.        , 0.        , 0.06721596, 0.        , 0.        ,\n",
      "        0.        ],\n",
      "       [0.        , 0.        , 0.        , 0.        , 0.        ,\n",
      "        0.        , 0.        , 0.        , 0.        , 0.        ,\n",
      "        0.        , 0.        , 0.01647389, 0.03157025, 0.01477014,\n",
      "        0.00586139],\n",
      "       [0.        , 0.        , 0.        , 0.        , 0.        ,\n",
      "        0.        , 0.        , 0.        , 0.        , 0.        ,\n",
      "        0.        , 0.        , 0.        , 0.        , 0.        ,\n",
      "        0.00529258],\n",
      "       [0.        , 0.        , 0.        , 0.        , 0.        ,\n",
      "        0.        , 0.        , 0.        , 0.        , 0.        ,\n",
      "        0.        , 0.        , 0.        , 0.        , 0.        ,\n",
      "        0.04778059]])}\n"
     ]
    },
    {
     "data": {
      "image/png": "[encoded data removed]",
      "text/plain": [
       "<Figure size 720x432 with 1 Axes>"
      ]
     },
     "metadata": {
      "needs_background": "light"
     },
     "output_type": "display_data"
    }
   ],
   "source": [
    "plot_from_sim_paths('../sim_paths_spatial_4.pkl')"
   ]
  },
  {
   "cell_type": "code",
   "execution_count": 36,
   "metadata": {},
   "outputs": [
    {
     "name": "stdout",
     "output_type": "stream",
     "text": [
      "Expected cost for c = 0 case: 2.046\n",
      "Gurobi Optimizer version 10.0.3 build v10.0.3rc0 (win64)\n",
      "\n",
      "CPU model: Intel(R) Core(TM) i7-8550U CPU @ 1.80GHz, instruction set [SSE2|AVX|AVX2]\n",
      "Thread count: 4 physical cores, 8 logical processors, using up to 8 threads\n",
      "\n",
      "Optimize a model with 32 rows, 256 columns and 512 nonzeros\n",
      "Model fingerprint: 0x6c0eaa24\n",
      "Coefficient statistics:\n",
      "  Matrix range     [1e+00, 1e+00]\n",
      "  Objective range  [1e+00, 4e+00]\n",
      "  Bounds range     [1e+00, 1e+00]\n",
      "  RHS range        [1e-03, 2e-01]\n",
      "Presolve time: 0.00s\n",
      "Presolved: 32 rows, 256 columns, 512 nonzeros\n",
      "\n",
      "Iteration    Objective       Primal Inf.    Dual Inf.      Time\n",
      "       0    0.0000000e+00   6.438740e-01   0.000000e+00      0s\n",
      "      21    4.7543473e-01   0.000000e+00   0.000000e+00      0s\n",
      "\n",
      "Solved in 21 iterations and 0.01 seconds (0.00 work units)\n",
      "Optimal objective  4.754347292e-01\n",
      "Objective Value: 0.48\n",
      "x:  [[0.01109994 0.00939293 0.         0.         0.         0.\n",
      "  0.         0.         0.01212069 0.         0.         0.\n",
      "  0.02522285 0.         0.         0.        ]\n",
      " [0.         0.11037705 0.         0.         0.         0.\n",
      "  0.         0.         0.         0.         0.         0.\n",
      "  0.         0.         0.         0.        ]\n",
      " [0.         0.05098951 0.0667131  0.         0.         0.\n",
      "  0.         0.         0.         0.         0.         0.\n",
      "  0.         0.         0.         0.        ]\n",
      " [0.         0.         0.01129884 0.00724217 0.         0.\n",
      "  0.0126397  0.03262725 0.         0.         0.03322884 0.\n",
      "  0.         0.         0.         0.        ]\n",
      " [0.         0.         0.         0.         0.02068965 0.\n",
      "  0.         0.         0.0103878  0.         0.         0.\n",
      "  0.         0.         0.         0.        ]\n",
      " [0.         0.         0.         0.         0.         0.04387873\n",
      "  0.         0.         0.         0.02556005 0.         0.\n",
      "  0.00029488 0.         0.         0.        ]\n",
      " [0.         0.         0.         0.         0.         0.\n",
      "  0.05793314 0.         0.         0.         0.         0.\n",
      "  0.         0.         0.         0.        ]\n",
      " [0.         0.         0.         0.         0.         0.\n",
      "  0.         0.00098626 0.         0.         0.         0.\n",
      "  0.         0.         0.         0.        ]\n",
      " [0.         0.         0.         0.         0.         0.\n",
      "  0.         0.         0.01243352 0.         0.         0.\n",
      "  0.         0.         0.         0.        ]\n",
      " [0.         0.         0.         0.         0.         0.\n",
      "  0.         0.         0.         0.0505967  0.         0.\n",
      "  0.         0.         0.         0.        ]\n",
      " [0.         0.         0.         0.         0.         0.\n",
      "  0.         0.         0.         0.         0.02493502 0.\n",
      "  0.         0.         0.         0.        ]\n",
      " [0.         0.         0.         0.         0.         0.\n",
      "  0.         0.         0.         0.         0.         0.05760885\n",
      "  0.         0.         0.         0.00702853]\n",
      " [0.         0.         0.         0.         0.         0.\n",
      "  0.         0.         0.         0.         0.         0.\n",
      "  0.05670006 0.         0.         0.        ]\n",
      " [0.         0.         0.         0.         0.         0.\n",
      "  0.         0.         0.         0.         0.         0.\n",
      "  0.02826022 0.07615195 0.         0.        ]\n",
      " [0.         0.         0.         0.         0.         0.\n",
      "  0.         0.         0.         0.         0.         0.\n",
      "  0.03295937 0.         0.00129312 0.04122438]\n",
      " [0.         0.         0.         0.         0.         0.\n",
      "  0.         0.         0.         0.         0.         0.\n",
      "  0.         0.         0.         0.06812489]]\n",
      "\n",
      "Fluid Solution:\n",
      "\n",
      "{'Cost': 0.47543472920175167, 'X_matrix': array([[0.01109994, 0.00939293, 0.        , 0.        , 0.        ,\n",
      "        0.        , 0.        , 0.        , 0.01212069, 0.        ,\n",
      "        0.        , 0.        , 0.02522285, 0.        , 0.        ,\n",
      "        0.        ],\n",
      "       [0.        , 0.11037705, 0.        , 0.        , 0.        ,\n",
      "        0.        , 0.        , 0.        , 0.        , 0.        ,\n",
      "        0.        , 0.        , 0.        , 0.        , 0.        ,\n",
      "        0.        ],\n",
      "       [0.        , 0.05098951, 0.0667131 , 0.        , 0.        ,\n",
      "        0.        , 0.        , 0.        , 0.        , 0.        ,\n",
      "        0.        , 0.        , 0.        , 0.        , 0.        ,\n",
      "        0.        ],\n",
      "       [0.        , 0.        , 0.01129884, 0.00724217, 0.        ,\n",
      "        0.        , 0.0126397 , 0.03262725, 0.        , 0.        ,\n",
      "        0.03322884, 0.        , 0.        , 0.        , 0.        ,\n",
      "        0.        ],\n",
      "       [0.        , 0.        , 0.        , 0.        , 0.02068965,\n",
      "        0.        , 0.        , 0.        , 0.0103878 , 0.        ,\n",
      "        0.        , 0.        , 0.        , 0.        , 0.        ,\n",
      "        0.        ],\n",
      "       [0.        , 0.        , 0.        , 0.        , 0.        ,\n",
      "        0.04387873, 0.        , 0.        , 0.        , 0.02556005,\n",
      "        0.        , 0.        , 0.00029488, 0.        , 0.        ,\n",
      "        0.        ],\n",
      "       [0.        , 0.        , 0.        , 0.        , 0.        ,\n",
      "        0.        , 0.05793314, 0.        , 0.        , 0.        ,\n",
      "        0.        , 0.        , 0.        , 0.        , 0.        ,\n",
      "        0.        ],\n",
      "       [0.        , 0.        , 0.        , 0.        , 0.        ,\n",
      "        0.        , 0.        , 0.00098626, 0.        , 0.        ,\n",
      "        0.        , 0.        , 0.        , 0.        , 0.        ,\n",
      "        0.        ],\n",
      "       [0.        , 0.        , 0.        , 0.        , 0.        ,\n",
      "        0.        , 0.        , 0.        , 0.01243352, 0.        ,\n",
      "        0.        , 0.        , 0.        , 0.        , 0.        ,\n",
      "        0.        ],\n",
      "       [0.        , 0.        , 0.        , 0.        , 0.        ,\n",
      "        0.        , 0.        , 0.        , 0.        , 0.0505967 ,\n",
      "        0.        , 0.        , 0.        , 0.        , 0.        ,\n",
      "        0.        ],\n",
      "       [0.        , 0.        , 0.        , 0.        , 0.        ,\n",
      "        0.        , 0.        , 0.        , 0.        , 0.        ,\n",
      "        0.02493502, 0.        , 0.        , 0.        , 0.        ,\n",
      "        0.        ],\n",
      "       [0.        , 0.        , 0.        , 0.        , 0.        ,\n",
      "        0.        , 0.        , 0.        , 0.        , 0.        ,\n",
      "        0.        , 0.05760885, 0.        , 0.        , 0.        ,\n",
      "        0.00702853],\n",
      "       [0.        , 0.        , 0.        , 0.        , 0.        ,\n",
      "        0.        , 0.        , 0.        , 0.        , 0.        ,\n",
      "        0.        , 0.        , 0.05670006, 0.        , 0.        ,\n",
      "        0.        ],\n",
      "       [0.        , 0.        , 0.        , 0.        , 0.        ,\n",
      "        0.        , 0.        , 0.        , 0.        , 0.        ,\n",
      "        0.        , 0.        , 0.02826022, 0.07615195, 0.        ,\n",
      "        0.        ],\n",
      "       [0.        , 0.        , 0.        , 0.        , 0.        ,\n",
      "        0.        , 0.        , 0.        , 0.        , 0.        ,\n",
      "        0.        , 0.        , 0.03295937, 0.        , 0.00129312,\n",
      "        0.04122438],\n",
      "       [0.        , 0.        , 0.        , 0.        , 0.        ,\n",
      "        0.        , 0.        , 0.        , 0.        , 0.        ,\n",
      "        0.        , 0.        , 0.        , 0.        , 0.        ,\n",
      "        0.06812489]])}\n"
     ]
    }
   ],
   "source": [
    "frac = 0\n",
    "with open('../sim_paths_spatial_4_more_maxweight.pkl','rb') as f:\n",
    "    M_res,B_res, N, W, pmf_cust, pmf_serv = pickle.load(f)\n",
    "Q_paths_M = M_res[\"Q_paths\"]\n",
    "C_paths_M = M_res[\"C_paths\"]\n",
    "Q_paths_B = B_res[\"Q_paths\"]\n",
    "C_paths_B = B_res[\"C_paths\"]\n",
    "(average_cost_M, average_queue_M) = utils.average_paths(C_paths_M,Q_paths_M, frac)\n",
    "(average_cost_B, average_queue_B) = utils.average_paths(C_paths_B,Q_paths_B, frac)\n",
    "[Ex,fluid_sol] = run_extremes(N,W,pmf_cust,pmf_serv)\n",
    "with open('../sim_paths_spatial_rem.pkl','rb') as f:\n",
    "    M_res,B_res, N, W, pmf_cust, pmf_serv = pickle.load(f)\n",
    "Q_paths_M = M_res[\"Q_paths\"]\n",
    "C_paths_M = M_res[\"C_paths\"]\n",
    "Q_paths_B = B_res[\"Q_paths\"]\n",
    "C_paths_B = B_res[\"C_paths\"]\n",
    "(average_cost_M2, average_queue_M2) = utils.average_paths(C_paths_M,Q_paths_M, frac)\n",
    "(average_cost_B2, average_queue_B2) = utils.average_paths(C_paths_B,Q_paths_B, frac)\n",
    "with open('../sim_paths_spatial_4_extras.pkl','rb') as f:\n",
    "    M_res,B_res, N, W, pmf_cust, pmf_serv = pickle.load(f)\n",
    "Q_paths_M = M_res[\"Q_paths\"]\n",
    "C_paths_M = M_res[\"C_paths\"]\n",
    "Q_paths_B = B_res[\"Q_paths\"]\n",
    "C_paths_B = B_res[\"C_paths\"]\n",
    "(average_cost_M3, average_queue_M3) = utils.average_paths(C_paths_M,Q_paths_M, frac)\n",
    "(average_cost_B3, average_queue_B3) = utils.average_paths(C_paths_B,Q_paths_B, frac)"
   ]
  },
  {
   "cell_type": "code",
   "execution_count": 37,
   "metadata": {},
   "outputs": [
    {
     "data": {
      "image/png": "[encoded data removed]",
      "text/plain": [
       "<Figure size 720x432 with 1 Axes>"
      ]
     },
     "metadata": {
      "needs_background": "light"
     },
     "output_type": "display_data"
    }
   ],
   "source": [
    "avg_cost_M = np.concatenate( (average_cost_M, average_cost_M2, average_cost_M3) )\n",
    "avg_queue_M = np.concatenate( (average_queue_M, average_queue_M2, average_queue_M3) )\n",
    "avg_cost_B = np.concatenate( (average_cost_B, average_cost_B2) )\n",
    "avg_queue_B = np.concatenate( (average_queue_B, average_queue_B2) )\n",
    "utils.qc_plot(Ex,fluid_sol,avg_queue_B,avg_cost_B,avg_queue_M,avg_cost_M)"
   ]
  },
  {
   "cell_type": "code",
   "execution_count": 48,
   "metadata": {},
   "outputs": [
    {
     "name": "stdout",
     "output_type": "stream",
     "text": [
      "Expected cost for c = 0 case: 2.046\n",
      "Gurobi Optimizer version 10.0.3 build v10.0.3rc0 (win64)\n",
      "\n",
      "CPU model: Intel(R) Core(TM) i7-8550U CPU @ 1.80GHz, instruction set [SSE2|AVX|AVX2]\n",
      "Thread count: 4 physical cores, 8 logical processors, using up to 8 threads\n",
      "\n",
      "Optimize a model with 32 rows, 256 columns and 512 nonzeros\n",
      "Model fingerprint: 0x6c0eaa24\n",
      "Coefficient statistics:\n",
      "  Matrix range     [1e+00, 1e+00]\n",
      "  Objective range  [1e+00, 4e+00]\n",
      "  Bounds range     [1e+00, 1e+00]\n",
      "  RHS range        [1e-03, 2e-01]\n",
      "Presolve time: 0.01s\n",
      "Presolved: 32 rows, 256 columns, 512 nonzeros\n",
      "\n",
      "Iteration    Objective       Primal Inf.    Dual Inf.      Time\n",
      "       0    0.0000000e+00   6.438740e-01   0.000000e+00      0s\n",
      "      21    4.7543473e-01   0.000000e+00   0.000000e+00      0s\n",
      "\n",
      "Solved in 21 iterations and 0.01 seconds (0.00 work units)\n",
      "Optimal objective  4.754347292e-01\n",
      "Objective Value: 0.48\n",
      "x:  [[0.01109994 0.00939293 0.         0.         0.         0.\n",
      "  0.         0.         0.01212069 0.         0.         0.\n",
      "  0.02522285 0.         0.         0.        ]\n",
      " [0.         0.11037705 0.         0.         0.         0.\n",
      "  0.         0.         0.         0.         0.         0.\n",
      "  0.         0.         0.         0.        ]\n",
      " [0.         0.05098951 0.0667131  0.         0.         0.\n",
      "  0.         0.         0.         0.         0.         0.\n",
      "  0.         0.         0.         0.        ]\n",
      " [0.         0.         0.01129884 0.00724217 0.         0.\n",
      "  0.0126397  0.03262725 0.         0.         0.03322884 0.\n",
      "  0.         0.         0.         0.        ]\n",
      " [0.         0.         0.         0.         0.02068965 0.\n",
      "  0.         0.         0.0103878  0.         0.         0.\n",
      "  0.         0.         0.         0.        ]\n",
      " [0.         0.         0.         0.         0.         0.04387873\n",
      "  0.         0.         0.         0.02556005 0.         0.\n",
      "  0.00029488 0.         0.         0.        ]\n",
      " [0.         0.         0.         0.         0.         0.\n",
      "  0.05793314 0.         0.         0.         0.         0.\n",
      "  0.         0.         0.         0.        ]\n",
      " [0.         0.         0.         0.         0.         0.\n",
      "  0.         0.00098626 0.         0.         0.         0.\n",
      "  0.         0.         0.         0.        ]\n",
      " [0.         0.         0.         0.         0.         0.\n",
      "  0.         0.         0.01243352 0.         0.         0.\n",
      "  0.         0.         0.         0.        ]\n",
      " [0.         0.         0.         0.         0.         0.\n",
      "  0.         0.         0.         0.0505967  0.         0.\n",
      "  0.         0.         0.         0.        ]\n",
      " [0.         0.         0.         0.         0.         0.\n",
      "  0.         0.         0.         0.         0.02493502 0.\n",
      "  0.         0.         0.         0.        ]\n",
      " [0.         0.         0.         0.         0.         0.\n",
      "  0.         0.         0.         0.         0.         0.05760885\n",
      "  0.         0.         0.         0.00702853]\n",
      " [0.         0.         0.         0.         0.         0.\n",
      "  0.         0.         0.         0.         0.         0.\n",
      "  0.05670006 0.         0.         0.        ]\n",
      " [0.         0.         0.         0.         0.         0.\n",
      "  0.         0.         0.         0.         0.         0.\n",
      "  0.02826022 0.07615195 0.         0.        ]\n",
      " [0.         0.         0.         0.         0.         0.\n",
      "  0.         0.         0.         0.         0.         0.\n",
      "  0.03295937 0.         0.00129312 0.04122438]\n",
      " [0.         0.         0.         0.         0.         0.\n",
      "  0.         0.         0.         0.         0.         0.\n",
      "  0.         0.         0.         0.06812489]]\n",
      "\n",
      "Fluid Solution:\n",
      "\n",
      "{'Cost': 0.47543472920175167, 'X_matrix': array([[0.01109994, 0.00939293, 0.        , 0.        , 0.        ,\n",
      "        0.        , 0.        , 0.        , 0.01212069, 0.        ,\n",
      "        0.        , 0.        , 0.02522285, 0.        , 0.        ,\n",
      "        0.        ],\n",
      "       [0.        , 0.11037705, 0.        , 0.        , 0.        ,\n",
      "        0.        , 0.        , 0.        , 0.        , 0.        ,\n",
      "        0.        , 0.        , 0.        , 0.        , 0.        ,\n",
      "        0.        ],\n",
      "       [0.        , 0.05098951, 0.0667131 , 0.        , 0.        ,\n",
      "        0.        , 0.        , 0.        , 0.        , 0.        ,\n",
      "        0.        , 0.        , 0.        , 0.        , 0.        ,\n",
      "        0.        ],\n",
      "       [0.        , 0.        , 0.01129884, 0.00724217, 0.        ,\n",
      "        0.        , 0.0126397 , 0.03262725, 0.        , 0.        ,\n",
      "        0.03322884, 0.        , 0.        , 0.        , 0.        ,\n",
      "        0.        ],\n",
      "       [0.        , 0.        , 0.        , 0.        , 0.02068965,\n",
      "        0.        , 0.        , 0.        , 0.0103878 , 0.        ,\n",
      "        0.        , 0.        , 0.        , 0.        , 0.        ,\n",
      "        0.        ],\n",
      "       [0.        , 0.        , 0.        , 0.        , 0.        ,\n",
      "        0.04387873, 0.        , 0.        , 0.        , 0.02556005,\n",
      "        0.        , 0.        , 0.00029488, 0.        , 0.        ,\n",
      "        0.        ],\n",
      "       [0.        , 0.        , 0.        , 0.        , 0.        ,\n",
      "        0.        , 0.05793314, 0.        , 0.        , 0.        ,\n",
      "        0.        , 0.        , 0.        , 0.        , 0.        ,\n",
      "        0.        ],\n",
      "       [0.        , 0.        , 0.        , 0.        , 0.        ,\n",
      "        0.        , 0.        , 0.00098626, 0.        , 0.        ,\n",
      "        0.        , 0.        , 0.        , 0.        , 0.        ,\n",
      "        0.        ],\n",
      "       [0.        , 0.        , 0.        , 0.        , 0.        ,\n",
      "        0.        , 0.        , 0.        , 0.01243352, 0.        ,\n",
      "        0.        , 0.        , 0.        , 0.        , 0.        ,\n",
      "        0.        ],\n",
      "       [0.        , 0.        , 0.        , 0.        , 0.        ,\n",
      "        0.        , 0.        , 0.        , 0.        , 0.0505967 ,\n",
      "        0.        , 0.        , 0.        , 0.        , 0.        ,\n",
      "        0.        ],\n",
      "       [0.        , 0.        , 0.        , 0.        , 0.        ,\n",
      "        0.        , 0.        , 0.        , 0.        , 0.        ,\n",
      "        0.02493502, 0.        , 0.        , 0.        , 0.        ,\n",
      "        0.        ],\n",
      "       [0.        , 0.        , 0.        , 0.        , 0.        ,\n",
      "        0.        , 0.        , 0.        , 0.        , 0.        ,\n",
      "        0.        , 0.05760885, 0.        , 0.        , 0.        ,\n",
      "        0.00702853],\n",
      "       [0.        , 0.        , 0.        , 0.        , 0.        ,\n",
      "        0.        , 0.        , 0.        , 0.        , 0.        ,\n",
      "        0.        , 0.        , 0.05670006, 0.        , 0.        ,\n",
      "        0.        ],\n",
      "       [0.        , 0.        , 0.        , 0.        , 0.        ,\n",
      "        0.        , 0.        , 0.        , 0.        , 0.        ,\n",
      "        0.        , 0.        , 0.02826022, 0.07615195, 0.        ,\n",
      "        0.        ],\n",
      "       [0.        , 0.        , 0.        , 0.        , 0.        ,\n",
      "        0.        , 0.        , 0.        , 0.        , 0.        ,\n",
      "        0.        , 0.        , 0.03295937, 0.        , 0.00129312,\n",
      "        0.04122438],\n",
      "       [0.        , 0.        , 0.        , 0.        , 0.        ,\n",
      "        0.        , 0.        , 0.        , 0.        , 0.        ,\n",
      "        0.        , 0.        , 0.        , 0.        , 0.        ,\n",
      "        0.06812489]])}\n"
     ]
    }
   ],
   "source": [
    "# import importlib\n",
    "# importlib.reload(utils)\n",
    "frac = 0\n",
    "with open('../sim_paths_spatial_4_more_maxweight.pkl','rb') as f:\n",
    "    M_res,B_res, N, W, pmf_cust, pmf_serv = pickle.load(f)\n",
    "Q_paths_M = np.asarray( M_res[\"Q_paths\"] )\n",
    "C_paths_M = np.asarray( M_res[\"C_paths\"] )\n",
    "Q_paths_B = np.asarray( B_res[\"Q_paths\"] )\n",
    "C_paths_B = np.asarray( B_res[\"C_paths\"] )\n",
    "(average_cost_M, average_queue_M) = utils.average_paths(C_paths_M[:,:10000],Q_paths_M[:,:10000], frac)\n",
    "(average_cost_B, average_queue_B) = utils.average_paths(C_paths_B[:,:10000],Q_paths_B[:,:10000], frac)\n",
    "[Ex,fluid_sol] = run_extremes(N,W,pmf_cust,pmf_serv)\n",
    "with open('../sim_paths_spatial_rem.pkl','rb') as f:\n",
    "    M_res,B_res, N, W, pmf_cust, pmf_serv = pickle.load(f)\n",
    "Q_paths_M = np.asarray( M_res[\"Q_paths\"] )\n",
    "C_paths_M = np.asarray( M_res[\"C_paths\"] )\n",
    "Q_paths_B = np.asarray( B_res[\"Q_paths\"] )\n",
    "C_paths_B = np.asarray( B_res[\"C_paths\"] )\n",
    "(average_cost_M2, average_queue_M2) = utils.average_paths(C_paths_M[:,:10000],Q_paths_M[:,:10000], frac)\n",
    "(average_cost_B2, average_queue_B2) = utils.average_paths(C_paths_B,Q_paths_B, frac)\n",
    "with open('../sim_paths_spatial_4_extras.pkl','rb') as f:\n",
    "    M_res,B_res, N, W, pmf_cust, pmf_serv = pickle.load(f)\n",
    "Q_paths_M = np.asarray( M_res[\"Q_paths\"] )\n",
    "C_paths_M = np.asarray( M_res[\"C_paths\"] )\n",
    "Q_paths_B = np.asarray( B_res[\"Q_paths\"] )\n",
    "C_paths_B = np.asarray( B_res[\"C_paths\"] )\n",
    "(average_cost_M3, average_queue_M3) = utils.average_paths(C_paths_M[:,:10000],Q_paths_M[:,:10000], frac)\n",
    "(average_cost_B3, average_queue_B3) = utils.average_paths(C_paths_B,Q_paths_B, frac)"
   ]
  },
  {
   "cell_type": "code",
   "execution_count": 44,
   "metadata": {
    "scrolled": true
   },
   "outputs": [
    {
     "data": {
      "text/plain": [
       "100000"
      ]
     },
     "execution_count": 44,
     "metadata": {},
     "output_type": "execute_result"
    }
   ],
   "source": [
    "C_paths_M = np.asarray(C_paths_M)\n",
    "a = C_paths_M[:][0:1]\n",
    "len(a[0])"
   ]
  },
  {
   "cell_type": "code",
   "execution_count": 49,
   "metadata": {},
   "outputs": [
    {
     "data": {
      "image/png": "[encoded data removed]",
      "text/plain": [
       "<Figure size 720x432 with 1 Axes>"
      ]
     },
     "metadata": {
      "needs_background": "light"
     },
     "output_type": "display_data"
    }
   ],
   "source": [
    "avg_cost_M = np.concatenate( (average_cost_M, average_cost_M2, average_cost_M3) )\n",
    "avg_queue_M = np.concatenate( (average_queue_M, average_queue_M2, average_queue_M3) )\n",
    "avg_cost_B = np.concatenate( (average_cost_B, average_cost_B2) )\n",
    "avg_queue_B = np.concatenate( (average_queue_B, average_queue_B2) )\n",
    "utils.qc_plot(Ex,fluid_sol,avg_queue_B,avg_cost_B,avg_queue_M,avg_cost_M)"
   ]
  },
  {
   "cell_type": "code",
   "execution_count": 43,
   "metadata": {
    "scrolled": true
   },
   "outputs": [
    {
     "data": {
      "text/html": [
       "<div>\n",
       "<style scoped>\n",
       "    .dataframe tbody tr th:only-of-type {\n",
       "        vertical-align: middle;\n",
       "    }\n",
       "\n",
       "    .dataframe tbody tr th {\n",
       "        vertical-align: top;\n",
       "    }\n",
       "\n",
       "    .dataframe thead th {\n",
       "        text-align: right;\n",
       "    }\n",
       "</style>\n",
       "<table border=\"1\" class=\"dataframe\">\n",
       "  <thead>\n",
       "    <tr style=\"text-align: right;\">\n",
       "      <th></th>\n",
       "      <th>alpha_values</th>\n",
       "      <th>c</th>\n",
       "      <th>average_queue</th>\n",
       "      <th>average_cost</th>\n",
       "    </tr>\n",
       "  </thead>\n",
       "  <tbody>\n",
       "    <tr>\n",
       "      <th>0</th>\n",
       "      <td>0.000</td>\n",
       "      <td>0.000000</td>\n",
       "      <td>1.0000</td>\n",
       "      <td>2.060045</td>\n",
       "    </tr>\n",
       "    <tr>\n",
       "      <th>1</th>\n",
       "      <td>0.200</td>\n",
       "      <td>0.250000</td>\n",
       "      <td>1.0000</td>\n",
       "      <td>2.048231</td>\n",
       "    </tr>\n",
       "    <tr>\n",
       "      <th>2</th>\n",
       "      <td>0.250</td>\n",
       "      <td>0.333333</td>\n",
       "      <td>1.0000</td>\n",
       "      <td>2.033874</td>\n",
       "    </tr>\n",
       "    <tr>\n",
       "      <th>3</th>\n",
       "      <td>0.350</td>\n",
       "      <td>0.538462</td>\n",
       "      <td>1.0266</td>\n",
       "      <td>2.015913</td>\n",
       "    </tr>\n",
       "    <tr>\n",
       "      <th>4</th>\n",
       "      <td>0.360</td>\n",
       "      <td>0.562500</td>\n",
       "      <td>1.1160</td>\n",
       "      <td>1.909377</td>\n",
       "    </tr>\n",
       "    <tr>\n",
       "      <th>5</th>\n",
       "      <td>0.370</td>\n",
       "      <td>0.587302</td>\n",
       "      <td>1.1172</td>\n",
       "      <td>1.893897</td>\n",
       "    </tr>\n",
       "    <tr>\n",
       "      <th>6</th>\n",
       "      <td>0.380</td>\n",
       "      <td>0.612903</td>\n",
       "      <td>1.1182</td>\n",
       "      <td>1.912605</td>\n",
       "    </tr>\n",
       "    <tr>\n",
       "      <th>7</th>\n",
       "      <td>0.390</td>\n",
       "      <td>0.639344</td>\n",
       "      <td>1.2585</td>\n",
       "      <td>1.745858</td>\n",
       "    </tr>\n",
       "    <tr>\n",
       "      <th>8</th>\n",
       "      <td>0.400</td>\n",
       "      <td>0.666667</td>\n",
       "      <td>1.3812</td>\n",
       "      <td>1.649345</td>\n",
       "    </tr>\n",
       "    <tr>\n",
       "      <th>9</th>\n",
       "      <td>0.410</td>\n",
       "      <td>0.694915</td>\n",
       "      <td>1.3914</td>\n",
       "      <td>1.638608</td>\n",
       "    </tr>\n",
       "    <tr>\n",
       "      <th>10</th>\n",
       "      <td>0.420</td>\n",
       "      <td>0.724138</td>\n",
       "      <td>1.4913</td>\n",
       "      <td>1.551839</td>\n",
       "    </tr>\n",
       "    <tr>\n",
       "      <th>11</th>\n",
       "      <td>0.430</td>\n",
       "      <td>0.754386</td>\n",
       "      <td>1.4903</td>\n",
       "      <td>1.548848</td>\n",
       "    </tr>\n",
       "    <tr>\n",
       "      <th>12</th>\n",
       "      <td>0.440</td>\n",
       "      <td>0.785714</td>\n",
       "      <td>1.4994</td>\n",
       "      <td>1.539999</td>\n",
       "    </tr>\n",
       "    <tr>\n",
       "      <th>13</th>\n",
       "      <td>0.450</td>\n",
       "      <td>0.818182</td>\n",
       "      <td>1.4912</td>\n",
       "      <td>1.538699</td>\n",
       "    </tr>\n",
       "    <tr>\n",
       "      <th>14</th>\n",
       "      <td>0.460</td>\n",
       "      <td>0.851852</td>\n",
       "      <td>1.5107</td>\n",
       "      <td>1.479678</td>\n",
       "    </tr>\n",
       "    <tr>\n",
       "      <th>15</th>\n",
       "      <td>0.470</td>\n",
       "      <td>0.886792</td>\n",
       "      <td>1.4847</td>\n",
       "      <td>1.497624</td>\n",
       "    </tr>\n",
       "    <tr>\n",
       "      <th>16</th>\n",
       "      <td>0.480</td>\n",
       "      <td>0.923077</td>\n",
       "      <td>1.7485</td>\n",
       "      <td>1.339050</td>\n",
       "    </tr>\n",
       "    <tr>\n",
       "      <th>17</th>\n",
       "      <td>0.490</td>\n",
       "      <td>0.960784</td>\n",
       "      <td>1.8466</td>\n",
       "      <td>1.286956</td>\n",
       "    </tr>\n",
       "    <tr>\n",
       "      <th>18</th>\n",
       "      <td>0.500</td>\n",
       "      <td>1.000000</td>\n",
       "      <td>2.2527</td>\n",
       "      <td>1.164236</td>\n",
       "    </tr>\n",
       "    <tr>\n",
       "      <th>19</th>\n",
       "      <td>0.550</td>\n",
       "      <td>1.222222</td>\n",
       "      <td>2.3968</td>\n",
       "      <td>1.103291</td>\n",
       "    </tr>\n",
       "    <tr>\n",
       "      <th>20</th>\n",
       "      <td>0.600</td>\n",
       "      <td>1.500000</td>\n",
       "      <td>3.1622</td>\n",
       "      <td>0.957203</td>\n",
       "    </tr>\n",
       "    <tr>\n",
       "      <th>21</th>\n",
       "      <td>0.650</td>\n",
       "      <td>1.857143</td>\n",
       "      <td>3.7696</td>\n",
       "      <td>0.865158</td>\n",
       "    </tr>\n",
       "    <tr>\n",
       "      <th>22</th>\n",
       "      <td>0.675</td>\n",
       "      <td>2.076923</td>\n",
       "      <td>5.4537</td>\n",
       "      <td>0.758347</td>\n",
       "    </tr>\n",
       "    <tr>\n",
       "      <th>23</th>\n",
       "      <td>0.700</td>\n",
       "      <td>2.333333</td>\n",
       "      <td>6.0349</td>\n",
       "      <td>0.699133</td>\n",
       "    </tr>\n",
       "    <tr>\n",
       "      <th>24</th>\n",
       "      <td>0.725</td>\n",
       "      <td>2.636364</td>\n",
       "      <td>6.7550</td>\n",
       "      <td>0.679037</td>\n",
       "    </tr>\n",
       "    <tr>\n",
       "      <th>25</th>\n",
       "      <td>0.750</td>\n",
       "      <td>3.000000</td>\n",
       "      <td>8.8914</td>\n",
       "      <td>0.625061</td>\n",
       "    </tr>\n",
       "    <tr>\n",
       "      <th>26</th>\n",
       "      <td>0.800</td>\n",
       "      <td>4.000000</td>\n",
       "      <td>12.3978</td>\n",
       "      <td>0.570851</td>\n",
       "    </tr>\n",
       "    <tr>\n",
       "      <th>27</th>\n",
       "      <td>0.825</td>\n",
       "      <td>4.714286</td>\n",
       "      <td>14.0109</td>\n",
       "      <td>0.552044</td>\n",
       "    </tr>\n",
       "    <tr>\n",
       "      <th>28</th>\n",
       "      <td>0.850</td>\n",
       "      <td>5.666667</td>\n",
       "      <td>17.8685</td>\n",
       "      <td>0.519513</td>\n",
       "    </tr>\n",
       "    <tr>\n",
       "      <th>29</th>\n",
       "      <td>0.875</td>\n",
       "      <td>7.000000</td>\n",
       "      <td>23.9074</td>\n",
       "      <td>0.521846</td>\n",
       "    </tr>\n",
       "    <tr>\n",
       "      <th>30</th>\n",
       "      <td>0.900</td>\n",
       "      <td>9.000000</td>\n",
       "      <td>32.1875</td>\n",
       "      <td>0.491654</td>\n",
       "    </tr>\n",
       "    <tr>\n",
       "      <th>31</th>\n",
       "      <td>0.925</td>\n",
       "      <td>12.333333</td>\n",
       "      <td>43.4888</td>\n",
       "      <td>0.471693</td>\n",
       "    </tr>\n",
       "    <tr>\n",
       "      <th>32</th>\n",
       "      <td>0.950</td>\n",
       "      <td>19.000000</td>\n",
       "      <td>71.9694</td>\n",
       "      <td>0.459271</td>\n",
       "    </tr>\n",
       "  </tbody>\n",
       "</table>\n",
       "</div>"
      ],
      "text/plain": [
       "    alpha_values          c  average_queue  average_cost\n",
       "0          0.000   0.000000         1.0000      2.060045\n",
       "1          0.200   0.250000         1.0000      2.048231\n",
       "2          0.250   0.333333         1.0000      2.033874\n",
       "3          0.350   0.538462         1.0266      2.015913\n",
       "4          0.360   0.562500         1.1160      1.909377\n",
       "5          0.370   0.587302         1.1172      1.893897\n",
       "6          0.380   0.612903         1.1182      1.912605\n",
       "7          0.390   0.639344         1.2585      1.745858\n",
       "8          0.400   0.666667         1.3812      1.649345\n",
       "9          0.410   0.694915         1.3914      1.638608\n",
       "10         0.420   0.724138         1.4913      1.551839\n",
       "11         0.430   0.754386         1.4903      1.548848\n",
       "12         0.440   0.785714         1.4994      1.539999\n",
       "13         0.450   0.818182         1.4912      1.538699\n",
       "14         0.460   0.851852         1.5107      1.479678\n",
       "15         0.470   0.886792         1.4847      1.497624\n",
       "16         0.480   0.923077         1.7485      1.339050\n",
       "17         0.490   0.960784         1.8466      1.286956\n",
       "18         0.500   1.000000         2.2527      1.164236\n",
       "19         0.550   1.222222         2.3968      1.103291\n",
       "20         0.600   1.500000         3.1622      0.957203\n",
       "21         0.650   1.857143         3.7696      0.865158\n",
       "22         0.675   2.076923         5.4537      0.758347\n",
       "23         0.700   2.333333         6.0349      0.699133\n",
       "24         0.725   2.636364         6.7550      0.679037\n",
       "25         0.750   3.000000         8.8914      0.625061\n",
       "26         0.800   4.000000        12.3978      0.570851\n",
       "27         0.825   4.714286        14.0109      0.552044\n",
       "28         0.850   5.666667        17.8685      0.519513\n",
       "29         0.875   7.000000        23.9074      0.521846\n",
       "30         0.900   9.000000        32.1875      0.491654\n",
       "31         0.925  12.333333        43.4888      0.471693\n",
       "32         0.950  19.000000        71.9694      0.459271"
      ]
     },
     "execution_count": 43,
     "metadata": {},
     "output_type": "execute_result"
    }
   ],
   "source": [
    "import pandas as pd\n",
    "alpha_values = alpha_values = np.asarray( [0, 0.2, 0.25, 0.35, 0.4, 0.45, 0.5, 0.55, 0.6, 0.65, 0.675, 0.7, 0.725, 0.75, 0.8, 0.825, 0.85, 0.875,  0.9, 0.925, 0.95, 0.36, 0.37, 0.38,  0.39, 0.41, 0.42, 0.43, 0.44, 0.46, 0.47, 0.48, 0.49] )\n",
    "maxweight = pd.DataFrame({'average_queue': avg_queue_M, 'average_cost': list(avg_cost_M)}, columns=['average_queue', 'average_cost'])\n",
    "maxweight['alpha_values'] = alpha_values\n",
    "maxweight = maxweight[['alpha_values', 'average_queue', 'average_cost']]\n",
    "maxweight['c'] = maxweight['alpha_values']/(1 - maxweight['alpha_values'])\n",
    "maxweight = maxweight[['alpha_values', 'c', 'average_queue', 'average_cost']]\n",
    "maxweight.sort_values('alpha_values',ignore_index=True)"
   ]
  },
  {
   "cell_type": "code",
   "execution_count": 38,
   "metadata": {},
   "outputs": [
    {
     "data": {
      "text/plain": [
       "(33,)"
      ]
     },
     "execution_count": 38,
     "metadata": {},
     "output_type": "execute_result"
    }
   ],
   "source": [
    "avg_cost_M.shape"
   ]
  },
  {
   "cell_type": "code",
   "execution_count": 6,
   "metadata": {},
   "outputs": [
    {
     "data": {
      "text/plain": [
       "array([1.1142 , 1.11377, 1.11723, 1.2524 , 1.3868 , 1.48445, 1.48606,\n",
       "       1.49596])"
      ]
     },
     "execution_count": 6,
     "metadata": {},
     "output_type": "execute_result"
    }
   ],
   "source": [
    "average_queue_M2"
   ]
  },
  {
   "cell_type": "code",
   "execution_count": 9,
   "metadata": {
    "scrolled": true
   },
   "outputs": [
    {
     "data": {
      "text/plain": [
       "array([[0.        , 1.        , 2.        , 3.        , 1.        ,\n",
       "        1.41421356, 2.23606798, 3.16227766, 2.        , 2.23606798,\n",
       "        2.82842712, 3.60555128, 3.        , 3.16227766, 3.60555128,\n",
       "        4.24264069],\n",
       "       [1.        , 0.        , 1.        , 2.        , 1.41421356,\n",
       "        1.        , 1.41421356, 2.23606798, 2.23606798, 2.        ,\n",
       "        2.23606798, 2.82842712, 3.16227766, 3.        , 3.16227766,\n",
       "        3.60555128],\n",
       "       [2.        , 1.        , 0.        , 1.        , 2.23606798,\n",
       "        1.41421356, 1.        , 1.41421356, 2.82842712, 2.23606798,\n",
       "        2.        , 2.23606798, 3.60555128, 3.16227766, 3.        ,\n",
       "        3.16227766],\n",
       "       [3.        , 2.        , 1.        , 0.        , 3.16227766,\n",
       "        2.23606798, 1.41421356, 1.        , 3.60555128, 2.82842712,\n",
       "        2.23606798, 2.        , 4.24264069, 3.60555128, 3.16227766,\n",
       "        3.        ],\n",
       "       [1.        , 1.41421356, 2.23606798, 3.16227766, 0.        ,\n",
       "        1.        , 2.        , 3.        , 1.        , 1.41421356,\n",
       "        2.23606798, 3.16227766, 2.        , 2.23606798, 2.82842712,\n",
       "        3.60555128],\n",
       "       [1.41421356, 1.        , 1.41421356, 2.23606798, 1.        ,\n",
       "        0.        , 1.        , 2.        , 1.41421356, 1.        ,\n",
       "        1.41421356, 2.23606798, 2.23606798, 2.        , 2.23606798,\n",
       "        2.82842712],\n",
       "       [2.23606798, 1.41421356, 1.        , 1.41421356, 2.        ,\n",
       "        1.        , 0.        , 1.        , 2.23606798, 1.41421356,\n",
       "        1.        , 1.41421356, 2.82842712, 2.23606798, 2.        ,\n",
       "        2.23606798],\n",
       "       [3.16227766, 2.23606798, 1.41421356, 1.        , 3.        ,\n",
       "        2.        , 1.        , 0.        , 3.16227766, 2.23606798,\n",
       "        1.41421356, 1.        , 3.60555128, 2.82842712, 2.23606798,\n",
       "        2.        ],\n",
       "       [2.        , 2.23606798, 2.82842712, 3.60555128, 1.        ,\n",
       "        1.41421356, 2.23606798, 3.16227766, 0.        , 1.        ,\n",
       "        2.        , 3.        , 1.        , 1.41421356, 2.23606798,\n",
       "        3.16227766],\n",
       "       [2.23606798, 2.        , 2.23606798, 2.82842712, 1.41421356,\n",
       "        1.        , 1.41421356, 2.23606798, 1.        , 0.        ,\n",
       "        1.        , 2.        , 1.41421356, 1.        , 1.41421356,\n",
       "        2.23606798],\n",
       "       [2.82842712, 2.23606798, 2.        , 2.23606798, 2.23606798,\n",
       "        1.41421356, 1.        , 1.41421356, 2.        , 1.        ,\n",
       "        0.        , 1.        , 2.23606798, 1.41421356, 1.        ,\n",
       "        1.41421356],\n",
       "       [3.60555128, 2.82842712, 2.23606798, 2.        , 3.16227766,\n",
       "        2.23606798, 1.41421356, 1.        , 3.        , 2.        ,\n",
       "        1.        , 0.        , 3.16227766, 2.23606798, 1.41421356,\n",
       "        1.        ],\n",
       "       [3.        , 3.16227766, 3.60555128, 4.24264069, 2.        ,\n",
       "        2.23606798, 2.82842712, 3.60555128, 1.        , 1.41421356,\n",
       "        2.23606798, 3.16227766, 0.        , 1.        , 2.        ,\n",
       "        3.        ],\n",
       "       [3.16227766, 3.        , 3.16227766, 3.60555128, 2.23606798,\n",
       "        2.        , 2.23606798, 2.82842712, 1.41421356, 1.        ,\n",
       "        1.41421356, 2.23606798, 1.        , 0.        , 1.        ,\n",
       "        2.        ],\n",
       "       [3.60555128, 3.16227766, 3.        , 3.16227766, 2.82842712,\n",
       "        2.23606798, 2.        , 2.23606798, 2.23606798, 1.41421356,\n",
       "        1.        , 1.41421356, 2.        , 1.        , 0.        ,\n",
       "        1.        ],\n",
       "       [4.24264069, 3.60555128, 3.16227766, 3.        , 3.60555128,\n",
       "        2.82842712, 2.23606798, 2.        , 3.16227766, 2.23606798,\n",
       "        1.41421356, 1.        , 3.        , 2.        , 1.        ,\n",
       "        0.        ]])"
      ]
     },
     "execution_count": 9,
     "metadata": {},
     "output_type": "execute_result"
    }
   ],
   "source": [
    "W"
   ]
  },
  {
   "cell_type": "code",
   "execution_count": 41,
   "metadata": {
    "scrolled": true
   },
   "outputs": [
    {
     "data": {
      "text/html": [
       "<div>\n",
       "<style scoped>\n",
       "    .dataframe tbody tr th:only-of-type {\n",
       "        vertical-align: middle;\n",
       "    }\n",
       "\n",
       "    .dataframe tbody tr th {\n",
       "        vertical-align: top;\n",
       "    }\n",
       "\n",
       "    .dataframe thead th {\n",
       "        text-align: right;\n",
       "    }\n",
       "</style>\n",
       "<table border=\"1\" class=\"dataframe\">\n",
       "  <thead>\n",
       "    <tr style=\"text-align: right;\">\n",
       "      <th></th>\n",
       "      <th>alpha_values</th>\n",
       "      <th>average_queue</th>\n",
       "      <th>average_cost</th>\n",
       "    </tr>\n",
       "  </thead>\n",
       "  <tbody>\n",
       "    <tr>\n",
       "      <th>0</th>\n",
       "      <td>0.00</td>\n",
       "      <td>1.00000</td>\n",
       "      <td>2.051341</td>\n",
       "    </tr>\n",
       "    <tr>\n",
       "      <th>1</th>\n",
       "      <td>0.20</td>\n",
       "      <td>1.00000</td>\n",
       "      <td>2.043141</td>\n",
       "    </tr>\n",
       "    <tr>\n",
       "      <th>2</th>\n",
       "      <td>0.25</td>\n",
       "      <td>1.00000</td>\n",
       "      <td>2.047114</td>\n",
       "    </tr>\n",
       "    <tr>\n",
       "      <th>3</th>\n",
       "      <td>0.35</td>\n",
       "      <td>1.02958</td>\n",
       "      <td>2.008237</td>\n",
       "    </tr>\n",
       "    <tr>\n",
       "      <th>4</th>\n",
       "      <td>0.40</td>\n",
       "      <td>1.38767</td>\n",
       "      <td>1.639034</td>\n",
       "    </tr>\n",
       "  </tbody>\n",
       "</table>\n",
       "</div>"
      ],
      "text/plain": [
       "   alpha_values  average_queue  average_cost\n",
       "0          0.00        1.00000      2.051341\n",
       "1          0.20        1.00000      2.043141\n",
       "2          0.25        1.00000      2.047114\n",
       "3          0.35        1.02958      2.008237\n",
       "4          0.40        1.38767      1.639034"
      ]
     },
     "execution_count": 41,
     "metadata": {},
     "output_type": "execute_result"
    }
   ],
   "source": [
    "import pandas as pd\n",
    "alpha_values = alpha_values = np.asarray( [0, 0.2, 0.25, 0.35, 0.4, 0.45, 0.5, 0.55, 0.6, 0.65, 0.675, 0.7, 0.725, 0.75, 0.8, 0.825, 0.85, 0.875,  0.9, 0.925, 0.95, 0.36, 0.37, 0.38,  0.39, 0.41, 0.42, 0.43, 0.44, 0.46, 0.47, 0.48, 0.49] )\n",
    "maxweight = pd.DataFrame({'average_queue': avg_queue_M, 'average_cost': list(avg_cost_M)}, columns=['average_queue', 'average_cost'])\n",
    "maxweight['alpha_values'] = alpha_values\n",
    "maxweight = maxweight[['alpha_values', 'average_queue', 'average_cost']]\n",
    "maxweight.head()"
   ]
  },
  {
   "cell_type": "code",
   "execution_count": 47,
   "metadata": {
    "scrolled": true
   },
   "outputs": [
    {
     "data": {
      "text/html": [
       "<div>\n",
       "<style scoped>\n",
       "    .dataframe tbody tr th:only-of-type {\n",
       "        vertical-align: middle;\n",
       "    }\n",
       "\n",
       "    .dataframe tbody tr th {\n",
       "        vertical-align: top;\n",
       "    }\n",
       "\n",
       "    .dataframe thead th {\n",
       "        text-align: right;\n",
       "    }\n",
       "</style>\n",
       "<table border=\"1\" class=\"dataframe\">\n",
       "  <thead>\n",
       "    <tr style=\"text-align: right;\">\n",
       "      <th></th>\n",
       "      <th>alpha_values</th>\n",
       "      <th>c</th>\n",
       "      <th>average_queue</th>\n",
       "      <th>average_cost</th>\n",
       "    </tr>\n",
       "  </thead>\n",
       "  <tbody>\n",
       "    <tr>\n",
       "      <th>0</th>\n",
       "      <td>0.000</td>\n",
       "      <td>0.000000</td>\n",
       "      <td>1.00000</td>\n",
       "      <td>2.051341</td>\n",
       "    </tr>\n",
       "    <tr>\n",
       "      <th>1</th>\n",
       "      <td>0.200</td>\n",
       "      <td>0.250000</td>\n",
       "      <td>1.00000</td>\n",
       "      <td>2.043141</td>\n",
       "    </tr>\n",
       "    <tr>\n",
       "      <th>2</th>\n",
       "      <td>0.250</td>\n",
       "      <td>0.333333</td>\n",
       "      <td>1.00000</td>\n",
       "      <td>2.047114</td>\n",
       "    </tr>\n",
       "    <tr>\n",
       "      <th>3</th>\n",
       "      <td>0.350</td>\n",
       "      <td>0.538462</td>\n",
       "      <td>1.02958</td>\n",
       "      <td>2.008237</td>\n",
       "    </tr>\n",
       "    <tr>\n",
       "      <th>4</th>\n",
       "      <td>0.360</td>\n",
       "      <td>0.562500</td>\n",
       "      <td>1.11420</td>\n",
       "      <td>1.901169</td>\n",
       "    </tr>\n",
       "    <tr>\n",
       "      <th>5</th>\n",
       "      <td>0.370</td>\n",
       "      <td>0.587302</td>\n",
       "      <td>1.11377</td>\n",
       "      <td>1.900297</td>\n",
       "    </tr>\n",
       "    <tr>\n",
       "      <th>6</th>\n",
       "      <td>0.380</td>\n",
       "      <td>0.612903</td>\n",
       "      <td>1.11723</td>\n",
       "      <td>1.901340</td>\n",
       "    </tr>\n",
       "    <tr>\n",
       "      <th>7</th>\n",
       "      <td>0.390</td>\n",
       "      <td>0.639344</td>\n",
       "      <td>1.25240</td>\n",
       "      <td>1.758973</td>\n",
       "    </tr>\n",
       "    <tr>\n",
       "      <th>8</th>\n",
       "      <td>0.400</td>\n",
       "      <td>0.666667</td>\n",
       "      <td>1.38767</td>\n",
       "      <td>1.639034</td>\n",
       "    </tr>\n",
       "    <tr>\n",
       "      <th>9</th>\n",
       "      <td>0.410</td>\n",
       "      <td>0.694915</td>\n",
       "      <td>1.38680</td>\n",
       "      <td>1.641245</td>\n",
       "    </tr>\n",
       "    <tr>\n",
       "      <th>10</th>\n",
       "      <td>0.420</td>\n",
       "      <td>0.724138</td>\n",
       "      <td>1.48445</td>\n",
       "      <td>1.549237</td>\n",
       "    </tr>\n",
       "    <tr>\n",
       "      <th>11</th>\n",
       "      <td>0.430</td>\n",
       "      <td>0.754386</td>\n",
       "      <td>1.48606</td>\n",
       "      <td>1.552196</td>\n",
       "    </tr>\n",
       "    <tr>\n",
       "      <th>12</th>\n",
       "      <td>0.440</td>\n",
       "      <td>0.785714</td>\n",
       "      <td>1.49596</td>\n",
       "      <td>1.546735</td>\n",
       "    </tr>\n",
       "    <tr>\n",
       "      <th>13</th>\n",
       "      <td>0.450</td>\n",
       "      <td>0.818182</td>\n",
       "      <td>1.49887</td>\n",
       "      <td>1.542694</td>\n",
       "    </tr>\n",
       "    <tr>\n",
       "      <th>14</th>\n",
       "      <td>0.460</td>\n",
       "      <td>0.851852</td>\n",
       "      <td>1.50017</td>\n",
       "      <td>1.486565</td>\n",
       "    </tr>\n",
       "    <tr>\n",
       "      <th>15</th>\n",
       "      <td>0.470</td>\n",
       "      <td>0.886792</td>\n",
       "      <td>1.49877</td>\n",
       "      <td>1.488745</td>\n",
       "    </tr>\n",
       "    <tr>\n",
       "      <th>16</th>\n",
       "      <td>0.480</td>\n",
       "      <td>0.923077</td>\n",
       "      <td>1.76235</td>\n",
       "      <td>1.338198</td>\n",
       "    </tr>\n",
       "    <tr>\n",
       "      <th>17</th>\n",
       "      <td>0.490</td>\n",
       "      <td>0.960784</td>\n",
       "      <td>1.84066</td>\n",
       "      <td>1.287131</td>\n",
       "    </tr>\n",
       "    <tr>\n",
       "      <th>18</th>\n",
       "      <td>0.500</td>\n",
       "      <td>1.000000</td>\n",
       "      <td>2.28548</td>\n",
       "      <td>1.164052</td>\n",
       "    </tr>\n",
       "    <tr>\n",
       "      <th>19</th>\n",
       "      <td>0.550</td>\n",
       "      <td>1.222222</td>\n",
       "      <td>2.40674</td>\n",
       "      <td>1.118306</td>\n",
       "    </tr>\n",
       "    <tr>\n",
       "      <th>20</th>\n",
       "      <td>0.600</td>\n",
       "      <td>1.500000</td>\n",
       "      <td>3.12880</td>\n",
       "      <td>0.957662</td>\n",
       "    </tr>\n",
       "    <tr>\n",
       "      <th>21</th>\n",
       "      <td>0.650</td>\n",
       "      <td>1.857143</td>\n",
       "      <td>3.85840</td>\n",
       "      <td>0.863801</td>\n",
       "    </tr>\n",
       "    <tr>\n",
       "      <th>22</th>\n",
       "      <td>0.675</td>\n",
       "      <td>2.076923</td>\n",
       "      <td>5.41479</td>\n",
       "      <td>0.768918</td>\n",
       "    </tr>\n",
       "    <tr>\n",
       "      <th>23</th>\n",
       "      <td>0.700</td>\n",
       "      <td>2.333333</td>\n",
       "      <td>6.16884</td>\n",
       "      <td>0.707600</td>\n",
       "    </tr>\n",
       "    <tr>\n",
       "      <th>24</th>\n",
       "      <td>0.725</td>\n",
       "      <td>2.636364</td>\n",
       "      <td>6.79943</td>\n",
       "      <td>0.690393</td>\n",
       "    </tr>\n",
       "    <tr>\n",
       "      <th>25</th>\n",
       "      <td>0.750</td>\n",
       "      <td>3.000000</td>\n",
       "      <td>8.85233</td>\n",
       "      <td>0.626657</td>\n",
       "    </tr>\n",
       "    <tr>\n",
       "      <th>26</th>\n",
       "      <td>0.800</td>\n",
       "      <td>4.000000</td>\n",
       "      <td>12.30021</td>\n",
       "      <td>0.575942</td>\n",
       "    </tr>\n",
       "    <tr>\n",
       "      <th>27</th>\n",
       "      <td>0.825</td>\n",
       "      <td>4.714286</td>\n",
       "      <td>14.23250</td>\n",
       "      <td>0.550163</td>\n",
       "    </tr>\n",
       "    <tr>\n",
       "      <th>28</th>\n",
       "      <td>0.850</td>\n",
       "      <td>5.666667</td>\n",
       "      <td>17.99977</td>\n",
       "      <td>0.532185</td>\n",
       "    </tr>\n",
       "    <tr>\n",
       "      <th>29</th>\n",
       "      <td>0.875</td>\n",
       "      <td>7.000000</td>\n",
       "      <td>23.70648</td>\n",
       "      <td>0.518586</td>\n",
       "    </tr>\n",
       "    <tr>\n",
       "      <th>30</th>\n",
       "      <td>0.900</td>\n",
       "      <td>9.000000</td>\n",
       "      <td>32.52394</td>\n",
       "      <td>0.506107</td>\n",
       "    </tr>\n",
       "    <tr>\n",
       "      <th>31</th>\n",
       "      <td>0.925</td>\n",
       "      <td>12.333333</td>\n",
       "      <td>45.88602</td>\n",
       "      <td>0.489637</td>\n",
       "    </tr>\n",
       "    <tr>\n",
       "      <th>32</th>\n",
       "      <td>0.950</td>\n",
       "      <td>19.000000</td>\n",
       "      <td>74.57511</td>\n",
       "      <td>0.485082</td>\n",
       "    </tr>\n",
       "  </tbody>\n",
       "</table>\n",
       "</div>"
      ],
      "text/plain": [
       "    alpha_values          c  average_queue  average_cost\n",
       "0          0.000   0.000000        1.00000      2.051341\n",
       "1          0.200   0.250000        1.00000      2.043141\n",
       "2          0.250   0.333333        1.00000      2.047114\n",
       "3          0.350   0.538462        1.02958      2.008237\n",
       "4          0.360   0.562500        1.11420      1.901169\n",
       "5          0.370   0.587302        1.11377      1.900297\n",
       "6          0.380   0.612903        1.11723      1.901340\n",
       "7          0.390   0.639344        1.25240      1.758973\n",
       "8          0.400   0.666667        1.38767      1.639034\n",
       "9          0.410   0.694915        1.38680      1.641245\n",
       "10         0.420   0.724138        1.48445      1.549237\n",
       "11         0.430   0.754386        1.48606      1.552196\n",
       "12         0.440   0.785714        1.49596      1.546735\n",
       "13         0.450   0.818182        1.49887      1.542694\n",
       "14         0.460   0.851852        1.50017      1.486565\n",
       "15         0.470   0.886792        1.49877      1.488745\n",
       "16         0.480   0.923077        1.76235      1.338198\n",
       "17         0.490   0.960784        1.84066      1.287131\n",
       "18         0.500   1.000000        2.28548      1.164052\n",
       "19         0.550   1.222222        2.40674      1.118306\n",
       "20         0.600   1.500000        3.12880      0.957662\n",
       "21         0.650   1.857143        3.85840      0.863801\n",
       "22         0.675   2.076923        5.41479      0.768918\n",
       "23         0.700   2.333333        6.16884      0.707600\n",
       "24         0.725   2.636364        6.79943      0.690393\n",
       "25         0.750   3.000000        8.85233      0.626657\n",
       "26         0.800   4.000000       12.30021      0.575942\n",
       "27         0.825   4.714286       14.23250      0.550163\n",
       "28         0.850   5.666667       17.99977      0.532185\n",
       "29         0.875   7.000000       23.70648      0.518586\n",
       "30         0.900   9.000000       32.52394      0.506107\n",
       "31         0.925  12.333333       45.88602      0.489637\n",
       "32         0.950  19.000000       74.57511      0.485082"
      ]
     },
     "execution_count": 47,
     "metadata": {},
     "output_type": "execute_result"
    }
   ],
   "source": [
    "maxweight['c'] = maxweight['alpha_values']/(1 - maxweight['alpha_values'])\n",
    "maxweight = maxweight[['alpha_values', 'c', 'average_queue', 'average_cost']]\n",
    "maxweight.sort_values('alpha_values',ignore_index=True)"
   ]
  },
  {
   "cell_type": "code",
   "execution_count": 22,
   "metadata": {},
   "outputs": [
    {
     "data": {
      "text/plain": [
       "(26,)"
      ]
     },
     "execution_count": 22,
     "metadata": {},
     "output_type": "execute_result"
    }
   ],
   "source": [
    "avg_cost_M.shape"
   ]
  },
  {
   "cell_type": "code",
   "execution_count": 27,
   "metadata": {},
   "outputs": [
    {
     "data": {
      "text/plain": [
       "array([1.90116874, 1.90029728, 1.90134036, 1.75897271, 1.64124481,\n",
       "       1.54923675, 1.55219562, 1.54673459])"
      ]
     },
     "execution_count": 27,
     "metadata": {},
     "output_type": "execute_result"
    }
   ],
   "source": [
    "average_cost_M2"
   ]
  },
  {
   "cell_type": "code",
   "execution_count": 28,
   "metadata": {},
   "outputs": [
    {
     "data": {
      "text/plain": [
       "array([1.48656495, 1.48874474, 1.33819849, 1.2871313 ])"
      ]
     },
     "execution_count": 28,
     "metadata": {},
     "output_type": "execute_result"
    }
   ],
   "source": [
    "average_cost_M3"
   ]
  },
  {
   "cell_type": "code",
   "execution_count": 29,
   "metadata": {},
   "outputs": [
    {
     "data": {
      "text/plain": [
       "array([2.04928597, 2.05332349, 2.05123038, 2.0088166 , 1.66697287,\n",
       "       1.56316643, 1.18528242, 1.13604505, 0.97343103, 0.87612025,\n",
       "       0.7265845 , 0.59091183, 0.50934111, 0.47893433, 1.90116874,\n",
       "       1.90029728, 1.90134036, 1.75897271, 1.64124481, 1.54923675,\n",
       "       1.55219562, 1.54673459, 1.48656495, 1.48874474, 1.33819849,\n",
       "       1.2871313 ])"
      ]
     },
     "execution_count": 29,
     "metadata": {},
     "output_type": "execute_result"
    }
   ],
   "source": [
    "avg_cost_M"
   ]
  },
  {
   "cell_type": "code",
   "execution_count": 34,
   "metadata": {},
   "outputs": [
    {
     "name": "stdout",
     "output_type": "stream",
     "text": [
      "(14,) (8,) (4,)\n"
     ]
    }
   ],
   "source": [
    "print( average_cost_M.shape, average_cost_M2.shape, average_cost_M3.shape)"
   ]
  },
  {
   "cell_type": "code",
   "execution_count": 35,
   "metadata": {},
   "outputs": [
    {
     "name": "stdout",
     "output_type": "stream",
     "text": [
      "(21,)\n"
     ]
    }
   ],
   "source": [
    "alpha_values = np.asarray( [0, 0.2, 0.25, 0.35, 0.4, 0.45, 0.5, 0.55, 0.6, 0.65, 0.675, 0.7, 0.725, 0.75, 0.8, 0.825, 0.85, 0.875,  0.9, 0.925, 0.95] ) \n",
    "print(alpha_values.shape)"
   ]
  },
  {
   "cell_type": "markdown",
   "metadata": {},
   "source": [
    "### For Report"
   ]
  },
  {
   "cell_type": "code",
   "execution_count": 33,
   "metadata": {
    "scrolled": true
   },
   "outputs": [
    {
     "name": "stdout",
     "output_type": "stream",
     "text": [
      "Expected cost for c = 0 case: 2.085\n",
      "Gurobi Optimizer version 10.0.3 build v10.0.3rc0 (win64)\n",
      "\n",
      "CPU model: Intel(R) Core(TM) i7-8550U CPU @ 1.80GHz, instruction set [SSE2|AVX|AVX2]\n",
      "Thread count: 4 physical cores, 8 logical processors, using up to 8 threads\n",
      "\n",
      "Optimize a model with 32 rows, 256 columns and 512 nonzeros\n",
      "Model fingerprint: 0x15a5c22b\n",
      "Coefficient statistics:\n",
      "  Matrix range     [1e+00, 1e+00]\n",
      "  Objective range  [1e+00, 4e+00]\n",
      "  Bounds range     [1e+00, 1e+00]\n",
      "  RHS range        [7e-03, 4e-01]\n",
      "Presolve time: 0.01s\n",
      "Presolved: 32 rows, 256 columns, 512 nonzeros\n",
      "\n",
      "Iteration    Objective       Primal Inf.    Dual Inf.      Time\n",
      "       0    0.0000000e+00   1.194019e+00   0.000000e+00      0s\n",
      "      22    1.1448227e+00   0.000000e+00   0.000000e+00      0s\n",
      "\n",
      "Solved in 22 iterations and 0.02 seconds (0.00 work units)\n",
      "Optimal objective  1.144822700e+00\n",
      "Objective Value: 1.14\n",
      "x:  [[0.0078125  0.01205505 0.         0.         0.         0.\n",
      "  0.         0.         0.         0.         0.         0.\n",
      "  0.         0.         0.         0.        ]\n",
      " [0.         0.01324503 0.         0.         0.         0.\n",
      "  0.         0.         0.         0.         0.         0.\n",
      "  0.         0.         0.         0.        ]\n",
      " [0.         0.         0.08609272 0.         0.         0.\n",
      "  0.         0.         0.         0.         0.         0.\n",
      "  0.         0.         0.         0.        ]\n",
      " [0.         0.         0.03207781 0.09375    0.         0.\n",
      "  0.         0.         0.         0.         0.         0.\n",
      "  0.         0.         0.         0.        ]\n",
      " [0.         0.         0.         0.         0.01324503 0.\n",
      "  0.         0.         0.         0.         0.         0.\n",
      "  0.         0.         0.         0.        ]\n",
      " [0.         0.00594992 0.02949089 0.         0.05251449 0.03125\n",
      "  0.         0.         0.         0.         0.         0.\n",
      "  0.         0.         0.         0.        ]\n",
      " [0.         0.         0.         0.         0.         0.\n",
      "  0.00662252 0.         0.         0.         0.         0.\n",
      "  0.         0.         0.         0.        ]\n",
      " [0.         0.         0.09814776 0.         0.         0.\n",
      "  0.         0.0078125  0.         0.         0.         0.\n",
      "  0.         0.         0.         0.        ]\n",
      " [0.         0.         0.         0.         0.         0.\n",
      "  0.         0.         0.02649007 0.         0.         0.\n",
      "  0.         0.         0.         0.        ]\n",
      " [0.         0.         0.         0.         0.05179015 0.\n",
      "  0.         0.         0.         0.0078125  0.         0.\n",
      "  0.         0.         0.         0.        ]\n",
      " [0.         0.         0.         0.         0.         0.\n",
      "  0.         0.         0.         0.         0.0397351  0.\n",
      "  0.         0.         0.         0.        ]\n",
      " [0.         0.         0.03616515 0.         0.         0.\n",
      "  0.         0.         0.         0.         0.         0.0234375\n",
      "  0.         0.         0.         0.        ]\n",
      " [0.         0.         0.         0.         0.01391763 0.\n",
      "  0.         0.         0.00475993 0.         0.         0.\n",
      "  0.0078125  0.         0.         0.        ]\n",
      " [0.         0.         0.         0.         0.0716577  0.\n",
      "  0.         0.         0.         0.         0.         0.\n",
      "  0.         0.0078125  0.         0.        ]\n",
      " [0.         0.         0.         0.         0.         0.\n",
      "  0.         0.         0.         0.         0.         0.\n",
      "  0.         0.         0.00662252 0.        ]\n",
      " [0.         0.         0.13990066 0.         0.         0.\n",
      "  0.00900248 0.         0.         0.         0.0305774  0.\n",
      "  0.         0.         0.00900248 0.0234375 ]]\n",
      "\n",
      "Fluid Solution:\n",
      "\n",
      "{'Cost': 1.1448226995013566, 'X_matrix': array([[0.0078125 , 0.01205505, 0.        , 0.        , 0.        ,\n",
      "        0.        , 0.        , 0.        , 0.        , 0.        ,\n",
      "        0.        , 0.        , 0.        , 0.        , 0.        ,\n",
      "        0.        ],\n",
      "       [0.        , 0.01324503, 0.        , 0.        , 0.        ,\n",
      "        0.        , 0.        , 0.        , 0.        , 0.        ,\n",
      "        0.        , 0.        , 0.        , 0.        , 0.        ,\n",
      "        0.        ],\n",
      "       [0.        , 0.        , 0.08609272, 0.        , 0.        ,\n",
      "        0.        , 0.        , 0.        , 0.        , 0.        ,\n",
      "        0.        , 0.        , 0.        , 0.        , 0.        ,\n",
      "        0.        ],\n",
      "       [0.        , 0.        , 0.03207781, 0.09375   , 0.        ,\n",
      "        0.        , 0.        , 0.        , 0.        , 0.        ,\n",
      "        0.        , 0.        , 0.        , 0.        , 0.        ,\n",
      "        0.        ],\n",
      "       [0.        , 0.        , 0.        , 0.        , 0.01324503,\n",
      "        0.        , 0.        , 0.        , 0.        , 0.        ,\n",
      "        0.        , 0.        , 0.        , 0.        , 0.        ,\n",
      "        0.        ],\n",
      "       [0.        , 0.00594992, 0.02949089, 0.        , 0.05251449,\n",
      "        0.03125   , 0.        , 0.        , 0.        , 0.        ,\n",
      "        0.        , 0.        , 0.        , 0.        , 0.        ,\n",
      "        0.        ],\n",
      "       [0.        , 0.        , 0.        , 0.        , 0.        ,\n",
      "        0.        , 0.00662252, 0.        , 0.        , 0.        ,\n",
      "        0.        , 0.        , 0.        , 0.        , 0.        ,\n",
      "        0.        ],\n",
      "       [0.        , 0.        , 0.09814776, 0.        , 0.        ,\n",
      "        0.        , 0.        , 0.0078125 , 0.        , 0.        ,\n",
      "        0.        , 0.        , 0.        , 0.        , 0.        ,\n",
      "        0.        ],\n",
      "       [0.        , 0.        , 0.        , 0.        , 0.        ,\n",
      "        0.        , 0.        , 0.        , 0.02649007, 0.        ,\n",
      "        0.        , 0.        , 0.        , 0.        , 0.        ,\n",
      "        0.        ],\n",
      "       [0.        , 0.        , 0.        , 0.        , 0.05179015,\n",
      "        0.        , 0.        , 0.        , 0.        , 0.0078125 ,\n",
      "        0.        , 0.        , 0.        , 0.        , 0.        ,\n",
      "        0.        ],\n",
      "       [0.        , 0.        , 0.        , 0.        , 0.        ,\n",
      "        0.        , 0.        , 0.        , 0.        , 0.        ,\n",
      "        0.0397351 , 0.        , 0.        , 0.        , 0.        ,\n",
      "        0.        ],\n",
      "       [0.        , 0.        , 0.03616515, 0.        , 0.        ,\n",
      "        0.        , 0.        , 0.        , 0.        , 0.        ,\n",
      "        0.        , 0.0234375 , 0.        , 0.        , 0.        ,\n",
      "        0.        ],\n",
      "       [0.        , 0.        , 0.        , 0.        , 0.01391763,\n",
      "        0.        , 0.        , 0.        , 0.00475993, 0.        ,\n",
      "        0.        , 0.        , 0.0078125 , 0.        , 0.        ,\n",
      "        0.        ],\n",
      "       [0.        , 0.        , 0.        , 0.        , 0.0716577 ,\n",
      "        0.        , 0.        , 0.        , 0.        , 0.        ,\n",
      "        0.        , 0.        , 0.        , 0.0078125 , 0.        ,\n",
      "        0.        ],\n",
      "       [0.        , 0.        , 0.        , 0.        , 0.        ,\n",
      "        0.        , 0.        , 0.        , 0.        , 0.        ,\n",
      "        0.        , 0.        , 0.        , 0.        , 0.00662252,\n",
      "        0.        ],\n",
      "       [0.        , 0.        , 0.13990066, 0.        , 0.        ,\n",
      "        0.        , 0.00900248, 0.        , 0.        , 0.        ,\n",
      "        0.0305774 , 0.        , 0.        , 0.        , 0.00900248,\n",
      "        0.0234375 ]])}\n"
     ]
    },
    {
     "data": {
      "image/png": "[encoded data removed]",
      "text/plain": [
       "<Figure size 720x432 with 1 Axes>"
      ]
     },
     "metadata": {
      "needs_background": "light"
     },
     "output_type": "display_data"
    }
   ],
   "source": [
    "importlib.reload(utils)\n",
    "file_name = '../sim_paths_spatial_geometric.pkl'\n",
    "plot_from_sim_paths(file_name)\n",
    "# plt.savefig('sim_paths_spatial_geometric.png', bbox_inches='tight')"
   ]
  },
  {
   "cell_type": "code",
   "execution_count": 21,
   "metadata": {
    "scrolled": false
   },
   "outputs": [
    {
     "name": "stdout",
     "output_type": "stream",
     "text": [
      "16 [[0.         1.         2.         3.         1.         1.41421356\n",
      "  2.23606798 3.16227766 2.         2.23606798 2.82842712 3.60555128\n",
      "  3.         3.16227766 3.60555128 4.24264069]\n",
      " [1.         0.         1.         2.         1.41421356 1.\n",
      "  1.41421356 2.23606798 2.23606798 2.         2.23606798 2.82842712\n",
      "  3.16227766 3.         3.16227766 3.60555128]\n",
      " [2.         1.         0.         1.         2.23606798 1.41421356\n",
      "  1.         1.41421356 2.82842712 2.23606798 2.         2.23606798\n",
      "  3.60555128 3.16227766 3.         3.16227766]\n",
      " [3.         2.         1.         0.         3.16227766 2.23606798\n",
      "  1.41421356 1.         3.60555128 2.82842712 2.23606798 2.\n",
      "  4.24264069 3.60555128 3.16227766 3.        ]\n",
      " [1.         1.41421356 2.23606798 3.16227766 0.         1.\n",
      "  2.         3.         1.         1.41421356 2.23606798 3.16227766\n",
      "  2.         2.23606798 2.82842712 3.60555128]\n",
      " [1.41421356 1.         1.41421356 2.23606798 1.         0.\n",
      "  1.         2.         1.41421356 1.         1.41421356 2.23606798\n",
      "  2.23606798 2.         2.23606798 2.82842712]\n",
      " [2.23606798 1.41421356 1.         1.41421356 2.         1.\n",
      "  0.         1.         2.23606798 1.41421356 1.         1.41421356\n",
      "  2.82842712 2.23606798 2.         2.23606798]\n",
      " [3.16227766 2.23606798 1.41421356 1.         3.         2.\n",
      "  1.         0.         3.16227766 2.23606798 1.41421356 1.\n",
      "  3.60555128 2.82842712 2.23606798 2.        ]\n",
      " [2.         2.23606798 2.82842712 3.60555128 1.         1.41421356\n",
      "  2.23606798 3.16227766 0.         1.         2.         3.\n",
      "  1.         1.41421356 2.23606798 3.16227766]\n",
      " [2.23606798 2.         2.23606798 2.82842712 1.41421356 1.\n",
      "  1.41421356 2.23606798 1.         0.         1.         2.\n",
      "  1.41421356 1.         1.41421356 2.23606798]\n",
      " [2.82842712 2.23606798 2.         2.23606798 2.23606798 1.41421356\n",
      "  1.         1.41421356 2.         1.         0.         1.\n",
      "  2.23606798 1.41421356 1.         1.41421356]\n",
      " [3.60555128 2.82842712 2.23606798 2.         3.16227766 2.23606798\n",
      "  1.41421356 1.         3.         2.         1.         0.\n",
      "  3.16227766 2.23606798 1.41421356 1.        ]\n",
      " [3.         3.16227766 3.60555128 4.24264069 2.         2.23606798\n",
      "  2.82842712 3.60555128 1.         1.41421356 2.23606798 3.16227766\n",
      "  0.         1.         2.         3.        ]\n",
      " [3.16227766 3.         3.16227766 3.60555128 2.23606798 2.\n",
      "  2.23606798 2.82842712 1.41421356 1.         1.41421356 2.23606798\n",
      "  1.         0.         1.         2.        ]\n",
      " [3.60555128 3.16227766 3.         3.16227766 2.82842712 2.23606798\n",
      "  2.         2.23606798 2.23606798 1.41421356 1.         1.41421356\n",
      "  2.         1.         0.         1.        ]\n",
      " [4.24264069 3.60555128 3.16227766 3.         3.60555128 2.82842712\n",
      "  2.23606798 2.         3.16227766 2.23606798 1.41421356 1.\n",
      "  3.         2.         1.         0.        ]] [0.01986755 0.01324503 0.08609272 0.12582781 0.01324503 0.1192053\n",
      " 0.00662252 0.10596026 0.02649007 0.05960265 0.0397351  0.05960265\n",
      " 0.02649007 0.0794702  0.00662252 0.21192053] [0.0078125 0.03125   0.421875  0.09375   0.203125  0.03125   0.015625\n",
      " 0.0078125 0.03125   0.0078125 0.0703125 0.0234375 0.0078125 0.0078125\n",
      " 0.015625  0.0234375]\n"
     ]
    }
   ],
   "source": [
    "with open(file_name,'rb') as f:\n",
    "        M_res,B_res, N, W, pmf_cust, pmf_serv = pickle.load(f)\n",
    "print(N, W, pmf_cust, pmf_serv)"
   ]
  },
  {
   "cell_type": "code",
   "execution_count": 18,
   "metadata": {
    "scrolled": true
   },
   "outputs": [
    {
     "ename": "KeyError",
     "evalue": "'Cpaths'",
     "output_type": "error",
     "traceback": [
      "\u001b[1;31m---------------------------------------------------------------------------\u001b[0m",
      "\u001b[1;31mKeyError\u001b[0m                                  Traceback (most recent call last)",
      "\u001b[1;32m<ipython-input-18-2c17c5dc3ccd>\u001b[0m in \u001b[0;36m<module>\u001b[1;34m\u001b[0m\n\u001b[1;32m----> 1\u001b[1;33m \u001b[0mCpaths\u001b[0m\u001b[1;33m[\u001b[0m\u001b[1;34m\"Cpaths\"\u001b[0m\u001b[1;33m]\u001b[0m\u001b[1;33m\u001b[0m\u001b[1;33m\u001b[0m\u001b[0m\n\u001b[0m",
      "\u001b[1;31mKeyError\u001b[0m: 'Cpaths'"
     ]
    }
   ],
   "source": [
    "Cpaths[\"Cpaths\"]"
   ]
  },
  {
   "cell_type": "code",
   "execution_count": 36,
   "metadata": {
    "scrolled": false
   },
   "outputs": [
    {
     "name": "stdout",
     "output_type": "stream",
     "text": [
      "Expected cost for c = 0 case: 20.607\n",
      "Gurobi Optimizer version 10.0.3 build v10.0.3rc0 (win64)\n",
      "\n",
      "CPU model: Intel(R) Core(TM) i7-8550U CPU @ 1.80GHz, instruction set [SSE2|AVX|AVX2]\n",
      "Thread count: 4 physical cores, 8 logical processors, using up to 8 threads\n",
      "\n",
      "Optimize a model with 32 rows, 256 columns and 512 nonzeros\n",
      "Model fingerprint: 0x37b1be0b\n",
      "Coefficient statistics:\n",
      "  Matrix range     [1e+00, 1e+00]\n",
      "  Objective range  [1e+01, 4e+01]\n",
      "  Bounds range     [1e+00, 1e+00]\n",
      "  RHS range        [7e-03, 2e-01]\n",
      "Presolve time: 0.01s\n",
      "Presolved: 32 rows, 256 columns, 512 nonzeros\n",
      "\n",
      "Iteration    Objective       Primal Inf.    Dual Inf.      Time\n",
      "       0    0.0000000e+00   7.514880e-01   0.000000e+00      0s\n",
      "      17    4.4180447e+00   0.000000e+00   0.000000e+00      0s\n",
      "\n",
      "Solved in 17 iterations and 0.02 seconds (0.00 work units)\n",
      "Optimal objective  4.418044734e+00\n",
      "Objective Value: 4.42\n",
      "x:  [[0.07632258 0.         0.         0.         0.         0.\n",
      "  0.         0.         0.         0.         0.         0.\n",
      "  0.         0.         0.         0.        ]\n",
      " [0.00157148 0.04259703 0.         0.         0.         0.\n",
      "  0.         0.         0.         0.         0.         0.\n",
      "  0.         0.         0.         0.        ]\n",
      " [0.         0.0128813  0.02462584 0.         0.         0.00761592\n",
      "  0.         0.01522809 0.         0.         0.         0.\n",
      "  0.         0.         0.         0.        ]\n",
      " [0.         0.         0.         0.06135488 0.         0.\n",
      "  0.         0.03497064 0.         0.         0.         0.\n",
      "  0.         0.         0.         0.        ]\n",
      " [0.02406252 0.         0.         0.         0.02039741 0.\n",
      "  0.         0.         0.         0.         0.         0.\n",
      "  0.         0.         0.         0.        ]\n",
      " [0.         0.         0.         0.         0.         0.00653104\n",
      "  0.         0.         0.         0.         0.         0.\n",
      "  0.         0.         0.         0.        ]\n",
      " [0.         0.         0.         0.         0.         0.05266977\n",
      "  0.05407229 0.         0.         0.         0.         0.\n",
      "  0.         0.         0.         0.        ]\n",
      " [0.         0.         0.         0.         0.         0.\n",
      "  0.         0.03118331 0.         0.         0.         0.\n",
      "  0.         0.         0.         0.        ]\n",
      " [0.         0.         0.         0.         0.         0.\n",
      "  0.         0.         0.02940645 0.00610316 0.         0.\n",
      "  0.         0.05500581 0.         0.        ]\n",
      " [0.         0.         0.         0.         0.         0.\n",
      "  0.         0.         0.         0.04553928 0.         0.\n",
      "  0.         0.         0.         0.        ]\n",
      " [0.         0.         0.         0.         0.         0.\n",
      "  0.         0.06901417 0.         0.         0.01300444 0.00788829\n",
      "  0.         0.00882625 0.         0.        ]\n",
      " [0.         0.         0.         0.         0.         0.\n",
      "  0.         0.         0.         0.         0.         0.00951475\n",
      "  0.         0.         0.         0.        ]\n",
      " [0.         0.         0.         0.         0.         0.\n",
      "  0.         0.         0.         0.         0.         0.\n",
      "  0.03775723 0.03598408 0.         0.        ]\n",
      " [0.         0.         0.         0.         0.         0.\n",
      "  0.         0.         0.         0.         0.         0.\n",
      "  0.         0.04462872 0.         0.        ]\n",
      " [0.         0.         0.         0.         0.         0.\n",
      "  0.         0.         0.         0.         0.         0.\n",
      "  0.         0.01868987 0.07682367 0.        ]\n",
      " [0.         0.         0.         0.         0.         0.\n",
      "  0.         0.         0.         0.         0.         0.02680413\n",
      "  0.         0.         0.         0.04892561]]\n",
      "\n",
      "Fluid Solution:\n",
      "\n",
      "{'Cost': 4.418044733716133, 'X_matrix': array([[0.07632258, 0.        , 0.        , 0.        , 0.        ,\n",
      "        0.        , 0.        , 0.        , 0.        , 0.        ,\n",
      "        0.        , 0.        , 0.        , 0.        , 0.        ,\n",
      "        0.        ],\n",
      "       [0.00157148, 0.04259703, 0.        , 0.        , 0.        ,\n",
      "        0.        , 0.        , 0.        , 0.        , 0.        ,\n",
      "        0.        , 0.        , 0.        , 0.        , 0.        ,\n",
      "        0.        ],\n",
      "       [0.        , 0.0128813 , 0.02462584, 0.        , 0.        ,\n",
      "        0.00761592, 0.        , 0.01522809, 0.        , 0.        ,\n",
      "        0.        , 0.        , 0.        , 0.        , 0.        ,\n",
      "        0.        ],\n",
      "       [0.        , 0.        , 0.        , 0.06135488, 0.        ,\n",
      "        0.        , 0.        , 0.03497064, 0.        , 0.        ,\n",
      "        0.        , 0.        , 0.        , 0.        , 0.        ,\n",
      "        0.        ],\n",
      "       [0.02406252, 0.        , 0.        , 0.        , 0.02039741,\n",
      "        0.        , 0.        , 0.        , 0.        , 0.        ,\n",
      "        0.        , 0.        , 0.        , 0.        , 0.        ,\n",
      "        0.        ],\n",
      "       [0.        , 0.        , 0.        , 0.        , 0.        ,\n",
      "        0.00653104, 0.        , 0.        , 0.        , 0.        ,\n",
      "        0.        , 0.        , 0.        , 0.        , 0.        ,\n",
      "        0.        ],\n",
      "       [0.        , 0.        , 0.        , 0.        , 0.        ,\n",
      "        0.05266977, 0.05407229, 0.        , 0.        , 0.        ,\n",
      "        0.        , 0.        , 0.        , 0.        , 0.        ,\n",
      "        0.        ],\n",
      "       [0.        , 0.        , 0.        , 0.        , 0.        ,\n",
      "        0.        , 0.        , 0.03118331, 0.        , 0.        ,\n",
      "        0.        , 0.        , 0.        , 0.        , 0.        ,\n",
      "        0.        ],\n",
      "       [0.        , 0.        , 0.        , 0.        , 0.        ,\n",
      "        0.        , 0.        , 0.        , 0.02940645, 0.00610316,\n",
      "        0.        , 0.        , 0.        , 0.05500581, 0.        ,\n",
      "        0.        ],\n",
      "       [0.        , 0.        , 0.        , 0.        , 0.        ,\n",
      "        0.        , 0.        , 0.        , 0.        , 0.04553928,\n",
      "        0.        , 0.        , 0.        , 0.        , 0.        ,\n",
      "        0.        ],\n",
      "       [0.        , 0.        , 0.        , 0.        , 0.        ,\n",
      "        0.        , 0.        , 0.06901417, 0.        , 0.        ,\n",
      "        0.01300444, 0.00788829, 0.        , 0.00882625, 0.        ,\n",
      "        0.        ],\n",
      "       [0.        , 0.        , 0.        , 0.        , 0.        ,\n",
      "        0.        , 0.        , 0.        , 0.        , 0.        ,\n",
      "        0.        , 0.00951475, 0.        , 0.        , 0.        ,\n",
      "        0.        ],\n",
      "       [0.        , 0.        , 0.        , 0.        , 0.        ,\n",
      "        0.        , 0.        , 0.        , 0.        , 0.        ,\n",
      "        0.        , 0.        , 0.03775723, 0.03598408, 0.        ,\n",
      "        0.        ],\n",
      "       [0.        , 0.        , 0.        , 0.        , 0.        ,\n",
      "        0.        , 0.        , 0.        , 0.        , 0.        ,\n",
      "        0.        , 0.        , 0.        , 0.04462872, 0.        ,\n",
      "        0.        ],\n",
      "       [0.        , 0.        , 0.        , 0.        , 0.        ,\n",
      "        0.        , 0.        , 0.        , 0.        , 0.        ,\n",
      "        0.        , 0.        , 0.        , 0.01868987, 0.07682367,\n",
      "        0.        ],\n",
      "       [0.        , 0.        , 0.        , 0.        , 0.        ,\n",
      "        0.        , 0.        , 0.        , 0.        , 0.        ,\n",
      "        0.        , 0.02680413, 0.        , 0.        , 0.        ,\n",
      "        0.04892561]])}\n"
     ]
    },
    {
     "data": {
      "image/png": "[encoded data removed]",
      "text/plain": [
       "<Figure size 720x432 with 1 Axes>"
      ]
     },
     "metadata": {
      "needs_background": "light"
     },
     "output_type": "display_data"
    }
   ],
   "source": [
    "file_name = '../sim_paths_spatial_scale_16.pkl'\n",
    "plot_from_sim_paths(file_name)\n"
   ]
  },
  {
   "cell_type": "code",
   "execution_count": 22,
   "metadata": {
    "scrolled": false
   },
   "outputs": [
    {
     "name": "stdout",
     "output_type": "stream",
     "text": [
      "16 [[0.         1.         2.         3.         1.         1.41421356\n",
      "  2.23606798 3.16227766 2.         2.23606798 2.82842712 3.60555128\n",
      "  3.         3.16227766 3.60555128 4.24264069]\n",
      " [1.         0.         1.         2.         1.41421356 1.\n",
      "  1.41421356 2.23606798 2.23606798 2.         2.23606798 2.82842712\n",
      "  3.16227766 3.         3.16227766 3.60555128]\n",
      " [2.         1.         0.         1.         2.23606798 1.41421356\n",
      "  1.         1.41421356 2.82842712 2.23606798 2.         2.23606798\n",
      "  3.60555128 3.16227766 3.         3.16227766]\n",
      " [3.         2.         1.         0.         3.16227766 2.23606798\n",
      "  1.41421356 1.         3.60555128 2.82842712 2.23606798 2.\n",
      "  4.24264069 3.60555128 3.16227766 3.        ]\n",
      " [1.         1.41421356 2.23606798 3.16227766 0.         1.\n",
      "  2.         3.         1.         1.41421356 2.23606798 3.16227766\n",
      "  2.         2.23606798 2.82842712 3.60555128]\n",
      " [1.41421356 1.         1.41421356 2.23606798 1.         0.\n",
      "  1.         2.         1.41421356 1.         1.41421356 2.23606798\n",
      "  2.23606798 2.         2.23606798 2.82842712]\n",
      " [2.23606798 1.41421356 1.         1.41421356 2.         1.\n",
      "  0.         1.         2.23606798 1.41421356 1.         1.41421356\n",
      "  2.82842712 2.23606798 2.         2.23606798]\n",
      " [3.16227766 2.23606798 1.41421356 1.         3.         2.\n",
      "  1.         0.         3.16227766 2.23606798 1.41421356 1.\n",
      "  3.60555128 2.82842712 2.23606798 2.        ]\n",
      " [2.         2.23606798 2.82842712 3.60555128 1.         1.41421356\n",
      "  2.23606798 3.16227766 0.         1.         2.         3.\n",
      "  1.         1.41421356 2.23606798 3.16227766]\n",
      " [2.23606798 2.         2.23606798 2.82842712 1.41421356 1.\n",
      "  1.41421356 2.23606798 1.         0.         1.         2.\n",
      "  1.41421356 1.         1.41421356 2.23606798]\n",
      " [2.82842712 2.23606798 2.         2.23606798 2.23606798 1.41421356\n",
      "  1.         1.41421356 2.         1.         0.         1.\n",
      "  2.23606798 1.41421356 1.         1.41421356]\n",
      " [3.60555128 2.82842712 2.23606798 2.         3.16227766 2.23606798\n",
      "  1.41421356 1.         3.         2.         1.         0.\n",
      "  3.16227766 2.23606798 1.41421356 1.        ]\n",
      " [3.         3.16227766 3.60555128 4.24264069 2.         2.23606798\n",
      "  2.82842712 3.60555128 1.         1.41421356 2.23606798 3.16227766\n",
      "  0.         1.         2.         3.        ]\n",
      " [3.16227766 3.         3.16227766 3.60555128 2.23606798 2.\n",
      "  2.23606798 2.82842712 1.41421356 1.         1.41421356 2.23606798\n",
      "  1.         0.         1.         2.        ]\n",
      " [3.60555128 3.16227766 3.         3.16227766 2.82842712 2.23606798\n",
      "  2.         2.23606798 2.23606798 1.41421356 1.         1.41421356\n",
      "  2.         1.         0.         1.        ]\n",
      " [4.24264069 3.60555128 3.16227766 3.         3.60555128 2.82842712\n",
      "  2.23606798 2.         3.16227766 2.23606798 1.41421356 1.\n",
      "  3.         2.         1.         0.        ]] [0.01986755 0.01324503 0.08609272 0.12582781 0.01324503 0.1192053\n",
      " 0.00662252 0.10596026 0.02649007 0.05960265 0.0397351  0.05960265\n",
      " 0.02649007 0.0794702  0.00662252 0.21192053] [0.0078125 0.03125   0.421875  0.09375   0.203125  0.03125   0.015625\n",
      " 0.0078125 0.03125   0.0078125 0.0703125 0.0234375 0.0078125 0.0078125\n",
      " 0.015625  0.0234375]\n"
     ]
    }
   ],
   "source": [
    "with open(file_name,'rb') as f:\n",
    "        M_res,B_res, N, W, pmf_cust, pmf_serv = pickle.load(f)\n",
    "print(N, W, pmf_cust, pmf_serv)"
   ]
  },
  {
   "cell_type": "code",
   "execution_count": 37,
   "metadata": {
    "scrolled": false
   },
   "outputs": [
    {
     "name": "stdout",
     "output_type": "stream",
     "text": [
      "Expected cost for c = 0 case: 0.854\n",
      "Gurobi Optimizer version 10.0.3 build v10.0.3rc0 (win64)\n",
      "\n",
      "CPU model: Intel(R) Core(TM) i7-8550U CPU @ 1.80GHz, instruction set [SSE2|AVX|AVX2]\n",
      "Thread count: 4 physical cores, 8 logical processors, using up to 8 threads\n",
      "\n",
      "Optimize a model with 8 rows, 16 columns and 32 nonzeros\n",
      "Model fingerprint: 0x1e0e9b1b\n",
      "Coefficient statistics:\n",
      "  Matrix range     [1e+00, 1e+00]\n",
      "  Objective range  [1e+00, 1e+00]\n",
      "  Bounds range     [1e+00, 1e+00]\n",
      "  RHS range        [3e-01, 3e-01]\n",
      "Presolve time: 0.01s\n",
      "Presolved: 8 rows, 16 columns, 32 nonzeros\n",
      "\n",
      "Iteration    Objective       Primal Inf.    Dual Inf.      Time\n",
      "       0    0.0000000e+00   0.000000e+00   0.000000e+00      0s\n",
      "\n",
      "Solved in 0 iterations and 0.02 seconds (0.00 work units)\n",
      "Optimal objective  0.000000000e+00\n",
      "Objective Value: 0.00\n",
      "x:  [[0.25 0.   0.   0.  ]\n",
      " [0.   0.25 0.   0.  ]\n",
      " [0.   0.   0.25 0.  ]\n",
      " [0.   0.   0.   0.25]]\n",
      "\n",
      "Fluid Solution:\n",
      "\n",
      "{'Cost': 0.0, 'X_matrix': array([[0.25, 0.  , 0.  , 0.  ],\n",
      "       [0.  , 0.25, 0.  , 0.  ],\n",
      "       [0.  , 0.  , 0.25, 0.  ],\n",
      "       [0.  , 0.  , 0.  , 0.25]])}\n"
     ]
    },
    {
     "data": {
      "image/png": "[encoded data removed]",
      "text/plain": [
       "<Figure size 720x432 with 1 Axes>"
      ]
     },
     "metadata": {
      "needs_background": "light"
     },
     "output_type": "display_data"
    }
   ],
   "source": [
    "file_name = '../sim_paths_spatial_uniform_4.pkl'\n",
    "plot_from_sim_paths(file_name)"
   ]
  },
  {
   "cell_type": "code",
   "execution_count": 23,
   "metadata": {
    "scrolled": false
   },
   "outputs": [
    {
     "name": "stdout",
     "output_type": "stream",
     "text": [
      "16 [[0.         1.         2.         3.         1.         1.41421356\n",
      "  2.23606798 3.16227766 2.         2.23606798 2.82842712 3.60555128\n",
      "  3.         3.16227766 3.60555128 4.24264069]\n",
      " [1.         0.         1.         2.         1.41421356 1.\n",
      "  1.41421356 2.23606798 2.23606798 2.         2.23606798 2.82842712\n",
      "  3.16227766 3.         3.16227766 3.60555128]\n",
      " [2.         1.         0.         1.         2.23606798 1.41421356\n",
      "  1.         1.41421356 2.82842712 2.23606798 2.         2.23606798\n",
      "  3.60555128 3.16227766 3.         3.16227766]\n",
      " [3.         2.         1.         0.         3.16227766 2.23606798\n",
      "  1.41421356 1.         3.60555128 2.82842712 2.23606798 2.\n",
      "  4.24264069 3.60555128 3.16227766 3.        ]\n",
      " [1.         1.41421356 2.23606798 3.16227766 0.         1.\n",
      "  2.         3.         1.         1.41421356 2.23606798 3.16227766\n",
      "  2.         2.23606798 2.82842712 3.60555128]\n",
      " [1.41421356 1.         1.41421356 2.23606798 1.         0.\n",
      "  1.         2.         1.41421356 1.         1.41421356 2.23606798\n",
      "  2.23606798 2.         2.23606798 2.82842712]\n",
      " [2.23606798 1.41421356 1.         1.41421356 2.         1.\n",
      "  0.         1.         2.23606798 1.41421356 1.         1.41421356\n",
      "  2.82842712 2.23606798 2.         2.23606798]\n",
      " [3.16227766 2.23606798 1.41421356 1.         3.         2.\n",
      "  1.         0.         3.16227766 2.23606798 1.41421356 1.\n",
      "  3.60555128 2.82842712 2.23606798 2.        ]\n",
      " [2.         2.23606798 2.82842712 3.60555128 1.         1.41421356\n",
      "  2.23606798 3.16227766 0.         1.         2.         3.\n",
      "  1.         1.41421356 2.23606798 3.16227766]\n",
      " [2.23606798 2.         2.23606798 2.82842712 1.41421356 1.\n",
      "  1.41421356 2.23606798 1.         0.         1.         2.\n",
      "  1.41421356 1.         1.41421356 2.23606798]\n",
      " [2.82842712 2.23606798 2.         2.23606798 2.23606798 1.41421356\n",
      "  1.         1.41421356 2.         1.         0.         1.\n",
      "  2.23606798 1.41421356 1.         1.41421356]\n",
      " [3.60555128 2.82842712 2.23606798 2.         3.16227766 2.23606798\n",
      "  1.41421356 1.         3.         2.         1.         0.\n",
      "  3.16227766 2.23606798 1.41421356 1.        ]\n",
      " [3.         3.16227766 3.60555128 4.24264069 2.         2.23606798\n",
      "  2.82842712 3.60555128 1.         1.41421356 2.23606798 3.16227766\n",
      "  0.         1.         2.         3.        ]\n",
      " [3.16227766 3.         3.16227766 3.60555128 2.23606798 2.\n",
      "  2.23606798 2.82842712 1.41421356 1.         1.41421356 2.23606798\n",
      "  1.         0.         1.         2.        ]\n",
      " [3.60555128 3.16227766 3.         3.16227766 2.82842712 2.23606798\n",
      "  2.         2.23606798 2.23606798 1.41421356 1.         1.41421356\n",
      "  2.         1.         0.         1.        ]\n",
      " [4.24264069 3.60555128 3.16227766 3.         3.60555128 2.82842712\n",
      "  2.23606798 2.         3.16227766 2.23606798 1.41421356 1.\n",
      "  3.         2.         1.         0.        ]] [0.01986755 0.01324503 0.08609272 0.12582781 0.01324503 0.1192053\n",
      " 0.00662252 0.10596026 0.02649007 0.05960265 0.0397351  0.05960265\n",
      " 0.02649007 0.0794702  0.00662252 0.21192053] [0.0078125 0.03125   0.421875  0.09375   0.203125  0.03125   0.015625\n",
      " 0.0078125 0.03125   0.0078125 0.0703125 0.0234375 0.0078125 0.0078125\n",
      " 0.015625  0.0234375]\n"
     ]
    }
   ],
   "source": [
    "with open(file_name,'rb') as f:\n",
    "        M_res,B_res, N, W, pmf_cust, pmf_serv = pickle.load(f)\n",
    "print(N, W, pmf_cust, pmf_serv)"
   ]
  },
  {
   "cell_type": "code",
   "execution_count": 38,
   "metadata": {
    "scrolled": false
   },
   "outputs": [
    {
     "name": "stdout",
     "output_type": "stream",
     "text": [
      "Expected cost for c = 0 case: 1.453\n",
      "Gurobi Optimizer version 10.0.3 build v10.0.3rc0 (win64)\n",
      "\n",
      "CPU model: Intel(R) Core(TM) i7-8550U CPU @ 1.80GHz, instruction set [SSE2|AVX|AVX2]\n",
      "Thread count: 4 physical cores, 8 logical processors, using up to 8 threads\n",
      "\n",
      "Optimize a model with 18 rows, 81 columns and 162 nonzeros\n",
      "Model fingerprint: 0x072eeff8\n",
      "Coefficient statistics:\n",
      "  Matrix range     [1e+00, 1e+00]\n",
      "  Objective range  [1e+00, 3e+00]\n",
      "  Bounds range     [1e+00, 1e+00]\n",
      "  RHS range        [1e-01, 1e-01]\n",
      "Presolve time: 0.02s\n",
      "Presolved: 18 rows, 81 columns, 162 nonzeros\n",
      "\n",
      "Iteration    Objective       Primal Inf.    Dual Inf.      Time\n",
      "       0    0.0000000e+00   0.000000e+00   0.000000e+00      0s\n",
      "\n",
      "Solved in 0 iterations and 0.02 seconds (0.00 work units)\n",
      "Optimal objective  0.000000000e+00\n",
      "Objective Value: 0.00\n",
      "x:  [[0.11111111 0.         0.         0.         0.         0.\n",
      "  0.         0.         0.        ]\n",
      " [0.         0.11111111 0.         0.         0.         0.\n",
      "  0.         0.         0.        ]\n",
      " [0.         0.         0.11111111 0.         0.         0.\n",
      "  0.         0.         0.        ]\n",
      " [0.         0.         0.         0.11111111 0.         0.\n",
      "  0.         0.         0.        ]\n",
      " [0.         0.         0.         0.         0.11111111 0.\n",
      "  0.         0.         0.        ]\n",
      " [0.         0.         0.         0.         0.         0.11111111\n",
      "  0.         0.         0.        ]\n",
      " [0.         0.         0.         0.         0.         0.\n",
      "  0.11111111 0.         0.        ]\n",
      " [0.         0.         0.         0.         0.         0.\n",
      "  0.         0.11111111 0.        ]\n",
      " [0.         0.         0.         0.         0.         0.\n",
      "  0.         0.         0.11111111]]\n",
      "\n",
      "Fluid Solution:\n",
      "\n",
      "{'Cost': 0.0, 'X_matrix': array([[0.11111111, 0.        , 0.        , 0.        , 0.        ,\n",
      "        0.        , 0.        , 0.        , 0.        ],\n",
      "       [0.        , 0.11111111, 0.        , 0.        , 0.        ,\n",
      "        0.        , 0.        , 0.        , 0.        ],\n",
      "       [0.        , 0.        , 0.11111111, 0.        , 0.        ,\n",
      "        0.        , 0.        , 0.        , 0.        ],\n",
      "       [0.        , 0.        , 0.        , 0.11111111, 0.        ,\n",
      "        0.        , 0.        , 0.        , 0.        ],\n",
      "       [0.        , 0.        , 0.        , 0.        , 0.11111111,\n",
      "        0.        , 0.        , 0.        , 0.        ],\n",
      "       [0.        , 0.        , 0.        , 0.        , 0.        ,\n",
      "        0.11111111, 0.        , 0.        , 0.        ],\n",
      "       [0.        , 0.        , 0.        , 0.        , 0.        ,\n",
      "        0.        , 0.11111111, 0.        , 0.        ],\n",
      "       [0.        , 0.        , 0.        , 0.        , 0.        ,\n",
      "        0.        , 0.        , 0.11111111, 0.        ],\n",
      "       [0.        , 0.        , 0.        , 0.        , 0.        ,\n",
      "        0.        , 0.        , 0.        , 0.11111111]])}\n"
     ]
    },
    {
     "data": {
      "image/png": "[encoded data removed]",
      "text/plain": [
       "<Figure size 720x432 with 1 Axes>"
      ]
     },
     "metadata": {
      "needs_background": "light"
     },
     "output_type": "display_data"
    }
   ],
   "source": [
    "file_name= '../sim_paths_spatial_uniform_9.pkl'\n",
    "plot_from_sim_paths(file_name)"
   ]
  },
  {
   "cell_type": "code",
   "execution_count": 24,
   "metadata": {},
   "outputs": [
    {
     "name": "stdout",
     "output_type": "stream",
     "text": [
      "16 [[0.         1.         2.         3.         1.         1.41421356\n",
      "  2.23606798 3.16227766 2.         2.23606798 2.82842712 3.60555128\n",
      "  3.         3.16227766 3.60555128 4.24264069]\n",
      " [1.         0.         1.         2.         1.41421356 1.\n",
      "  1.41421356 2.23606798 2.23606798 2.         2.23606798 2.82842712\n",
      "  3.16227766 3.         3.16227766 3.60555128]\n",
      " [2.         1.         0.         1.         2.23606798 1.41421356\n",
      "  1.         1.41421356 2.82842712 2.23606798 2.         2.23606798\n",
      "  3.60555128 3.16227766 3.         3.16227766]\n",
      " [3.         2.         1.         0.         3.16227766 2.23606798\n",
      "  1.41421356 1.         3.60555128 2.82842712 2.23606798 2.\n",
      "  4.24264069 3.60555128 3.16227766 3.        ]\n",
      " [1.         1.41421356 2.23606798 3.16227766 0.         1.\n",
      "  2.         3.         1.         1.41421356 2.23606798 3.16227766\n",
      "  2.         2.23606798 2.82842712 3.60555128]\n",
      " [1.41421356 1.         1.41421356 2.23606798 1.         0.\n",
      "  1.         2.         1.41421356 1.         1.41421356 2.23606798\n",
      "  2.23606798 2.         2.23606798 2.82842712]\n",
      " [2.23606798 1.41421356 1.         1.41421356 2.         1.\n",
      "  0.         1.         2.23606798 1.41421356 1.         1.41421356\n",
      "  2.82842712 2.23606798 2.         2.23606798]\n",
      " [3.16227766 2.23606798 1.41421356 1.         3.         2.\n",
      "  1.         0.         3.16227766 2.23606798 1.41421356 1.\n",
      "  3.60555128 2.82842712 2.23606798 2.        ]\n",
      " [2.         2.23606798 2.82842712 3.60555128 1.         1.41421356\n",
      "  2.23606798 3.16227766 0.         1.         2.         3.\n",
      "  1.         1.41421356 2.23606798 3.16227766]\n",
      " [2.23606798 2.         2.23606798 2.82842712 1.41421356 1.\n",
      "  1.41421356 2.23606798 1.         0.         1.         2.\n",
      "  1.41421356 1.         1.41421356 2.23606798]\n",
      " [2.82842712 2.23606798 2.         2.23606798 2.23606798 1.41421356\n",
      "  1.         1.41421356 2.         1.         0.         1.\n",
      "  2.23606798 1.41421356 1.         1.41421356]\n",
      " [3.60555128 2.82842712 2.23606798 2.         3.16227766 2.23606798\n",
      "  1.41421356 1.         3.         2.         1.         0.\n",
      "  3.16227766 2.23606798 1.41421356 1.        ]\n",
      " [3.         3.16227766 3.60555128 4.24264069 2.         2.23606798\n",
      "  2.82842712 3.60555128 1.         1.41421356 2.23606798 3.16227766\n",
      "  0.         1.         2.         3.        ]\n",
      " [3.16227766 3.         3.16227766 3.60555128 2.23606798 2.\n",
      "  2.23606798 2.82842712 1.41421356 1.         1.41421356 2.23606798\n",
      "  1.         0.         1.         2.        ]\n",
      " [3.60555128 3.16227766 3.         3.16227766 2.82842712 2.23606798\n",
      "  2.         2.23606798 2.23606798 1.41421356 1.         1.41421356\n",
      "  2.         1.         0.         1.        ]\n",
      " [4.24264069 3.60555128 3.16227766 3.         3.60555128 2.82842712\n",
      "  2.23606798 2.         3.16227766 2.23606798 1.41421356 1.\n",
      "  3.         2.         1.         0.        ]] [0.01986755 0.01324503 0.08609272 0.12582781 0.01324503 0.1192053\n",
      " 0.00662252 0.10596026 0.02649007 0.05960265 0.0397351  0.05960265\n",
      " 0.02649007 0.0794702  0.00662252 0.21192053] [0.0078125 0.03125   0.421875  0.09375   0.203125  0.03125   0.015625\n",
      " 0.0078125 0.03125   0.0078125 0.0703125 0.0234375 0.0078125 0.0078125\n",
      " 0.015625  0.0234375]\n"
     ]
    }
   ],
   "source": [
    "with open(file_name,'rb') as f:\n",
    "        M_res,B_res, N, W, pmf_cust, pmf_serv = pickle.load(f)\n",
    "print(N, W, pmf_cust, pmf_serv)"
   ]
  },
  {
   "cell_type": "code",
   "execution_count": null,
   "metadata": {},
   "outputs": [],
   "source": []
  }
 ],
 "metadata": {
  "kernelspec": {
   "display_name": "Python 3",
   "language": "python",
   "name": "python3"
  },
  "language_info": {
   "codemirror_mode": {
    "name": "ipython",
    "version": 3
   },
   "file_extension": ".py",
   "mimetype": "text/x-python",
   "name": "python",
   "nbconvert_exporter": "python",
   "pygments_lexer": "ipython3",
   "version": "3.7.3"
  }
 },
 "nbformat": 4,
 "nbformat_minor": 4
}
