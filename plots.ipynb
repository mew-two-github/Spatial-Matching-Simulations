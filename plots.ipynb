{
 "cells": [
  {
   "cell_type": "code",
   "execution_count": 2,
   "metadata": {},
   "outputs": [],
   "source": [
    "import numpy as np\n",
    "from scipy.stats import rv_discrete\n",
    "from matplotlib import pyplot as plt\n",
    "import cvxpy as cp\n",
    "import pickle\n",
    "# import gurobipy"
   ]
  },
  {
   "cell_type": "code",
   "execution_count": 34,
   "metadata": {},
   "outputs": [],
   "source": [
    "import utils\n",
    "\n",
    "\n",
    "\n",
    "def fluid_solution(N, W, pmf_cust, pmf_serv):\n",
    "    M11 = cp.Variable()\n",
    "    M12 = cp.Variable()\n",
    "    M22 = cp.Variable()\n",
    "    M21 = cp.Variable()\n",
    "    print(W)\n",
    "    constraints = []                          \n",
    "    constraints.append( M11 + M12 == pmf_cust[0] )\n",
    "    constraints.append( M21 + M22 == pmf_cust[1] )\n",
    "    constraints.append( M11 + M21 == pmf_serv[0] )\n",
    "    constraints.append( M12 + M22 == pmf_serv[1] )\n",
    "\n",
    "    constraints.append( M11>=0 )\n",
    "    constraints.append( M12>=0 )\n",
    "    constraints.append( M21>=0 )\n",
    "    constraints.append( M22>=0 )\n",
    "\n",
    "    constraints.append( M11<=1 )\n",
    "    constraints.append( M12<=1 )\n",
    "    constraints.append( M21<=1 )\n",
    "    constraints.append( M22<=1 )                 \n",
    "\n",
    "    objective = cp.Minimize(  W[0][0]*M11 + W[1][0]*M21 + W[0][1]*M12 + W[1][1]*M22 )\n",
    "    problem = cp.Problem(objective, constraints)\n",
    "    problem.solve()  \n",
    "    print(problem)\n",
    "    Mstar = np.zeros(shape=(2,2))\n",
    "    Mstar[0][0] = M11.value\n",
    "    Mstar[0][1] = M12.value\n",
    "    Mstar[1][0] = M21.value\n",
    "    Mstar[1][1] = M22.value\n",
    "    return({\"X\": Mstar, \"Cost\": problem.value })\n",
    "\n",
    "def run_extremes(N, W, pmf_cust, pmf_serv, gurobi_flag = 1):\n",
    "    Ex = round (np.sum(np.outer(pmf_cust,pmf_serv)*W), 3) \n",
    "    print(\"Expected cost for c = 0 case:\", Ex )\n",
    "    if gurobi_flag == 1:\n",
    "        fluid_sol = fluid_solution(N, W, pmf_cust, pmf_serv)\n",
    "    else:\n",
    "        fluid_sol = utils.fluid_solution(N, W, pmf_cust, pmf_serv)\n",
    "    print(\"\\nFluid Solution:\\n\")\n",
    "    print(fluid_sol)\n",
    "    return([Ex,fluid_sol])"
   ]
  },
  {
   "cell_type": "code",
   "execution_count": 35,
   "metadata": {},
   "outputs": [
    {
     "name": "stdout",
     "output_type": "stream",
     "text": [
      "Expected cost for c = 0 case: 6.158\n",
      "[[ 2.1 10. ]\n",
      " [ 5.   3.5]]\n",
      "minimize 2.1 @ var1156 + 5.0 @ var1159 + 10.0 @ var1157 + 3.5 @ var1158\n",
      "subject to var1156 + var1157 == 0.6\n",
      "           var1159 + var1158 == 0.4\n",
      "           var1156 + var1159 == 0.3\n",
      "           var1157 + var1158 == 0.7\n",
      "           0.0 <= var1156\n",
      "           0.0 <= var1157\n",
      "           0.0 <= var1159\n",
      "           0.0 <= var1158\n",
      "           var1156 <= 1.0\n",
      "           var1157 <= 1.0\n",
      "           var1159 <= 1.0\n",
      "           var1158 <= 1.0\n",
      "\n",
      "Fluid Solution:\n",
      "\n",
      "{'X': array([[3.0000000e-01, 3.0000000e-01],\n",
      "       [2.9733875e-11, 4.0000000e-01]]), 'Cost': 5.030000000279436}\n"
     ]
    }
   ],
   "source": [
    "[Ex,fluid_sol] = run_extremes(N,W,pmf_cust,pmf_serv)"
   ]
  },
  {
   "cell_type": "code",
   "execution_count": 36,
   "metadata": {},
   "outputs": [
    {
     "name": "stdout",
     "output_type": "stream",
     "text": [
      "Expected cost for c = 0 case: 6.158\n",
      "[[ 2.1 10. ]\n",
      " [ 5.   3.5]]\n",
      "minimize 2.1 @ var1301 + 5.0 @ var1304 + 10.0 @ var1302 + 3.5 @ var1303\n",
      "subject to var1301 + var1302 == 0.6\n",
      "           var1304 + var1303 == 0.4\n",
      "           var1301 + var1304 == 0.3\n",
      "           var1302 + var1303 == 0.7\n",
      "           0.0 <= var1301\n",
      "           0.0 <= var1302\n",
      "           0.0 <= var1304\n",
      "           0.0 <= var1303\n",
      "           var1301 <= 1.0\n",
      "           var1302 <= 1.0\n",
      "           var1304 <= 1.0\n",
      "           var1303 <= 1.0\n",
      "\n",
      "Fluid Solution:\n",
      "\n",
      "{'X': array([[3.0000000e-01, 3.0000000e-01],\n",
      "       [2.9733875e-11, 4.0000000e-01]]), 'Cost': 5.030000000279436}\n"
     ]
    },
    {
     "data": {
      "image/png": "[encoded data removed]",
      "text/plain": [
       "<Figure size 720x432 with 1 Axes>"
      ]
     },
     "metadata": {
      "needs_background": "light"
     },
     "output_type": "display_data"
    }
   ],
   "source": [
    "import pickle\n",
    "frac = 0\n",
    "with open('sim_paths_mw_new.pkl','rb') as f:\n",
    "    Qpaths,Cpaths, N, W, pmf_cust, pmf_serv = pickle.load(f)\n",
    "Q_paths_M = Qpaths\n",
    "C_paths_M = Cpaths\n",
    "with open('sim_paths_batch.pkl','rb') as f:\n",
    "    Qpaths,Cpaths, N, W, pmf_cust, pmf_serv = pickle.load(f)\n",
    "Q_paths_B = Qpaths\n",
    "C_paths_B = Cpaths\n",
    "(average_cost_M, average_queue_M) = utils.average_paths(C_paths_M,Q_paths_M,frac)\n",
    "(average_cost_B, average_queue_B) = utils.average_paths(C_paths_B,Q_paths_B,frac)\n",
    "[Ex,fluid_sol] = run_extremes(N,W,pmf_cust,pmf_serv)\n",
    "utils.qc_plot(Ex,fluid_sol,average_queue_B,average_cost_B,average_queue_M,average_cost_M)"
   ]
  },
  {
   "cell_type": "code",
   "execution_count": 39,
   "metadata": {},
   "outputs": [
    {
     "name": "stdout",
     "output_type": "stream",
     "text": [
      "Expected cost for c = 0 case: 6.158\n",
      "[[ 2.1 10. ]\n",
      " [ 5.   3.5]]\n",
      "minimize 2.1 @ var1591 + 5.0 @ var1594 + 10.0 @ var1592 + 3.5 @ var1593\n",
      "subject to var1591 + var1592 == 0.6\n",
      "           var1594 + var1593 == 0.4\n",
      "           var1591 + var1594 == 0.3\n",
      "           var1592 + var1593 == 0.7\n",
      "           0.0 <= var1591\n",
      "           0.0 <= var1592\n",
      "           0.0 <= var1594\n",
      "           0.0 <= var1593\n",
      "           var1591 <= 1.0\n",
      "           var1592 <= 1.0\n",
      "           var1594 <= 1.0\n",
      "           var1593 <= 1.0\n",
      "\n",
      "Fluid Solution:\n",
      "\n",
      "{'X': array([[3.0000000e-01, 3.0000000e-01],\n",
      "       [2.9733875e-11, 4.0000000e-01]]), 'Cost': 5.030000000279436}\n"
     ]
    },
    {
     "data": {
      "image/png": "[encoded data removed]",
      "text/plain": [
       "<Figure size 720x432 with 1 Axes>"
      ]
     },
     "metadata": {
      "needs_background": "light"
     },
     "output_type": "display_data"
    }
   ],
   "source": [
    "import pickle\n",
    "frac = 0\n",
    "endM = 10\n",
    "endB = 8\n",
    "with open('sim_paths_mw_new.pkl','rb') as f:\n",
    "    Qpaths,Cpaths, N, W, pmf_cust, pmf_serv = pickle.load(f)\n",
    "Q_paths_M = Qpaths[0:endM][ :]\n",
    "C_paths_M = Cpaths[0:endM][ :]\n",
    "with open('sim_paths_batch.pkl','rb') as f:\n",
    "    Qpaths,Cpaths, N, W, pmf_cust, pmf_serv = pickle.load(f)\n",
    "Q_paths_B = Qpaths[0:endB][ :]\n",
    "C_paths_B = Cpaths[0:endB][ :]\n",
    "(average_cost_M, average_queue_M) = utils.average_paths(C_paths_M,Q_paths_M,frac)\n",
    "(average_cost_B, average_queue_B) = utils.average_paths(C_paths_B,Q_paths_B,frac)\n",
    "[Ex,fluid_sol] = run_extremes(N,W,pmf_cust,pmf_serv)\n",
    "utils.qc_plot(Ex,fluid_sol,average_queue_B,average_cost_B,average_queue_M,average_cost_M)"
   ]
  },
  {
   "cell_type": "code",
   "execution_count": 14,
   "metadata": {},
   "outputs": [
    {
     "data": {
      "text/plain": [
       "array([0.3, 0.7])"
      ]
     },
     "execution_count": 14,
     "metadata": {},
     "output_type": "execute_result"
    }
   ],
   "source": [
    "pmf_serv"
   ]
  },
  {
   "cell_type": "code",
   "execution_count": 24,
   "metadata": {},
   "outputs": [
    {
     "name": "stdout",
     "output_type": "stream",
     "text": [
      "[[ 2.1 10. ]\n",
      " [ 5.   3.5]]\n",
      "minimize Sum(var831 @ [[ 2.1 10. ]\n",
      " [ 5.   3.5]], None, False)\n",
      "subject to 0.0 <= var831[0, 0]\n",
      "           var831[0, 0] <= 1.0\n",
      "           0.0 <= var831[0, 1]\n",
      "           var831[0, 1] <= 1.0\n",
      "           0.0 <= var831[1, 0]\n",
      "           var831[1, 0] <= 1.0\n",
      "           0.0 <= var831[1, 1]\n",
      "           var831[1, 1] <= 1.0\n",
      "           Sum(var831[0, 0:2], None, False) == 0.6\n",
      "           Sum(var831[1, 0:2], None, False) == 0.4\n",
      "           Sum(var831[0:2, 0], None, False) == 0.3\n",
      "           Sum(var831[0:2, 1], None, False) == 0.7\n"
     ]
    }
   ],
   "source": [
    "x = cp.Variable((N,N)) # fraction of matchings from i to j\n",
    "print(W)\n",
    "constraints = []                          \n",
    "for i in range(N):\n",
    "    for j in range(N):\n",
    "        constraints.append(x[i,j] >= 0)\n",
    "        constraints.append(x[i,j] <= 1)\n",
    "# inequality to avoid round off, and violating equality is anyway penalised by objective\n",
    "for i in range(N):\n",
    "    constraints.append(cp.sum(x[i,:]) == pmf_cust[i] ) \n",
    "for j in range(N):\n",
    "    constraints.append(cp.sum(x[:,j]) == pmf_serv[j] )                      \n",
    "\n",
    "objective = cp.Minimize( cp.sum( cp.multiply( x , W ) ) )\n",
    "problem = cp.Problem(objective, constraints)\n",
    "problem.solve()  \n",
    "print(problem)"
   ]
  },
  {
   "cell_type": "code",
   "execution_count": 25,
   "metadata": {},
   "outputs": [],
   "source": [
    "N = 2\n",
    "W = np.asarray([[2.1,10],[5,3.5]])\n",
    "arrival_ids = np.arange(0,N,1)\n",
    "pmf_cust = np.asarray([0.6, 0.4])\n",
    "pmf_serv = np.asarray([0.3, 0.7])"
   ]
  },
  {
   "cell_type": "code",
   "execution_count": 26,
   "metadata": {},
   "outputs": [
    {
     "name": "stdout",
     "output_type": "stream",
     "text": [
      "5.030000000279436\n"
     ]
    }
   ],
   "source": [
    "print(problem.value)"
   ]
  },
  {
   "cell_type": "code",
   "execution_count": 27,
   "metadata": {},
   "outputs": [
    {
     "name": "stdout",
     "output_type": "stream",
     "text": [
      "[[3.00000000e-01 3.00000000e-01]\n",
      " [2.97339742e-11 4.00000000e-01]]\n"
     ]
    }
   ],
   "source": [
    "print(x.value)"
   ]
  },
  {
   "cell_type": "code",
   "execution_count": 33,
   "metadata": {},
   "outputs": [
    {
     "name": "stdout",
     "output_type": "stream",
     "text": [
      "q= [0. 1.]\n",
      "qtilde= [0. 1.]\n",
      "maximize Sum(Promote(0.5, (2,)) @ ([0. 1.] @ Sum(var3692, 1, False) + [0. 1.] @ Sum(var3692, 0, False)), None, False) + -Sum(Promote(0.5, (2, 2)) @ [[ 2.1 10. ]\n",
      " [ 5.   3.5]] @ var3692, None, False)\n",
      "subject to Sum(var3692[0, 0:2], None, False) <= 0.0\n",
      "           Sum(var3692[0:2, 0], None, False) <= 0.0\n",
      "           Sum(var3692[1, 0:2], None, False) <= 1.0\n",
      "           Sum(var3692[0:2, 1], None, False) <= 1.0\n",
      "           0.0 <= var3692[0:2, 0:2]\n",
      "M= [[-0. -0.]\n",
      " [-0. -0.]]\n",
      "q= [1. 1.]\n",
      "qtilde= [1. 1.]\n",
      "maximize Sum(Promote(0.5, (2,)) @ ([1. 1.] @ Sum(var3791, 1, False) + [1. 1.] @ Sum(var3791, 0, False)), None, False) + -Sum(Promote(0.5, (2, 2)) @ [[ 2.1 10. ]\n",
      " [ 5.   3.5]] @ var3791, None, False)\n",
      "subject to Sum(var3791[0, 0:2], None, False) <= 1.0\n",
      "           Sum(var3791[0:2, 0], None, False) <= 1.0\n",
      "           Sum(var3791[1, 0:2], None, False) <= 1.0\n",
      "           Sum(var3791[0:2, 1], None, False) <= 1.0\n",
      "           0.0 <= var3791[0:2, 0:2]\n",
      "M= [[-0. -0.]\n",
      " [-0. -0.]]\n",
      "q= [2. 1.]\n",
      "qtilde= [1. 2.]\n",
      "maximize Sum(Promote(0.5, (2,)) @ ([2. 1.] @ Sum(var3890, 1, False) + [1. 2.] @ Sum(var3890, 0, False)), None, False) + -Sum(Promote(0.5, (2, 2)) @ [[ 2.1 10. ]\n",
      " [ 5.   3.5]] @ var3890, None, False)\n",
      "subject to Sum(var3890[0, 0:2], None, False) <= 2.0\n",
      "           Sum(var3890[0:2, 0], None, False) <= 1.0\n",
      "           Sum(var3890[1, 0:2], None, False) <= 1.0\n",
      "           Sum(var3890[0:2, 1], None, False) <= 2.0\n",
      "           0.0 <= var3890[0:2, 0:2]\n",
      "M= [[ 1. -0.]\n",
      " [-0. -0.]]\n",
      "q= [1. 2.]\n",
      "qtilde= [0. 3.]\n",
      "maximize Sum(Promote(0.5, (2,)) @ ([1. 2.] @ Sum(var3989, 1, False) + [0. 3.] @ Sum(var3989, 0, False)), None, False) + -Sum(Promote(0.5, (2, 2)) @ [[ 2.1 10. ]\n",
      " [ 5.   3.5]] @ var3989, None, False)\n",
      "subject to Sum(var3989[0, 0:2], None, False) <= 1.0\n",
      "           Sum(var3989[0:2, 0], None, False) <= 0.0\n",
      "           Sum(var3989[1, 0:2], None, False) <= 2.0\n",
      "           Sum(var3989[0:2, 1], None, False) <= 3.0\n",
      "           0.0 <= var3989[0:2, 0:2]\n",
      "M= [[-0. -0.]\n",
      " [-0.  2.]]\n",
      "q= [2. 0.]\n",
      "qtilde= [0. 2.]\n",
      "maximize Sum(Promote(0.5, (2,)) @ ([2. 0.] @ Sum(var4088, 1, False) + [0. 2.] @ Sum(var4088, 0, False)), None, False) + -Sum(Promote(0.5, (2, 2)) @ [[ 2.1 10. ]\n",
      " [ 5.   3.5]] @ var4088, None, False)\n",
      "subject to Sum(var4088[0, 0:2], None, False) <= 2.0\n",
      "           Sum(var4088[0:2, 0], None, False) <= 0.0\n",
      "           Sum(var4088[1, 0:2], None, False) <= 0.0\n",
      "           Sum(var4088[0:2, 1], None, False) <= 2.0\n",
      "           0.0 <= var4088[0:2, 0:2]\n",
      "M= [[-0. -0.]\n",
      " [-0. -0.]]\n",
      "q= [3. 0.]\n",
      "qtilde= [0. 3.]\n",
      "maximize Sum(Promote(0.5, (2,)) @ ([3. 0.] @ Sum(var4187, 1, False) + [0. 3.] @ Sum(var4187, 0, False)), None, False) + -Sum(Promote(0.5, (2, 2)) @ [[ 2.1 10. ]\n",
      " [ 5.   3.5]] @ var4187, None, False)\n",
      "subject to Sum(var4187[0, 0:2], None, False) <= 3.0\n",
      "           Sum(var4187[0:2, 0], None, False) <= 0.0\n",
      "           Sum(var4187[1, 0:2], None, False) <= 0.0\n",
      "           Sum(var4187[0:2, 1], None, False) <= 3.0\n",
      "           0.0 <= var4187[0:2, 0:2]\n",
      "M= [[ 0. -0.]\n",
      " [-0. -0.]]\n",
      "q= [3. 1.]\n",
      "qtilde= [1. 3.]\n",
      "maximize Sum(Promote(0.5, (2,)) @ ([3. 1.] @ Sum(var4286, 1, False) + [1. 3.] @ Sum(var4286, 0, False)), None, False) + -Sum(Promote(0.5, (2, 2)) @ [[ 2.1 10. ]\n",
      " [ 5.   3.5]] @ var4286, None, False)\n",
      "subject to Sum(var4286[0, 0:2], None, False) <= 3.0\n",
      "           Sum(var4286[0:2, 0], None, False) <= 1.0\n",
      "           Sum(var4286[1, 0:2], None, False) <= 1.0\n",
      "           Sum(var4286[0:2, 1], None, False) <= 3.0\n",
      "           0.0 <= var4286[0:2, 0:2]\n",
      "M= [[ 1. -0.]\n",
      " [-0.  1.]]\n",
      "q= [2. 1.]\n",
      "qtilde= [1. 2.]\n",
      "maximize Sum(Promote(0.5, (2,)) @ ([2. 1.] @ Sum(var4385, 1, False) + [1. 2.] @ Sum(var4385, 0, False)), None, False) + -Sum(Promote(0.5, (2, 2)) @ [[ 2.1 10. ]\n",
      " [ 5.   3.5]] @ var4385, None, False)\n",
      "subject to Sum(var4385[0, 0:2], None, False) <= 2.0\n",
      "           Sum(var4385[0:2, 0], None, False) <= 1.0\n",
      "           Sum(var4385[1, 0:2], None, False) <= 1.0\n",
      "           Sum(var4385[0:2, 1], None, False) <= 2.0\n",
      "           0.0 <= var4385[0:2, 0:2]\n",
      "M= [[ 1. -0.]\n",
      " [-0. -0.]]\n",
      "q= [2. 1.]\n",
      "qtilde= [1. 2.]\n",
      "maximize Sum(Promote(0.5, (2,)) @ ([2. 1.] @ Sum(var4484, 1, False) + [1. 2.] @ Sum(var4484, 0, False)), None, False) + -Sum(Promote(0.5, (2, 2)) @ [[ 2.1 10. ]\n",
      " [ 5.   3.5]] @ var4484, None, False)\n",
      "subject to Sum(var4484[0, 0:2], None, False) <= 2.0\n",
      "           Sum(var4484[0:2, 0], None, False) <= 1.0\n",
      "           Sum(var4484[1, 0:2], None, False) <= 1.0\n",
      "           Sum(var4484[0:2, 1], None, False) <= 2.0\n",
      "           0.0 <= var4484[0:2, 0:2]\n",
      "M= [[ 1. -0.]\n",
      " [-0. -0.]]\n"
     ]
    }
   ],
   "source": [
    "time_steps = 10\n",
    "cust_process = rv_discrete(name='cust_arr', values=(arrival_ids, pmf_cust))\n",
    "serv_process = rv_discrete(name='serv_arr', values=(arrival_ids, pmf_serv))\n",
    "\n",
    "cust_arrivals = cust_process.rvs( size = time_steps )\n",
    "serv_arrivals = serv_process.rvs( size = time_steps )\n",
    "alpha = 0.5\n",
    "q = np.zeros(N)\n",
    "q[cust_arrivals[0]] = 1\n",
    "qtilde = np.zeros(N)\n",
    "qtilde[serv_arrivals[0]] = 1\n",
    "\n",
    "cost_path = [0]\n",
    "total_queue = []\n",
    "total_queue.append(np.sum(q))\n",
    "\n",
    "for k in range(1,time_steps):\n",
    "# Maxweight Matching\n",
    "    M = cp.Variable((N,N),integer=True)\n",
    "    constraints = []\n",
    "    for i in range(N):\n",
    "        constraints.append( cp.sum(M[i,:]) <= q[i] )\n",
    "        constraints.append( cp.sum(M[:,i]) <= qtilde[i] )\n",
    "    constraints.append( M[:,:]>=0 )\n",
    "\n",
    "    objective = cp.Maximize( cp.sum( (1-alpha)*( cp.multiply( q, cp.sum(M, axis=1) ) \n",
    "                                                + cp.multiply( qtilde, cp.sum(M, axis=0) ) ) )\n",
    "                            - cp.sum( alpha*cp.multiply( W,M  ) )  )\n",
    "    problem  = cp.Problem(objective, constraints)         \n",
    "    problem.solve()\n",
    "    print(\"q=\",q)\n",
    "    print(\"qtilde=\",qtilde)\n",
    "    print(problem)\n",
    "\n",
    "\n",
    "    # Check arrivals\n",
    "    a = np.zeros(N)\n",
    "    atilde = np.zeros(N)\n",
    "\n",
    "    a[cust_arrivals[k]] = 1\n",
    "    atilde[serv_arrivals[k]] = 1\n",
    "    # State Update\n",
    "    Mstar = M.value\n",
    "    print(\"M=\", Mstar)\n",
    "    matching_cost = np.sum(np.multiply(Mstar,W)) \n",
    "    q = q + a - np.sum(Mstar, 1)\n",
    "    qtilde = qtilde + atilde - np.sum(Mstar,0)\n",
    "\n",
    "    total_queue.append(np.sum(q))\n",
    "    cost_path.append(matching_cost)\n"
   ]
  },
  {
   "cell_type": "code",
   "execution_count": null,
   "metadata": {},
   "outputs": [],
   "source": []
  },
  {
   "cell_type": "markdown",
   "metadata": {},
   "source": [
    "### Generating weight Matrix - Spatial"
   ]
  },
  {
   "cell_type": "code",
   "execution_count": 17,
   "metadata": {},
   "outputs": [],
   "source": [
    "import numpy as np\n",
    "N = 6\n",
    "lengths = int(N/2)\n",
    "X = np.arange(1,N,2)\n",
    "Y = np.arange(1,N,2)"
   ]
  },
  {
   "cell_type": "code",
   "execution_count": 33,
   "metadata": {},
   "outputs": [
    {
     "name": "stdout",
     "output_type": "stream",
     "text": [
      "[[0.         1.         1.         1.41421356]\n",
      " [1.         0.         1.41421356 1.        ]\n",
      " [1.         1.41421356 0.         1.        ]\n",
      " [1.41421356 1.         1.         0.        ]]\n"
     ]
    }
   ],
   "source": [
    "N_grid = 2\n",
    "lengths = int(N_grid/2)\n",
    "X = np.arange(0.5,N_grid,1)\n",
    "Y = np.arange(0.5,N_grid,1)\n",
    "cell_locs = []\n",
    "for i in range(N_grid):\n",
    "    for j in range(N_grid):\n",
    "        cell_locs.append([X[i],Y[j]])\n",
    "N_cells = N_grid*N_grid\n",
    "Weights = np.zeros(shape=(N_cells,N_cells))\n",
    "\n",
    "for i in range(N_cells):\n",
    "    for j in range(N_cells):\n",
    "        Weights[i,j] = np.sqrt((cell_locs[i][0] - cell_locs[j][0])**2 + (cell_locs[i][1] - cell_locs[j][1])**2)\n",
    "print(Weights)"
   ]
  },
  {
   "cell_type": "code",
   "execution_count": 39,
   "metadata": {},
   "outputs": [
    {
     "name": "stdout",
     "output_type": "stream",
     "text": [
      "[[0.22346721]\n",
      " [0.16620877]\n",
      " [0.31575429]\n",
      " [0.29456972]]\n"
     ]
    }
   ],
   "source": [
    "N = 2\n",
    "pmf_cust = np.random.rand(N*N,1)\n",
    "pmf_cust = pmf_cust/(np.sum(pmf_cust))\n",
    "print(pmf_cust)"
   ]
  },
  {
   "cell_type": "code",
   "execution_count": 40,
   "metadata": {},
   "outputs": [
    {
     "data": {
      "text/plain": [
       "1.0"
      ]
     },
     "execution_count": 40,
     "metadata": {},
     "output_type": "execute_result"
    }
   ],
   "source": [
    "np.sum(pmf_cust)"
   ]
  },
  {
   "cell_type": "code",
   "execution_count": 18,
   "metadata": {},
   "outputs": [
    {
     "name": "stdout",
     "output_type": "stream",
     "text": [
      "[[0.         2.         4.         2.         2.82842712 4.47213595\n",
      "  4.         4.47213595 5.65685425]\n",
      " [2.         0.         2.         2.82842712 2.         2.82842712\n",
      "  4.47213595 4.         4.47213595]\n",
      " [4.         2.         0.         4.47213595 2.82842712 2.\n",
      "  5.65685425 4.47213595 4.        ]\n",
      " [2.         2.82842712 4.47213595 0.         2.         4.\n",
      "  2.         2.82842712 4.47213595]\n",
      " [2.82842712 2.         2.82842712 2.         0.         2.\n",
      "  2.82842712 2.         2.82842712]\n",
      " [4.47213595 2.82842712 2.         4.         2.         0.\n",
      "  4.47213595 2.82842712 2.        ]\n",
      " [4.         4.47213595 5.65685425 2.         2.82842712 4.47213595\n",
      "  0.         2.         4.        ]\n",
      " [4.47213595 4.         4.47213595 2.82842712 2.         2.82842712\n",
      "  2.         0.         2.        ]\n",
      " [5.65685425 4.47213595 4.         4.47213595 2.82842712 2.\n",
      "  4.         2.         0.        ]]\n"
     ]
    }
   ],
   "source": [
    "cell_locs = []\n",
    "for i in range(lengths):\n",
    "  for j in range(lengths):\n",
    "    cell_locs.append([X[i],Y[j]])\n",
    "N_cells = lengths*lengths\n",
    "\n",
    "\n",
    "Weights = np.zeros(shape=(N_cells,N_cells))\n",
    "for i in range(N_cells):\n",
    "  for j in range(N_cells):\n",
    "    Weights[i,j] = np.sqrt((cell_locs[i][0] - cell_locs[j][0])**2 + (cell_locs[i][1] - cell_locs[j][1])**2)\n",
    "print(Weights)"
   ]
  },
  {
   "cell_type": "code",
   "execution_count": 20,
   "metadata": {},
   "outputs": [
    {
     "data": {
      "text/plain": [
       "(9, 9)"
      ]
     },
     "execution_count": 20,
     "metadata": {},
     "output_type": "execute_result"
    }
   ],
   "source": [
    "Weights.shape"
   ]
  },
  {
   "cell_type": "markdown",
   "metadata": {},
   "source": [
    "### Generating Weight Matrix - Random"
   ]
  },
  {
   "cell_type": "code",
   "execution_count": 36,
   "metadata": {},
   "outputs": [
    {
     "name": "stdout",
     "output_type": "stream",
     "text": [
      "[[0.28338066 0.56754989 0.77080269 0.01481711]\n",
      " [0.08586285 0.07953872 0.05654574 0.34079503]\n",
      " [0.20895795 0.68254874 0.21033633 0.08395774]\n",
      " [0.23517306 0.06071984 0.19550994 0.97447317]]\n"
     ]
    }
   ],
   "source": [
    "N_grid = 4\n",
    "a = np.random.rand(N_grid, N_grid)\n",
    "rand_weights = np.random.rand(N_grid, N_grid)\n",
    "print(rand_weights)"
   ]
  },
  {
   "cell_type": "code",
   "execution_count": 11,
   "metadata": {},
   "outputs": [],
   "source": [
    "N_cells = N_grid*N_grid\n",
    "for counter in range(N_cells):\n",
    "  for i in range(N_grid):\n",
    "      for j in range(N_grid):\n",
    "          for k in range(N_grid):\n",
    "             rand_weights[i,j] = min(rand_weights[i,j],rand_weights[i,k] + rand_weights[k,j] )\n"
   ]
  },
  {
   "cell_type": "code",
   "execution_count": 12,
   "metadata": {},
   "outputs": [
    {
     "data": {
      "text/plain": [
       "array([[0.32083364, 0.54635051, 0.30588502, 0.99969315],\n",
       "       [0.50259525, 0.7945825 , 0.80848026, 0.57915419],\n",
       "       [0.01494862, 0.56129913, 0.20175529, 0.85191266],\n",
       "       [0.85035753, 0.54081972, 0.92632343, 0.93198135]])"
      ]
     },
     "execution_count": 12,
     "metadata": {},
     "output_type": "execute_result"
    }
   ],
   "source": [
    "rand_weights"
   ]
  },
  {
   "cell_type": "code",
   "execution_count": 13,
   "metadata": {},
   "outputs": [],
   "source": [
    "for i in range(N_grid):\n",
    "    for j in range(N_grid):\n",
    "        for k in range(N_grid):\n",
    "           rand_weights[i,j] = min(rand_weights[i,j],rand_weights[i,k] + rand_weights[k,j] )"
   ]
  },
  {
   "cell_type": "code",
   "execution_count": 14,
   "metadata": {},
   "outputs": [
    {
     "data": {
      "text/plain": [
       "array([[0.32083364, 0.54635051, 0.30588502, 0.99969315],\n",
       "       [0.50259525, 0.7945825 , 0.80848026, 0.57915419],\n",
       "       [0.01494862, 0.56129913, 0.20175529, 0.85191266],\n",
       "       [0.85035753, 0.54081972, 0.92632343, 0.93198135]])"
      ]
     },
     "execution_count": 14,
     "metadata": {},
     "output_type": "execute_result"
    }
   ],
   "source": [
    "rand_weights"
   ]
  },
  {
   "cell_type": "markdown",
   "metadata": {},
   "source": [
    "### Back to plots"
   ]
  },
  {
   "cell_type": "code",
   "execution_count": 9,
   "metadata": {},
   "outputs": [],
   "source": [
    "import utils\n",
    "def run_extremes(N, W, pmf_cust, pmf_serv, gurobi_flag = 1):\n",
    "    Ex = round (np.sum(np.outer(pmf_cust,pmf_serv)*W), 3) \n",
    "    print(\"Expected cost for c = 0 case:\", Ex )\n",
    "    if gurobi_flag == 1:\n",
    "        fluid_sol = utils.fluid_solution_gurobi(N, W, pmf_cust, pmf_serv)\n",
    "    else:\n",
    "        fluid_sol = utils.fluid_solution(N, W, pmf_cust, pmf_serv)\n",
    "    print(\"\\nFluid Solution:\\n\")\n",
    "    print(fluid_sol)\n",
    "    return([Ex,fluid_sol])\n",
    "def plot_from_sim_paths(file_name, frac = 0):\n",
    "    with open(file_name,'rb') as f:\n",
    "        M_res,B_res, N, W, pmf_cust, pmf_serv = pickle.load(f)\n",
    "    Q_paths_M = M_res[\"Q_paths\"]\n",
    "    C_paths_M = M_res[\"C_paths\"]\n",
    "    Q_paths_B = B_res[\"Q_paths\"]\n",
    "    C_paths_B = B_res[\"C_paths\"]\n",
    "    (average_cost_M, average_queue_M) = utils.average_paths(C_paths_M,Q_paths_M, frac)\n",
    "    (average_cost_B, average_queue_B) = utils.average_paths(C_paths_B,Q_paths_B, frac)\n",
    "    [Ex,fluid_sol] = run_extremes(N,W,pmf_cust,pmf_serv)\n",
    "    utils.qc_plot(Ex,fluid_sol,average_queue_B,average_cost_B,average_queue_M,average_cost_M)"
   ]
  },
  {
   "cell_type": "code",
   "execution_count": 19,
   "metadata": {},
   "outputs": [
    {
     "name": "stdout",
     "output_type": "stream",
     "text": [
      "Expected cost for c = 0 case: 0.835\n",
      "Gurobi Optimizer version 10.0.3 build v10.0.3rc0 (win64)\n",
      "\n",
      "CPU model: Intel(R) Core(TM) i7-8550U CPU @ 1.80GHz, instruction set [SSE2|AVX|AVX2]\n",
      "Thread count: 4 physical cores, 8 logical processors, using up to 8 threads\n",
      "\n",
      "Optimize a model with 8 rows, 16 columns and 32 nonzeros\n",
      "Model fingerprint: 0x817357d8\n",
      "Coefficient statistics:\n",
      "  Matrix range     [1e+00, 1e+00]\n",
      "  Objective range  [1e+00, 1e+00]\n",
      "  Bounds range     [1e+00, 1e+00]\n",
      "  RHS range        [8e-02, 4e-01]\n",
      "Presolve time: 0.02s\n",
      "Presolved: 8 rows, 16 columns, 32 nonzeros\n",
      "\n",
      "Iteration    Objective       Primal Inf.    Dual Inf.      Time\n",
      "       0    0.0000000e+00   3.800000e-01   0.000000e+00      0s\n",
      "       3    2.3142136e-01   0.000000e+00   0.000000e+00      0s\n",
      "\n",
      "Solved in 3 iterations and 0.03 seconds (0.00 work units)\n",
      "Optimal objective  2.314213562e-01\n",
      "Objective Value: 0.23\n",
      "x:  [[0.09 0.   0.   0.1 ]\n",
      " [0.   0.23 0.   0.08]\n",
      " [0.   0.   0.41 0.01]\n",
      " [0.   0.   0.   0.08]]\n",
      "\n",
      "Fluid Solution:\n",
      "\n",
      "{'Cost': 0.23142135623730953, 'X_matrix': array([[0.09, 0.  , 0.  , 0.1 ],\n",
      "       [0.  , 0.23, 0.  , 0.08],\n",
      "       [0.  , 0.  , 0.41, 0.01],\n",
      "       [0.  , 0.  , 0.  , 0.08]])}\n"
     ]
    },
    {
     "data": {
      "image/png": "[encoded data removed]",
      "text/plain": [
       "<Figure size 720x432 with 1 Axes>"
      ]
     },
     "metadata": {
      "needs_background": "light"
     },
     "output_type": "display_data"
    }
   ],
   "source": [
    "plot_from_sim_paths(\"sim_paths_spatial.pkl\")"
   ]
  },
  {
   "cell_type": "code",
   "execution_count": 20,
   "metadata": {
    "scrolled": true
   },
   "outputs": [
    {
     "name": "stdout",
     "output_type": "stream",
     "text": [
      "Expected cost for c = 0 case: 0.341\n",
      "Gurobi Optimizer version 10.0.3 build v10.0.3rc0 (win64)\n",
      "\n",
      "CPU model: Intel(R) Core(TM) i7-8550U CPU @ 1.80GHz, instruction set [SSE2|AVX|AVX2]\n",
      "Thread count: 4 physical cores, 8 logical processors, using up to 8 threads\n",
      "\n",
      "Optimize a model with 8 rows, 16 columns and 32 nonzeros\n",
      "Model fingerprint: 0xda645c90\n",
      "Coefficient statistics:\n",
      "  Matrix range     [1e+00, 1e+00]\n",
      "  Objective range  [2e-02, 7e-01]\n",
      "  Bounds range     [1e+00, 1e+00]\n",
      "  RHS range        [8e-02, 4e-01]\n",
      "Presolve time: 0.03s\n",
      "Presolved: 8 rows, 16 columns, 32 nonzeros\n",
      "\n",
      "Iteration    Objective       Primal Inf.    Dual Inf.      Time\n",
      "       0    1.3470507e-01   1.280000e+00   0.000000e+00      0s\n",
      "       4    2.6600024e-01   0.000000e+00   0.000000e+00      0s\n",
      "\n",
      "Solved in 4 iterations and 0.04 seconds (0.00 work units)\n",
      "Optimal objective  2.660002396e-01\n",
      "Objective Value: 0.27\n",
      "x:  [[0.   0.   0.1  0.09]\n",
      " [0.   0.   0.31 0.  ]\n",
      " [0.01 0.23 0.   0.18]\n",
      " [0.08 0.   0.   0.  ]]\n",
      "\n",
      "Fluid Solution:\n",
      "\n",
      "{'Cost': 0.2660002396215362, 'X_matrix': array([[0.  , 0.  , 0.1 , 0.09],\n",
      "       [0.  , 0.  , 0.31, 0.  ],\n",
      "       [0.01, 0.23, 0.  , 0.18],\n",
      "       [0.08, 0.  , 0.  , 0.  ]])}\n"
     ]
    },
    {
     "data": {
      "image/png": "[encoded data removed]",
      "text/plain": [
       "<Figure size 720x432 with 1 Axes>"
      ]
     },
     "metadata": {
      "needs_background": "light"
     },
     "output_type": "display_data"
    }
   ],
   "source": [
    "plot_from_sim_paths(\"sim_paths_random.pkl\")"
   ]
  },
  {
   "cell_type": "code",
   "execution_count": 23,
   "metadata": {},
   "outputs": [
    {
     "name": "stdout",
     "output_type": "stream",
     "text": [
      "4 [[0.20905745 0.56418628 0.27388864 0.04863301]\n",
      " [0.1793404  0.64312121 0.2053665  0.01891596]\n",
      " [0.25420689 0.43775471 0.52809553 0.3028399 ]\n",
      " [0.16042444 0.72461073 0.43431309 0.20905745]] [0.19, 0.31, 0.42, 0.08] [0.09, 0.23, 0.41, 0.27]\n"
     ]
    }
   ],
   "source": [
    "with open(\"sim_paths_random.pkl\",'rb') as f:\n",
    "    M_res,B_res, N, W, pmf_cust, pmf_serv = pickle.load(f)\n",
    "Q_paths_M = M_res[\"Q_paths\"]\n",
    "C_paths_M = M_res[\"C_paths\"]\n",
    "Q_paths_B = B_res[\"Q_paths\"]\n",
    "C_paths_B = B_res[\"C_paths\"]\n",
    "(average_cost_M, average_queue_M) = utils.average_paths(C_paths_M,Q_paths_M)\n",
    "(average_cost_B, average_queue_B) = utils.average_paths(C_paths_B,Q_paths_B)\n",
    "print(N, W, pmf_cust, pmf_serv)"
   ]
  },
  {
   "cell_type": "code",
   "execution_count": 24,
   "metadata": {},
   "outputs": [
    {
     "name": "stdout",
     "output_type": "stream",
     "text": [
      "4 [[0.         1.         1.         1.41421356]\n",
      " [1.         0.         1.41421356 1.        ]\n",
      " [1.         1.41421356 0.         1.        ]\n",
      " [1.41421356 1.         1.         0.        ]] [0.19, 0.31, 0.42, 0.08] [0.09, 0.23, 0.41, 0.27]\n"
     ]
    }
   ],
   "source": [
    "with open(\"sim_paths_spatial.pkl\",'rb') as f:\n",
    "    M_res,B_res, N, W, pmf_cust, pmf_serv = pickle.load(f)\n",
    "Q_paths_M = M_res[\"Q_paths\"]\n",
    "C_paths_M = M_res[\"C_paths\"]\n",
    "Q_paths_B = B_res[\"Q_paths\"]\n",
    "C_paths_B = B_res[\"C_paths\"]\n",
    "(average_cost_M, average_queue_M) = utils.average_paths(C_paths_M,Q_paths_M)\n",
    "(average_cost_B, average_queue_B) = utils.average_paths(C_paths_B,Q_paths_B)\n",
    "print( N, W, pmf_cust, pmf_serv)"
   ]
  },
  {
   "cell_type": "code",
   "execution_count": 3,
   "metadata": {
    "scrolled": true
   },
   "outputs": [
    {
     "name": "stdout",
     "output_type": "stream",
     "text": [
      "Expected cost for c = 0 case: 4.001\n",
      "Set parameter Username\n",
      "Academic license - for non-commercial use only - expires 2024-09-03\n",
      "Gurobi Optimizer version 10.0.3 build v10.0.3rc0 (win64)\n",
      "\n",
      "CPU model: Intel(R) Core(TM) i7-8550U CPU @ 1.80GHz, instruction set [SSE2|AVX|AVX2]\n",
      "Thread count: 4 physical cores, 8 logical processors, using up to 8 threads\n",
      "\n",
      "Optimize a model with 8 rows, 16 columns and 32 nonzeros\n",
      "Model fingerprint: 0x996df94b\n",
      "Coefficient statistics:\n",
      "  Matrix range     [1e+00, 1e+00]\n",
      "  Objective range  [2e+00, 5e+00]\n",
      "  Bounds range     [1e+00, 1e+00]\n",
      "  RHS range        [8e-02, 4e-01]\n",
      "Presolve time: 0.02s\n",
      "Presolved: 8 rows, 16 columns, 32 nonzeros\n",
      "\n",
      "Iteration    Objective       Primal Inf.    Dual Inf.      Time\n",
      "       0    3.1550463e+00   8.200000e-01   0.000000e+00      0s\n",
      "       2    3.4944399e+00   0.000000e+00   0.000000e+00      0s\n",
      "\n",
      "Solved in 2 iterations and 0.08 seconds (0.00 work units)\n",
      "Optimal objective  3.494439860e+00\n",
      "Objective Value: 3.49\n",
      "x:  [[0.   0.   0.   0.19]\n",
      " [0.09 0.22 0.   0.  ]\n",
      " [0.   0.01 0.41 0.  ]\n",
      " [0.   0.   0.   0.08]]\n",
      "\n",
      "Fluid Solution:\n",
      "\n",
      "{'Cost': 3.494439860178127, 'X_matrix': array([[0.  , 0.  , 0.  , 0.19],\n",
      "       [0.09, 0.22, 0.  , 0.  ],\n",
      "       [0.  , 0.01, 0.41, 0.  ],\n",
      "       [0.  , 0.  , 0.  , 0.08]])}\n"
     ]
    },
    {
     "data": {
      "image/png": "[encoded data removed]",
      "text/plain": [
       "<Figure size 720x432 with 1 Axes>"
      ]
     },
     "metadata": {
      "needs_background": "light"
     },
     "output_type": "display_data"
    }
   ],
   "source": [
    "plot_from_sim_paths(\"sim_paths_random_4.pkl\")"
   ]
  },
  {
   "cell_type": "code",
   "execution_count": 3,
   "metadata": {},
   "outputs": [
    {
     "name": "stdout",
     "output_type": "stream",
     "text": [
      "Expected cost for c = 0 case: 2.053\n",
      "Set parameter Username\n",
      "Academic license - for non-commercial use only - expires 2024-09-03\n",
      "Gurobi Optimizer version 10.0.3 build v10.0.3rc0 (win64)\n",
      "\n",
      "CPU model: Intel(R) Core(TM) i7-8550U CPU @ 1.80GHz, instruction set [SSE2|AVX|AVX2]\n",
      "Thread count: 4 physical cores, 8 logical processors, using up to 8 threads\n",
      "\n",
      "Optimize a model with 32 rows, 256 columns and 512 nonzeros\n",
      "Model fingerprint: 0xcd695ad1\n",
      "Coefficient statistics:\n",
      "  Matrix range     [1e+00, 1e+00]\n",
      "  Objective range  [1e+00, 4e+00]\n",
      "  Bounds range     [1e+00, 1e+00]\n",
      "  RHS range        [2e-03, 1e-01]\n",
      "Presolve time: 0.05s\n",
      "Presolved: 32 rows, 256 columns, 512 nonzeros\n",
      "\n",
      "Iteration    Objective       Primal Inf.    Dual Inf.      Time\n",
      "       0    0.0000000e+00   5.291625e-01   0.000000e+00      0s\n",
      "      22    4.6844441e-01   0.000000e+00   0.000000e+00      0s\n",
      "\n",
      "Solved in 22 iterations and 0.08 seconds (0.00 work units)\n",
      "Optimal objective  4.684444113e-01\n",
      "Objective Value: 0.47\n",
      "x:  [[0.0079288  0.         0.         0.         0.04791917 0.\n",
      "  0.         0.03736686 0.         0.         0.         0.\n",
      "  0.         0.         0.         0.        ]\n",
      " [0.         0.07887512 0.         0.02002304 0.         0.\n",
      "  0.         0.010687   0.         0.         0.         0.\n",
      "  0.         0.         0.         0.        ]\n",
      " [0.         0.         0.0024633  0.00167678 0.         0.\n",
      "  0.         0.         0.         0.         0.         0.\n",
      "  0.         0.         0.         0.        ]\n",
      " [0.         0.         0.         0.09283723 0.         0.\n",
      "  0.         0.         0.         0.         0.         0.\n",
      "  0.         0.         0.         0.        ]\n",
      " [0.         0.         0.         0.         0.06721505 0.\n",
      "  0.         0.         0.         0.         0.         0.\n",
      "  0.         0.         0.         0.        ]\n",
      " [0.         0.         0.         0.         0.         0.04860185\n",
      "  0.02242724 0.         0.         0.         0.01827945 0.\n",
      "  0.         0.         0.         0.        ]\n",
      " [0.         0.         0.         0.         0.         0.\n",
      "  0.01778982 0.06014514 0.         0.         0.         0.\n",
      "  0.         0.         0.         0.        ]\n",
      " [0.         0.         0.         0.         0.         0.\n",
      "  0.         0.00464118 0.         0.         0.         0.\n",
      "  0.         0.         0.         0.        ]\n",
      " [0.         0.         0.         0.         0.         0.\n",
      "  0.         0.         0.02379985 0.         0.         0.\n",
      "  0.0075023  0.         0.         0.        ]\n",
      " [0.         0.         0.         0.         0.         0.\n",
      "  0.         0.         0.         0.06089401 0.         0.\n",
      "  0.         0.         0.         0.0230558 ]\n",
      " [0.         0.         0.         0.         0.         0.\n",
      "  0.         0.         0.         0.         0.04290138 0.\n",
      "  0.         0.         0.         0.01427039]\n",
      " [0.         0.         0.         0.         0.         0.\n",
      "  0.         0.         0.         0.         0.         0.09891412\n",
      "  0.         0.         0.         0.0008203 ]\n",
      " [0.         0.         0.         0.         0.         0.\n",
      "  0.         0.         0.         0.         0.         0.\n",
      "  0.06721596 0.         0.         0.        ]\n",
      " [0.         0.         0.         0.         0.         0.\n",
      "  0.         0.         0.         0.         0.         0.\n",
      "  0.01647389 0.03157025 0.01477014 0.00586139]\n",
      " [0.         0.         0.         0.         0.         0.\n",
      "  0.         0.         0.         0.         0.         0.\n",
      "  0.         0.         0.         0.00529258]\n",
      " [0.         0.         0.         0.         0.         0.\n",
      "  0.         0.         0.         0.         0.         0.\n",
      "  0.         0.         0.         0.04778059]]\n",
      "\n",
      "Fluid Solution:\n",
      "\n",
      "{'Cost': 0.4684444113382702, 'X_matrix': array([[0.0079288 , 0.        , 0.        , 0.        , 0.04791917,\n",
      "        0.        , 0.        , 0.03736686, 0.        , 0.        ,\n",
      "        0.        , 0.        , 0.        , 0.        , 0.        ,\n",
      "        0.        ],\n",
      "       [0.        , 0.07887512, 0.        , 0.02002304, 0.        ,\n",
      "        0.        , 0.        , 0.010687  , 0.        , 0.        ,\n",
      "        0.        , 0.        , 0.        , 0.        , 0.        ,\n",
      "        0.        ],\n",
      "       [0.        , 0.        , 0.0024633 , 0.00167678, 0.        ,\n",
      "        0.        , 0.        , 0.        , 0.        , 0.        ,\n",
      "        0.        , 0.        , 0.        , 0.        , 0.        ,\n",
      "        0.        ],\n",
      "       [0.        , 0.        , 0.        , 0.09283723, 0.        ,\n",
      "        0.        , 0.        , 0.        , 0.        , 0.        ,\n",
      "        0.        , 0.        , 0.        , 0.        , 0.        ,\n",
      "        0.        ],\n",
      "       [0.        , 0.        , 0.        , 0.        , 0.06721505,\n",
      "        0.        , 0.        , 0.        , 0.        , 0.        ,\n",
      "        0.        , 0.        , 0.        , 0.        , 0.        ,\n",
      "        0.        ],\n",
      "       [0.        , 0.        , 0.        , 0.        , 0.        ,\n",
      "        0.04860185, 0.02242724, 0.        , 0.        , 0.        ,\n",
      "        0.01827945, 0.        , 0.        , 0.        , 0.        ,\n",
      "        0.        ],\n",
      "       [0.        , 0.        , 0.        , 0.        , 0.        ,\n",
      "        0.        , 0.01778982, 0.06014514, 0.        , 0.        ,\n",
      "        0.        , 0.        , 0.        , 0.        , 0.        ,\n",
      "        0.        ],\n",
      "       [0.        , 0.        , 0.        , 0.        , 0.        ,\n",
      "        0.        , 0.        , 0.00464118, 0.        , 0.        ,\n",
      "        0.        , 0.        , 0.        , 0.        , 0.        ,\n",
      "        0.        ],\n",
      "       [0.        , 0.        , 0.        , 0.        , 0.        ,\n",
      "        0.        , 0.        , 0.        , 0.02379985, 0.        ,\n",
      "        0.        , 0.        , 0.0075023 , 0.        , 0.        ,\n",
      "        0.        ],\n",
      "       [0.        , 0.        , 0.        , 0.        , 0.        ,\n",
      "        0.        , 0.        , 0.        , 0.        , 0.06089401,\n",
      "        0.        , 0.        , 0.        , 0.        , 0.        ,\n",
      "        0.0230558 ],\n",
      "       [0.        , 0.        , 0.        , 0.        , 0.        ,\n",
      "        0.        , 0.        , 0.        , 0.        , 0.        ,\n",
      "        0.04290138, 0.        , 0.        , 0.        , 0.        ,\n",
      "        0.01427039],\n",
      "       [0.        , 0.        , 0.        , 0.        , 0.        ,\n",
      "        0.        , 0.        , 0.        , 0.        , 0.        ,\n",
      "        0.        , 0.09891412, 0.        , 0.        , 0.        ,\n",
      "        0.0008203 ],\n",
      "       [0.        , 0.        , 0.        , 0.        , 0.        ,\n",
      "        0.        , 0.        , 0.        , 0.        , 0.        ,\n",
      "        0.        , 0.        , 0.06721596, 0.        , 0.        ,\n",
      "        0.        ],\n",
      "       [0.        , 0.        , 0.        , 0.        , 0.        ,\n",
      "        0.        , 0.        , 0.        , 0.        , 0.        ,\n",
      "        0.        , 0.        , 0.01647389, 0.03157025, 0.01477014,\n",
      "        0.00586139],\n",
      "       [0.        , 0.        , 0.        , 0.        , 0.        ,\n",
      "        0.        , 0.        , 0.        , 0.        , 0.        ,\n",
      "        0.        , 0.        , 0.        , 0.        , 0.        ,\n",
      "        0.00529258],\n",
      "       [0.        , 0.        , 0.        , 0.        , 0.        ,\n",
      "        0.        , 0.        , 0.        , 0.        , 0.        ,\n",
      "        0.        , 0.        , 0.        , 0.        , 0.        ,\n",
      "        0.04778059]])}\n"
     ]
    },
    {
     "data": {
      "image/png": "[encoded data removed]",
      "text/plain": [
       "<Figure size 720x432 with 1 Axes>"
      ]
     },
     "metadata": {
      "needs_background": "light"
     },
     "output_type": "display_data"
    }
   ],
   "source": [
    "plot_from_sim_paths(\"sim_paths_spatial_4.pkl\")"
   ]
  },
  {
   "cell_type": "code",
   "execution_count": 4,
   "metadata": {},
   "outputs": [
    {
     "name": "stdout",
     "output_type": "stream",
     "text": [
      "Expected cost for c = 0 case: 3.34\n",
      "Gurobi Optimizer version 10.0.3 build v10.0.3rc0 (win64)\n",
      "\n",
      "CPU model: Intel(R) Core(TM) i7-8550U CPU @ 1.80GHz, instruction set [SSE2|AVX|AVX2]\n",
      "Thread count: 4 physical cores, 8 logical processors, using up to 8 threads\n",
      "\n",
      "Optimize a model with 8 rows, 16 columns and 32 nonzeros\n",
      "Model fingerprint: 0x40fcf4a4\n",
      "Coefficient statistics:\n",
      "  Matrix range     [1e+00, 1e+00]\n",
      "  Objective range  [2e+00, 4e+00]\n",
      "  Bounds range     [1e+00, 1e+00]\n",
      "  RHS range        [2e-02, 5e-01]\n",
      "Presolve removed 1 rows and 1 columns\n",
      "Presolve time: 0.03s\n",
      "Presolved: 7 rows, 15 columns, 30 nonzeros\n",
      "\n",
      "Iteration    Objective       Primal Inf.    Dual Inf.      Time\n",
      "       0    2.6330622e+00   1.109701e+00   0.000000e+00      0s\n",
      "       4    2.9525432e+00   0.000000e+00   0.000000e+00      0s\n",
      "\n",
      "Solved in 4 iterations and 0.06 seconds (0.00 work units)\n",
      "Optimal objective  2.952543210e+00\n",
      "Objective Value: 2.95\n",
      "x:  [[0.02336667 0.         0.         0.        ]\n",
      " [0.0298805  0.35229149 0.14130576 0.        ]\n",
      " [0.07403857 0.         0.         0.        ]\n",
      " [0.         0.15089079 0.         0.22822622]]\n",
      "\n",
      "Fluid Solution:\n",
      "\n",
      "{'Cost': 2.9525432102020615, 'X_matrix': array([[0.02336667, 0.        , 0.        , 0.        ],\n",
      "       [0.0298805 , 0.35229149, 0.14130576, 0.        ],\n",
      "       [0.07403857, 0.        , 0.        , 0.        ],\n",
      "       [0.        , 0.15089079, 0.        , 0.22822622]])}\n"
     ]
    },
    {
     "data": {
      "image/png": "[encoded data removed]",
      "text/plain": [
       "<Figure size 720x432 with 1 Axes>"
      ]
     },
     "metadata": {
      "needs_background": "light"
     },
     "output_type": "display_data"
    }
   ],
   "source": [
    "plot_from_sim_paths(\"sim_paths_random_4_random_pmf.pkl\")"
   ]
  },
  {
   "cell_type": "code",
   "execution_count": 5,
   "metadata": {},
   "outputs": [],
   "source": [
    "file_name = 'sim_paths_random_4_random_pmf.pkl'\n",
    "with open(file_name,'rb') as f:\n",
    "    M_res,B_res, N, W, pmf_cust, pmf_serv = pickle.load(f)"
   ]
  },
  {
   "cell_type": "code",
   "execution_count": 6,
   "metadata": {},
   "outputs": [
    {
     "data": {
      "text/plain": [
       "array([[2.17037135, 2.69729681, 1.68559469, 2.12560222],\n",
       "       [3.53744788, 3.6508647 , 1.73814782, 3.3705261 ],\n",
       "       [1.79930005, 1.91271687, 3.48489474, 3.42361234],\n",
       "       [4.04728398, 3.90307957, 4.26768285, 2.37568203]])"
      ]
     },
     "execution_count": 6,
     "metadata": {},
     "output_type": "execute_result"
    }
   ],
   "source": [
    "W"
   ]
  },
  {
   "cell_type": "code",
   "execution_count": 7,
   "metadata": {},
   "outputs": [
    {
     "data": {
      "text/plain": [
       "3.1727999999999996"
      ]
     },
     "execution_count": 7,
     "metadata": {},
     "output_type": "execute_result"
    }
   ],
   "source": [
    "1.3738 + 1.799"
   ]
  },
  {
   "cell_type": "code",
   "execution_count": 10,
   "metadata": {},
   "outputs": [],
   "source": [
    "N_grid = 4\n",
    "rand_weights = W\n",
    "N_cells = N_grid*N_grid\n",
    "for counter in range(N_cells):\n",
    "    for i in range(N_grid):\n",
    "        for j in range(N_grid):\n",
    "            for k in range(N_grid):\n",
    "                rand_weights[i,j] = min(rand_weights[i,j],rand_weights[i,k] + rand_weights[k,j] )\n"
   ]
  },
  {
   "cell_type": "code",
   "execution_count": 11,
   "metadata": {},
   "outputs": [
    {
     "data": {
      "text/plain": [
       "array([[2.17037135, 2.69729681, 1.68559469, 2.12560222],\n",
       "       [3.53744788, 3.6508647 , 1.73814782, 3.3705261 ],\n",
       "       [1.79930005, 1.91271687, 3.48489474, 3.42361234],\n",
       "       [4.04728398, 3.90307957, 4.26768285, 2.37568203]])"
      ]
     },
     "execution_count": 11,
     "metadata": {},
     "output_type": "execute_result"
    }
   ],
   "source": [
    "W"
   ]
  },
  {
   "cell_type": "code",
   "execution_count": 12,
   "metadata": {},
   "outputs": [
    {
     "data": {
      "text/plain": [
       "3.537447875197569"
      ]
     },
     "execution_count": 12,
     "metadata": {},
     "output_type": "execute_result"
    }
   ],
   "source": [
    "rand_weights[1,2] + rand_weights[2,0]"
   ]
  },
  {
   "cell_type": "code",
   "execution_count": 3,
   "metadata": {
    "scrolled": true
   },
   "outputs": [
    {
     "name": "stdout",
     "output_type": "stream",
     "text": [
      "Expected cost for c = 0 case: 2.046\n",
      "Set parameter Username\n",
      "Academic license - for non-commercial use only - expires 2024-09-03\n",
      "Gurobi Optimizer version 10.0.3 build v10.0.3rc0 (win64)\n",
      "\n",
      "CPU model: Intel(R) Core(TM) i7-8550U CPU @ 1.80GHz, instruction set [SSE2|AVX|AVX2]\n",
      "Thread count: 4 physical cores, 8 logical processors, using up to 8 threads\n",
      "\n",
      "Optimize a model with 32 rows, 256 columns and 512 nonzeros\n",
      "Model fingerprint: 0x6c0eaa24\n",
      "Coefficient statistics:\n",
      "  Matrix range     [1e+00, 1e+00]\n",
      "  Objective range  [1e+00, 4e+00]\n",
      "  Bounds range     [1e+00, 1e+00]\n",
      "  RHS range        [1e-03, 2e-01]\n",
      "Presolve time: 0.09s\n",
      "Presolved: 32 rows, 256 columns, 512 nonzeros\n",
      "\n",
      "Iteration    Objective       Primal Inf.    Dual Inf.      Time\n",
      "       0    0.0000000e+00   6.438740e-01   0.000000e+00      0s\n",
      "      21    4.7543473e-01   0.000000e+00   0.000000e+00      0s\n",
      "\n",
      "Solved in 21 iterations and 0.22 seconds (0.00 work units)\n",
      "Optimal objective  4.754347292e-01\n",
      "Objective Value: 0.48\n",
      "x:  [[0.01109994 0.00939293 0.         0.         0.         0.\n",
      "  0.         0.         0.01212069 0.         0.         0.\n",
      "  0.02522285 0.         0.         0.        ]\n",
      " [0.         0.11037705 0.         0.         0.         0.\n",
      "  0.         0.         0.         0.         0.         0.\n",
      "  0.         0.         0.         0.        ]\n",
      " [0.         0.05098951 0.0667131  0.         0.         0.\n",
      "  0.         0.         0.         0.         0.         0.\n",
      "  0.         0.         0.         0.        ]\n",
      " [0.         0.         0.01129884 0.00724217 0.         0.\n",
      "  0.0126397  0.03262725 0.         0.         0.03322884 0.\n",
      "  0.         0.         0.         0.        ]\n",
      " [0.         0.         0.         0.         0.02068965 0.\n",
      "  0.         0.         0.0103878  0.         0.         0.\n",
      "  0.         0.         0.         0.        ]\n",
      " [0.         0.         0.         0.         0.         0.04387873\n",
      "  0.         0.         0.         0.02556005 0.         0.\n",
      "  0.00029488 0.         0.         0.        ]\n",
      " [0.         0.         0.         0.         0.         0.\n",
      "  0.05793314 0.         0.         0.         0.         0.\n",
      "  0.         0.         0.         0.        ]\n",
      " [0.         0.         0.         0.         0.         0.\n",
      "  0.         0.00098626 0.         0.         0.         0.\n",
      "  0.         0.         0.         0.        ]\n",
      " [0.         0.         0.         0.         0.         0.\n",
      "  0.         0.         0.01243352 0.         0.         0.\n",
      "  0.         0.         0.         0.        ]\n",
      " [0.         0.         0.         0.         0.         0.\n",
      "  0.         0.         0.         0.0505967  0.         0.\n",
      "  0.         0.         0.         0.        ]\n",
      " [0.         0.         0.         0.         0.         0.\n",
      "  0.         0.         0.         0.         0.02493502 0.\n",
      "  0.         0.         0.         0.        ]\n",
      " [0.         0.         0.         0.         0.         0.\n",
      "  0.         0.         0.         0.         0.         0.05760885\n",
      "  0.         0.         0.         0.00702853]\n",
      " [0.         0.         0.         0.         0.         0.\n",
      "  0.         0.         0.         0.         0.         0.\n",
      "  0.05670006 0.         0.         0.        ]\n",
      " [0.         0.         0.         0.         0.         0.\n",
      "  0.         0.         0.         0.         0.         0.\n",
      "  0.02826022 0.07615195 0.         0.        ]\n",
      " [0.         0.         0.         0.         0.         0.\n",
      "  0.         0.         0.         0.         0.         0.\n",
      "  0.03295937 0.         0.00129312 0.04122438]\n",
      " [0.         0.         0.         0.         0.         0.\n",
      "  0.         0.         0.         0.         0.         0.\n",
      "  0.         0.         0.         0.06812489]]\n",
      "\n",
      "Fluid Solution:\n",
      "\n",
      "{'Cost': 0.47543472920175167, 'X_matrix': array([[0.01109994, 0.00939293, 0.        , 0.        , 0.        ,\n",
      "        0.        , 0.        , 0.        , 0.01212069, 0.        ,\n",
      "        0.        , 0.        , 0.02522285, 0.        , 0.        ,\n",
      "        0.        ],\n",
      "       [0.        , 0.11037705, 0.        , 0.        , 0.        ,\n",
      "        0.        , 0.        , 0.        , 0.        , 0.        ,\n",
      "        0.        , 0.        , 0.        , 0.        , 0.        ,\n",
      "        0.        ],\n",
      "       [0.        , 0.05098951, 0.0667131 , 0.        , 0.        ,\n",
      "        0.        , 0.        , 0.        , 0.        , 0.        ,\n",
      "        0.        , 0.        , 0.        , 0.        , 0.        ,\n",
      "        0.        ],\n",
      "       [0.        , 0.        , 0.01129884, 0.00724217, 0.        ,\n",
      "        0.        , 0.0126397 , 0.03262725, 0.        , 0.        ,\n",
      "        0.03322884, 0.        , 0.        , 0.        , 0.        ,\n",
      "        0.        ],\n",
      "       [0.        , 0.        , 0.        , 0.        , 0.02068965,\n",
      "        0.        , 0.        , 0.        , 0.0103878 , 0.        ,\n",
      "        0.        , 0.        , 0.        , 0.        , 0.        ,\n",
      "        0.        ],\n",
      "       [0.        , 0.        , 0.        , 0.        , 0.        ,\n",
      "        0.04387873, 0.        , 0.        , 0.        , 0.02556005,\n",
      "        0.        , 0.        , 0.00029488, 0.        , 0.        ,\n",
      "        0.        ],\n",
      "       [0.        , 0.        , 0.        , 0.        , 0.        ,\n",
      "        0.        , 0.05793314, 0.        , 0.        , 0.        ,\n",
      "        0.        , 0.        , 0.        , 0.        , 0.        ,\n",
      "        0.        ],\n",
      "       [0.        , 0.        , 0.        , 0.        , 0.        ,\n",
      "        0.        , 0.        , 0.00098626, 0.        , 0.        ,\n",
      "        0.        , 0.        , 0.        , 0.        , 0.        ,\n",
      "        0.        ],\n",
      "       [0.        , 0.        , 0.        , 0.        , 0.        ,\n",
      "        0.        , 0.        , 0.        , 0.01243352, 0.        ,\n",
      "        0.        , 0.        , 0.        , 0.        , 0.        ,\n",
      "        0.        ],\n",
      "       [0.        , 0.        , 0.        , 0.        , 0.        ,\n",
      "        0.        , 0.        , 0.        , 0.        , 0.0505967 ,\n",
      "        0.        , 0.        , 0.        , 0.        , 0.        ,\n",
      "        0.        ],\n",
      "       [0.        , 0.        , 0.        , 0.        , 0.        ,\n",
      "        0.        , 0.        , 0.        , 0.        , 0.        ,\n",
      "        0.02493502, 0.        , 0.        , 0.        , 0.        ,\n",
      "        0.        ],\n",
      "       [0.        , 0.        , 0.        , 0.        , 0.        ,\n",
      "        0.        , 0.        , 0.        , 0.        , 0.        ,\n",
      "        0.        , 0.05760885, 0.        , 0.        , 0.        ,\n",
      "        0.00702853],\n",
      "       [0.        , 0.        , 0.        , 0.        , 0.        ,\n",
      "        0.        , 0.        , 0.        , 0.        , 0.        ,\n",
      "        0.        , 0.        , 0.05670006, 0.        , 0.        ,\n",
      "        0.        ],\n",
      "       [0.        , 0.        , 0.        , 0.        , 0.        ,\n",
      "        0.        , 0.        , 0.        , 0.        , 0.        ,\n",
      "        0.        , 0.        , 0.02826022, 0.07615195, 0.        ,\n",
      "        0.        ],\n",
      "       [0.        , 0.        , 0.        , 0.        , 0.        ,\n",
      "        0.        , 0.        , 0.        , 0.        , 0.        ,\n",
      "        0.        , 0.        , 0.03295937, 0.        , 0.00129312,\n",
      "        0.04122438],\n",
      "       [0.        , 0.        , 0.        , 0.        , 0.        ,\n",
      "        0.        , 0.        , 0.        , 0.        , 0.        ,\n",
      "        0.        , 0.        , 0.        , 0.        , 0.        ,\n",
      "        0.06812489]])}\n"
     ]
    },
    {
     "data": {
      "image/png": "[encoded data removed]",
      "text/plain": [
       "<Figure size 720x432 with 1 Axes>"
      ]
     },
     "metadata": {
      "needs_background": "light"
     },
     "output_type": "display_data"
    }
   ],
   "source": [
    "plot_from_sim_paths(\"sim_paths_spatial_4_more_maxweight.pkl\")"
   ]
  },
  {
   "cell_type": "code",
   "execution_count": 10,
   "metadata": {},
   "outputs": [
    {
     "name": "stdout",
     "output_type": "stream",
     "text": [
      "Expected cost for c = 0 case: 2.944\n",
      "Set parameter Username\n",
      "Academic license - for non-commercial use only - expires 2024-09-03\n",
      "Gurobi Optimizer version 10.0.3 build v10.0.3rc0 (win64)\n",
      "\n",
      "CPU model: Intel(R) Core(TM) i7-8550U CPU @ 1.80GHz, instruction set [SSE2|AVX|AVX2]\n",
      "Thread count: 4 physical cores, 8 logical processors, using up to 8 threads\n",
      "\n",
      "Optimize a model with 10 rows, 25 columns and 50 nonzeros\n",
      "Model fingerprint: 0x835e4b3c\n",
      "Coefficient statistics:\n",
      "  Matrix range     [1e+00, 1e+00]\n",
      "  Objective range  [2e+00, 5e+00]\n",
      "  Bounds range     [1e+00, 1e+00]\n",
      "  RHS range        [3e-02, 3e-01]\n",
      "Presolve time: 0.01s\n",
      "Presolved: 10 rows, 25 columns, 50 nonzeros\n",
      "\n",
      "Iteration    Objective       Primal Inf.    Dual Inf.      Time\n",
      "       0    2.0736091e+00   6.787672e-01   0.000000e+00      0s\n",
      "       5    2.2288097e+00   0.000000e+00   0.000000e+00      0s\n",
      "\n",
      "Solved in 5 iterations and 0.01 seconds (0.00 work units)\n",
      "Optimal objective  2.228809724e+00\n",
      "Objective Value: 2.23\n",
      "x:  [[0.         0.08524291 0.         0.         0.        ]\n",
      " [0.04188069 0.         0.         0.         0.25192521]\n",
      " [0.04343125 0.         0.         0.2888484  0.        ]\n",
      " [0.07287028 0.         0.0345999  0.         0.        ]\n",
      " [0.11552342 0.06567795 0.         0.         0.        ]]\n",
      "\n",
      "Fluid Solution:\n",
      "\n",
      "{'Cost': 2.2288097244692664, 'X_matrix': array([[0.        , 0.08524291, 0.        , 0.        , 0.        ],\n",
      "       [0.04188069, 0.        , 0.        , 0.        , 0.25192521],\n",
      "       [0.04343125, 0.        , 0.        , 0.2888484 , 0.        ],\n",
      "       [0.07287028, 0.        , 0.0345999 , 0.        , 0.        ],\n",
      "       [0.11552342, 0.06567795, 0.        , 0.        , 0.        ]])}\n"
     ]
    },
    {
     "data": {
      "image/png": "[encoded data removed]",
      "text/plain": [
       "<Figure size 720x432 with 1 Axes>"
      ]
     },
     "metadata": {
      "needs_background": "light"
     },
     "output_type": "display_data"
    }
   ],
   "source": [
    "plot_from_sim_paths(\"sim_paths_random_5.pkl\", 0.9)"
   ]
  },
  {
   "cell_type": "code",
   "execution_count": 11,
   "metadata": {},
   "outputs": [
    {
     "name": "stdout",
     "output_type": "stream",
     "text": [
      "Expected cost for c = 0 case: 2.944\n",
      "Gurobi Optimizer version 10.0.3 build v10.0.3rc0 (win64)\n",
      "\n",
      "CPU model: Intel(R) Core(TM) i7-8550U CPU @ 1.80GHz, instruction set [SSE2|AVX|AVX2]\n",
      "Thread count: 4 physical cores, 8 logical processors, using up to 8 threads\n",
      "\n",
      "Optimize a model with 10 rows, 25 columns and 50 nonzeros\n",
      "Model fingerprint: 0x835e4b3c\n",
      "Coefficient statistics:\n",
      "  Matrix range     [1e+00, 1e+00]\n",
      "  Objective range  [2e+00, 5e+00]\n",
      "  Bounds range     [1e+00, 1e+00]\n",
      "  RHS range        [3e-02, 3e-01]\n",
      "Presolve time: 0.00s\n",
      "Presolved: 10 rows, 25 columns, 50 nonzeros\n",
      "\n",
      "Iteration    Objective       Primal Inf.    Dual Inf.      Time\n",
      "       0    2.0736091e+00   6.787672e-01   0.000000e+00      0s\n",
      "       5    2.2288097e+00   0.000000e+00   0.000000e+00      0s\n",
      "\n",
      "Solved in 5 iterations and 0.02 seconds (0.00 work units)\n",
      "Optimal objective  2.228809724e+00\n",
      "Objective Value: 2.23\n",
      "x:  [[0.         0.08524291 0.         0.         0.        ]\n",
      " [0.04188069 0.         0.         0.         0.25192521]\n",
      " [0.04343125 0.         0.         0.2888484  0.        ]\n",
      " [0.07287028 0.         0.0345999  0.         0.        ]\n",
      " [0.11552342 0.06567795 0.         0.         0.        ]]\n",
      "\n",
      "Fluid Solution:\n",
      "\n",
      "{'Cost': 2.2288097244692664, 'X_matrix': array([[0.        , 0.08524291, 0.        , 0.        , 0.        ],\n",
      "       [0.04188069, 0.        , 0.        , 0.        , 0.25192521],\n",
      "       [0.04343125, 0.        , 0.        , 0.2888484 , 0.        ],\n",
      "       [0.07287028, 0.        , 0.0345999 , 0.        , 0.        ],\n",
      "       [0.11552342, 0.06567795, 0.        , 0.        , 0.        ]])}\n"
     ]
    },
    {
     "data": {
      "image/png": "[encoded data removed]",
      "text/plain": [
       "<Figure size 720x432 with 1 Axes>"
      ]
     },
     "metadata": {
      "needs_background": "light"
     },
     "output_type": "display_data"
    }
   ],
   "source": [
    "plot_from_sim_paths(\"sim_paths_random_5.pkl\")"
   ]
  },
  {
   "cell_type": "code",
   "execution_count": 26,
   "metadata": {},
   "outputs": [],
   "source": [
    "file_name = 'sim_paths_spatial_4_more_maxweight.pkl'\n",
    "with open(file_name,'rb') as f:\n",
    "    M_res,B_res, N, W, pmf_cust, pmf_serv = pickle.load(f)"
   ]
  },
  {
   "cell_type": "code",
   "execution_count": 27,
   "metadata": {},
   "outputs": [],
   "source": [
    "frac = 0\n",
    "import utils\n",
    "Q_paths_M = M_res[\"Q_paths\"]\n",
    "C_paths_M = M_res[\"C_paths\"]\n",
    "Q_paths_B = B_res[\"Q_paths\"]\n",
    "C_paths_B = B_res[\"C_paths\"]\n",
    "(average_cost_M, average_queue_M) = utils.average_paths(C_paths_M,Q_paths_M)\n",
    "(average_cost_B, average_queue_B) = utils.average_paths(C_paths_B,Q_paths_B)"
   ]
  },
  {
   "cell_type": "code",
   "execution_count": 28,
   "metadata": {},
   "outputs": [
    {
     "data": {
      "text/plain": [
       "array([2.05134056, 2.04314086, 2.04711437, 2.00823716, 1.6390342 ,\n",
       "       1.54269407, 1.16405191, 1.11830597, 0.95766237, 0.86380141,\n",
       "       0.76891823, 0.7076005 , 0.6903933 , 0.62665715, 0.57594168,\n",
       "       0.55016272, 0.53218523, 0.51858648, 0.50610701, 0.48963726,\n",
       "       0.48508205])"
      ]
     },
     "execution_count": 28,
     "metadata": {},
     "output_type": "execute_result"
    }
   ],
   "source": [
    "average_cost_M"
   ]
  },
  {
   "cell_type": "code",
   "execution_count": 31,
   "metadata": {
    "scrolled": true
   },
   "outputs": [
    {
     "data": {
      "text/html": [
       "<div>\n",
       "<style scoped>\n",
       "    .dataframe tbody tr th:only-of-type {\n",
       "        vertical-align: middle;\n",
       "    }\n",
       "\n",
       "    .dataframe tbody tr th {\n",
       "        vertical-align: top;\n",
       "    }\n",
       "\n",
       "    .dataframe thead th {\n",
       "        text-align: right;\n",
       "    }\n",
       "</style>\n",
       "<table border=\"1\" class=\"dataframe\">\n",
       "  <thead>\n",
       "    <tr style=\"text-align: right;\">\n",
       "      <th></th>\n",
       "      <th>alpha_values</th>\n",
       "      <th>average_queue</th>\n",
       "      <th>average_cost</th>\n",
       "    </tr>\n",
       "  </thead>\n",
       "  <tbody>\n",
       "    <tr>\n",
       "      <th>0</th>\n",
       "      <td>0.000</td>\n",
       "      <td>1.00000</td>\n",
       "      <td>2.051341</td>\n",
       "    </tr>\n",
       "    <tr>\n",
       "      <th>1</th>\n",
       "      <td>0.200</td>\n",
       "      <td>1.00000</td>\n",
       "      <td>2.043141</td>\n",
       "    </tr>\n",
       "    <tr>\n",
       "      <th>2</th>\n",
       "      <td>0.250</td>\n",
       "      <td>1.00000</td>\n",
       "      <td>2.047114</td>\n",
       "    </tr>\n",
       "    <tr>\n",
       "      <th>3</th>\n",
       "      <td>0.350</td>\n",
       "      <td>1.02958</td>\n",
       "      <td>2.008237</td>\n",
       "    </tr>\n",
       "    <tr>\n",
       "      <th>4</th>\n",
       "      <td>0.400</td>\n",
       "      <td>1.38767</td>\n",
       "      <td>1.639034</td>\n",
       "    </tr>\n",
       "    <tr>\n",
       "      <th>5</th>\n",
       "      <td>0.450</td>\n",
       "      <td>1.49887</td>\n",
       "      <td>1.542694</td>\n",
       "    </tr>\n",
       "    <tr>\n",
       "      <th>6</th>\n",
       "      <td>0.500</td>\n",
       "      <td>2.28548</td>\n",
       "      <td>1.164052</td>\n",
       "    </tr>\n",
       "    <tr>\n",
       "      <th>7</th>\n",
       "      <td>0.550</td>\n",
       "      <td>2.40674</td>\n",
       "      <td>1.118306</td>\n",
       "    </tr>\n",
       "    <tr>\n",
       "      <th>8</th>\n",
       "      <td>0.600</td>\n",
       "      <td>3.12880</td>\n",
       "      <td>0.957662</td>\n",
       "    </tr>\n",
       "    <tr>\n",
       "      <th>9</th>\n",
       "      <td>0.650</td>\n",
       "      <td>3.85840</td>\n",
       "      <td>0.863801</td>\n",
       "    </tr>\n",
       "    <tr>\n",
       "      <th>10</th>\n",
       "      <td>0.675</td>\n",
       "      <td>5.41479</td>\n",
       "      <td>0.768918</td>\n",
       "    </tr>\n",
       "    <tr>\n",
       "      <th>11</th>\n",
       "      <td>0.700</td>\n",
       "      <td>6.16884</td>\n",
       "      <td>0.707600</td>\n",
       "    </tr>\n",
       "    <tr>\n",
       "      <th>12</th>\n",
       "      <td>0.725</td>\n",
       "      <td>6.79943</td>\n",
       "      <td>0.690393</td>\n",
       "    </tr>\n",
       "    <tr>\n",
       "      <th>13</th>\n",
       "      <td>0.750</td>\n",
       "      <td>8.85233</td>\n",
       "      <td>0.626657</td>\n",
       "    </tr>\n",
       "    <tr>\n",
       "      <th>14</th>\n",
       "      <td>0.800</td>\n",
       "      <td>12.30021</td>\n",
       "      <td>0.575942</td>\n",
       "    </tr>\n",
       "    <tr>\n",
       "      <th>15</th>\n",
       "      <td>0.825</td>\n",
       "      <td>14.23250</td>\n",
       "      <td>0.550163</td>\n",
       "    </tr>\n",
       "    <tr>\n",
       "      <th>16</th>\n",
       "      <td>0.850</td>\n",
       "      <td>17.99977</td>\n",
       "      <td>0.532185</td>\n",
       "    </tr>\n",
       "    <tr>\n",
       "      <th>17</th>\n",
       "      <td>0.875</td>\n",
       "      <td>23.70648</td>\n",
       "      <td>0.518586</td>\n",
       "    </tr>\n",
       "    <tr>\n",
       "      <th>18</th>\n",
       "      <td>0.900</td>\n",
       "      <td>32.52394</td>\n",
       "      <td>0.506107</td>\n",
       "    </tr>\n",
       "    <tr>\n",
       "      <th>19</th>\n",
       "      <td>0.925</td>\n",
       "      <td>45.88602</td>\n",
       "      <td>0.489637</td>\n",
       "    </tr>\n",
       "    <tr>\n",
       "      <th>20</th>\n",
       "      <td>0.950</td>\n",
       "      <td>74.57511</td>\n",
       "      <td>0.485082</td>\n",
       "    </tr>\n",
       "  </tbody>\n",
       "</table>\n",
       "</div>"
      ],
      "text/plain": [
       "    alpha_values  average_queue  average_cost\n",
       "0          0.000        1.00000      2.051341\n",
       "1          0.200        1.00000      2.043141\n",
       "2          0.250        1.00000      2.047114\n",
       "3          0.350        1.02958      2.008237\n",
       "4          0.400        1.38767      1.639034\n",
       "5          0.450        1.49887      1.542694\n",
       "6          0.500        2.28548      1.164052\n",
       "7          0.550        2.40674      1.118306\n",
       "8          0.600        3.12880      0.957662\n",
       "9          0.650        3.85840      0.863801\n",
       "10         0.675        5.41479      0.768918\n",
       "11         0.700        6.16884      0.707600\n",
       "12         0.725        6.79943      0.690393\n",
       "13         0.750        8.85233      0.626657\n",
       "14         0.800       12.30021      0.575942\n",
       "15         0.825       14.23250      0.550163\n",
       "16         0.850       17.99977      0.532185\n",
       "17         0.875       23.70648      0.518586\n",
       "18         0.900       32.52394      0.506107\n",
       "19         0.925       45.88602      0.489637\n",
       "20         0.950       74.57511      0.485082"
      ]
     },
     "metadata": {},
     "output_type": "display_data"
    }
   ],
   "source": [
    "import pandas as pd\n",
    "alpha_values = alpha_values = np.asarray( [0, 0.2, 0.25, 0.35, 0.4, 0.45, 0.5, 0.55, 0.6, 0.65, 0.675, 0.7, 0.725, 0.75, 0.8, 0.825, 0.85, 0.875,  0.9, 0.925, 0.95] )\n",
    "maxweight = pd.DataFrame({'average_queue': average_queue_M, 'average_cost': list(average_cost_M)}, columns=['average_queue', 'average_cost'])\n",
    "maxweight['alpha_values'] = alpha_values\n",
    "maxweight = maxweight[['alpha_values', 'average_queue', 'average_cost']]\n",
    "display(maxweight)"
   ]
  },
  {
   "cell_type": "code",
   "execution_count": 23,
   "metadata": {},
   "outputs": [],
   "source": [
    "alpha_values = np.asarray( [0, 0.2, 0.25, 0.35, 0.4, 0.45, 0.5, 0.55, 0.6, 0.65, 0.7, 0.8,0.9,0.95] )"
   ]
  },
  {
   "cell_type": "code",
   "execution_count": 24,
   "metadata": {},
   "outputs": [
    {
     "data": {
      "text/plain": [
       "(14,)"
      ]
     },
     "execution_count": 24,
     "metadata": {},
     "output_type": "execute_result"
    }
   ],
   "source": [
    "alpha_values.shape"
   ]
  },
  {
   "cell_type": "code",
   "execution_count": 25,
   "metadata": {},
   "outputs": [
    {
     "name": "stdout",
     "output_type": "stream",
     "text": [
      "Expected cost for c = 0 case: 2.046\n",
      "Gurobi Optimizer version 10.0.3 build v10.0.3rc0 (win64)\n",
      "\n",
      "CPU model: Intel(R) Core(TM) i7-8550U CPU @ 1.80GHz, instruction set [SSE2|AVX|AVX2]\n",
      "Thread count: 4 physical cores, 8 logical processors, using up to 8 threads\n",
      "\n",
      "Optimize a model with 32 rows, 256 columns and 512 nonzeros\n",
      "Model fingerprint: 0x6c0eaa24\n",
      "Coefficient statistics:\n",
      "  Matrix range     [1e+00, 1e+00]\n",
      "  Objective range  [1e+00, 4e+00]\n",
      "  Bounds range     [1e+00, 1e+00]\n",
      "  RHS range        [1e-03, 2e-01]\n",
      "Presolve time: 0.03s\n",
      "Presolved: 32 rows, 256 columns, 512 nonzeros\n",
      "\n",
      "Iteration    Objective       Primal Inf.    Dual Inf.      Time\n",
      "       0    0.0000000e+00   6.438740e-01   0.000000e+00      0s\n",
      "      21    4.7543473e-01   0.000000e+00   0.000000e+00      0s\n",
      "\n",
      "Solved in 21 iterations and 0.05 seconds (0.00 work units)\n",
      "Optimal objective  4.754347292e-01\n",
      "Objective Value: 0.48\n",
      "x:  [[0.01109994 0.00939293 0.         0.         0.         0.\n",
      "  0.         0.         0.01212069 0.         0.         0.\n",
      "  0.02522285 0.         0.         0.        ]\n",
      " [0.         0.11037705 0.         0.         0.         0.\n",
      "  0.         0.         0.         0.         0.         0.\n",
      "  0.         0.         0.         0.        ]\n",
      " [0.         0.05098951 0.0667131  0.         0.         0.\n",
      "  0.         0.         0.         0.         0.         0.\n",
      "  0.         0.         0.         0.        ]\n",
      " [0.         0.         0.01129884 0.00724217 0.         0.\n",
      "  0.0126397  0.03262725 0.         0.         0.03322884 0.\n",
      "  0.         0.         0.         0.        ]\n",
      " [0.         0.         0.         0.         0.02068965 0.\n",
      "  0.         0.         0.0103878  0.         0.         0.\n",
      "  0.         0.         0.         0.        ]\n",
      " [0.         0.         0.         0.         0.         0.04387873\n",
      "  0.         0.         0.         0.02556005 0.         0.\n",
      "  0.00029488 0.         0.         0.        ]\n",
      " [0.         0.         0.         0.         0.         0.\n",
      "  0.05793314 0.         0.         0.         0.         0.\n",
      "  0.         0.         0.         0.        ]\n",
      " [0.         0.         0.         0.         0.         0.\n",
      "  0.         0.00098626 0.         0.         0.         0.\n",
      "  0.         0.         0.         0.        ]\n",
      " [0.         0.         0.         0.         0.         0.\n",
      "  0.         0.         0.01243352 0.         0.         0.\n",
      "  0.         0.         0.         0.        ]\n",
      " [0.         0.         0.         0.         0.         0.\n",
      "  0.         0.         0.         0.0505967  0.         0.\n",
      "  0.         0.         0.         0.        ]\n",
      " [0.         0.         0.         0.         0.         0.\n",
      "  0.         0.         0.         0.         0.02493502 0.\n",
      "  0.         0.         0.         0.        ]\n",
      " [0.         0.         0.         0.         0.         0.\n",
      "  0.         0.         0.         0.         0.         0.05760885\n",
      "  0.         0.         0.         0.00702853]\n",
      " [0.         0.         0.         0.         0.         0.\n",
      "  0.         0.         0.         0.         0.         0.\n",
      "  0.05670006 0.         0.         0.        ]\n",
      " [0.         0.         0.         0.         0.         0.\n",
      "  0.         0.         0.         0.         0.         0.\n",
      "  0.02826022 0.07615195 0.         0.        ]\n",
      " [0.         0.         0.         0.         0.         0.\n",
      "  0.         0.         0.         0.         0.         0.\n",
      "  0.03295937 0.         0.00129312 0.04122438]\n",
      " [0.         0.         0.         0.         0.         0.\n",
      "  0.         0.         0.         0.         0.         0.\n",
      "  0.         0.         0.         0.06812489]]\n",
      "\n",
      "Fluid Solution:\n",
      "\n",
      "{'Cost': 0.47543472920175167, 'X_matrix': array([[0.01109994, 0.00939293, 0.        , 0.        , 0.        ,\n",
      "        0.        , 0.        , 0.        , 0.01212069, 0.        ,\n",
      "        0.        , 0.        , 0.02522285, 0.        , 0.        ,\n",
      "        0.        ],\n",
      "       [0.        , 0.11037705, 0.        , 0.        , 0.        ,\n",
      "        0.        , 0.        , 0.        , 0.        , 0.        ,\n",
      "        0.        , 0.        , 0.        , 0.        , 0.        ,\n",
      "        0.        ],\n",
      "       [0.        , 0.05098951, 0.0667131 , 0.        , 0.        ,\n",
      "        0.        , 0.        , 0.        , 0.        , 0.        ,\n",
      "        0.        , 0.        , 0.        , 0.        , 0.        ,\n",
      "        0.        ],\n",
      "       [0.        , 0.        , 0.01129884, 0.00724217, 0.        ,\n",
      "        0.        , 0.0126397 , 0.03262725, 0.        , 0.        ,\n",
      "        0.03322884, 0.        , 0.        , 0.        , 0.        ,\n",
      "        0.        ],\n",
      "       [0.        , 0.        , 0.        , 0.        , 0.02068965,\n",
      "        0.        , 0.        , 0.        , 0.0103878 , 0.        ,\n",
      "        0.        , 0.        , 0.        , 0.        , 0.        ,\n",
      "        0.        ],\n",
      "       [0.        , 0.        , 0.        , 0.        , 0.        ,\n",
      "        0.04387873, 0.        , 0.        , 0.        , 0.02556005,\n",
      "        0.        , 0.        , 0.00029488, 0.        , 0.        ,\n",
      "        0.        ],\n",
      "       [0.        , 0.        , 0.        , 0.        , 0.        ,\n",
      "        0.        , 0.05793314, 0.        , 0.        , 0.        ,\n",
      "        0.        , 0.        , 0.        , 0.        , 0.        ,\n",
      "        0.        ],\n",
      "       [0.        , 0.        , 0.        , 0.        , 0.        ,\n",
      "        0.        , 0.        , 0.00098626, 0.        , 0.        ,\n",
      "        0.        , 0.        , 0.        , 0.        , 0.        ,\n",
      "        0.        ],\n",
      "       [0.        , 0.        , 0.        , 0.        , 0.        ,\n",
      "        0.        , 0.        , 0.        , 0.01243352, 0.        ,\n",
      "        0.        , 0.        , 0.        , 0.        , 0.        ,\n",
      "        0.        ],\n",
      "       [0.        , 0.        , 0.        , 0.        , 0.        ,\n",
      "        0.        , 0.        , 0.        , 0.        , 0.0505967 ,\n",
      "        0.        , 0.        , 0.        , 0.        , 0.        ,\n",
      "        0.        ],\n",
      "       [0.        , 0.        , 0.        , 0.        , 0.        ,\n",
      "        0.        , 0.        , 0.        , 0.        , 0.        ,\n",
      "        0.02493502, 0.        , 0.        , 0.        , 0.        ,\n",
      "        0.        ],\n",
      "       [0.        , 0.        , 0.        , 0.        , 0.        ,\n",
      "        0.        , 0.        , 0.        , 0.        , 0.        ,\n",
      "        0.        , 0.05760885, 0.        , 0.        , 0.        ,\n",
      "        0.00702853],\n",
      "       [0.        , 0.        , 0.        , 0.        , 0.        ,\n",
      "        0.        , 0.        , 0.        , 0.        , 0.        ,\n",
      "        0.        , 0.        , 0.05670006, 0.        , 0.        ,\n",
      "        0.        ],\n",
      "       [0.        , 0.        , 0.        , 0.        , 0.        ,\n",
      "        0.        , 0.        , 0.        , 0.        , 0.        ,\n",
      "        0.        , 0.        , 0.02826022, 0.07615195, 0.        ,\n",
      "        0.        ],\n",
      "       [0.        , 0.        , 0.        , 0.        , 0.        ,\n",
      "        0.        , 0.        , 0.        , 0.        , 0.        ,\n",
      "        0.        , 0.        , 0.03295937, 0.        , 0.00129312,\n",
      "        0.04122438],\n",
      "       [0.        , 0.        , 0.        , 0.        , 0.        ,\n",
      "        0.        , 0.        , 0.        , 0.        , 0.        ,\n",
      "        0.        , 0.        , 0.        , 0.        , 0.        ,\n",
      "        0.06812489]])}\n"
     ]
    },
    {
     "data": {
      "image/png": "[encoded data removed]",
      "text/plain": [
       "<Figure size 720x432 with 1 Axes>"
      ]
     },
     "metadata": {
      "needs_background": "light"
     },
     "output_type": "display_data"
    }
   ],
   "source": [
    "plot_from_sim_paths('sim_paths_spatial_4_more_maxweight.pkl')"
   ]
  },
  {
   "cell_type": "code",
   "execution_count": null,
   "metadata": {},
   "outputs": [],
   "source": []
  }
 ],
 "metadata": {
  "kernelspec": {
   "display_name": "Python 3",
   "language": "python",
   "name": "python3"
  },
  "language_info": {
   "codemirror_mode": {
    "name": "ipython",
    "version": 3
   },
   "file_extension": ".py",
   "mimetype": "text/x-python",
   "name": "python",
   "nbconvert_exporter": "python",
   "pygments_lexer": "ipython3",
   "version": "3.7.3"
  }
 },
 "nbformat": 4,
 "nbformat_minor": 4
}
