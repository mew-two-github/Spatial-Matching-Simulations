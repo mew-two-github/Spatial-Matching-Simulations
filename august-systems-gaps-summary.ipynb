{
 "cells": [
  {
   "cell_type": "code",
   "execution_count": 1,
   "metadata": {},
   "outputs": [],
   "source": [
    "import numpy as np\n",
    "from scipy.stats import rv_discrete\n",
    "from matplotlib import pyplot as plt\n",
    "import cvxpy as cp\n",
    "import pickle\n",
    "# import gurobipy"
   ]
  },
  {
   "cell_type": "code",
   "execution_count": 2,
   "metadata": {},
   "outputs": [],
   "source": [
    "import utils\n",
    "def run_extremes(N, W, pmf_cust, pmf_serv, gurobi_flag = 1):\n",
    "    Ex = round (np.sum(np.outer(pmf_cust,pmf_serv)*W), 3) \n",
    "    print(\"Expected cost for c = 0 case:\", Ex )\n",
    "    if gurobi_flag == 1:\n",
    "        fluid_sol = utils.fluid_solution_gurobi(N, W, pmf_cust, pmf_serv)\n",
    "    else:\n",
    "        fluid_sol = utils.fluid_solution(N, W, pmf_cust, pmf_serv)\n",
    "#     print(\"\\nFluid Solution:\\n\")\n",
    "#     print(fluid_sol)\n",
    "    return([Ex,fluid_sol])\n",
    "def plot_from_sim_paths(file_name, save_file= 0, frac = 0):\n",
    "    with open(file_name,'rb') as f:\n",
    "        M_res,B_res, N, W, pmf_cust, pmf_serv = pickle.load(f)\n",
    "    Q_paths_M = M_res[\"Q_paths\"]\n",
    "    C_paths_M = M_res[\"C_paths\"]\n",
    "    Q_paths_B = B_res[\"Q_paths\"]\n",
    "    C_paths_B = B_res[\"C_paths\"]\n",
    "    (average_cost_M, average_queue_M) = utils.average_paths(C_paths_M,Q_paths_M, frac)\n",
    "    (average_cost_B, average_queue_B) = utils.average_paths(C_paths_B,Q_paths_B, frac)\n",
    "    [Ex,fluid_sol] = run_extremes(N,W,pmf_cust,pmf_serv)\n",
    "    utils.qc_plot(Ex,fluid_sol,average_queue_B,average_cost_B,average_queue_M,average_cost_M, save_file)"
   ]
  },
  {
   "cell_type": "code",
   "execution_count": 3,
   "metadata": {},
   "outputs": [],
   "source": [
    "def get_gaps(file_names, gaps, x_vals):\n",
    "    for file_name in file_names:\n",
    "        with open(file_name,'rb') as f:\n",
    "            M_res,B_res, N, W, pmf_cust, pmf_serv = pickle.load(f)\n",
    "        Q_paths_M = M_res[\"Q_paths\"]\n",
    "        C_paths_M = M_res[\"C_paths\"]\n",
    "        Q_paths_B = B_res[\"Q_paths\"]\n",
    "        C_paths_B = B_res[\"C_paths\"]\n",
    "\n",
    "        # zero_probs[i] = round (np.sum(np.outer(pmf_cust,pmf_serv)*W), 3) \n",
    "        (average_cost_M, average_queue_M) = utils.average_paths(C_paths_M,Q_paths_M)\n",
    "        (average_cost_B, average_queue_B) = utils.average_paths(C_paths_B,Q_paths_B)\n",
    "        # [Ex,fluid_sol] = run_extremes(N,W,pmf_cust,pmf_serv)\n",
    "        cM, qM, cB, qB = utils.minmax(average_cost_M, average_queue_M, average_cost_B, average_queue_B)  \n",
    "        gaps = np.append( gaps, [cB - cM] )\n",
    "        x_vals = np.append(x_vals, [np.var(W)/np.mean(W)])\n",
    "        return ( [gaps, x_vals] )"
   ]
  },
  {
   "cell_type": "code",
   "execution_count": 4,
   "metadata": {},
   "outputs": [],
   "source": [
    "def get_gaps_nonU(file_names, gaps, x_vals):\n",
    "    for file_name in file_names:\n",
    "        with open(file_name,'rb') as f:\n",
    "            M_res,B_res, N, W, pmf_cust, pmf_serv = pickle.load(f)\n",
    "        cost_pmf = np.outer(pmf_cust,pmf_serv).ravel()\n",
    "        weights = W.ravel()\n",
    "\n",
    "        mean_cost = sum(cost_pmf*weights)\n",
    "        variance_cost = sum(cost_pmf*(weights**2)) - mean_cost**2\n",
    "        \n",
    "        Q_paths_M = M_res[\"Q_paths\"]\n",
    "        C_paths_M = M_res[\"C_paths\"]\n",
    "        Q_paths_B = B_res[\"Q_paths\"]\n",
    "        C_paths_B = B_res[\"C_paths\"]\n",
    "\n",
    "        # zero_probs[i] = round (np.sum(np.outer(pmf_cust,pmf_serv)*W), 3) \n",
    "        (average_cost_M, average_queue_M) = utils.average_paths(C_paths_M,Q_paths_M)\n",
    "        (average_cost_B, average_queue_B) = utils.average_paths(C_paths_B,Q_paths_B)\n",
    "        # [Ex,fluid_sol] = run_extremes(N,W,pmf_cust,pmf_serv)\n",
    "        cM, qM, cB, qB = utils.minmax(average_cost_M, average_queue_M, average_cost_B, average_queue_B)  \n",
    "        gaps = np.append( gaps, [cB - cM] )\n",
    "        x_vals = np.append(x_vals, [variance_cost/mean_cost])\n",
    "    return ( [gaps, x_vals] )"
   ]
  },
  {
   "cell_type": "markdown",
   "metadata": {},
   "source": [
    "### Gather all file names"
   ]
  },
  {
   "cell_type": "markdown",
   "metadata": {},
   "source": [
    "N = 16"
   ]
  },
  {
   "cell_type": "code",
   "execution_count": 59,
   "metadata": {},
   "outputs": [],
   "source": [
    "file_names = []\n",
    "indicator = []\n",
    "weights = [0.1,0.5,1.0,1.25,1.414,2.0]\n",
    "for w in weights:\n",
    "    file_names.append(\"../sim_paths_spatial_uniform_16_W_\"+ str(w) + '_new.pkl' )\n",
    "    indicator.append(0)"
   ]
  },
  {
   "cell_type": "code",
   "execution_count": 60,
   "metadata": {},
   "outputs": [
    {
     "data": {
      "text/plain": [
       "True"
      ]
     },
     "execution_count": 60,
     "metadata": {},
     "output_type": "execute_result"
    }
   ],
   "source": [
    "len(file_names) == len(indicator)"
   ]
  },
  {
   "cell_type": "markdown",
   "metadata": {},
   "source": [
    "Original files used for this plot"
   ]
  },
  {
   "cell_type": "code",
   "execution_count": 61,
   "metadata": {},
   "outputs": [],
   "source": [
    "# Increased diagonal weights\n",
    "weights = [0.1,0.5,1.0,1.25,1.414,2.0]\n",
    "for w in weights:\n",
    "    file_names.append( \"../sim_paths_spatial_uniform_9_W_\" + str(w) + '.pkl' )\n",
    "    indicator.append(1)\n",
    "for w in weights:\n",
    "    file_names.append( \"../sim_paths_spatial_uniform_4_W_\" + str(w) + '.pkl' )\n",
    "    indicator.append(2)\n",
    "\n",
    "# Also including (not included as part of original files before) longest spatial\n",
    "file_names.append(\"longest_spatial_uniform_4.pkl\")\n",
    "indicator.append(3)\n",
    "file_names.append(\"longest_spatial_uniform_9.pkl\")\n",
    "indicator.append(3)"
   ]
  },
  {
   "cell_type": "code",
   "execution_count": 62,
   "metadata": {},
   "outputs": [
    {
     "data": {
      "text/plain": [
       "True"
      ]
     },
     "execution_count": 62,
     "metadata": {},
     "output_type": "execute_result"
    }
   ],
   "source": [
    "len(file_names) == len(indicator)"
   ]
  },
  {
   "cell_type": "markdown",
   "metadata": {},
   "source": [
    "June"
   ]
  },
  {
   "cell_type": "code",
   "execution_count": 63,
   "metadata": {},
   "outputs": [],
   "source": [
    "# June results\n",
    "# Probab curve simulations so all have weird PMFs\n",
    "for i in range(9):\n",
    "    file_names.append( \"../probab_curve_50k/sim_paths_prob_curve\" + str(i) + '.pkl' )\n",
    "    indicator.append(4)"
   ]
  },
  {
   "cell_type": "code",
   "execution_count": 64,
   "metadata": {},
   "outputs": [
    {
     "data": {
      "text/plain": [
       "True"
      ]
     },
     "execution_count": 64,
     "metadata": {},
     "output_type": "execute_result"
    }
   ],
   "source": [
    "len(file_names) == len(indicator)"
   ]
  },
  {
   "cell_type": "markdown",
   "metadata": {},
   "source": [
    "Spring 2024"
   ]
  },
  {
   "cell_type": "code",
   "execution_count": 65,
   "metadata": {},
   "outputs": [],
   "source": [
    "file_names = file_names + [\"../sim_paths_spatial_uniform_4.pkl\", \"../sim_paths_spatial_uniform_9.pkl\"]\n",
    "indicator = indicator + [5,5]\n",
    "file_names = file_names + [\"../sim_paths_random_4.pkl\", \"../sim_paths_random_2.pkl\", \"../sim_paths_random_5.pkl\", \"../sim_paths_random_4_random_pmf.pkl\"]\n",
    "indicator = indicator + [6,6,6,6]\n",
    "file_names = file_names + [\"../sim_paths_spatial_scale_10_rerun.pkl\", \"../sim_paths_spatial_scale_16.pkl\"]\n",
    "indicator = indicator + [7,7]"
   ]
  },
  {
   "cell_type": "markdown",
   "metadata": {},
   "source": [
    "### Get Gaps\n",
    "Lazy so I am just calling get_gap_nonU for everything"
   ]
  },
  {
   "cell_type": "code",
   "execution_count": 66,
   "metadata": {},
   "outputs": [],
   "source": [
    "gaps = np.array([])\n",
    "x_vals = np.array([])\n"
   ]
  },
  {
   "cell_type": "code",
   "execution_count": 67,
   "metadata": {},
   "outputs": [
    {
     "data": {
      "text/plain": [
       "True"
      ]
     },
     "execution_count": 67,
     "metadata": {},
     "output_type": "execute_result"
    }
   ],
   "source": [
    "len(file_names) == len(indicator)"
   ]
  },
  {
   "cell_type": "code",
   "execution_count": 68,
   "metadata": {},
   "outputs": [],
   "source": [
    "[gaps, x_vals] = get_gaps_nonU(file_names, gaps, x_vals)"
   ]
  },
  {
   "cell_type": "code",
   "execution_count": 78,
   "metadata": {},
   "outputs": [
    {
     "name": "stdout",
     "output_type": "stream",
     "text": [
      "['N=16,D_w', 'N=16,D_w', 'N=16,D_w', 'N=16,D_w', 'N=16,D_w', 'N=16,D_w', 'N=9,D_w', 'N=9,D_w', 'N=9,D_w', 'N=9,D_w', 'N=9,D_w', 'N=9,D_w', 'N=4,D_w', 'N=4,D_w', 'N=4,D_w', 'N=4,D_w', 'N=4,D_w', 'N=4,D_w', 'longest', 'longest', 'PC', 'PC', 'PC', 'PC', 'PC', 'PC', 'PC', 'PC', 'PC', 'Base_N=4,9', 'Base_N=4,9', 'Rwts_N', 'Rwts_N', 'Rwts_N', 'Rwts_N', 'scale', 'scale']\n"
     ]
    }
   ],
   "source": [
    "values = [\"N=16,D_w\", \"N=9,D_w\", \"N=4,D_w\",\"longest\",\"PC\",\"Base_N=4,9\",\"Rwts_N\",\"scale\"]\n",
    "new_ind = [values[i] for i in indicator]\n",
    "print(new_ind)"
   ]
  },
  {
   "cell_type": "code",
   "execution_count": 99,
   "metadata": {},
   "outputs": [
    {
     "data": {
      "image/png": "[encoded data removed]",
      "text/plain": [
       "<Figure size 864x576 with 1 Axes>"
      ]
     },
     "metadata": {
      "needs_background": "light"
     },
     "output_type": "display_data"
    }
   ],
   "source": [
    "plt.figure( figsize=(12,8) )\n",
    "\n",
    "scatter = plt.scatter(x_vals, gaps, c=indicator, cmap='viridis', alpha=0.7)\n",
    "plt.ylabel(\"Cost Gap\", weight='bold',fontsize=12)\n",
    "plt.xlabel(\"Variance/Mean\", weight='bold',fontsize=12)\n",
    "plt.title(\"Cost Gap vs scaled variances\", weight='bold',fontsize=15)\n",
    "# plt.legend(loc=\"lower left\",ncol=1)\n",
    "plt.show()"
   ]
  },
  {
   "cell_type": "code",
   "execution_count": 105,
   "metadata": {},
   "outputs": [
    {
     "data": {
      "text/html": [
       "<div>\n",
       "<style scoped>\n",
       "    .dataframe tbody tr th:only-of-type {\n",
       "        vertical-align: middle;\n",
       "    }\n",
       "\n",
       "    .dataframe tbody tr th {\n",
       "        vertical-align: top;\n",
       "    }\n",
       "\n",
       "    .dataframe thead th {\n",
       "        text-align: right;\n",
       "    }\n",
       "</style>\n",
       "<table border=\"1\" class=\"dataframe\">\n",
       "  <thead>\n",
       "    <tr style=\"text-align: right;\">\n",
       "      <th></th>\n",
       "      <th>x_vals</th>\n",
       "      <th>Cost_Gap</th>\n",
       "      <th>class</th>\n",
       "      <th>indicator</th>\n",
       "    </tr>\n",
       "  </thead>\n",
       "  <tbody>\n",
       "    <tr>\n",
       "      <th>0</th>\n",
       "      <td>0.468340</td>\n",
       "      <td>0.457256</td>\n",
       "      <td>N=16,D_w</td>\n",
       "      <td>0</td>\n",
       "    </tr>\n",
       "    <tr>\n",
       "      <th>1</th>\n",
       "      <td>0.420261</td>\n",
       "      <td>0.405708</td>\n",
       "      <td>N=16,D_w</td>\n",
       "      <td>0</td>\n",
       "    </tr>\n",
       "    <tr>\n",
       "      <th>2</th>\n",
       "      <td>0.374529</td>\n",
       "      <td>0.340720</td>\n",
       "      <td>N=16,D_w</td>\n",
       "      <td>0</td>\n",
       "    </tr>\n",
       "    <tr>\n",
       "      <th>3</th>\n",
       "      <td>0.357443</td>\n",
       "      <td>0.262804</td>\n",
       "      <td>N=16,D_w</td>\n",
       "      <td>0</td>\n",
       "    </tr>\n",
       "    <tr>\n",
       "      <th>4</th>\n",
       "      <td>0.348271</td>\n",
       "      <td>0.274566</td>\n",
       "      <td>N=16,D_w</td>\n",
       "      <td>0</td>\n",
       "    </tr>\n",
       "  </tbody>\n",
       "</table>\n",
       "</div>"
      ],
      "text/plain": [
       "     x_vals  Cost_Gap     class  indicator\n",
       "0  0.468340  0.457256  N=16,D_w          0\n",
       "1  0.420261  0.405708  N=16,D_w          0\n",
       "2  0.374529  0.340720  N=16,D_w          0\n",
       "3  0.357443  0.262804  N=16,D_w          0\n",
       "4  0.348271  0.274566  N=16,D_w          0"
      ]
     },
     "execution_count": 105,
     "metadata": {},
     "output_type": "execute_result"
    }
   ],
   "source": [
    "import seaborn as sns\n",
    "import pandas as pd\n",
    "data = pd.DataFrame({'x_vals':x_vals,'Cost_Gap':gaps,'class':new_ind,'indicator':indicator})\n",
    "data.head()"
   ]
  },
  {
   "cell_type": "code",
   "execution_count": 106,
   "metadata": {},
   "outputs": [
    {
     "data": {
      "text/plain": [
       "37"
      ]
     },
     "execution_count": 106,
     "metadata": {},
     "output_type": "execute_result"
    }
   ],
   "source": [
    "len(data)"
   ]
  },
  {
   "cell_type": "code",
   "execution_count": 107,
   "metadata": {},
   "outputs": [
    {
     "data": {
      "image/png": "[encoded data removed]",
      "text/plain": [
       "<Figure size 864x576 with 1 Axes>"
      ]
     },
     "metadata": {
      "needs_background": "light"
     },
     "output_type": "display_data"
    }
   ],
   "source": [
    "plt.figure(figsize=(12, 8))\n",
    "\n",
    "sns.scatterplot(data=data, x='x_vals', y='Cost_Gap', hue=new_ind, palette='bright', alpha=0.7)\n",
    "plt.ylabel(\"Cost Gap\", weight='bold',fontsize=12)\n",
    "plt.xlabel(\"Variance/Mean\", weight='bold',fontsize=12)\n",
    "plt.title(\"Cost Gap vs scaled variances\", weight='bold',fontsize=15)\n",
    "# plt.legend(loc=\"lower left\",ncol=1)\n",
    "plt.show()"
   ]
  },
  {
   "cell_type": "code",
   "execution_count": 102,
   "metadata": {},
   "outputs": [
    {
     "data": {
      "image/png": "[encoded data removed]",
      "text/plain": [
       "<Figure size 864x576 with 1 Axes>"
      ]
     },
     "metadata": {
      "needs_background": "light"
     },
     "output_type": "display_data"
    }
   ],
   "source": [
    "lval = 35\n",
    "data = pd.DataFrame({'x_vals':x_vals[:lval],'Cost_Gap':gaps[:lval],'class':new_ind[:lval]})\n",
    "data.head()\n",
    "plt.figure(figsize=(12, 8))\n",
    "\n",
    "sns.scatterplot(data=data, x='x_vals', y='Cost_Gap', hue=new_ind[:lval], hue_norm=(0,255), palette='bright', alpha=0.8, s=100)\n",
    "plt.ylabel(\"Cost Gap\", weight='bold',fontsize=12)\n",
    "plt.xlabel(\"Variance/Mean\", weight='bold',fontsize=12)\n",
    "plt.title(\"Cost Gap vs scaled variances\", weight='bold',fontsize=15)\n",
    "# plt.legend(loc=\"lower left\",ncol=1)\n",
    "plt.show()"
   ]
  },
  {
   "cell_type": "code",
   "execution_count": 74,
   "metadata": {},
   "outputs": [
    {
     "data": {
      "text/plain": [
       "Text(0.5, 1.0, 'Cost Gap vs scaled variances')"
      ]
     },
     "execution_count": 74,
     "metadata": {},
     "output_type": "execute_result"
    },
    {
     "data": {
      "image/png": "[encoded data removed]",
      "text/plain": [
       "<Figure size 720x432 with 1 Axes>"
      ]
     },
     "metadata": {
      "needs_background": "light"
     },
     "output_type": "display_data"
    }
   ],
   "source": [
    "lval = 35\n",
    "plt.figure( figsize=(10,6) )\n",
    "plt.scatter(x_vals[:lval],gaps[:lval], c=indicator[:lval], cmap='viridis', alpha=0.7)\n",
    "plt.ylabel(\"Cost Gap\", weight='bold',fontsize=12)\n",
    "plt.xlabel(\"Variance/Mean\", weight='bold',fontsize=12)\n",
    "plt.title(\"Cost Gap vs scaled variances\", weight='bold',fontsize=15)"
   ]
  },
  {
   "cell_type": "code",
   "execution_count": 85,
   "metadata": {},
   "outputs": [
    {
     "data": {
      "image/png": "[encoded data removed]",
      "text/plain": [
       "<Figure size 720x576 with 1 Axes>"
      ]
     },
     "metadata": {
      "needs_background": "light"
     },
     "output_type": "display_data"
    }
   ],
   "source": []
  },
  {
   "cell_type": "code",
   "execution_count": null,
   "metadata": {},
   "outputs": [],
   "source": []
  },
  {
   "cell_type": "code",
   "execution_count": null,
   "metadata": {},
   "outputs": [],
   "source": []
  },
  {
   "cell_type": "code",
   "execution_count": 70,
   "metadata": {},
   "outputs": [],
   "source": [
    "import pickle as pkl\n",
    "with open(\"../gaps_data.pkl\",\"wb\") as f:\n",
    "    pkl.dump([gaps,x_vals,indicator],f)"
   ]
  },
  {
   "cell_type": "code",
   "execution_count": 71,
   "metadata": {},
   "outputs": [],
   "source": [
    "with open(\"../gaps_data.pkl\",\"rb\") as f:\n",
    "   [gaps_loaded,x_vals_loaded,indicator_loaded] = pkl.load(f)"
   ]
  },
  {
   "cell_type": "code",
   "execution_count": 72,
   "metadata": {},
   "outputs": [
    {
     "data": {
      "text/plain": [
       "Text(0.5, 1.0, 'Cost Gap vs scaled variances')"
      ]
     },
     "execution_count": 72,
     "metadata": {},
     "output_type": "execute_result"
    },
    {
     "data": {
      "image/png": "[encoded data removed]",
      "text/plain": [
       "<Figure size 720x432 with 1 Axes>"
      ]
     },
     "metadata": {
      "needs_background": "light"
     },
     "output_type": "display_data"
    }
   ],
   "source": [
    "plt.figure( figsize=(10,6) )\n",
    "plt.scatter(gaps_loaded, x_vals_loaded, c=indicator_loaded, cmap='viridis', alpha=0.7)\n",
    "plt.ylabel(\"Cost Gap\", weight='bold',fontsize=12)\n",
    "plt.xlabel(\"Variance/Mean\", weight='bold',fontsize=12)\n",
    "plt.title(\"Cost Gap vs scaled variances\", weight='bold',fontsize=15)"
   ]
  },
  {
   "cell_type": "markdown",
   "metadata": {},
   "source": [
    "I think the scaled plots are the ones with high gaps"
   ]
  },
  {
   "cell_type": "code",
   "execution_count": 54,
   "metadata": {},
   "outputs": [
    {
     "data": {
      "text/plain": [
       "Text(0.5, 1.0, 'Cost Gap vs scaled variances')"
      ]
     },
     "execution_count": 54,
     "metadata": {},
     "output_type": "execute_result"
    },
    {
     "data": {
      "image/png": "[encoded data removed]",
      "text/plain": [
       "<Figure size 720x432 with 1 Axes>"
      ]
     },
     "metadata": {
      "needs_background": "light"
     },
     "output_type": "display_data"
    }
   ],
   "source": [
    "lval = 33\n",
    "plt.figure( figsize=(10,6) )\n",
    "plt.scatter(gaps_loaded[:lval], x_vals_loaded[:lval], c=indicator_loaded[:lval], cmap='viridis', alpha=0.7)\n",
    "plt.ylabel(\"Cost Gap\", weight='bold',fontsize=12)\n",
    "plt.xlabel(\"Variance/Mean\", weight='bold',fontsize=12)\n",
    "plt.title(\"Cost Gap vs scaled variances\", weight='bold',fontsize=15)"
   ]
  },
  {
   "cell_type": "code",
   "execution_count": 52,
   "metadata": {},
   "outputs": [
    {
     "data": {
      "text/plain": [
       "38"
      ]
     },
     "execution_count": 52,
     "metadata": {},
     "output_type": "execute_result"
    }
   ],
   "source": [
    "len(indicator)"
   ]
  },
  {
   "cell_type": "code",
   "execution_count": 108,
   "metadata": {},
   "outputs": [
    {
     "data": {
      "text/html": [
       "<div>\n",
       "<style scoped>\n",
       "    .dataframe tbody tr th:only-of-type {\n",
       "        vertical-align: middle;\n",
       "    }\n",
       "\n",
       "    .dataframe tbody tr th {\n",
       "        vertical-align: top;\n",
       "    }\n",
       "\n",
       "    .dataframe thead th {\n",
       "        text-align: right;\n",
       "    }\n",
       "</style>\n",
       "<table border=\"1\" class=\"dataframe\">\n",
       "  <thead>\n",
       "    <tr style=\"text-align: right;\">\n",
       "      <th></th>\n",
       "      <th>x_vals</th>\n",
       "      <th>Cost_Gap</th>\n",
       "      <th>class</th>\n",
       "      <th>indicator</th>\n",
       "    </tr>\n",
       "  </thead>\n",
       "  <tbody>\n",
       "    <tr>\n",
       "      <th>35</th>\n",
       "      <td>5.142131</td>\n",
       "      <td>2.955938</td>\n",
       "      <td>scale</td>\n",
       "      <td>7</td>\n",
       "    </tr>\n",
       "    <tr>\n",
       "      <th>36</th>\n",
       "      <td>4.886308</td>\n",
       "      <td>3.546097</td>\n",
       "      <td>scale</td>\n",
       "      <td>7</td>\n",
       "    </tr>\n",
       "  </tbody>\n",
       "</table>\n",
       "</div>"
      ],
      "text/plain": [
       "      x_vals  Cost_Gap  class  indicator\n",
       "35  5.142131  2.955938  scale          7\n",
       "36  4.886308  3.546097  scale          7"
      ]
     },
     "execution_count": 108,
     "metadata": {},
     "output_type": "execute_result"
    }
   ],
   "source": [
    "data[-2:]"
   ]
  },
  {
   "cell_type": "code",
   "execution_count": 113,
   "metadata": {},
   "outputs": [],
   "source": [
    "file_name = \"../sim_paths_spatial_scale_10_rerun.pkl\" \n",
    "\n",
    "# \"../sim_paths_spatial_scale_16.pkl\"\n",
    "with open(file_name,'rb') as f:\n",
    "    M_res,B_res, N, W, pmf_cust, pmf_serv = pickle.load(f)"
   ]
  },
  {
   "cell_type": "code",
   "execution_count": 114,
   "metadata": {},
   "outputs": [
    {
     "name": "stdout",
     "output_type": "stream",
     "text": [
      "[[ 0.         10.         20.         30.         10.         14.14213562\n",
      "  22.36067977 31.6227766  20.         22.36067977 28.28427125 36.05551275\n",
      "  30.         31.6227766  36.05551275 42.42640687]\n",
      " [10.          0.         10.         20.         14.14213562 10.\n",
      "  14.14213562 22.36067977 22.36067977 20.         22.36067977 28.28427125\n",
      "  31.6227766  30.         31.6227766  36.05551275]\n",
      " [20.         10.          0.         10.         22.36067977 14.14213562\n",
      "  10.         14.14213562 28.28427125 22.36067977 20.         22.36067977\n",
      "  36.05551275 31.6227766  30.         31.6227766 ]\n",
      " [30.         20.         10.          0.         31.6227766  22.36067977\n",
      "  14.14213562 10.         36.05551275 28.28427125 22.36067977 20.\n",
      "  42.42640687 36.05551275 31.6227766  30.        ]\n",
      " [10.         14.14213562 22.36067977 31.6227766   0.         10.\n",
      "  20.         30.         10.         14.14213562 22.36067977 31.6227766\n",
      "  20.         22.36067977 28.28427125 36.05551275]\n",
      " [14.14213562 10.         14.14213562 22.36067977 10.          0.\n",
      "  10.         20.         14.14213562 10.         14.14213562 22.36067977\n",
      "  22.36067977 20.         22.36067977 28.28427125]\n",
      " [22.36067977 14.14213562 10.         14.14213562 20.         10.\n",
      "   0.         10.         22.36067977 14.14213562 10.         14.14213562\n",
      "  28.28427125 22.36067977 20.         22.36067977]\n",
      " [31.6227766  22.36067977 14.14213562 10.         30.         20.\n",
      "  10.          0.         31.6227766  22.36067977 14.14213562 10.\n",
      "  36.05551275 28.28427125 22.36067977 20.        ]\n",
      " [20.         22.36067977 28.28427125 36.05551275 10.         14.14213562\n",
      "  22.36067977 31.6227766   0.         10.         20.         30.\n",
      "  10.         14.14213562 22.36067977 31.6227766 ]\n",
      " [22.36067977 20.         22.36067977 28.28427125 14.14213562 10.\n",
      "  14.14213562 22.36067977 10.          0.         10.         20.\n",
      "  14.14213562 10.         14.14213562 22.36067977]\n",
      " [28.28427125 22.36067977 20.         22.36067977 22.36067977 14.14213562\n",
      "  10.         14.14213562 20.         10.          0.         10.\n",
      "  22.36067977 14.14213562 10.         14.14213562]\n",
      " [36.05551275 28.28427125 22.36067977 20.         31.6227766  22.36067977\n",
      "  14.14213562 10.         30.         20.         10.          0.\n",
      "  31.6227766  22.36067977 14.14213562 10.        ]\n",
      " [30.         31.6227766  36.05551275 42.42640687 20.         22.36067977\n",
      "  28.28427125 36.05551275 10.         14.14213562 22.36067977 31.6227766\n",
      "   0.         10.         20.         30.        ]\n",
      " [31.6227766  30.         31.6227766  36.05551275 22.36067977 20.\n",
      "  22.36067977 28.28427125 14.14213562 10.         14.14213562 22.36067977\n",
      "  10.          0.         10.         20.        ]\n",
      " [36.05551275 31.6227766  30.         31.6227766  28.28427125 22.36067977\n",
      "  20.         22.36067977 22.36067977 14.14213562 10.         14.14213562\n",
      "  20.         10.          0.         10.        ]\n",
      " [42.42640687 36.05551275 31.6227766  30.         36.05551275 28.28427125\n",
      "  22.36067977 20.         31.6227766  22.36067977 14.14213562 10.\n",
      "  30.         20.         10.          0.        ]]\n"
     ]
    }
   ],
   "source": [
    "print(W)"
   ]
  },
  {
   "cell_type": "code",
   "execution_count": 115,
   "metadata": {},
   "outputs": [],
   "source": [
    "file_name = \"../sim_paths_spatial_scale_16.pkl\"\n",
    "with open(file_name,'rb') as f:\n",
    "    M_res,B_res, N2, W2, pmf_cust2, pmf_serv2 = pickle.load(f)"
   ]
  },
  {
   "cell_type": "code",
   "execution_count": 116,
   "metadata": {},
   "outputs": [
    {
     "name": "stdout",
     "output_type": "stream",
     "text": [
      "[[ 0.         10.         20.         30.         10.         14.14213562\n",
      "  22.36067977 31.6227766  20.         22.36067977 28.28427125 36.05551275\n",
      "  30.         31.6227766  36.05551275 42.42640687]\n",
      " [10.          0.         10.         20.         14.14213562 10.\n",
      "  14.14213562 22.36067977 22.36067977 20.         22.36067977 28.28427125\n",
      "  31.6227766  30.         31.6227766  36.05551275]\n",
      " [20.         10.          0.         10.         22.36067977 14.14213562\n",
      "  10.         14.14213562 28.28427125 22.36067977 20.         22.36067977\n",
      "  36.05551275 31.6227766  30.         31.6227766 ]\n",
      " [30.         20.         10.          0.         31.6227766  22.36067977\n",
      "  14.14213562 10.         36.05551275 28.28427125 22.36067977 20.\n",
      "  42.42640687 36.05551275 31.6227766  30.        ]\n",
      " [10.         14.14213562 22.36067977 31.6227766   0.         10.\n",
      "  20.         30.         10.         14.14213562 22.36067977 31.6227766\n",
      "  20.         22.36067977 28.28427125 36.05551275]\n",
      " [14.14213562 10.         14.14213562 22.36067977 10.          0.\n",
      "  10.         20.         14.14213562 10.         14.14213562 22.36067977\n",
      "  22.36067977 20.         22.36067977 28.28427125]\n",
      " [22.36067977 14.14213562 10.         14.14213562 20.         10.\n",
      "   0.         10.         22.36067977 14.14213562 10.         14.14213562\n",
      "  28.28427125 22.36067977 20.         22.36067977]\n",
      " [31.6227766  22.36067977 14.14213562 10.         30.         20.\n",
      "  10.          0.         31.6227766  22.36067977 14.14213562 10.\n",
      "  36.05551275 28.28427125 22.36067977 20.        ]\n",
      " [20.         22.36067977 28.28427125 36.05551275 10.         14.14213562\n",
      "  22.36067977 31.6227766   0.         10.         20.         30.\n",
      "  10.         14.14213562 22.36067977 31.6227766 ]\n",
      " [22.36067977 20.         22.36067977 28.28427125 14.14213562 10.\n",
      "  14.14213562 22.36067977 10.          0.         10.         20.\n",
      "  14.14213562 10.         14.14213562 22.36067977]\n",
      " [28.28427125 22.36067977 20.         22.36067977 22.36067977 14.14213562\n",
      "  10.         14.14213562 20.         10.          0.         10.\n",
      "  22.36067977 14.14213562 10.         14.14213562]\n",
      " [36.05551275 28.28427125 22.36067977 20.         31.6227766  22.36067977\n",
      "  14.14213562 10.         30.         20.         10.          0.\n",
      "  31.6227766  22.36067977 14.14213562 10.        ]\n",
      " [30.         31.6227766  36.05551275 42.42640687 20.         22.36067977\n",
      "  28.28427125 36.05551275 10.         14.14213562 22.36067977 31.6227766\n",
      "   0.         10.         20.         30.        ]\n",
      " [31.6227766  30.         31.6227766  36.05551275 22.36067977 20.\n",
      "  22.36067977 28.28427125 14.14213562 10.         14.14213562 22.36067977\n",
      "  10.          0.         10.         20.        ]\n",
      " [36.05551275 31.6227766  30.         31.6227766  28.28427125 22.36067977\n",
      "  20.         22.36067977 22.36067977 14.14213562 10.         14.14213562\n",
      "  20.         10.          0.         10.        ]\n",
      " [42.42640687 36.05551275 31.6227766  30.         36.05551275 28.28427125\n",
      "  22.36067977 20.         31.6227766  22.36067977 14.14213562 10.\n",
      "  30.         20.         10.          0.        ]]\n"
     ]
    }
   ],
   "source": [
    "print(W)"
   ]
  },
  {
   "cell_type": "code",
   "execution_count": 117,
   "metadata": {},
   "outputs": [
    {
     "data": {
      "text/plain": [
       "array([[0., 0., 0., 0., 0., 0., 0., 0., 0., 0., 0., 0., 0., 0., 0., 0.],\n",
       "       [0., 0., 0., 0., 0., 0., 0., 0., 0., 0., 0., 0., 0., 0., 0., 0.],\n",
       "       [0., 0., 0., 0., 0., 0., 0., 0., 0., 0., 0., 0., 0., 0., 0., 0.],\n",
       "       [0., 0., 0., 0., 0., 0., 0., 0., 0., 0., 0., 0., 0., 0., 0., 0.],\n",
       "       [0., 0., 0., 0., 0., 0., 0., 0., 0., 0., 0., 0., 0., 0., 0., 0.],\n",
       "       [0., 0., 0., 0., 0., 0., 0., 0., 0., 0., 0., 0., 0., 0., 0., 0.],\n",
       "       [0., 0., 0., 0., 0., 0., 0., 0., 0., 0., 0., 0., 0., 0., 0., 0.],\n",
       "       [0., 0., 0., 0., 0., 0., 0., 0., 0., 0., 0., 0., 0., 0., 0., 0.],\n",
       "       [0., 0., 0., 0., 0., 0., 0., 0., 0., 0., 0., 0., 0., 0., 0., 0.],\n",
       "       [0., 0., 0., 0., 0., 0., 0., 0., 0., 0., 0., 0., 0., 0., 0., 0.],\n",
       "       [0., 0., 0., 0., 0., 0., 0., 0., 0., 0., 0., 0., 0., 0., 0., 0.],\n",
       "       [0., 0., 0., 0., 0., 0., 0., 0., 0., 0., 0., 0., 0., 0., 0., 0.],\n",
       "       [0., 0., 0., 0., 0., 0., 0., 0., 0., 0., 0., 0., 0., 0., 0., 0.],\n",
       "       [0., 0., 0., 0., 0., 0., 0., 0., 0., 0., 0., 0., 0., 0., 0., 0.],\n",
       "       [0., 0., 0., 0., 0., 0., 0., 0., 0., 0., 0., 0., 0., 0., 0., 0.],\n",
       "       [0., 0., 0., 0., 0., 0., 0., 0., 0., 0., 0., 0., 0., 0., 0., 0.]])"
      ]
     },
     "execution_count": 117,
     "metadata": {},
     "output_type": "execute_result"
    }
   ],
   "source": [
    "W2 - W"
   ]
  },
  {
   "cell_type": "code",
   "execution_count": 118,
   "metadata": {},
   "outputs": [
    {
     "data": {
      "text/plain": [
       "16"
      ]
     },
     "execution_count": 118,
     "metadata": {},
     "output_type": "execute_result"
    }
   ],
   "source": [
    "N2 "
   ]
  },
  {
   "cell_type": "code",
   "execution_count": 119,
   "metadata": {},
   "outputs": [
    {
     "data": {
      "text/plain": [
       "array([0.095886  , 0.064833  , 0.02011467, 0.10579828, 0.06332473,\n",
       "       0.06126731, 0.03189242, 0.02230265, 0.05465714, 0.09789766,\n",
       "       0.00486615, 0.07277437, 0.09431652, 0.04608176, 0.1115095 ,\n",
       "       0.05247784])"
      ]
     },
     "execution_count": 119,
     "metadata": {},
     "output_type": "execute_result"
    }
   ],
   "source": [
    "pmf_cust"
   ]
  },
  {
   "cell_type": "code",
   "execution_count": 120,
   "metadata": {},
   "outputs": [
    {
     "data": {
      "text/plain": [
       "array([0.07632258, 0.04416851, 0.06035114, 0.09632552, 0.04445993,\n",
       "       0.00653104, 0.10674206, 0.03118331, 0.09051541, 0.04553928,\n",
       "       0.09873315, 0.00951475, 0.07374131, 0.04462872, 0.09551354,\n",
       "       0.07572974])"
      ]
     },
     "execution_count": 120,
     "metadata": {},
     "output_type": "execute_result"
    }
   ],
   "source": [
    "pmf_cust2"
   ]
  },
  {
   "cell_type": "code",
   "execution_count": null,
   "metadata": {},
   "outputs": [],
   "source": []
  }
 ],
 "metadata": {
  "kernelspec": {
   "display_name": "base",
   "language": "python",
   "name": "python3"
  },
  "language_info": {
   "codemirror_mode": {
    "name": "ipython",
    "version": 3
   },
   "file_extension": ".py",
   "mimetype": "text/x-python",
   "name": "python",
   "nbconvert_exporter": "python",
   "pygments_lexer": "ipython3",
   "version": "3.7.3"
  }
 },
 "nbformat": 4,
 "nbformat_minor": 2
}
