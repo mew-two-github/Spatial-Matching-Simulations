{
 "cells": [
  {
   "cell_type": "code",
   "execution_count": 3,
   "metadata": {},
   "outputs": [],
   "source": [
    "import numpy as np\n",
    "from scipy.stats import rv_discrete\n",
    "from matplotlib import pyplot as plt\n",
    "import cvxpy as cp\n",
    "import pickle\n",
    "# import gurobipy"
   ]
  },
  {
   "cell_type": "code",
   "execution_count": 4,
   "metadata": {},
   "outputs": [],
   "source": [
    "def gen_long_weights(N_grid):\n",
    "    Weights = np.zeros(shape=(N_grid,N_grid))\n",
    "    X = np.arange(0.5,N_grid,1)\n",
    "    Y = np.arange(0.5,N_grid,1)\n",
    "    cell_locs = []\n",
    "    for i in range(N_grid):\n",
    "        for j in range(N_grid):\n",
    "            cell_locs.append([X[i],Y[j]])\n",
    "    N_cells = N_grid*N_grid\n",
    "    Weights = np.zeros(shape=(N_cells,N_cells))\n",
    "\n",
    "    for i in range(N_cells):\n",
    "        for j in range(N_cells):\n",
    "            xpoints = [ cell_locs[i][0] + 0.5, cell_locs[i][0] - 0.5, cell_locs[j][0] + 0.5,  cell_locs[j][0] - 0.5 ]\n",
    "            ypoints = [ cell_locs[i][1] + 0.5, cell_locs[i][1] - 0.5, cell_locs[j][1] + 0.5,  cell_locs[j][1] - 0.5 ]\n",
    "            Weights[i,j] = np.sqrt((max(xpoints) - min(ypoints))**2 \n",
    "                                   + (max(ypoints) - min(ypoints))**2)\n",
    "            \n",
    "    print(\"Spatial: longest\",Weights)"
   ]
  },
  {
   "cell_type": "code",
   "execution_count": 5,
   "metadata": {},
   "outputs": [
    {
     "name": "stdout",
     "output_type": "stream",
     "text": [
      "Spatial: longest [[1.41421356 2.23606798 2.23606798 2.82842712]\n",
      " [2.23606798 1.         2.82842712 1.41421356]\n",
      " [2.23606798 2.82842712 2.23606798 2.82842712]\n",
      " [2.82842712 1.41421356 2.82842712 1.41421356]]\n"
     ]
    }
   ],
   "source": [
    "gen_long_weights(2)"
   ]
  },
  {
   "cell_type": "code",
   "execution_count": 10,
   "metadata": {},
   "outputs": [
    {
     "name": "stdout",
     "output_type": "stream",
     "text": [
      "Spatial: longest [[1.41421356 2.23606798 2.23606798 2.82842712]\n",
      " [2.23606798 1.41421356 2.82842712 2.23606798]\n",
      " [2.23606798 2.82842712 1.41421356 2.23606798]\n",
      " [2.82842712 2.23606798 2.23606798 1.41421356]]\n"
     ]
    }
   ],
   "source": [
    "N_grid = 2\n",
    "Weights = np.zeros(shape=(N_grid,N_grid))\n",
    "X = np.arange(0.5,N_grid,1)\n",
    "Y = np.arange(0.5,N_grid,1)\n",
    "cell_locs = []\n",
    "for i in range(N_grid):\n",
    "    for j in range(N_grid):\n",
    "        cell_locs.append([X[i],Y[j]])\n",
    "N_cells = N_grid*N_grid\n",
    "Weights = np.zeros(shape=(N_cells,N_cells))\n",
    "\n",
    "for i in range(N_cells):\n",
    "    for j in range(N_cells):\n",
    "        xpoints = [ cell_locs[i][0] + 0.5, cell_locs[i][0] - 0.5, cell_locs[j][0] + 0.5,  cell_locs[j][0] - 0.5 ]\n",
    "        ypoints = [ cell_locs[i][1] + 0.5, cell_locs[i][1] - 0.5, cell_locs[j][1] + 0.5,  cell_locs[j][1] - 0.5 ]\n",
    "        Weights[i,j] = np.sqrt((max(xpoints) - min(xpoints))**2 \n",
    "                                + (max(ypoints) - min(ypoints))**2)\n",
    "        \n",
    "print(\"Spatial: longest\",Weights)"
   ]
  },
  {
   "cell_type": "code",
   "execution_count": 9,
   "metadata": {},
   "outputs": [
    {
     "data": {
      "text/plain": [
       "[[0.5, 0.5], [0.5, 1.5], [1.5, 0.5], [1.5, 1.5]]"
      ]
     },
     "execution_count": 9,
     "metadata": {},
     "output_type": "execute_result"
    }
   ],
   "source": [
    "cell_locs"
   ]
  },
  {
   "cell_type": "code",
   "execution_count": 11,
   "metadata": {},
   "outputs": [],
   "source": [
    "rand_weights = Weights\n",
    "for i in range(N_grid):\n",
    "    for j in range(N_grid):\n",
    "        for k in range(N_grid):\n",
    "            rand_weights[i,j] = min(rand_weights[i,j],rand_weights[i,k] + rand_weights[k,j] )"
   ]
  },
  {
   "cell_type": "code",
   "execution_count": 12,
   "metadata": {},
   "outputs": [
    {
     "data": {
      "text/plain": [
       "array([[ True,  True,  True,  True],\n",
       "       [ True,  True,  True,  True],\n",
       "       [ True,  True,  True,  True],\n",
       "       [ True,  True,  True,  True]])"
      ]
     },
     "execution_count": 12,
     "metadata": {},
     "output_type": "execute_result"
    }
   ],
   "source": [
    "rand_weights == Weights"
   ]
  },
  {
   "cell_type": "code",
   "execution_count": null,
   "metadata": {},
   "outputs": [],
   "source": []
  }
 ],
 "metadata": {
  "kernelspec": {
   "display_name": "base",
   "language": "python",
   "name": "python3"
  },
  "language_info": {
   "codemirror_mode": {
    "name": "ipython",
    "version": 3
   },
   "file_extension": ".py",
   "mimetype": "text/x-python",
   "name": "python",
   "nbconvert_exporter": "python",
   "pygments_lexer": "ipython3",
   "version": "3.7.3"
  }
 },
 "nbformat": 4,
 "nbformat_minor": 2
}
