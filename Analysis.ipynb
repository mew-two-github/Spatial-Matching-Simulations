{
 "cells": [
  {
   "cell_type": "code",
   "execution_count": 19,
   "metadata": {},
   "outputs": [],
   "source": [
    "import pickle\n",
    "import utils\n",
    "import numpy as np\n",
    "file_name = \"../sim_paths_random.pkl\"\n",
    "with open(file_name,'rb') as f:\n",
    "     M_res,B_res, N, W, pmf_cust, pmf_serv = pickle.load(f)\n",
    "Q_paths_M = M_res[\"Q_paths\"]\n",
    "C_paths_M = M_res[\"C_paths\"]\n",
    "Q_paths_B = B_res[\"Q_paths\"]\n",
    "C_paths_B = B_res[\"C_paths\"]\n",
    "(average_cost_M, average_queue_M) = utils.average_paths(C_paths_M,Q_paths_M)\n",
    "(average_cost_B, average_queue_B) = utils.average_paths(C_paths_B,Q_paths_B)"
   ]
  },
  {
   "cell_type": "code",
   "execution_count": 14,
   "metadata": {},
   "outputs": [
    {
     "data": {
      "text/plain": [
       "array([0.34055123, 0.3409828 , 0.34140651, 0.34067464, 0.34177809,\n",
       "       0.34013156, 0.34145917, 0.34037214, 0.34091963, 0.34017121,\n",
       "       0.34019821, 0.31217034, 0.28115801, 0.27184236])"
      ]
     },
     "execution_count": 14,
     "metadata": {},
     "output_type": "execute_result"
    }
   ],
   "source": [
    "average_cost_M"
   ]
  },
  {
   "cell_type": "code",
   "execution_count": 15,
   "metadata": {},
   "outputs": [
    {
     "data": {
      "text/plain": [
       "array([1.     , 1.     , 1.     , 1.     , 1.     , 1.     , 1.     ,\n",
       "       1.     , 1.     , 1.     , 1.     , 1.27183, 2.38958, 5.67114])"
      ]
     },
     "execution_count": 15,
     "metadata": {},
     "output_type": "execute_result"
    }
   ],
   "source": [
    "average_queue_M"
   ]
  },
  {
   "cell_type": "code",
   "execution_count": 16,
   "metadata": {},
   "outputs": [
    {
     "data": {
      "text/plain": [
       "array([[0.20905745, 0.56418628, 0.27388864, 0.04863301],\n",
       "       [0.1793404 , 0.64312121, 0.2053665 , 0.01891596],\n",
       "       [0.25420689, 0.43775471, 0.52809553, 0.3028399 ],\n",
       "       [0.16042444, 0.72461073, 0.43431309, 0.20905745]])"
      ]
     },
     "execution_count": 16,
     "metadata": {},
     "output_type": "execute_result"
    }
   ],
   "source": [
    "W"
   ]
  },
  {
   "cell_type": "code",
   "execution_count": 9,
   "metadata": {},
   "outputs": [],
   "source": [
    "file_name = \"../sim_paths_spatial.pkl\"\n",
    "with open(file_name,'rb') as f:\n",
    "     M_res,B_res, N, W, pmf_cust, pmf_serv = pickle.load(f)\n",
    "Q_paths_M = M_res[\"Q_paths\"]\n",
    "C_paths_M = M_res[\"C_paths\"]\n",
    "Q_paths_B = B_res[\"Q_paths\"]\n",
    "C_paths_B = B_res[\"C_paths\"]\n",
    "(average_cost_M, average_queue_M) = utils.average_paths(C_paths_M,Q_paths_M)\n",
    "(average_cost_B, average_queue_B) = utils.average_paths(C_paths_B,Q_paths_B)"
   ]
  },
  {
   "cell_type": "code",
   "execution_count": 10,
   "metadata": {},
   "outputs": [
    {
     "data": {
      "text/plain": [
       "array([0.83282685, 0.83732072, 0.83419036, 0.835368  , 0.83278013,\n",
       "       0.83464947, 0.83331526, 0.83311899, 0.69307059, 0.69157196,\n",
       "       0.48354492, 0.36438566, 0.27453956, 0.25201466])"
      ]
     },
     "execution_count": 10,
     "metadata": {},
     "output_type": "execute_result"
    }
   ],
   "source": [
    "average_cost_M"
   ]
  },
  {
   "cell_type": "code",
   "execution_count": 11,
   "metadata": {},
   "outputs": [
    {
     "data": {
      "text/plain": [
       "array([ 1.     ,  1.     ,  1.     ,  1.     ,  1.     ,  1.     ,\n",
       "        1.     ,  1.     ,  1.23738,  1.23768,  1.82937,  2.73826,\n",
       "        5.31158, 10.41673])"
      ]
     },
     "execution_count": 11,
     "metadata": {},
     "output_type": "execute_result"
    }
   ],
   "source": [
    "average_queue_M"
   ]
  },
  {
   "cell_type": "code",
   "execution_count": 34,
   "metadata": {},
   "outputs": [
    {
     "data": {
      "text/plain": [
       "array([[0.20905745, 0.56418628, 0.27388864, 0.04863301],\n",
       "       [0.1793404 , 0.64312121, 0.2053665 , 0.01891596],\n",
       "       [0.25420689, 0.43775471, 0.52809553, 0.3028399 ],\n",
       "       [0.16042444, 0.72461073, 0.43431309, 0.20905745]])"
      ]
     },
     "execution_count": 34,
     "metadata": {},
     "output_type": "execute_result"
    }
   ],
   "source": [
    "W"
   ]
  },
  {
   "cell_type": "code",
   "execution_count": 31,
   "metadata": {},
   "outputs": [],
   "source": [
    "def generate_weights(N_grid, is_spatial = 1):\n",
    "    Weights = np.zeros(shape=(N_grid,N_grid))\n",
    "    if is_spatial:\n",
    "        X = np.arange(0.5,N_grid,1)\n",
    "        Y = np.arange(0.5,N_grid,1)\n",
    "        cell_locs = []\n",
    "        for i in range(N_grid):\n",
    "            for j in range(N_grid):\n",
    "                cell_locs.append([X[i],Y[j]])\n",
    "        N_cells = N_grid*N_grid\n",
    "        Weights = np.zeros(shape=(N_cells,N_cells))\n",
    "\n",
    "        for i in range(N_cells):\n",
    "            for j in range(N_cells):\n",
    "                Weights[i,j] = np.sqrt((cell_locs[i][0] - cell_locs[j][0])**2 + (cell_locs[i][1] - cell_locs[j][1])**2)\n",
    "        print(Weights)\n",
    "    else:\n",
    "        rand_weights = np.random.rand(N_grid, N_grid)*4 + 1.5\n",
    "        N_cells = N_grid*N_grid\n",
    "        for counter in range(N_cells):\n",
    "            for i in range(N_grid):\n",
    "                for j in range(N_grid):\n",
    "                    for k in range(N_grid):\n",
    "                        rand_weights[i,j] = min(rand_weights[i,j],rand_weights[i,k] + rand_weights[k,j] )\n",
    "        print(rand_weights)\n",
    "        Weights = rand_weights\n",
    "    return(Weights)"
   ]
  },
  {
   "cell_type": "code",
   "execution_count": 32,
   "metadata": {},
   "outputs": [
    {
     "name": "stdout",
     "output_type": "stream",
     "text": [
      "[[4.18865956 3.54257784 1.75048016 4.18843257]\n",
      " [5.11454783 2.70317657 4.00587941 3.11514975]\n",
      " [2.4381794  1.79209768 2.14843333 2.43795241]\n",
      " [2.68680295 4.9235435  3.99534232 4.86506095]]\n"
     ]
    },
    {
     "data": {
      "text/plain": [
       "array([[4.18865956, 3.54257784, 1.75048016, 4.18843257],\n",
       "       [5.11454783, 2.70317657, 4.00587941, 3.11514975],\n",
       "       [2.4381794 , 1.79209768, 2.14843333, 2.43795241],\n",
       "       [2.68680295, 4.9235435 , 3.99534232, 4.86506095]])"
      ]
     },
     "execution_count": 32,
     "metadata": {},
     "output_type": "execute_result"
    }
   ],
   "source": [
    "generate_weights(4, 0)"
   ]
  },
  {
   "cell_type": "code",
   "execution_count": 27,
   "metadata": {},
   "outputs": [
    {
     "data": {
      "text/plain": [
       "0.3333333333333333"
      ]
     },
     "execution_count": 27,
     "metadata": {},
     "output_type": "execute_result"
    }
   ],
   "source": [
    "(0.25)/0.75"
   ]
  },
  {
   "cell_type": "code",
   "execution_count": 35,
   "metadata": {},
   "outputs": [
    {
     "name": "stdout",
     "output_type": "stream",
     "text": [
      "[[0.         1.         2.         3.         1.         1.41421356\n",
      "  2.23606798 3.16227766 2.         2.23606798 2.82842712 3.60555128\n",
      "  3.         3.16227766 3.60555128 4.24264069]\n",
      " [1.         0.         1.         2.         1.41421356 1.\n",
      "  1.41421356 2.23606798 2.23606798 2.         2.23606798 2.82842712\n",
      "  3.16227766 3.         3.16227766 3.60555128]\n",
      " [2.         1.         0.         1.         2.23606798 1.41421356\n",
      "  1.         1.41421356 2.82842712 2.23606798 2.         2.23606798\n",
      "  3.60555128 3.16227766 3.         3.16227766]\n",
      " [3.         2.         1.         0.         3.16227766 2.23606798\n",
      "  1.41421356 1.         3.60555128 2.82842712 2.23606798 2.\n",
      "  4.24264069 3.60555128 3.16227766 3.        ]\n",
      " [1.         1.41421356 2.23606798 3.16227766 0.         1.\n",
      "  2.         3.         1.         1.41421356 2.23606798 3.16227766\n",
      "  2.         2.23606798 2.82842712 3.60555128]\n",
      " [1.41421356 1.         1.41421356 2.23606798 1.         0.\n",
      "  1.         2.         1.41421356 1.         1.41421356 2.23606798\n",
      "  2.23606798 2.         2.23606798 2.82842712]\n",
      " [2.23606798 1.41421356 1.         1.41421356 2.         1.\n",
      "  0.         1.         2.23606798 1.41421356 1.         1.41421356\n",
      "  2.82842712 2.23606798 2.         2.23606798]\n",
      " [3.16227766 2.23606798 1.41421356 1.         3.         2.\n",
      "  1.         0.         3.16227766 2.23606798 1.41421356 1.\n",
      "  3.60555128 2.82842712 2.23606798 2.        ]\n",
      " [2.         2.23606798 2.82842712 3.60555128 1.         1.41421356\n",
      "  2.23606798 3.16227766 0.         1.         2.         3.\n",
      "  1.         1.41421356 2.23606798 3.16227766]\n",
      " [2.23606798 2.         2.23606798 2.82842712 1.41421356 1.\n",
      "  1.41421356 2.23606798 1.         0.         1.         2.\n",
      "  1.41421356 1.         1.41421356 2.23606798]\n",
      " [2.82842712 2.23606798 2.         2.23606798 2.23606798 1.41421356\n",
      "  1.         1.41421356 2.         1.         0.         1.\n",
      "  2.23606798 1.41421356 1.         1.41421356]\n",
      " [3.60555128 2.82842712 2.23606798 2.         3.16227766 2.23606798\n",
      "  1.41421356 1.         3.         2.         1.         0.\n",
      "  3.16227766 2.23606798 1.41421356 1.        ]\n",
      " [3.         3.16227766 3.60555128 4.24264069 2.         2.23606798\n",
      "  2.82842712 3.60555128 1.         1.41421356 2.23606798 3.16227766\n",
      "  0.         1.         2.         3.        ]\n",
      " [3.16227766 3.         3.16227766 3.60555128 2.23606798 2.\n",
      "  2.23606798 2.82842712 1.41421356 1.         1.41421356 2.23606798\n",
      "  1.         0.         1.         2.        ]\n",
      " [3.60555128 3.16227766 3.         3.16227766 2.82842712 2.23606798\n",
      "  2.         2.23606798 2.23606798 1.41421356 1.         1.41421356\n",
      "  2.         1.         0.         1.        ]\n",
      " [4.24264069 3.60555128 3.16227766 3.         3.60555128 2.82842712\n",
      "  2.23606798 2.         3.16227766 2.23606798 1.41421356 1.\n",
      "  3.         2.         1.         0.        ]]\n"
     ]
    },
    {
     "data": {
      "text/plain": [
       "array([[0.        , 1.        , 2.        , 3.        , 1.        ,\n",
       "        1.41421356, 2.23606798, 3.16227766, 2.        , 2.23606798,\n",
       "        2.82842712, 3.60555128, 3.        , 3.16227766, 3.60555128,\n",
       "        4.24264069],\n",
       "       [1.        , 0.        , 1.        , 2.        , 1.41421356,\n",
       "        1.        , 1.41421356, 2.23606798, 2.23606798, 2.        ,\n",
       "        2.23606798, 2.82842712, 3.16227766, 3.        , 3.16227766,\n",
       "        3.60555128],\n",
       "       [2.        , 1.        , 0.        , 1.        , 2.23606798,\n",
       "        1.41421356, 1.        , 1.41421356, 2.82842712, 2.23606798,\n",
       "        2.        , 2.23606798, 3.60555128, 3.16227766, 3.        ,\n",
       "        3.16227766],\n",
       "       [3.        , 2.        , 1.        , 0.        , 3.16227766,\n",
       "        2.23606798, 1.41421356, 1.        , 3.60555128, 2.82842712,\n",
       "        2.23606798, 2.        , 4.24264069, 3.60555128, 3.16227766,\n",
       "        3.        ],\n",
       "       [1.        , 1.41421356, 2.23606798, 3.16227766, 0.        ,\n",
       "        1.        , 2.        , 3.        , 1.        , 1.41421356,\n",
       "        2.23606798, 3.16227766, 2.        , 2.23606798, 2.82842712,\n",
       "        3.60555128],\n",
       "       [1.41421356, 1.        , 1.41421356, 2.23606798, 1.        ,\n",
       "        0.        , 1.        , 2.        , 1.41421356, 1.        ,\n",
       "        1.41421356, 2.23606798, 2.23606798, 2.        , 2.23606798,\n",
       "        2.82842712],\n",
       "       [2.23606798, 1.41421356, 1.        , 1.41421356, 2.        ,\n",
       "        1.        , 0.        , 1.        , 2.23606798, 1.41421356,\n",
       "        1.        , 1.41421356, 2.82842712, 2.23606798, 2.        ,\n",
       "        2.23606798],\n",
       "       [3.16227766, 2.23606798, 1.41421356, 1.        , 3.        ,\n",
       "        2.        , 1.        , 0.        , 3.16227766, 2.23606798,\n",
       "        1.41421356, 1.        , 3.60555128, 2.82842712, 2.23606798,\n",
       "        2.        ],\n",
       "       [2.        , 2.23606798, 2.82842712, 3.60555128, 1.        ,\n",
       "        1.41421356, 2.23606798, 3.16227766, 0.        , 1.        ,\n",
       "        2.        , 3.        , 1.        , 1.41421356, 2.23606798,\n",
       "        3.16227766],\n",
       "       [2.23606798, 2.        , 2.23606798, 2.82842712, 1.41421356,\n",
       "        1.        , 1.41421356, 2.23606798, 1.        , 0.        ,\n",
       "        1.        , 2.        , 1.41421356, 1.        , 1.41421356,\n",
       "        2.23606798],\n",
       "       [2.82842712, 2.23606798, 2.        , 2.23606798, 2.23606798,\n",
       "        1.41421356, 1.        , 1.41421356, 2.        , 1.        ,\n",
       "        0.        , 1.        , 2.23606798, 1.41421356, 1.        ,\n",
       "        1.41421356],\n",
       "       [3.60555128, 2.82842712, 2.23606798, 2.        , 3.16227766,\n",
       "        2.23606798, 1.41421356, 1.        , 3.        , 2.        ,\n",
       "        1.        , 0.        , 3.16227766, 2.23606798, 1.41421356,\n",
       "        1.        ],\n",
       "       [3.        , 3.16227766, 3.60555128, 4.24264069, 2.        ,\n",
       "        2.23606798, 2.82842712, 3.60555128, 1.        , 1.41421356,\n",
       "        2.23606798, 3.16227766, 0.        , 1.        , 2.        ,\n",
       "        3.        ],\n",
       "       [3.16227766, 3.        , 3.16227766, 3.60555128, 2.23606798,\n",
       "        2.        , 2.23606798, 2.82842712, 1.41421356, 1.        ,\n",
       "        1.41421356, 2.23606798, 1.        , 0.        , 1.        ,\n",
       "        2.        ],\n",
       "       [3.60555128, 3.16227766, 3.        , 3.16227766, 2.82842712,\n",
       "        2.23606798, 2.        , 2.23606798, 2.23606798, 1.41421356,\n",
       "        1.        , 1.41421356, 2.        , 1.        , 0.        ,\n",
       "        1.        ],\n",
       "       [4.24264069, 3.60555128, 3.16227766, 3.        , 3.60555128,\n",
       "        2.82842712, 2.23606798, 2.        , 3.16227766, 2.23606798,\n",
       "        1.41421356, 1.        , 3.        , 2.        , 1.        ,\n",
       "        0.        ]])"
      ]
     },
     "execution_count": 35,
     "metadata": {},
     "output_type": "execute_result"
    }
   ],
   "source": [
    "generate_weights(4, 1)"
   ]
  },
  {
   "cell_type": "code",
   "execution_count": 40,
   "metadata": {},
   "outputs": [],
   "source": [
    "N = 4\n",
    "\n",
    "N = N*N\n",
    "\n",
    "pmf_cust = np.random.rand(N)\n",
    "pmf_cust = pmf_cust/(np.sum(pmf_cust))"
   ]
  },
  {
   "cell_type": "code",
   "execution_count": 41,
   "metadata": {},
   "outputs": [
    {
     "name": "stdout",
     "output_type": "stream",
     "text": [
      "[0.0984816  0.0241875  0.02478969 0.06393679 0.0755387  0.01249855\n",
      " 0.00355011 0.06088877 0.05379045 0.11332627 0.03576401 0.09536985\n",
      " 0.09633782 0.07857966 0.10783264 0.0551276 ]\n"
     ]
    }
   ],
   "source": [
    "print(pmf_cust)"
   ]
  },
  {
   "cell_type": "code",
   "execution_count": 39,
   "metadata": {},
   "outputs": [
    {
     "data": {
      "text/plain": [
       "(16, 1)"
      ]
     },
     "execution_count": 39,
     "metadata": {},
     "output_type": "execute_result"
    }
   ],
   "source": [
    "pmf_cust.shape"
   ]
  },
  {
   "cell_type": "markdown",
   "metadata": {},
   "source": [
    "### Plots"
   ]
  },
  {
   "cell_type": "code",
   "execution_count": 1,
   "metadata": {},
   "outputs": [],
   "source": [
    "import numpy as np\n",
    "from scipy.stats import rv_discrete\n",
    "from matplotlib import pyplot as plt\n",
    "import cvxpy as cp\n",
    "import pickle\n",
    "# import gurobipy"
   ]
  },
  {
   "cell_type": "code",
   "execution_count": 2,
   "metadata": {},
   "outputs": [],
   "source": [
    "import utils\n",
    "def run_extremes(N, W, pmf_cust, pmf_serv, gurobi_flag = 1):\n",
    "    Ex = round (np.sum(np.outer(pmf_cust,pmf_serv)*W), 3) \n",
    "    print(\"Expected cost for c = 0 case:\", Ex )\n",
    "    if gurobi_flag == 1:\n",
    "        fluid_sol = utils.fluid_solution_gurobi(N, W, pmf_cust, pmf_serv)\n",
    "    else:\n",
    "        fluid_sol = utils.fluid_solution(N, W, pmf_cust, pmf_serv)\n",
    "    print(\"\\nFluid Solution:\\n\")\n",
    "    print(fluid_sol)\n",
    "    return([Ex,fluid_sol])\n",
    "def plot_from_sim_paths(file_name):\n",
    "    with open(file_name,'rb') as f:\n",
    "        M_res,B_res, N, W, pmf_cust, pmf_serv = pickle.load(f)\n",
    "    Q_paths_M = M_res[\"Q_paths\"]\n",
    "    C_paths_M = M_res[\"C_paths\"]\n",
    "    Q_paths_B = B_res[\"Q_paths\"]\n",
    "    C_paths_B = B_res[\"C_paths\"]\n",
    "    (average_cost_M, average_queue_M) = utils.average_paths(C_paths_M,Q_paths_M)\n",
    "    (average_cost_B, average_queue_B) = utils.average_paths(C_paths_B,Q_paths_B)\n",
    "    [Ex,fluid_sol] = run_extremes(N,W,pmf_cust,pmf_serv)\n",
    "    utils.qc_plot(Ex,fluid_sol,average_queue_B,average_cost_B,average_queue_M,average_cost_M)"
   ]
  },
  {
   "cell_type": "code",
   "execution_count": 4,
   "metadata": {},
   "outputs": [
    {
     "name": "stdout",
     "output_type": "stream",
     "text": [
      "Expected cost for c = 0 case: 2.703\n",
      "Set parameter Username\n",
      "Academic license - for non-commercial use only - expires 2024-09-03\n",
      "Gurobi Optimizer version 10.0.3 build v10.0.3rc0 (win64)\n",
      "\n",
      "CPU model: Intel(R) Core(TM) i7-8550U CPU @ 1.80GHz, instruction set [SSE2|AVX|AVX2]\n",
      "Thread count: 4 physical cores, 8 logical processors, using up to 8 threads\n",
      "\n",
      "Optimize a model with 4 rows, 4 columns and 8 nonzeros\n",
      "Model fingerprint: 0xe1753d8c\n",
      "Coefficient statistics:\n",
      "  Matrix range     [1e+00, 1e+00]\n",
      "  Objective range  [2e+00, 5e+00]\n",
      "  Bounds range     [1e+00, 1e+00]\n",
      "  RHS range        [2e-01, 8e-01]\n",
      "Presolve removed 4 rows and 4 columns\n",
      "Presolve time: 0.03s\n",
      "Presolve: All rows and columns removed\n",
      "Iteration    Objective       Primal Inf.    Dual Inf.      Time\n",
      "       0    2.6025060e+00   0.000000e+00   0.000000e+00      0s\n",
      "\n",
      "Solved in 0 iterations and 0.04 seconds (0.00 work units)\n",
      "Optimal objective  2.602506012e+00\n",
      "Objective Value: 2.60\n",
      "x:  [[0.60021875 0.16715862]\n",
      " [0.23262263 0.        ]]\n",
      "\n",
      "Fluid Solution:\n",
      "\n",
      "{'Cost': 2.6025060120662493, 'X_matrix': array([[0.60021875, 0.16715862],\n",
      "       [0.23262263, 0.        ]])}\n"
     ]
    },
    {
     "data": {
      "image/png": "[encoded data removed]",
      "text/plain": [
       "<Figure size 720x432 with 1 Axes>"
      ]
     },
     "metadata": {
      "needs_background": "light"
     },
     "output_type": "display_data"
    }
   ],
   "source": [
    "plot_from_sim_paths(\"../sim_paths_random_2.pkl\")"
   ]
  },
  {
   "cell_type": "code",
   "execution_count": null,
   "metadata": {},
   "outputs": [],
   "source": []
  }
 ],
 "metadata": {
  "kernelspec": {
   "display_name": "Python 3",
   "language": "python",
   "name": "python3"
  },
  "language_info": {
   "codemirror_mode": {
    "name": "ipython",
    "version": 3
   },
   "file_extension": ".py",
   "mimetype": "text/x-python",
   "name": "python",
   "nbconvert_exporter": "python",
   "pygments_lexer": "ipython3",
   "version": "3.7.3"
  }
 },
 "nbformat": 4,
 "nbformat_minor": 4
}
