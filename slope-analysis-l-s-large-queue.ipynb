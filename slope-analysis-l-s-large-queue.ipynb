{
 "cells": [
  {
   "cell_type": "code",
   "execution_count": 1,
   "metadata": {},
   "outputs": [],
   "source": [
    "import numpy as np\n",
    "import pickle\n",
    "import matplotlib.pyplot as plt"
   ]
  },
  {
   "cell_type": "code",
   "execution_count": 2,
   "metadata": {},
   "outputs": [],
   "source": [
    "import utils\n",
    "def run_extremes(N, W, pmf_cust, pmf_serv, gurobi_flag = 0):\n",
    "    Ex = round (np.sum(np.outer(pmf_cust,pmf_serv)*W), 3) \n",
    "    print(\"Expected cost for c = 0 case:\", Ex )\n",
    "    if gurobi_flag == 1:\n",
    "        fluid_sol = utils.fluid_solution_gurobi(N, W, pmf_cust, pmf_serv)\n",
    "    else:\n",
    "        fluid_sol = utils.fluid_solution(N, W, pmf_cust, pmf_serv,0)\n",
    "#     print(\"\\nFluid Solution:\\n\")\n",
    "#     print(fluid_sol)\n",
    "    return([Ex,fluid_sol])\n",
    "def plot_from_sim_paths(file_name, save_file= 0, frac = 0):\n",
    "    with open(file_name,'rb') as f:\n",
    "        M_res,B_res, N, W, pmf_cust, pmf_serv = pickle.load(f)\n",
    "    Q_paths_M = M_res[\"Q_paths\"]\n",
    "    C_paths_M = M_res[\"C_paths\"]\n",
    "    Q_paths_B = B_res[\"Q_paths\"]\n",
    "    C_paths_B = B_res[\"C_paths\"]\n",
    "    (average_cost_M, average_queue_M) = utils.average_paths(C_paths_M,Q_paths_M, frac)\n",
    "    (average_cost_B, average_queue_B) = utils.average_paths(C_paths_B,Q_paths_B, frac)\n",
    "    [Ex,fluid_sol] = run_extremes(N,W,pmf_cust,pmf_serv)\n",
    "    utils.qc_plot(Ex,fluid_sol,average_queue_B,average_cost_B,average_queue_M,average_cost_M, save_file)"
   ]
  },
  {
   "cell_type": "code",
   "execution_count": 25,
   "metadata": {},
   "outputs": [],
   "source": [
    "# These outputs have converged already\n",
    "# file_name = \"../sim_paths_mw_large_25.pkl\"\n",
    "# with open(file_name,'rb') as f:\n",
    "#         average_cost_M2_, average_queue_M2, average_cost_M2, N, W, pmf_cust, pmf_serv = pickle.load(f)\n",
    "\n",
    "# file_name = \"../sim_paths_mw_large_25_2.pkl\"\n",
    "# with open(file_name,'rb') as f:\n",
    "#         average_cost_M2_2_, average_queue_M2_2, average_cost_M2_2, N, W, pmf_cust, pmf_serv = pickle.load(f)"
   ]
  },
  {
   "cell_type": "code",
   "execution_count": 27,
   "metadata": {},
   "outputs": [],
   "source": [
    "file_name = \"../sim_paths_mw_96-98_25.pkl\"\n",
    "with open(file_name,'rb') as f:\n",
    "    average_cost_M2_, average_queue_M2, average_cost_M2, N, W, pmf_cust, pmf_serv = pickle.load(f)"
   ]
  },
  {
   "cell_type": "code",
   "execution_count": 20,
   "metadata": {},
   "outputs": [
    {
     "name": "stdout",
     "output_type": "stream",
     "text": [
      "[0.00475542 0.00547423 0.00608298 0.00831708 0.01068933 0.01725956]\n"
     ]
    }
   ],
   "source": [
    "print( average_cost_M2 - average_cost_M2_ )"
   ]
  },
  {
   "cell_type": "code",
   "execution_count": 15,
   "metadata": {},
   "outputs": [
    {
     "data": {
      "text/plain": [
       "array([ 312.63552,  378.69529,  451.43863,  577.76318,  714.18607,\n",
       "       1067.46123])"
      ]
     },
     "execution_count": 15,
     "metadata": {},
     "output_type": "execute_result"
    }
   ],
   "source": [
    "average_queue_M2"
   ]
  },
  {
   "cell_type": "code",
   "execution_count": 30,
   "metadata": {},
   "outputs": [],
   "source": [
    "file_name = \"../longest_spatial_uniform_25_all_good.pkl\"\n",
    "with open(file_name,'rb') as f:\n",
    "        M_res,B_res, N, W, pmf_cust, pmf_serv = pickle.load(f)\n",
    "Q_paths_M = M_res[\"Q_paths\"]\n",
    "C_paths_M = M_res[\"C_paths\"]\n",
    "Q_paths_B = B_res[\"Q_paths\"]\n",
    "C_paths_B = B_res[\"C_paths\"]\n",
    "(average_cost_M, average_queue_M) = utils.average_paths(C_paths_M,Q_paths_M)\n",
    "(average_cost_B, average_queue_B) = utils.average_paths(C_paths_B,Q_paths_B)"
   ]
  },
  {
   "cell_type": "code",
   "execution_count": 23,
   "metadata": {},
   "outputs": [],
   "source": [
    "Q_paths_M = np.transpose( np.asarray( Q_paths_M)  )\n",
    "C_paths_M = np.transpose( np.asarray( C_paths_M ) )\n",
    "average_new = np.sum(C_paths_M,axis=0)/(Q_paths_M.shape[0] - Q_paths_M[-1,:])\n",
    "average_cost_M_actual  = average_new"
   ]
  },
  {
   "cell_type": "code",
   "execution_count": 4,
   "metadata": {},
   "outputs": [],
   "source": [
    "file_name = \"../longest_spatial_uniform_25_for_c.pkl\"\n",
    "with open(file_name,'rb') as f:\n",
    "        M_res,B_res, N, W, pmf_cust, pmf_serv = pickle.load(f)\n",
    "Q_paths_M = M_res[\"Q_paths\"]\n",
    "C_paths_M = M_res[\"C_paths\"]\n",
    "Q_paths_B = B_res[\"Q_paths\"]\n",
    "C_paths_B = B_res[\"C_paths\"]\n",
    "(average_cost_M, average_queue_M) = utils.average_paths(C_paths_M,Q_paths_M)\n",
    "(average_cost_B, average_queue_B) = utils.average_paths(C_paths_B,Q_paths_B)\n",
    "Q_paths_M = np.transpose( np.asarray( Q_paths_M)  )\n",
    "C_paths_M = np.transpose( np.asarray( C_paths_M ) )\n",
    "average_new = np.sum(C_paths_M,axis=0)/(Q_paths_M.shape[0] - Q_paths_M[-1,:])\n",
    "average_cost_M_actual  = average_new\n",
    "Q_paths_B = np.transpose( np.asarray( Q_paths_B )  )\n",
    "C_paths_B = np.transpose( np.asarray( C_paths_B ) )\n",
    "average_new = np.sum(C_paths_B,axis=0)/(Q_paths_B.shape[0] - Q_paths_B[-1,:])\n",
    "average_cost_B_actual  = average_new"
   ]
  },
  {
   "cell_type": "code",
   "execution_count": 6,
   "metadata": {},
   "outputs": [
    {
     "name": "stdout",
     "output_type": "stream",
     "text": [
      "Expected cost for c = 0 case: 3.857\n",
      "[[1.41421356 2.23606798 3.16227766 4.12310563 5.09901951 2.23606798\n",
      "  2.82842712 3.60555128 4.47213595 5.38516481 3.16227766 3.60555128\n",
      "  4.24264069 5.         5.83095189 4.12310563 4.47213595 5.\n",
      "  5.65685425 6.40312424 5.09901951 5.38516481 5.83095189 6.40312424\n",
      "  7.07106781]\n",
      " [2.23606798 1.41421356 2.23606798 3.16227766 4.12310563 2.82842712\n",
      "  2.23606798 2.82842712 3.60555128 4.47213595 3.60555128 3.16227766\n",
      "  3.60555128 4.24264069 5.         4.47213595 4.12310563 4.47213595\n",
      "  5.         5.65685425 5.38516481 5.09901951 5.38516481 5.83095189\n",
      "  6.40312424]\n",
      " [3.16227766 2.23606798 1.41421356 2.23606798 3.16227766 3.60555128\n",
      "  2.82842712 2.23606798 2.82842712 3.60555128 4.24264069 3.60555128\n",
      "  3.16227766 3.60555128 4.24264069 5.         4.47213595 4.12310563\n",
      "  4.47213595 5.         5.83095189 5.38516481 5.09901951 5.38516481\n",
      "  5.83095189]\n",
      " [4.12310563 3.16227766 2.23606798 1.41421356 2.23606798 4.47213595\n",
      "  3.60555128 2.82842712 2.23606798 2.82842712 5.         4.24264069\n",
      "  3.60555128 3.16227766 3.60555128 5.65685425 5.         4.47213595\n",
      "  4.12310563 4.47213595 6.40312424 5.83095189 5.38516481 5.09901951\n",
      "  5.38516481]\n",
      " [5.09901951 4.12310563 3.16227766 2.23606798 1.41421356 5.38516481\n",
      "  4.47213595 3.60555128 2.82842712 2.23606798 5.83095189 5.\n",
      "  4.24264069 3.60555128 3.16227766 6.40312424 5.65685425 5.\n",
      "  4.47213595 4.12310563 7.07106781 6.40312424 5.83095189 5.38516481\n",
      "  5.09901951]\n",
      " [2.23606798 2.82842712 3.60555128 4.47213595 5.38516481 1.41421356\n",
      "  2.23606798 3.16227766 4.12310563 5.09901951 2.23606798 2.82842712\n",
      "  3.60555128 4.47213595 5.38516481 3.16227766 3.60555128 4.24264069\n",
      "  5.         5.83095189 4.12310563 4.47213595 5.         5.65685425\n",
      "  6.40312424]\n",
      " [2.82842712 2.23606798 2.82842712 3.60555128 4.47213595 2.23606798\n",
      "  1.41421356 2.23606798 3.16227766 4.12310563 2.82842712 2.23606798\n",
      "  2.82842712 3.60555128 4.47213595 3.60555128 3.16227766 3.60555128\n",
      "  4.24264069 5.         4.47213595 4.12310563 4.47213595 5.\n",
      "  5.65685425]\n",
      " [3.60555128 2.82842712 2.23606798 2.82842712 3.60555128 3.16227766\n",
      "  2.23606798 1.41421356 2.23606798 3.16227766 3.60555128 2.82842712\n",
      "  2.23606798 2.82842712 3.60555128 4.24264069 3.60555128 3.16227766\n",
      "  3.60555128 4.24264069 5.         4.47213595 4.12310563 4.47213595\n",
      "  5.        ]\n",
      " [4.47213595 3.60555128 2.82842712 2.23606798 2.82842712 4.12310563\n",
      "  3.16227766 2.23606798 1.41421356 2.23606798 4.47213595 3.60555128\n",
      "  2.82842712 2.23606798 2.82842712 5.         4.24264069 3.60555128\n",
      "  3.16227766 3.60555128 5.65685425 5.         4.47213595 4.12310563\n",
      "  4.47213595]\n",
      " [5.38516481 4.47213595 3.60555128 2.82842712 2.23606798 5.09901951\n",
      "  4.12310563 3.16227766 2.23606798 1.41421356 5.38516481 4.47213595\n",
      "  3.60555128 2.82842712 2.23606798 5.83095189 5.         4.24264069\n",
      "  3.60555128 3.16227766 6.40312424 5.65685425 5.         4.47213595\n",
      "  4.12310563]\n",
      " [3.16227766 3.60555128 4.24264069 5.         5.83095189 2.23606798\n",
      "  2.82842712 3.60555128 4.47213595 5.38516481 1.41421356 2.23606798\n",
      "  3.16227766 4.12310563 5.09901951 2.23606798 2.82842712 3.60555128\n",
      "  4.47213595 5.38516481 3.16227766 3.60555128 4.24264069 5.\n",
      "  5.83095189]\n",
      " [3.60555128 3.16227766 3.60555128 4.24264069 5.         2.82842712\n",
      "  2.23606798 2.82842712 3.60555128 4.47213595 2.23606798 1.41421356\n",
      "  2.23606798 3.16227766 4.12310563 2.82842712 2.23606798 2.82842712\n",
      "  3.60555128 4.47213595 3.60555128 3.16227766 3.60555128 4.24264069\n",
      "  5.        ]\n",
      " [4.24264069 3.60555128 3.16227766 3.60555128 4.24264069 3.60555128\n",
      "  2.82842712 2.23606798 2.82842712 3.60555128 3.16227766 2.23606798\n",
      "  1.41421356 2.23606798 3.16227766 3.60555128 2.82842712 2.23606798\n",
      "  2.82842712 3.60555128 4.24264069 3.60555128 3.16227766 3.60555128\n",
      "  4.24264069]\n",
      " [5.         4.24264069 3.60555128 3.16227766 3.60555128 4.47213595\n",
      "  3.60555128 2.82842712 2.23606798 2.82842712 4.12310563 3.16227766\n",
      "  2.23606798 1.41421356 2.23606798 4.47213595 3.60555128 2.82842712\n",
      "  2.23606798 2.82842712 5.         4.24264069 3.60555128 3.16227766\n",
      "  3.60555128]\n",
      " [5.83095189 5.         4.24264069 3.60555128 3.16227766 5.38516481\n",
      "  4.47213595 3.60555128 2.82842712 2.23606798 5.09901951 4.12310563\n",
      "  3.16227766 2.23606798 1.41421356 5.38516481 4.47213595 3.60555128\n",
      "  2.82842712 2.23606798 5.83095189 5.         4.24264069 3.60555128\n",
      "  3.16227766]\n",
      " [4.12310563 4.47213595 5.         5.65685425 6.40312424 3.16227766\n",
      "  3.60555128 4.24264069 5.         5.83095189 2.23606798 2.82842712\n",
      "  3.60555128 4.47213595 5.38516481 1.41421356 2.23606798 3.16227766\n",
      "  4.12310563 5.09901951 2.23606798 2.82842712 3.60555128 4.47213595\n",
      "  5.38516481]\n",
      " [4.47213595 4.12310563 4.47213595 5.         5.65685425 3.60555128\n",
      "  3.16227766 3.60555128 4.24264069 5.         2.82842712 2.23606798\n",
      "  2.82842712 3.60555128 4.47213595 2.23606798 1.41421356 2.23606798\n",
      "  3.16227766 4.12310563 2.82842712 2.23606798 2.82842712 3.60555128\n",
      "  4.47213595]\n",
      " [5.         4.47213595 4.12310563 4.47213595 5.         4.24264069\n",
      "  3.60555128 3.16227766 3.60555128 4.24264069 3.60555128 2.82842712\n",
      "  2.23606798 2.82842712 3.60555128 3.16227766 2.23606798 1.41421356\n",
      "  2.23606798 3.16227766 3.60555128 2.82842712 2.23606798 2.82842712\n",
      "  3.60555128]\n",
      " [5.65685425 5.         4.47213595 4.12310563 4.47213595 5.\n",
      "  4.24264069 3.60555128 3.16227766 3.60555128 4.47213595 3.60555128\n",
      "  2.82842712 2.23606798 2.82842712 4.12310563 3.16227766 2.23606798\n",
      "  1.41421356 2.23606798 4.47213595 3.60555128 2.82842712 2.23606798\n",
      "  2.82842712]\n",
      " [6.40312424 5.65685425 5.         4.47213595 4.12310563 5.83095189\n",
      "  5.         4.24264069 3.60555128 3.16227766 5.38516481 4.47213595\n",
      "  3.60555128 2.82842712 2.23606798 5.09901951 4.12310563 3.16227766\n",
      "  2.23606798 1.41421356 5.38516481 4.47213595 3.60555128 2.82842712\n",
      "  2.23606798]\n",
      " [5.09901951 5.38516481 5.83095189 6.40312424 7.07106781 4.12310563\n",
      "  4.47213595 5.         5.65685425 6.40312424 3.16227766 3.60555128\n",
      "  4.24264069 5.         5.83095189 2.23606798 2.82842712 3.60555128\n",
      "  4.47213595 5.38516481 1.41421356 2.23606798 3.16227766 4.12310563\n",
      "  5.09901951]\n",
      " [5.38516481 5.09901951 5.38516481 5.83095189 6.40312424 4.47213595\n",
      "  4.12310563 4.47213595 5.         5.65685425 3.60555128 3.16227766\n",
      "  3.60555128 4.24264069 5.         2.82842712 2.23606798 2.82842712\n",
      "  3.60555128 4.47213595 2.23606798 1.41421356 2.23606798 3.16227766\n",
      "  4.12310563]\n",
      " [5.83095189 5.38516481 5.09901951 5.38516481 5.83095189 5.\n",
      "  4.47213595 4.12310563 4.47213595 5.         4.24264069 3.60555128\n",
      "  3.16227766 3.60555128 4.24264069 3.60555128 2.82842712 2.23606798\n",
      "  2.82842712 3.60555128 3.16227766 2.23606798 1.41421356 2.23606798\n",
      "  3.16227766]\n",
      " [6.40312424 5.83095189 5.38516481 5.09901951 5.38516481 5.65685425\n",
      "  5.         4.47213595 4.12310563 4.47213595 5.         4.24264069\n",
      "  3.60555128 3.16227766 3.60555128 4.47213595 3.60555128 2.82842712\n",
      "  2.23606798 2.82842712 4.12310563 3.16227766 2.23606798 1.41421356\n",
      "  2.23606798]\n",
      " [7.07106781 6.40312424 5.83095189 5.38516481 5.09901951 6.40312424\n",
      "  5.65685425 5.         4.47213595 4.12310563 5.83095189 5.\n",
      "  4.24264069 3.60555128 3.16227766 5.38516481 4.47213595 3.60555128\n",
      "  2.82842712 2.23606798 5.09901951 4.12310563 3.16227766 2.23606798\n",
      "  1.41421356]]\n"
     ]
    },
    {
     "data": {
      "image/png": "[encoded data removed]",
      "text/plain": [
       "<Figure size 720x432 with 1 Axes>"
      ]
     },
     "metadata": {
      "needs_background": "light"
     },
     "output_type": "display_data"
    }
   ],
   "source": [
    "plot_from_sim_paths('../longest_spatial_uniform_25_for_c.pkl')"
   ]
  },
  {
   "cell_type": "code",
   "execution_count": 35,
   "metadata": {},
   "outputs": [
    {
     "name": "stdout",
     "output_type": "stream",
     "text": [
      "[3.85507957e-05 3.85900196e-05 3.76853925e-05 2.87576909e-05\n",
      " 7.57435233e-05 6.89097023e-05 1.12147213e-04 1.11787658e-04\n",
      " 6.48479036e-05 1.25295031e-04 1.85574045e-04 1.55040029e-04\n",
      " 3.17355133e-04 3.17882272e-04 2.96679973e-04 4.12661735e-04\n",
      " 3.84640952e-04 5.51955888e-04 7.03528209e-04 8.66254825e-04\n",
      " 1.01221800e-03 9.91215250e-04 1.58897047e-03 2.13308900e-03\n",
      " 3.60929895e-03 2.98185948e-03 3.59026134e-03 4.08424444e-03\n",
      " 4.43845690e-03 4.98859374e-03 6.20453812e-03 6.29679988e-03\n",
      " 7.20893058e-03 9.00366080e-03 1.06827008e-02 1.93005798e-03]\n"
     ]
    }
   ],
   "source": [
    "print( average_new - average_cost_M )"
   ]
  },
  {
   "cell_type": "code",
   "execution_count": 24,
   "metadata": {},
   "outputs": [],
   "source": [
    "Q_paths_B = np.transpose( np.asarray( Q_paths_B )  )\n",
    "C_paths_B = np.transpose( np.asarray( C_paths_B ) )\n",
    "average_new = np.sum(C_paths_B,axis=0)/(Q_paths_B.shape[0] - Q_paths_B[-1,:])\n",
    "average_cost_B_actual  = average_new"
   ]
  },
  {
   "cell_type": "code",
   "execution_count": 37,
   "metadata": {},
   "outputs": [
    {
     "name": "stdout",
     "output_type": "stream",
     "text": [
      "[3.85525434e-05 6.90126540e-05 3.20230752e-05 1.21076246e-04\n",
      " 1.45145391e-04 2.11625521e-04 2.52586586e-04 9.78542247e-05\n",
      " 2.34109354e-04 2.26937523e-04 4.46676363e-04 2.08445769e-04\n",
      " 7.98499402e-04 9.68186367e-04 7.54504205e-04 1.78249351e-03\n",
      " 1.73497648e-03 1.71683789e-03 3.35810135e-03 4.11908936e-03\n",
      " 1.63018593e-03 3.63511576e-03 4.02715325e-03 6.39321206e-03\n",
      " 1.58690303e-03 3.96040327e-03 7.90202517e-03 7.07518782e-03\n",
      " 6.24762014e-03 8.55967078e-03 9.31507286e-03 6.07826403e-03\n",
      " 9.06168709e-03 1.20300614e-02 1.50173889e-02 2.99370077e-02\n",
      " 1.49154054e-02 2.38246991e-02]\n"
     ]
    }
   ],
   "source": [
    "print( average_new - average_cost_B )"
   ]
  },
  {
   "cell_type": "markdown",
   "metadata": {},
   "source": [
    "Except towards the very end, very reasonable, so results till now need not be reexamined"
   ]
  },
  {
   "cell_type": "code",
   "execution_count": 7,
   "metadata": {},
   "outputs": [
    {
     "name": "stdout",
     "output_type": "stream",
     "text": [
      "Expected cost for c = 0 case: 3.857\n",
      "[[1.41421356 2.23606798 3.16227766 4.12310563 5.09901951 2.23606798\n",
      "  2.82842712 3.60555128 4.47213595 5.38516481 3.16227766 3.60555128\n",
      "  4.24264069 5.         5.83095189 4.12310563 4.47213595 5.\n",
      "  5.65685425 6.40312424 5.09901951 5.38516481 5.83095189 6.40312424\n",
      "  7.07106781]\n",
      " [2.23606798 1.41421356 2.23606798 3.16227766 4.12310563 2.82842712\n",
      "  2.23606798 2.82842712 3.60555128 4.47213595 3.60555128 3.16227766\n",
      "  3.60555128 4.24264069 5.         4.47213595 4.12310563 4.47213595\n",
      "  5.         5.65685425 5.38516481 5.09901951 5.38516481 5.83095189\n",
      "  6.40312424]\n",
      " [3.16227766 2.23606798 1.41421356 2.23606798 3.16227766 3.60555128\n",
      "  2.82842712 2.23606798 2.82842712 3.60555128 4.24264069 3.60555128\n",
      "  3.16227766 3.60555128 4.24264069 5.         4.47213595 4.12310563\n",
      "  4.47213595 5.         5.83095189 5.38516481 5.09901951 5.38516481\n",
      "  5.83095189]\n",
      " [4.12310563 3.16227766 2.23606798 1.41421356 2.23606798 4.47213595\n",
      "  3.60555128 2.82842712 2.23606798 2.82842712 5.         4.24264069\n",
      "  3.60555128 3.16227766 3.60555128 5.65685425 5.         4.47213595\n",
      "  4.12310563 4.47213595 6.40312424 5.83095189 5.38516481 5.09901951\n",
      "  5.38516481]\n",
      " [5.09901951 4.12310563 3.16227766 2.23606798 1.41421356 5.38516481\n",
      "  4.47213595 3.60555128 2.82842712 2.23606798 5.83095189 5.\n",
      "  4.24264069 3.60555128 3.16227766 6.40312424 5.65685425 5.\n",
      "  4.47213595 4.12310563 7.07106781 6.40312424 5.83095189 5.38516481\n",
      "  5.09901951]\n",
      " [2.23606798 2.82842712 3.60555128 4.47213595 5.38516481 1.41421356\n",
      "  2.23606798 3.16227766 4.12310563 5.09901951 2.23606798 2.82842712\n",
      "  3.60555128 4.47213595 5.38516481 3.16227766 3.60555128 4.24264069\n",
      "  5.         5.83095189 4.12310563 4.47213595 5.         5.65685425\n",
      "  6.40312424]\n",
      " [2.82842712 2.23606798 2.82842712 3.60555128 4.47213595 2.23606798\n",
      "  1.41421356 2.23606798 3.16227766 4.12310563 2.82842712 2.23606798\n",
      "  2.82842712 3.60555128 4.47213595 3.60555128 3.16227766 3.60555128\n",
      "  4.24264069 5.         4.47213595 4.12310563 4.47213595 5.\n",
      "  5.65685425]\n",
      " [3.60555128 2.82842712 2.23606798 2.82842712 3.60555128 3.16227766\n",
      "  2.23606798 1.41421356 2.23606798 3.16227766 3.60555128 2.82842712\n",
      "  2.23606798 2.82842712 3.60555128 4.24264069 3.60555128 3.16227766\n",
      "  3.60555128 4.24264069 5.         4.47213595 4.12310563 4.47213595\n",
      "  5.        ]\n",
      " [4.47213595 3.60555128 2.82842712 2.23606798 2.82842712 4.12310563\n",
      "  3.16227766 2.23606798 1.41421356 2.23606798 4.47213595 3.60555128\n",
      "  2.82842712 2.23606798 2.82842712 5.         4.24264069 3.60555128\n",
      "  3.16227766 3.60555128 5.65685425 5.         4.47213595 4.12310563\n",
      "  4.47213595]\n",
      " [5.38516481 4.47213595 3.60555128 2.82842712 2.23606798 5.09901951\n",
      "  4.12310563 3.16227766 2.23606798 1.41421356 5.38516481 4.47213595\n",
      "  3.60555128 2.82842712 2.23606798 5.83095189 5.         4.24264069\n",
      "  3.60555128 3.16227766 6.40312424 5.65685425 5.         4.47213595\n",
      "  4.12310563]\n",
      " [3.16227766 3.60555128 4.24264069 5.         5.83095189 2.23606798\n",
      "  2.82842712 3.60555128 4.47213595 5.38516481 1.41421356 2.23606798\n",
      "  3.16227766 4.12310563 5.09901951 2.23606798 2.82842712 3.60555128\n",
      "  4.47213595 5.38516481 3.16227766 3.60555128 4.24264069 5.\n",
      "  5.83095189]\n",
      " [3.60555128 3.16227766 3.60555128 4.24264069 5.         2.82842712\n",
      "  2.23606798 2.82842712 3.60555128 4.47213595 2.23606798 1.41421356\n",
      "  2.23606798 3.16227766 4.12310563 2.82842712 2.23606798 2.82842712\n",
      "  3.60555128 4.47213595 3.60555128 3.16227766 3.60555128 4.24264069\n",
      "  5.        ]\n",
      " [4.24264069 3.60555128 3.16227766 3.60555128 4.24264069 3.60555128\n",
      "  2.82842712 2.23606798 2.82842712 3.60555128 3.16227766 2.23606798\n",
      "  1.41421356 2.23606798 3.16227766 3.60555128 2.82842712 2.23606798\n",
      "  2.82842712 3.60555128 4.24264069 3.60555128 3.16227766 3.60555128\n",
      "  4.24264069]\n",
      " [5.         4.24264069 3.60555128 3.16227766 3.60555128 4.47213595\n",
      "  3.60555128 2.82842712 2.23606798 2.82842712 4.12310563 3.16227766\n",
      "  2.23606798 1.41421356 2.23606798 4.47213595 3.60555128 2.82842712\n",
      "  2.23606798 2.82842712 5.         4.24264069 3.60555128 3.16227766\n",
      "  3.60555128]\n",
      " [5.83095189 5.         4.24264069 3.60555128 3.16227766 5.38516481\n",
      "  4.47213595 3.60555128 2.82842712 2.23606798 5.09901951 4.12310563\n",
      "  3.16227766 2.23606798 1.41421356 5.38516481 4.47213595 3.60555128\n",
      "  2.82842712 2.23606798 5.83095189 5.         4.24264069 3.60555128\n",
      "  3.16227766]\n",
      " [4.12310563 4.47213595 5.         5.65685425 6.40312424 3.16227766\n",
      "  3.60555128 4.24264069 5.         5.83095189 2.23606798 2.82842712\n",
      "  3.60555128 4.47213595 5.38516481 1.41421356 2.23606798 3.16227766\n",
      "  4.12310563 5.09901951 2.23606798 2.82842712 3.60555128 4.47213595\n",
      "  5.38516481]\n",
      " [4.47213595 4.12310563 4.47213595 5.         5.65685425 3.60555128\n",
      "  3.16227766 3.60555128 4.24264069 5.         2.82842712 2.23606798\n",
      "  2.82842712 3.60555128 4.47213595 2.23606798 1.41421356 2.23606798\n",
      "  3.16227766 4.12310563 2.82842712 2.23606798 2.82842712 3.60555128\n",
      "  4.47213595]\n",
      " [5.         4.47213595 4.12310563 4.47213595 5.         4.24264069\n",
      "  3.60555128 3.16227766 3.60555128 4.24264069 3.60555128 2.82842712\n",
      "  2.23606798 2.82842712 3.60555128 3.16227766 2.23606798 1.41421356\n",
      "  2.23606798 3.16227766 3.60555128 2.82842712 2.23606798 2.82842712\n",
      "  3.60555128]\n",
      " [5.65685425 5.         4.47213595 4.12310563 4.47213595 5.\n",
      "  4.24264069 3.60555128 3.16227766 3.60555128 4.47213595 3.60555128\n",
      "  2.82842712 2.23606798 2.82842712 4.12310563 3.16227766 2.23606798\n",
      "  1.41421356 2.23606798 4.47213595 3.60555128 2.82842712 2.23606798\n",
      "  2.82842712]\n",
      " [6.40312424 5.65685425 5.         4.47213595 4.12310563 5.83095189\n",
      "  5.         4.24264069 3.60555128 3.16227766 5.38516481 4.47213595\n",
      "  3.60555128 2.82842712 2.23606798 5.09901951 4.12310563 3.16227766\n",
      "  2.23606798 1.41421356 5.38516481 4.47213595 3.60555128 2.82842712\n",
      "  2.23606798]\n",
      " [5.09901951 5.38516481 5.83095189 6.40312424 7.07106781 4.12310563\n",
      "  4.47213595 5.         5.65685425 6.40312424 3.16227766 3.60555128\n",
      "  4.24264069 5.         5.83095189 2.23606798 2.82842712 3.60555128\n",
      "  4.47213595 5.38516481 1.41421356 2.23606798 3.16227766 4.12310563\n",
      "  5.09901951]\n",
      " [5.38516481 5.09901951 5.38516481 5.83095189 6.40312424 4.47213595\n",
      "  4.12310563 4.47213595 5.         5.65685425 3.60555128 3.16227766\n",
      "  3.60555128 4.24264069 5.         2.82842712 2.23606798 2.82842712\n",
      "  3.60555128 4.47213595 2.23606798 1.41421356 2.23606798 3.16227766\n",
      "  4.12310563]\n",
      " [5.83095189 5.38516481 5.09901951 5.38516481 5.83095189 5.\n",
      "  4.47213595 4.12310563 4.47213595 5.         4.24264069 3.60555128\n",
      "  3.16227766 3.60555128 4.24264069 3.60555128 2.82842712 2.23606798\n",
      "  2.82842712 3.60555128 3.16227766 2.23606798 1.41421356 2.23606798\n",
      "  3.16227766]\n",
      " [6.40312424 5.83095189 5.38516481 5.09901951 5.38516481 5.65685425\n",
      "  5.         4.47213595 4.12310563 4.47213595 5.         4.24264069\n",
      "  3.60555128 3.16227766 3.60555128 4.47213595 3.60555128 2.82842712\n",
      "  2.23606798 2.82842712 4.12310563 3.16227766 2.23606798 1.41421356\n",
      "  2.23606798]\n",
      " [7.07106781 6.40312424 5.83095189 5.38516481 5.09901951 6.40312424\n",
      "  5.65685425 5.         4.47213595 4.12310563 5.83095189 5.\n",
      "  4.24264069 3.60555128 3.16227766 5.38516481 4.47213595 3.60555128\n",
      "  2.82842712 2.23606798 5.09901951 4.12310563 3.16227766 2.23606798\n",
      "  1.41421356]]\n"
     ]
    }
   ],
   "source": [
    "[Ex,fluid_sol] = run_extremes(N,W,pmf_cust,pmf_serv)"
   ]
  },
  {
   "cell_type": "code",
   "execution_count": 8,
   "metadata": {},
   "outputs": [
    {
     "data": {
      "text/plain": [
       "1.414213562444884"
      ]
     },
     "execution_count": 8,
     "metadata": {},
     "output_type": "execute_result"
    }
   ],
   "source": [
    "fluid_sol['Cost']"
   ]
  },
  {
   "cell_type": "code",
   "execution_count": 25,
   "metadata": {},
   "outputs": [],
   "source": [
    "file_name = \"../sim_paths_lsp_large_queue_b_25.pkl\"\n",
    "with open(file_name,'rb') as f:\n",
    "        average_cost_B2_, average_queue_B2, average_cost_B2,  N, W, pmf_cust, pmf_serv = pickle.load(f)"
   ]
  },
  {
   "cell_type": "code",
   "execution_count": 57,
   "metadata": {},
   "outputs": [
    {
     "data": {
      "text/plain": [
       "array([3.85525434, 3.4506327 , 3.20230752, 3.02690614, 2.90290782,\n",
       "       2.64531901, 2.52586586, 2.44635562, 2.34109354, 2.26937523,\n",
       "       2.23338181, 2.08445769, 1.9962485 , 1.93637273, 1.88626051,\n",
       "       1.78249351, 1.73497648, 1.71683789, 1.67905068, 1.64763575,\n",
       "       1.63018593, 1.615607  , 1.6108613 , 1.59830301, 1.58690303,\n",
       "       1.58416131, 1.58040503, 1.57226396, 1.56190504, 1.55630378,\n",
       "       1.55251214, 1.51956601, 1.51028118, 1.50375768, 1.50173889,\n",
       "       1.49685038, 1.49154054, 1.48904369])"
      ]
     },
     "execution_count": 57,
     "metadata": {},
     "output_type": "execute_result"
    }
   ],
   "source": [
    "average_cost_B_actual"
   ]
  },
  {
   "cell_type": "code",
   "execution_count": 31,
   "metadata": {},
   "outputs": [],
   "source": [
    "average_cost_B = np.concatenate((average_cost_B_actual, average_cost_B2))\n",
    "average_queue_B = np.concatenate((average_queue_B, average_queue_B2)) \n",
    "average_cost_M = np.concatenate((average_cost_M_actual, average_cost_M2))\n",
    "average_queue_M = np.concatenate((average_queue_M, average_queue_M2)) "
   ]
  },
  {
   "cell_type": "code",
   "execution_count": null,
   "metadata": {},
   "outputs": [],
   "source": []
  },
  {
   "cell_type": "code",
   "execution_count": 11,
   "metadata": {},
   "outputs": [],
   "source": [
    "alpha_values = np.asarray( [0, 0.2, 0.25, 0.35, 0.4, 0.45,0.46, 0.47, 0.48, 0.49, 0.5, 0.55, 0.6, 0.65, 0.675, 0.7, 0.725, 0.75, 0.8, 0.825, 0.85, 0.875,  0.9, 0.92, 0.925, 0.95] )\n",
    "alpha_values = np.concatenate((alpha_values,np.asarray([0.965, 0.97,  0.975, 0.98, 0.985, 0.99])))"
   ]
  },
  {
   "cell_type": "code",
   "execution_count": 16,
   "metadata": {},
   "outputs": [
    {
     "data": {
      "text/plain": [
       "array([1.00000000e+00, 1.00000000e+00, 1.04434000e+00, 1.95611000e+00,\n",
       "       2.96555000e+00, 3.96130000e+00, 4.25567000e+00, 4.23885000e+00,\n",
       "       6.28548000e+00, 6.90919000e+00, 7.15301000e+00, 8.12446000e+00,\n",
       "       1.55262000e+01, 1.89358900e+01, 1.95108700e+01, 2.41008800e+01,\n",
       "       2.50561600e+01, 3.25747200e+01, 4.14754300e+01, 5.19403400e+01,\n",
       "       6.61174300e+01, 7.67048400e+01, 1.01506610e+02, 1.41989680e+02,\n",
       "       2.17773920e+02, 2.17126310e+02, 2.39417310e+02, 2.66911670e+02,\n",
       "       2.92726270e+02, 3.28404740e+02, 3.75785240e+02, 4.25642720e+02,\n",
       "       5.12324720e+02, 6.16642570e+02, 8.14610720e+02, 1.32761620e+02,\n",
       "       3.12635520e+02, 3.78695290e+02, 4.51438630e+02, 5.77763180e+02,\n",
       "       7.14186070e+02, 1.06746123e+03])"
      ]
     },
     "execution_count": 16,
     "metadata": {},
     "output_type": "execute_result"
    }
   ],
   "source": [
    "average_queue_M"
   ]
  },
  {
   "cell_type": "code",
   "execution_count": null,
   "metadata": {},
   "outputs": [
    {
     "data": {
      "text/plain": [
       "[<matplotlib.lines.Line2D at 0x2323d9d4978>]"
      ]
     },
     "execution_count": 13,
     "metadata": {},
     "output_type": "execute_result"
    },
    {
     "data": {
      "image/png": "[encoded data removed]",
      "text/plain": [
       "<Figure size 432x288 with 1 Axes>"
      ]
     },
     "metadata": {
      "needs_background": "light"
     },
     "output_type": "display_data"
    }
   ],
   "source": [
    "c =  alpha_values/(1-alpha_values)\n",
    "plt.plot(c,average_queue_M, 'x')"
   ]
  },
  {
   "cell_type": "code",
   "execution_count": 21,
   "metadata": {},
   "outputs": [
    {
     "data": {
      "text/plain": [
       "32"
      ]
     },
     "execution_count": 21,
     "metadata": {},
     "output_type": "execute_result"
    }
   ],
   "source": [
    "len(c)"
   ]
  },
  {
   "cell_type": "code",
   "execution_count": 16,
   "metadata": {},
   "outputs": [
    {
     "name": "stdout",
     "output_type": "stream",
     "text": [
      "[11.18026204 -0.52155102] [1708.63716165]\n"
     ]
    },
    {
     "data": {
      "text/plain": [
       "<matplotlib.legend.Legend at 0x2327a99f748>"
      ]
     },
     "execution_count": 16,
     "metadata": {},
     "output_type": "execute_result"
    },
    {
     "data": {
      "image/png": "[encoded data removed]",
      "text/plain": [
       "<Figure size 720x432 with 1 Axes>"
      ]
     },
     "metadata": {
      "needs_background": "light"
     },
     "output_type": "display_data"
    }
   ],
   "source": [
    "# Polynomial fit\n",
    "deg = 1\n",
    "x = c\n",
    "y = average_queue_M\n",
    "\n",
    "p, res, _, _, _ = np.polyfit(x, y, 1, full=True)\n",
    "print(p,res)\n",
    "plt.figure( figsize=(10,6) )\n",
    "plt.plot(x, y,'go',markersize = 8)\n",
    "predict_2 = np.poly1d(p)\n",
    "x  = np.array(x)\n",
    "y = predict_2(x)\n",
    "plt.plot(x, y,'r')\n",
    "plt.ylabel(\"Average queue length\", weight='bold',fontsize=12)\n",
    "plt.xlabel(\"c value\", weight='bold',fontsize=12)\n",
    "plt.title(\"Queue length variation with parameter c\", weight='bold',fontsize=15)\n",
    "plt.grid(True)\n",
    "plt.plot(x, y,'black')\n",
    "\n",
    "# plt.ylabel(r\"$\\bar{q}$\", weight='bold',fontsize=15)\n",
    "# plt.xlabel(r\"$c$\", weight='bold',fontsize=15)\n",
    "plt.legend([\"Points\",str(round(predict_2[1],2))+\"x + \" + str(round(predict_2[0],2))])\n",
    " "
   ]
  },
  {
   "cell_type": "code",
   "execution_count": 18,
   "metadata": {},
   "outputs": [
    {
     "name": "stdout",
     "output_type": "stream",
     "text": [
      "[1.41421356 2.23606798 2.82842712 3.16227766 3.60555128 4.12310563\n",
      " 4.24264069 4.47213595 5.         5.09901951 5.38516481 5.65685425\n",
      " 5.83095189 6.40312424 7.07106781]\n"
     ]
    }
   ],
   "source": [
    "vals = np.unique(W)\n",
    "print(vals)"
   ]
  },
  {
   "cell_type": "code",
   "execution_count": null,
   "metadata": {},
   "outputs": [
    {
     "data": {
      "text/plain": [
       "4.435373492156751"
      ]
     },
     "execution_count": 20,
     "metadata": {},
     "output_type": "execute_result"
    }
   ],
   "source": [
    "np.(vals)"
   ]
  },
  {
   "cell_type": "code",
   "execution_count": 15,
   "metadata": {},
   "outputs": [
    {
     "data": {
      "text/plain": [
       "[<matplotlib.lines.Line2D at 0x2324c15d278>]"
      ]
     },
     "execution_count": 15,
     "metadata": {},
     "output_type": "execute_result"
    },
    {
     "data": {
      "image/png": "[encoded data removed]",
      "text/plain": [
       "<Figure size 432x288 with 1 Axes>"
      ]
     },
     "metadata": {
      "needs_background": "light"
     },
     "output_type": "display_data"
    }
   ],
   "source": [
    "plt.plot(c,average_cost_M_actual,'x')"
   ]
  },
  {
   "cell_type": "code",
   "execution_count": 24,
   "metadata": {},
   "outputs": [],
   "source": [
    "# Get the sorted indices of x\n",
    "sorted_indices = np.argsort(average_queue_B)\n",
    "\n",
    "# Sort x and reorder y accordingly\n",
    "average_cost_B = average_cost_B[sorted_indices]\n",
    "average_queue_B = average_queue_B[sorted_indices]\n",
    "\n",
    "# Get the sorted indices of x\n",
    "sorted_indices = np.argsort(average_queue_M)\n",
    "\n",
    "# Sort x and reorder y accordingly\n",
    "average_cost_M = average_cost_M[sorted_indices]\n",
    "average_queue_M = average_queue_M[sorted_indices]"
   ]
  },
  {
   "cell_type": "code",
   "execution_count": 32,
   "metadata": {},
   "outputs": [
    {
     "data": {
      "image/png": "[encoded data removed]",
      "text/plain": [
       "<Figure size 720x432 with 1 Axes>"
      ]
     },
     "metadata": {
      "needs_background": "light"
     },
     "output_type": "display_data"
    }
   ],
   "source": [
    "plt.figure( figsize=(10,6) ) \n",
    "\n",
    "# C = 0 Case\n",
    "\n",
    "# C = Inf/Fluid Case\n",
    "# ylim = max( max( average_queue_B ), max( average_queue_M ) )\n",
    "\n",
    "plt.plot([fluid_sol['Cost'],fluid_sol['Cost']],[0,50000],linewidth = 3)\n",
    "# Batching data\n",
    "plt.plot(average_cost_B,average_queue_B,'x',markersize = 10, markeredgewidth=3, markeredgecolor=\"darkblue\")\n",
    "plt.plot(average_cost_M,average_queue_M,'x',markersize = 10, markeredgewidth=3, markeredgecolor=\"darkgreen\")\n",
    "# Max Weight data\n",
    "# plt.plot(average_cost_M, average_queue_M,'go',markersize = 8)\n",
    "plt.plot([Ex],[1],'r*',markersize = 12, markeredgewidth=3)\n",
    "plt.ylabel(\"Average queue length\", weight='bold',fontsize=12)\n",
    "plt.xlabel(\"Average cost\", weight='bold',fontsize=12)\n",
    "plt.title(\"c vs q\", weight='bold',fontsize=15)\n",
    "# plt.legend(['Fluid', 'Batching', 'Max-weight', 'c = 0 sol'])\n",
    "# plt.legend([ 'Batching', 'Max-weight', 'c = 0 sol'])\n",
    "plt.grid(True)"
   ]
  },
  {
   "cell_type": "code",
   "execution_count": 36,
   "metadata": {},
   "outputs": [
    {
     "data": {
      "image/png": "[encoded data removed]",
      "text/plain": [
       "<Figure size 720x432 with 1 Axes>"
      ]
     },
     "metadata": {
      "needs_background": "light"
     },
     "output_type": "display_data"
    }
   ],
   "source": [
    "plt.figure( figsize=(10,6) ) \n",
    "\n",
    "# C = 0 Case\n",
    "\n",
    "# C = Inf/Fluid Case\n",
    "# ylim = max( max( average_queue_B ), max( average_queue_M ) )\n",
    "\n",
    "plt.plot([fluid_sol['Cost'],fluid_sol['Cost']],[0,50000],linewidth = 3)\n",
    "# Batching data\n",
    "plt.plot(average_cost_B[30:],average_queue_B[30:],'x',markersize = 10, markeredgewidth=3, markeredgecolor=\"darkblue\")\n",
    "plt.plot(average_cost_M[20:],average_queue_M[20:],'x',markersize = 10, markeredgewidth=3, markeredgecolor=\"darkgreen\")\n",
    "# Max Weight data\n",
    "# plt.plot(average_cost_M, average_queue_M,'go',markersize = 8)\n",
    "# plt.plot([Ex],[1],'r*',markersize = 12, markeredgewidth=3)\n",
    "plt.ylabel(\"Average queue length\", weight='bold',fontsize=12)\n",
    "plt.xlabel(\"Average cost\", weight='bold',fontsize=12)\n",
    "plt.title(\"c vs q\", weight='bold',fontsize=15)\n",
    "# plt.legend(['Fluid', 'Batching', 'Max-weight', 'c = 0 sol'])\n",
    "# plt.legend([ 'Batching', 'Max-weight', 'c = 0 sol'])\n",
    "plt.grid(True)"
   ]
  },
  {
   "cell_type": "code",
   "execution_count": 26,
   "metadata": {},
   "outputs": [],
   "source": [
    "Cstar = fluid_sol['Cost']"
   ]
  },
  {
   "cell_type": "code",
   "execution_count": 27,
   "metadata": {},
   "outputs": [
    {
     "data": {
      "text/plain": [
       "array([3.85525434, 3.4506327 , 3.20230752, 3.02690614, 2.90290782,\n",
       "       2.64531901, 2.52586586, 2.44635562, 2.34109354, 2.26937523,\n",
       "       2.23338181, 2.08445769, 1.9962485 , 1.93637273, 1.88626051,\n",
       "       1.78249351, 1.73497648, 1.71683789, 1.67905068, 1.64763575,\n",
       "       1.63018593, 1.615607  , 1.6108613 , 1.59830301, 1.58690303,\n",
       "       1.58416131, 1.58040503, 1.57226396, 1.56190504, 1.55630378,\n",
       "       1.55251214, 1.51956601, 1.51028118, 1.50375768, 1.50173889,\n",
       "       1.49685038, 1.49154054, 1.48904369, 1.48869362, 1.47333094,\n",
       "       1.46578341, 1.45198798, 1.44515161, 1.44127115, 1.43725246,\n",
       "       1.43420879, 1.43356361, 1.43201218, 1.43170252, 1.4292976 ,\n",
       "       1.4291726 , 1.42840053, 1.42866524, 1.42722763, 1.42772383,\n",
       "       1.42714435, 1.42805292, 1.42687036, 1.42929111, 1.42547469])"
      ]
     },
     "execution_count": 27,
     "metadata": {},
     "output_type": "execute_result"
    }
   ],
   "source": [
    "average_cost_B"
   ]
  },
  {
   "cell_type": "code",
   "execution_count": 41,
   "metadata": {},
   "outputs": [
    {
     "name": "stdout",
     "output_type": "stream",
     "text": [
      "[-1.03132855  2.1763326 ] [0.16132052]\n",
      "[-1.98808223  1.95447338] [0.34869979]\n"
     ]
    },
    {
     "data": {
      "text/plain": [
       "<matplotlib.legend.Legend at 0x2173fb6bb00>"
      ]
     },
     "execution_count": 41,
     "metadata": {},
     "output_type": "execute_result"
    },
    {
     "data": {
      "image/png": "[encoded data removed]",
      "text/plain": [
       "<Figure size 720x432 with 1 Axes>"
      ]
     },
     "metadata": {
      "needs_background": "light"
     },
     "output_type": "display_data"
    }
   ],
   "source": [
    "# Polynomial fit\n",
    "deg = 1\n",
    "xM2 = np.log(average_cost_M[20:41]-Cstar)\n",
    "yM2 = np.log(average_queue_M[20:41])\n",
    "xB2 = np.log(average_cost_B[35:]-Cstar)\n",
    "yB2 = np.log(average_queue_B[35:])\n",
    "\n",
    "\n",
    "\n",
    "p, res, _, _, _ = np.polyfit(xM2, yM2, 1, full=True)\n",
    "print(p,res)\n",
    "plt.figure( figsize=(10,6) )\n",
    "plt.plot(xM2, yM2,'go',markersize = 8)\n",
    "predict_2 = np.poly1d(p)\n",
    "x  = np.array(xM2)\n",
    "y = predict_2(x)\n",
    "plt.plot(x, y,'r')\n",
    "plt.ylabel(\"Average queue length\", weight='bold',fontsize=12)\n",
    "plt.xlabel(\"Average cost\", weight='bold',fontsize=12)\n",
    "plt.title(\"c vs q\", weight='bold',fontsize=15)\n",
    "plt.grid(True)\n",
    "plt.plot(xB2, yB2,'x',markersize = 10, markeredgewidth=3, markeredgecolor=\"darkblue\")\n",
    "pB, resB, _, _, _ = np.polyfit(xB2, yB2, 1, full=True)\n",
    "print(pB,resB)\n",
    "predict2_2 = np.poly1d(pB)\n",
    "x  = np.array(xB2)\n",
    "y = predict2_2(x)\n",
    "plt.plot(x, y,'black')\n",
    "\n",
    "plt.ylabel(r\"$log(\\bar{q})$\", weight='bold',fontsize=15)\n",
    "plt.xlabel(r\"$log(\\bar{c}-c^*)$\", weight='bold',fontsize=15)\n",
    "plt.title(\"Log-Log Plot\", weight='bold',fontsize=15)\n",
    "plt.legend([\"Maxweight\",str(round(predict_2[1],2))+\"x + \" + str(round(predict_2[0],2)), \"Batching\"\n",
    "            , str(round(predict2_2[1],2))+\"x + \" + str(round(predict2_2[0],2))])\n",
    " "
   ]
  },
  {
   "cell_type": "code",
   "execution_count": 43,
   "metadata": {},
   "outputs": [
    {
     "data": {
      "text/plain": [
       "array([ 1000.5,  1094.5,  1194.1,  1250.5,  2000.5,  2500.5,  5000.5,\n",
       "        7475.5, 10000.5, 12500.5, 14900.5, 17350.5, 20000.5, 22325.5,\n",
       "       25000.5, 27275.5, 29600.5, 32000.5, 34500.5, 36875.5, 39200.5,\n",
       "       41850.5, 44600.5, 46375.5, 50000.5])"
      ]
     },
     "execution_count": 43,
     "metadata": {},
     "output_type": "execute_result"
    }
   ],
   "source": [
    "average_queue_B[35:]"
   ]
  },
  {
   "cell_type": "code",
   "execution_count": 44,
   "metadata": {},
   "outputs": [
    {
     "data": {
      "text/plain": [
       "array([ 66.11743,  76.70484, 101.50661, 132.76162, 141.98968, 217.12631,\n",
       "       217.77392, 239.41731, 266.91167, 292.72627, 312.63552, 328.40474,\n",
       "       375.78524, 378.69529, 425.64272, 451.43863, 512.32472, 577.76318,\n",
       "       616.64257, 714.18607, 814.61072])"
      ]
     },
     "execution_count": 44,
     "metadata": {},
     "output_type": "execute_result"
    }
   ],
   "source": [
    "average_queue_M[20:41]"
   ]
  },
  {
   "cell_type": "code",
   "execution_count": 45,
   "metadata": {},
   "outputs": [
    {
     "data": {
      "text/plain": [
       "array([1.49685038, 1.49154054, 1.48904369, 1.48869362, 1.47333094,\n",
       "       1.46578341, 1.45198798, 1.44515161, 1.44127115, 1.43725246,\n",
       "       1.43420879, 1.43356361, 1.43201218, 1.43170252, 1.4292976 ,\n",
       "       1.4291726 , 1.42840053, 1.42866524, 1.42722763, 1.42772383,\n",
       "       1.42714435, 1.42805292, 1.42687036, 1.42929111, 1.42547469])"
      ]
     },
     "execution_count": 45,
     "metadata": {},
     "output_type": "execute_result"
    }
   ],
   "source": [
    "average_cost_B[35:]"
   ]
  },
  {
   "cell_type": "code",
   "execution_count": 46,
   "metadata": {},
   "outputs": [
    {
     "data": {
      "text/plain": [
       "array([1.55725847, 1.52494654, 1.49902874, 1.48465998, 1.48131181,\n",
       "       1.46169582, 1.46125464, 1.4535471 , 1.45346777, 1.44575143,\n",
       "       1.44541519, 1.4459692 , 1.43956801, 1.44438907, 1.43762554,\n",
       "       1.4380578 , 1.43318699, 1.43397874, 1.43142461, 1.42524339,\n",
       "       1.42626179])"
      ]
     },
     "execution_count": 46,
     "metadata": {},
     "output_type": "execute_result"
    }
   ],
   "source": [
    "average_cost_M[20:41]"
   ]
  },
  {
   "cell_type": "code",
   "execution_count": 61,
   "metadata": {},
   "outputs": [
    {
     "data": {
      "text/plain": [
       "array([[1.41421356, 2.23606798, 3.16227766, 4.12310563, 5.09901951,\n",
       "        2.23606798, 2.82842712, 3.60555128, 4.47213595, 5.38516481,\n",
       "        3.16227766, 3.60555128, 4.24264069, 5.        , 5.83095189,\n",
       "        4.12310563, 4.47213595, 5.        , 5.65685425, 6.40312424,\n",
       "        5.09901951, 5.38516481, 5.83095189, 6.40312424, 7.07106781],\n",
       "       [2.23606798, 1.41421356, 2.23606798, 3.16227766, 4.12310563,\n",
       "        2.82842712, 2.23606798, 2.82842712, 3.60555128, 4.47213595,\n",
       "        3.60555128, 3.16227766, 3.60555128, 4.24264069, 5.        ,\n",
       "        4.47213595, 4.12310563, 4.47213595, 5.        , 5.65685425,\n",
       "        5.38516481, 5.09901951, 5.38516481, 5.83095189, 6.40312424],\n",
       "       [3.16227766, 2.23606798, 1.41421356, 2.23606798, 3.16227766,\n",
       "        3.60555128, 2.82842712, 2.23606798, 2.82842712, 3.60555128,\n",
       "        4.24264069, 3.60555128, 3.16227766, 3.60555128, 4.24264069,\n",
       "        5.        , 4.47213595, 4.12310563, 4.47213595, 5.        ,\n",
       "        5.83095189, 5.38516481, 5.09901951, 5.38516481, 5.83095189],\n",
       "       [4.12310563, 3.16227766, 2.23606798, 1.41421356, 2.23606798,\n",
       "        4.47213595, 3.60555128, 2.82842712, 2.23606798, 2.82842712,\n",
       "        5.        , 4.24264069, 3.60555128, 3.16227766, 3.60555128,\n",
       "        5.65685425, 5.        , 4.47213595, 4.12310563, 4.47213595,\n",
       "        6.40312424, 5.83095189, 5.38516481, 5.09901951, 5.38516481],\n",
       "       [5.09901951, 4.12310563, 3.16227766, 2.23606798, 1.41421356,\n",
       "        5.38516481, 4.47213595, 3.60555128, 2.82842712, 2.23606798,\n",
       "        5.83095189, 5.        , 4.24264069, 3.60555128, 3.16227766,\n",
       "        6.40312424, 5.65685425, 5.        , 4.47213595, 4.12310563,\n",
       "        7.07106781, 6.40312424, 5.83095189, 5.38516481, 5.09901951],\n",
       "       [2.23606798, 2.82842712, 3.60555128, 4.47213595, 5.38516481,\n",
       "        1.41421356, 2.23606798, 3.16227766, 4.12310563, 5.09901951,\n",
       "        2.23606798, 2.82842712, 3.60555128, 4.47213595, 5.38516481,\n",
       "        3.16227766, 3.60555128, 4.24264069, 5.        , 5.83095189,\n",
       "        4.12310563, 4.47213595, 5.        , 5.65685425, 6.40312424],\n",
       "       [2.82842712, 2.23606798, 2.82842712, 3.60555128, 4.47213595,\n",
       "        2.23606798, 1.41421356, 2.23606798, 3.16227766, 4.12310563,\n",
       "        2.82842712, 2.23606798, 2.82842712, 3.60555128, 4.47213595,\n",
       "        3.60555128, 3.16227766, 3.60555128, 4.24264069, 5.        ,\n",
       "        4.47213595, 4.12310563, 4.47213595, 5.        , 5.65685425],\n",
       "       [3.60555128, 2.82842712, 2.23606798, 2.82842712, 3.60555128,\n",
       "        3.16227766, 2.23606798, 1.41421356, 2.23606798, 3.16227766,\n",
       "        3.60555128, 2.82842712, 2.23606798, 2.82842712, 3.60555128,\n",
       "        4.24264069, 3.60555128, 3.16227766, 3.60555128, 4.24264069,\n",
       "        5.        , 4.47213595, 4.12310563, 4.47213595, 5.        ],\n",
       "       [4.47213595, 3.60555128, 2.82842712, 2.23606798, 2.82842712,\n",
       "        4.12310563, 3.16227766, 2.23606798, 1.41421356, 2.23606798,\n",
       "        4.47213595, 3.60555128, 2.82842712, 2.23606798, 2.82842712,\n",
       "        5.        , 4.24264069, 3.60555128, 3.16227766, 3.60555128,\n",
       "        5.65685425, 5.        , 4.47213595, 4.12310563, 4.47213595],\n",
       "       [5.38516481, 4.47213595, 3.60555128, 2.82842712, 2.23606798,\n",
       "        5.09901951, 4.12310563, 3.16227766, 2.23606798, 1.41421356,\n",
       "        5.38516481, 4.47213595, 3.60555128, 2.82842712, 2.23606798,\n",
       "        5.83095189, 5.        , 4.24264069, 3.60555128, 3.16227766,\n",
       "        6.40312424, 5.65685425, 5.        , 4.47213595, 4.12310563],\n",
       "       [3.16227766, 3.60555128, 4.24264069, 5.        , 5.83095189,\n",
       "        2.23606798, 2.82842712, 3.60555128, 4.47213595, 5.38516481,\n",
       "        1.41421356, 2.23606798, 3.16227766, 4.12310563, 5.09901951,\n",
       "        2.23606798, 2.82842712, 3.60555128, 4.47213595, 5.38516481,\n",
       "        3.16227766, 3.60555128, 4.24264069, 5.        , 5.83095189],\n",
       "       [3.60555128, 3.16227766, 3.60555128, 4.24264069, 5.        ,\n",
       "        2.82842712, 2.23606798, 2.82842712, 3.60555128, 4.47213595,\n",
       "        2.23606798, 1.41421356, 2.23606798, 3.16227766, 4.12310563,\n",
       "        2.82842712, 2.23606798, 2.82842712, 3.60555128, 4.47213595,\n",
       "        3.60555128, 3.16227766, 3.60555128, 4.24264069, 5.        ],\n",
       "       [4.24264069, 3.60555128, 3.16227766, 3.60555128, 4.24264069,\n",
       "        3.60555128, 2.82842712, 2.23606798, 2.82842712, 3.60555128,\n",
       "        3.16227766, 2.23606798, 1.41421356, 2.23606798, 3.16227766,\n",
       "        3.60555128, 2.82842712, 2.23606798, 2.82842712, 3.60555128,\n",
       "        4.24264069, 3.60555128, 3.16227766, 3.60555128, 4.24264069],\n",
       "       [5.        , 4.24264069, 3.60555128, 3.16227766, 3.60555128,\n",
       "        4.47213595, 3.60555128, 2.82842712, 2.23606798, 2.82842712,\n",
       "        4.12310563, 3.16227766, 2.23606798, 1.41421356, 2.23606798,\n",
       "        4.47213595, 3.60555128, 2.82842712, 2.23606798, 2.82842712,\n",
       "        5.        , 4.24264069, 3.60555128, 3.16227766, 3.60555128],\n",
       "       [5.83095189, 5.        , 4.24264069, 3.60555128, 3.16227766,\n",
       "        5.38516481, 4.47213595, 3.60555128, 2.82842712, 2.23606798,\n",
       "        5.09901951, 4.12310563, 3.16227766, 2.23606798, 1.41421356,\n",
       "        5.38516481, 4.47213595, 3.60555128, 2.82842712, 2.23606798,\n",
       "        5.83095189, 5.        , 4.24264069, 3.60555128, 3.16227766],\n",
       "       [4.12310563, 4.47213595, 5.        , 5.65685425, 6.40312424,\n",
       "        3.16227766, 3.60555128, 4.24264069, 5.        , 5.83095189,\n",
       "        2.23606798, 2.82842712, 3.60555128, 4.47213595, 5.38516481,\n",
       "        1.41421356, 2.23606798, 3.16227766, 4.12310563, 5.09901951,\n",
       "        2.23606798, 2.82842712, 3.60555128, 4.47213595, 5.38516481],\n",
       "       [4.47213595, 4.12310563, 4.47213595, 5.        , 5.65685425,\n",
       "        3.60555128, 3.16227766, 3.60555128, 4.24264069, 5.        ,\n",
       "        2.82842712, 2.23606798, 2.82842712, 3.60555128, 4.47213595,\n",
       "        2.23606798, 1.41421356, 2.23606798, 3.16227766, 4.12310563,\n",
       "        2.82842712, 2.23606798, 2.82842712, 3.60555128, 4.47213595],\n",
       "       [5.        , 4.47213595, 4.12310563, 4.47213595, 5.        ,\n",
       "        4.24264069, 3.60555128, 3.16227766, 3.60555128, 4.24264069,\n",
       "        3.60555128, 2.82842712, 2.23606798, 2.82842712, 3.60555128,\n",
       "        3.16227766, 2.23606798, 1.41421356, 2.23606798, 3.16227766,\n",
       "        3.60555128, 2.82842712, 2.23606798, 2.82842712, 3.60555128],\n",
       "       [5.65685425, 5.        , 4.47213595, 4.12310563, 4.47213595,\n",
       "        5.        , 4.24264069, 3.60555128, 3.16227766, 3.60555128,\n",
       "        4.47213595, 3.60555128, 2.82842712, 2.23606798, 2.82842712,\n",
       "        4.12310563, 3.16227766, 2.23606798, 1.41421356, 2.23606798,\n",
       "        4.47213595, 3.60555128, 2.82842712, 2.23606798, 2.82842712],\n",
       "       [6.40312424, 5.65685425, 5.        , 4.47213595, 4.12310563,\n",
       "        5.83095189, 5.        , 4.24264069, 3.60555128, 3.16227766,\n",
       "        5.38516481, 4.47213595, 3.60555128, 2.82842712, 2.23606798,\n",
       "        5.09901951, 4.12310563, 3.16227766, 2.23606798, 1.41421356,\n",
       "        5.38516481, 4.47213595, 3.60555128, 2.82842712, 2.23606798],\n",
       "       [5.09901951, 5.38516481, 5.83095189, 6.40312424, 7.07106781,\n",
       "        4.12310563, 4.47213595, 5.        , 5.65685425, 6.40312424,\n",
       "        3.16227766, 3.60555128, 4.24264069, 5.        , 5.83095189,\n",
       "        2.23606798, 2.82842712, 3.60555128, 4.47213595, 5.38516481,\n",
       "        1.41421356, 2.23606798, 3.16227766, 4.12310563, 5.09901951],\n",
       "       [5.38516481, 5.09901951, 5.38516481, 5.83095189, 6.40312424,\n",
       "        4.47213595, 4.12310563, 4.47213595, 5.        , 5.65685425,\n",
       "        3.60555128, 3.16227766, 3.60555128, 4.24264069, 5.        ,\n",
       "        2.82842712, 2.23606798, 2.82842712, 3.60555128, 4.47213595,\n",
       "        2.23606798, 1.41421356, 2.23606798, 3.16227766, 4.12310563],\n",
       "       [5.83095189, 5.38516481, 5.09901951, 5.38516481, 5.83095189,\n",
       "        5.        , 4.47213595, 4.12310563, 4.47213595, 5.        ,\n",
       "        4.24264069, 3.60555128, 3.16227766, 3.60555128, 4.24264069,\n",
       "        3.60555128, 2.82842712, 2.23606798, 2.82842712, 3.60555128,\n",
       "        3.16227766, 2.23606798, 1.41421356, 2.23606798, 3.16227766],\n",
       "       [6.40312424, 5.83095189, 5.38516481, 5.09901951, 5.38516481,\n",
       "        5.65685425, 5.        , 4.47213595, 4.12310563, 4.47213595,\n",
       "        5.        , 4.24264069, 3.60555128, 3.16227766, 3.60555128,\n",
       "        4.47213595, 3.60555128, 2.82842712, 2.23606798, 2.82842712,\n",
       "        4.12310563, 3.16227766, 2.23606798, 1.41421356, 2.23606798],\n",
       "       [7.07106781, 6.40312424, 5.83095189, 5.38516481, 5.09901951,\n",
       "        6.40312424, 5.65685425, 5.        , 4.47213595, 4.12310563,\n",
       "        5.83095189, 5.        , 4.24264069, 3.60555128, 3.16227766,\n",
       "        5.38516481, 4.47213595, 3.60555128, 2.82842712, 2.23606798,\n",
       "        5.09901951, 4.12310563, 3.16227766, 2.23606798, 1.41421356]])"
      ]
     },
     "execution_count": 61,
     "metadata": {},
     "output_type": "execute_result"
    }
   ],
   "source": [
    "W"
   ]
  },
  {
   "cell_type": "code",
   "execution_count": null,
   "metadata": {},
   "outputs": [],
   "source": []
  },
  {
   "cell_type": "code",
   "execution_count": 5,
   "metadata": {},
   "outputs": [
    {
     "data": {
      "image/png": "[encoded data removed]",
      "text/plain": [
       "<Figure size 720x432 with 1 Axes>"
      ]
     },
     "metadata": {
      "needs_background": "light"
     },
     "output_type": "display_data"
    }
   ],
   "source": [
    "plt.figure( figsize=(10,6) ) \n",
    "\n",
    "# C = 0 Case\n",
    "\n",
    "# C = Inf/Fluid Case\n",
    "# ylim = max( max( average_queue_B ), max( average_queue_M ) )\n",
    "\n",
    "# plt.plot([fluid_sol['Cost'],fluid_sol['Cost']],[0,ylim],linewidth = 3)\n",
    "# Batching data\n",
    "plt.plot(average_cost_M2,average_queue_M2,'x',markersize = 10, markeredgewidth=3, markeredgecolor=\"darkblue\")\n",
    "plt.plot(average_cost_M2_2,average_queue_M2_2,'x',markersize = 10, markeredgewidth=3, markeredgecolor=\"darkgreen\")\n",
    "# Max Weight data\n",
    "# plt.plot(average_cost_M, average_queue_M,'go',markersize = 8)\n",
    "# plt.plot([Ex],[1],'r*',markersize = 12, markeredgewidth=3)\n",
    "plt.ylabel(\"Average queue length\", weight='bold',fontsize=12)\n",
    "plt.xlabel(\"Average cost\", weight='bold',fontsize=12)\n",
    "plt.title(\"c vs q\", weight='bold',fontsize=15)\n",
    "# plt.legend(['Fluid', 'Batching', 'Max-weight', 'c = 0 sol'])\n",
    "# plt.legend([ 'Batching', 'Max-weight', 'c = 0 sol'])\n",
    "plt.grid(True)"
   ]
  },
  {
   "cell_type": "code",
   "execution_count": 6,
   "metadata": {},
   "outputs": [
    {
     "name": "stdout",
     "output_type": "stream",
     "text": [
      "Expected cost for c = 0 case: 3.857\n",
      "[[1.41421356 2.23606798 3.16227766 4.12310563 5.09901951 2.23606798\n",
      "  2.82842712 3.60555128 4.47213595 5.38516481 3.16227766 3.60555128\n",
      "  4.24264069 5.         5.83095189 4.12310563 4.47213595 5.\n",
      "  5.65685425 6.40312424 5.09901951 5.38516481 5.83095189 6.40312424\n",
      "  7.07106781]\n",
      " [2.23606798 1.41421356 2.23606798 3.16227766 4.12310563 2.82842712\n",
      "  2.23606798 2.82842712 3.60555128 4.47213595 3.60555128 3.16227766\n",
      "  3.60555128 4.24264069 5.         4.47213595 4.12310563 4.47213595\n",
      "  5.         5.65685425 5.38516481 5.09901951 5.38516481 5.83095189\n",
      "  6.40312424]\n",
      " [3.16227766 2.23606798 1.41421356 2.23606798 3.16227766 3.60555128\n",
      "  2.82842712 2.23606798 2.82842712 3.60555128 4.24264069 3.60555128\n",
      "  3.16227766 3.60555128 4.24264069 5.         4.47213595 4.12310563\n",
      "  4.47213595 5.         5.83095189 5.38516481 5.09901951 5.38516481\n",
      "  5.83095189]\n",
      " [4.12310563 3.16227766 2.23606798 1.41421356 2.23606798 4.47213595\n",
      "  3.60555128 2.82842712 2.23606798 2.82842712 5.         4.24264069\n",
      "  3.60555128 3.16227766 3.60555128 5.65685425 5.         4.47213595\n",
      "  4.12310563 4.47213595 6.40312424 5.83095189 5.38516481 5.09901951\n",
      "  5.38516481]\n",
      " [5.09901951 4.12310563 3.16227766 2.23606798 1.41421356 5.38516481\n",
      "  4.47213595 3.60555128 2.82842712 2.23606798 5.83095189 5.\n",
      "  4.24264069 3.60555128 3.16227766 6.40312424 5.65685425 5.\n",
      "  4.47213595 4.12310563 7.07106781 6.40312424 5.83095189 5.38516481\n",
      "  5.09901951]\n",
      " [2.23606798 2.82842712 3.60555128 4.47213595 5.38516481 1.41421356\n",
      "  2.23606798 3.16227766 4.12310563 5.09901951 2.23606798 2.82842712\n",
      "  3.60555128 4.47213595 5.38516481 3.16227766 3.60555128 4.24264069\n",
      "  5.         5.83095189 4.12310563 4.47213595 5.         5.65685425\n",
      "  6.40312424]\n",
      " [2.82842712 2.23606798 2.82842712 3.60555128 4.47213595 2.23606798\n",
      "  1.41421356 2.23606798 3.16227766 4.12310563 2.82842712 2.23606798\n",
      "  2.82842712 3.60555128 4.47213595 3.60555128 3.16227766 3.60555128\n",
      "  4.24264069 5.         4.47213595 4.12310563 4.47213595 5.\n",
      "  5.65685425]\n",
      " [3.60555128 2.82842712 2.23606798 2.82842712 3.60555128 3.16227766\n",
      "  2.23606798 1.41421356 2.23606798 3.16227766 3.60555128 2.82842712\n",
      "  2.23606798 2.82842712 3.60555128 4.24264069 3.60555128 3.16227766\n",
      "  3.60555128 4.24264069 5.         4.47213595 4.12310563 4.47213595\n",
      "  5.        ]\n",
      " [4.47213595 3.60555128 2.82842712 2.23606798 2.82842712 4.12310563\n",
      "  3.16227766 2.23606798 1.41421356 2.23606798 4.47213595 3.60555128\n",
      "  2.82842712 2.23606798 2.82842712 5.         4.24264069 3.60555128\n",
      "  3.16227766 3.60555128 5.65685425 5.         4.47213595 4.12310563\n",
      "  4.47213595]\n",
      " [5.38516481 4.47213595 3.60555128 2.82842712 2.23606798 5.09901951\n",
      "  4.12310563 3.16227766 2.23606798 1.41421356 5.38516481 4.47213595\n",
      "  3.60555128 2.82842712 2.23606798 5.83095189 5.         4.24264069\n",
      "  3.60555128 3.16227766 6.40312424 5.65685425 5.         4.47213595\n",
      "  4.12310563]\n",
      " [3.16227766 3.60555128 4.24264069 5.         5.83095189 2.23606798\n",
      "  2.82842712 3.60555128 4.47213595 5.38516481 1.41421356 2.23606798\n",
      "  3.16227766 4.12310563 5.09901951 2.23606798 2.82842712 3.60555128\n",
      "  4.47213595 5.38516481 3.16227766 3.60555128 4.24264069 5.\n",
      "  5.83095189]\n",
      " [3.60555128 3.16227766 3.60555128 4.24264069 5.         2.82842712\n",
      "  2.23606798 2.82842712 3.60555128 4.47213595 2.23606798 1.41421356\n",
      "  2.23606798 3.16227766 4.12310563 2.82842712 2.23606798 2.82842712\n",
      "  3.60555128 4.47213595 3.60555128 3.16227766 3.60555128 4.24264069\n",
      "  5.        ]\n",
      " [4.24264069 3.60555128 3.16227766 3.60555128 4.24264069 3.60555128\n",
      "  2.82842712 2.23606798 2.82842712 3.60555128 3.16227766 2.23606798\n",
      "  1.41421356 2.23606798 3.16227766 3.60555128 2.82842712 2.23606798\n",
      "  2.82842712 3.60555128 4.24264069 3.60555128 3.16227766 3.60555128\n",
      "  4.24264069]\n",
      " [5.         4.24264069 3.60555128 3.16227766 3.60555128 4.47213595\n",
      "  3.60555128 2.82842712 2.23606798 2.82842712 4.12310563 3.16227766\n",
      "  2.23606798 1.41421356 2.23606798 4.47213595 3.60555128 2.82842712\n",
      "  2.23606798 2.82842712 5.         4.24264069 3.60555128 3.16227766\n",
      "  3.60555128]\n",
      " [5.83095189 5.         4.24264069 3.60555128 3.16227766 5.38516481\n",
      "  4.47213595 3.60555128 2.82842712 2.23606798 5.09901951 4.12310563\n",
      "  3.16227766 2.23606798 1.41421356 5.38516481 4.47213595 3.60555128\n",
      "  2.82842712 2.23606798 5.83095189 5.         4.24264069 3.60555128\n",
      "  3.16227766]\n",
      " [4.12310563 4.47213595 5.         5.65685425 6.40312424 3.16227766\n",
      "  3.60555128 4.24264069 5.         5.83095189 2.23606798 2.82842712\n",
      "  3.60555128 4.47213595 5.38516481 1.41421356 2.23606798 3.16227766\n",
      "  4.12310563 5.09901951 2.23606798 2.82842712 3.60555128 4.47213595\n",
      "  5.38516481]\n",
      " [4.47213595 4.12310563 4.47213595 5.         5.65685425 3.60555128\n",
      "  3.16227766 3.60555128 4.24264069 5.         2.82842712 2.23606798\n",
      "  2.82842712 3.60555128 4.47213595 2.23606798 1.41421356 2.23606798\n",
      "  3.16227766 4.12310563 2.82842712 2.23606798 2.82842712 3.60555128\n",
      "  4.47213595]\n",
      " [5.         4.47213595 4.12310563 4.47213595 5.         4.24264069\n",
      "  3.60555128 3.16227766 3.60555128 4.24264069 3.60555128 2.82842712\n",
      "  2.23606798 2.82842712 3.60555128 3.16227766 2.23606798 1.41421356\n",
      "  2.23606798 3.16227766 3.60555128 2.82842712 2.23606798 2.82842712\n",
      "  3.60555128]\n",
      " [5.65685425 5.         4.47213595 4.12310563 4.47213595 5.\n",
      "  4.24264069 3.60555128 3.16227766 3.60555128 4.47213595 3.60555128\n",
      "  2.82842712 2.23606798 2.82842712 4.12310563 3.16227766 2.23606798\n",
      "  1.41421356 2.23606798 4.47213595 3.60555128 2.82842712 2.23606798\n",
      "  2.82842712]\n",
      " [6.40312424 5.65685425 5.         4.47213595 4.12310563 5.83095189\n",
      "  5.         4.24264069 3.60555128 3.16227766 5.38516481 4.47213595\n",
      "  3.60555128 2.82842712 2.23606798 5.09901951 4.12310563 3.16227766\n",
      "  2.23606798 1.41421356 5.38516481 4.47213595 3.60555128 2.82842712\n",
      "  2.23606798]\n",
      " [5.09901951 5.38516481 5.83095189 6.40312424 7.07106781 4.12310563\n",
      "  4.47213595 5.         5.65685425 6.40312424 3.16227766 3.60555128\n",
      "  4.24264069 5.         5.83095189 2.23606798 2.82842712 3.60555128\n",
      "  4.47213595 5.38516481 1.41421356 2.23606798 3.16227766 4.12310563\n",
      "  5.09901951]\n",
      " [5.38516481 5.09901951 5.38516481 5.83095189 6.40312424 4.47213595\n",
      "  4.12310563 4.47213595 5.         5.65685425 3.60555128 3.16227766\n",
      "  3.60555128 4.24264069 5.         2.82842712 2.23606798 2.82842712\n",
      "  3.60555128 4.47213595 2.23606798 1.41421356 2.23606798 3.16227766\n",
      "  4.12310563]\n",
      " [5.83095189 5.38516481 5.09901951 5.38516481 5.83095189 5.\n",
      "  4.47213595 4.12310563 4.47213595 5.         4.24264069 3.60555128\n",
      "  3.16227766 3.60555128 4.24264069 3.60555128 2.82842712 2.23606798\n",
      "  2.82842712 3.60555128 3.16227766 2.23606798 1.41421356 2.23606798\n",
      "  3.16227766]\n",
      " [6.40312424 5.83095189 5.38516481 5.09901951 5.38516481 5.65685425\n",
      "  5.         4.47213595 4.12310563 4.47213595 5.         4.24264069\n",
      "  3.60555128 3.16227766 3.60555128 4.47213595 3.60555128 2.82842712\n",
      "  2.23606798 2.82842712 4.12310563 3.16227766 2.23606798 1.41421356\n",
      "  2.23606798]\n",
      " [7.07106781 6.40312424 5.83095189 5.38516481 5.09901951 6.40312424\n",
      "  5.65685425 5.         4.47213595 4.12310563 5.83095189 5.\n",
      "  4.24264069 3.60555128 3.16227766 5.38516481 4.47213595 3.60555128\n",
      "  2.82842712 2.23606798 5.09901951 4.12310563 3.16227766 2.23606798\n",
      "  1.41421356]]\n"
     ]
    }
   ],
   "source": [
    "file_name = \"../longest_spatial_uniform_25_all_good.pkl\"\n",
    "with open(file_name,'rb') as f:\n",
    "        M_res,B_res, N, W, pmf_cust, pmf_serv = pickle.load(f)\n",
    "Q_paths_M = M_res[\"Q_paths\"]\n",
    "C_paths_M = M_res[\"C_paths\"]\n",
    "Q_paths_B = B_res[\"Q_paths\"]\n",
    "C_paths_B = B_res[\"C_paths\"]\n",
    "(average_cost_M, average_queue_M) = utils.average_paths(C_paths_M,Q_paths_M)\n",
    "(average_cost_B, average_queue_B) = utils.average_paths(C_paths_B,Q_paths_B)\n",
    "[Ex,fluid_sol] = run_extremes(N,W,pmf_cust,pmf_serv)"
   ]
  },
  {
   "cell_type": "code",
   "execution_count": 36,
   "metadata": {},
   "outputs": [],
   "source": [
    "Cstar = fluid_sol['Cost']"
   ]
  },
  {
   "cell_type": "code",
   "execution_count": 7,
   "metadata": {},
   "outputs": [
    {
     "data": {
      "image/png": "[encoded data removed]",
      "text/plain": [
       "<Figure size 720x432 with 1 Axes>"
      ]
     },
     "metadata": {
      "needs_background": "light"
     },
     "output_type": "display_data"
    }
   ],
   "source": [
    "plt.figure( figsize=(10,6) ) \n",
    "\n",
    "# C = 0 Case\n",
    "\n",
    "# C = Inf/Fluid Case\n",
    "# ylim = max( max( average_queue_B ), max( average_queue_M ) )\n",
    "\n",
    "# plt.plot([fluid_sol['Cost'],fluid_sol['Cost']],[0,ylim],linewidth = 3)\n",
    "# Batching data\n",
    "plt.plot(average_cost_M2_2,average_queue_M2_2,'x',markersize = 10, markeredgewidth=3, markeredgecolor=\"darkblue\")\n",
    "plt.plot(average_cost_M,average_queue_M,'x',markersize = 10, markeredgewidth=3, markeredgecolor=\"darkgreen\")\n",
    "# Max Weight data\n",
    "# plt.plot(average_cost_M, average_queue_M,'go',markersize = 8)\n",
    "# plt.plot([Ex],[1],'r*',markersize = 12, markeredgewidth=3)\n",
    "plt.ylabel(\"Average queue length\", weight='bold',fontsize=12)\n",
    "plt.xlabel(\"Average cost\", weight='bold',fontsize=12)\n",
    "plt.title(\"c vs q\", weight='bold',fontsize=15)\n",
    "# plt.legend(['Fluid', 'Batching', 'Max-weight', 'c = 0 sol'])\n",
    "# plt.legend([ 'Batching', 'Max-weight', 'c = 0 sol'])\n",
    "plt.grid(True)"
   ]
  },
  {
   "cell_type": "code",
   "execution_count": 12,
   "metadata": {},
   "outputs": [
    {
     "data": {
      "text/plain": [
       "array([1.39835457, 1.39498874, 1.38270347, 1.38395505, 1.34018231])"
      ]
     },
     "execution_count": 12,
     "metadata": {},
     "output_type": "execute_result"
    }
   ],
   "source": [
    "average_cost_M2_2"
   ]
  },
  {
   "cell_type": "code",
   "execution_count": 15,
   "metadata": {},
   "outputs": [
    {
     "data": {
      "text/plain": [
       "33.93599999999997"
      ]
     },
     "execution_count": 15,
     "metadata": {},
     "output_type": "execute_result"
    }
   ],
   "source": [
    "(0.96)/(1-0.96)*1.414"
   ]
  },
  {
   "cell_type": "code",
   "execution_count": 14,
   "metadata": {},
   "outputs": [
    {
     "data": {
      "text/plain": [
       "{'X': array([[4.00000000e-02, 2.61733874e-13, 6.07577372e-14, 3.65285898e-14,\n",
       "         2.83205067e-14, 2.61733609e-13, 1.00603991e-13, 5.08995674e-14,\n",
       "         3.59038058e-14, 2.70599345e-14, 6.07579329e-14, 5.08994375e-14,\n",
       "         3.63299941e-14, 3.11563068e-14, 2.52470136e-14, 3.65283211e-14,\n",
       "         3.59039519e-14, 3.11563017e-14, 2.70697869e-14, 2.31940783e-14,\n",
       "         2.83201276e-14, 2.70602511e-14, 2.52466244e-14, 2.31940073e-14,\n",
       "         2.12600785e-14],\n",
       "        [2.61733841e-13, 4.00000000e-02, 2.56643465e-13, 5.91676681e-14,\n",
       "         3.65285724e-14, 8.16077346e-14, 2.22968530e-13, 9.58276982e-14,\n",
       "         5.23504405e-14, 3.27900525e-14, 4.62377873e-14, 6.94934392e-14,\n",
       "         4.40100897e-14, 3.84039420e-14, 2.91539785e-14, 3.27902080e-14,\n",
       "         4.06162414e-14, 3.55941586e-14, 3.08676337e-14, 2.56863961e-14,\n",
       "         2.70599622e-14, 2.83816637e-14, 2.70091372e-14, 2.49949159e-14,\n",
       "         2.31940784e-14],\n",
       "        [6.07582425e-14, 2.56644004e-13, 4.00000000e-02, 2.56643787e-13,\n",
       "         6.07580421e-14, 4.62378652e-14, 1.02541056e-13, 1.87776067e-13,\n",
       "         1.02541080e-13, 4.62374896e-14, 3.61516607e-14, 5.25263975e-14,\n",
       "         5.80140107e-14, 5.25263732e-14, 3.61517182e-14, 2.91537787e-14,\n",
       "         3.62881290e-14, 4.08577600e-14, 3.62880918e-14, 2.91538534e-14,\n",
       "         2.52466859e-14, 2.70094878e-14, 2.87365494e-14, 2.70093303e-14,\n",
       "         2.52468885e-14],\n",
       "        [3.65289890e-14, 5.91681004e-14, 2.56643681e-13, 4.00000000e-02,\n",
       "         2.61733857e-13, 3.27906443e-14, 5.23506334e-14, 9.58279144e-14,\n",
       "         2.22968770e-13, 8.16075751e-14, 2.91541370e-14, 3.84041824e-14,\n",
       "         4.40103058e-14, 6.94936309e-14, 4.62380610e-14, 2.56865375e-14,\n",
       "         3.08678869e-14, 3.55943748e-14, 4.06164204e-14, 3.27904989e-14,\n",
       "         2.31940919e-14, 2.49952895e-14, 2.70093533e-14, 2.83817223e-14,\n",
       "         2.70603808e-14],\n",
       "        [2.83209076e-14, 3.65290064e-14, 6.07579377e-14, 2.61733859e-13,\n",
       "         4.00000000e-02, 2.70605105e-14, 3.59039829e-14, 5.08997679e-14,\n",
       "         1.00604215e-13, 2.61733434e-13, 2.52471564e-14, 3.11565315e-14,\n",
       "         3.63301944e-14, 5.08996136e-14, 6.07581909e-14, 2.31942041e-14,\n",
       "         2.70700244e-14, 3.11565020e-14, 3.59041153e-14, 3.65285962e-14,\n",
       "         2.12600764e-14, 2.31943652e-14, 2.52468249e-14, 2.70602941e-14,\n",
       "         2.83205305e-14],\n",
       "        [2.61734106e-13, 8.16082643e-14, 4.62378564e-14, 3.27907417e-14,\n",
       "         2.70606061e-14, 4.00000000e-02, 2.22968795e-13, 6.94938339e-14,\n",
       "         4.06163601e-14, 2.83816118e-14, 2.56643926e-13, 9.58278332e-14,\n",
       "         4.40103545e-14, 3.55944286e-14, 2.70097912e-14, 5.91676641e-14,\n",
       "         5.23508515e-14, 3.84042016e-14, 3.08678985e-14, 2.49952517e-14,\n",
       "         3.65284580e-14, 3.27906341e-14, 2.91538542e-14, 2.56865899e-14,\n",
       "         2.31943432e-14],\n",
       "        [1.00604886e-13, 2.22969458e-13, 1.02541446e-13, 5.23511291e-14,\n",
       "         3.59044769e-14, 2.22969193e-13, 4.00000000e-02, 6.76157851e-14,\n",
       "         8.17021106e-14, 4.06163594e-14, 1.02541642e-13, 6.76156552e-14,\n",
       "         9.10633419e-14, 5.85158896e-14, 3.62886023e-14, 5.23508602e-14,\n",
       "         8.17022568e-14, 5.85158844e-14, 4.28402843e-14, 3.08680190e-14,\n",
       "         3.59040978e-14, 4.06166762e-14, 3.62882131e-14, 3.08679481e-14,\n",
       "         2.70701723e-14],\n",
       "        [5.09002024e-14, 9.58283663e-14, 1.87776196e-13, 9.58281502e-14,\n",
       "         5.09000019e-14, 6.94939723e-14, 6.76155252e-14, 4.00000000e-02,\n",
       "         6.76155485e-14, 6.94935967e-14, 5.25268528e-14, 1.03443019e-13,\n",
       "         1.55594931e-13, 1.03442995e-13, 5.25269104e-14, 3.84042793e-14,\n",
       "         5.85159535e-14, 7.84316101e-14, 5.85159163e-14, 3.84043540e-14,\n",
       "         3.11565164e-14, 3.55946624e-14, 4.08579132e-14, 3.55945049e-14,\n",
       "         3.11567190e-14],\n",
       "        [3.59046541e-14, 5.23513219e-14, 1.02541423e-13, 2.22969219e-13,\n",
       "         1.00604662e-13, 4.06167118e-14, 8.17020640e-14, 6.76157619e-14,\n",
       "         4.00000000e-02, 2.22968794e-13, 3.62885215e-14, 5.85158906e-14,\n",
       "         9.10633186e-14, 6.76156076e-14, 1.02541676e-13, 3.08679210e-14,\n",
       "         4.28402982e-14, 5.85158611e-14, 8.17021964e-14, 5.23509117e-14,\n",
       "         2.70699464e-14, 3.08680823e-14, 3.62881899e-14, 4.06164954e-14,\n",
       "         3.59042770e-14],\n",
       "        [2.70611822e-14, 3.27913334e-14, 4.62382320e-14, 8.16084237e-14,\n",
       "         2.61734281e-13, 2.83823631e-14, 4.06167123e-14, 6.94942095e-14,\n",
       "         2.22969194e-13, 4.00000000e-02, 2.70101092e-14, 3.55948286e-14,\n",
       "         4.40107301e-14, 9.58281844e-14, 2.56644359e-13, 2.49955526e-14,\n",
       "         3.08683112e-14, 3.84045772e-14, 5.23511900e-14, 5.91681144e-14,\n",
       "         2.31945162e-14, 2.56871230e-14, 2.91542298e-14, 3.27908522e-14,\n",
       "         3.65290362e-14],\n",
       "        [6.07580469e-14, 4.62379343e-14, 3.61512693e-14, 2.91538518e-14,\n",
       "         2.52468695e-14, 2.56643543e-13, 1.02540861e-13, 5.25263318e-14,\n",
       "         3.62877872e-14, 2.70089754e-14, 4.00000000e-02, 1.87775741e-13,\n",
       "         5.80138151e-14, 4.08575695e-14, 2.87367430e-14, 2.56643323e-13,\n",
       "         1.02541030e-13, 5.25261724e-14, 3.62878962e-14, 2.70092056e-14,\n",
       "         6.07574673e-14, 4.62376106e-14, 3.61511334e-14, 2.91535867e-14,\n",
       "         2.52466929e-14],\n",
       "        [5.09003323e-14, 6.94943671e-14, 5.25267871e-14, 3.84046782e-14,\n",
       "         3.11570256e-14, 9.58282314e-14, 6.76156552e-14, 1.03443279e-13,\n",
       "         5.85159372e-14, 3.55944757e-14, 1.87776522e-13, 4.00000000e-02,\n",
       "         1.55595060e-13, 7.84317453e-14, 4.08584323e-14, 9.58280113e-14,\n",
       "         6.76158246e-14, 1.03443120e-13, 5.85160463e-14, 3.55947059e-14,\n",
       "         5.08997528e-14, 6.94940433e-14, 5.25266512e-14, 3.84044131e-14,\n",
       "         3.11568489e-14],\n",
       "        [3.63302549e-14, 4.40103837e-14, 5.80137663e-14, 4.40101675e-14,\n",
       "         3.63300545e-14, 4.40101188e-14, 9.10627079e-14, 1.55594556e-13,\n",
       "         9.10627312e-14, 4.40097432e-14, 5.80139620e-14, 1.55594427e-13,\n",
       "         4.00000000e-02, 1.55594402e-13, 5.80140195e-14, 4.40098987e-14,\n",
       "         9.10628774e-14, 1.55594397e-13, 9.10628403e-14, 4.40099734e-14,\n",
       "         3.63296753e-14, 4.40100599e-14, 5.80136304e-14, 4.40099024e-14,\n",
       "         3.63298779e-14],\n",
       "        [3.11572503e-14, 3.84049186e-14, 5.25268114e-14, 6.94941753e-14,\n",
       "         5.09001562e-14, 3.55948756e-14, 5.85159382e-14, 1.03443303e-13,\n",
       "         6.76157027e-14, 9.58278801e-14, 4.08583990e-14, 7.84317939e-14,\n",
       "         1.55595085e-13, 4.00000000e-02, 1.87776604e-13, 3.55946554e-14,\n",
       "         5.85161077e-14, 1.03443144e-13, 6.76158118e-14, 9.58281103e-14,\n",
       "         3.11566706e-14, 3.84045948e-14, 5.25266755e-14, 6.94939102e-14,\n",
       "         5.08999796e-14],\n",
       "        [2.52470124e-14, 2.91540104e-14, 3.61512118e-14, 4.62376606e-14,\n",
       "         6.07577889e-14, 2.70092934e-14, 3.62877063e-14, 5.25262742e-14,\n",
       "         1.02540826e-13, 2.56643110e-13, 2.87366279e-14, 4.08575362e-14,\n",
       "         5.80137575e-14, 1.87775660e-13, 4.00000000e-02, 2.70090733e-14,\n",
       "         3.62878758e-14, 5.25261148e-14, 1.02540936e-13, 2.56643340e-13,\n",
       "         2.52464327e-14, 2.91536867e-14, 3.61510759e-14, 4.62373956e-14,\n",
       "         6.07576123e-14],\n",
       "        [3.65292578e-14, 3.27911780e-14, 2.91542102e-14, 2.56870752e-14,\n",
       "         2.31947400e-14, 5.91681044e-14, 5.23509022e-14, 3.84045812e-14,\n",
       "         3.08680095e-14, 2.49952416e-14, 2.56644146e-13, 9.58280532e-14,\n",
       "         4.40105746e-14, 3.55946488e-14, 2.70100113e-14, 4.00000000e-02,\n",
       "         2.22969184e-13, 6.94938946e-14, 4.06166892e-14, 2.83820622e-14,\n",
       "         2.61733747e-13, 8.16081607e-14, 4.62379406e-14, 3.27906968e-14,\n",
       "         2.70606497e-14],\n",
       "        [3.59045078e-14, 4.06168304e-14, 3.62881796e-14, 3.08680436e-14,\n",
       "         2.70701795e-14, 5.23509109e-14, 8.17019178e-14, 5.85158744e-14,\n",
       "         4.28400058e-14, 3.08676193e-14, 1.02541472e-13, 6.76154857e-14,\n",
       "         9.10631724e-14, 5.85157201e-14, 3.62884328e-14, 2.22968804e-13,\n",
       "         4.00000000e-02, 6.76154562e-14, 8.17020502e-14, 4.06164202e-14,\n",
       "         1.00604137e-13, 2.22968965e-13, 1.02541141e-13, 5.23506945e-14,\n",
       "         3.59041308e-14],\n",
       "        [3.11572554e-14, 3.55951456e-14, 4.08582085e-14, 3.55949295e-14,\n",
       "         3.11570551e-14, 3.84046589e-14, 5.85159434e-14, 7.84319290e-14,\n",
       "         5.85159667e-14, 3.84042834e-14, 5.25270122e-14, 1.03443179e-13,\n",
       "         1.55595090e-13, 1.03443154e-13, 5.25270698e-14, 6.94939116e-14,\n",
       "         6.76158541e-14, 4.00000000e-02, 6.76158170e-14, 6.94939863e-14,\n",
       "         5.08997822e-14, 9.58282020e-14, 1.87776220e-13, 9.58280445e-14,\n",
       "         5.08999848e-14],\n",
       "        [2.70704169e-14, 3.08682970e-14, 3.62882167e-14, 4.06166514e-14,\n",
       "         3.59043445e-14, 3.08680321e-14, 4.28400197e-14, 5.85159115e-14,\n",
       "         8.17019783e-14, 5.23505724e-14, 3.62884124e-14, 5.85157816e-14,\n",
       "         9.10632096e-14, 6.76154985e-14, 1.02541567e-13, 4.06163826e-14,\n",
       "         8.17021244e-14, 6.76154933e-14, 4.00000000e-02, 2.22968915e-13,\n",
       "         3.59039654e-14, 5.23508891e-14, 1.02541178e-13, 2.22968844e-13,\n",
       "         1.00604377e-13],\n",
       "        [2.31948656e-14, 2.56872166e-14, 2.91541355e-14, 3.27908871e-14,\n",
       "         3.65289827e-14, 2.49955425e-14, 3.08679116e-14, 3.84045065e-14,\n",
       "         5.23508508e-14, 5.91676541e-14, 2.70098791e-14, 3.55945984e-14,\n",
       "         4.40104999e-14, 9.58279543e-14, 2.56644129e-13, 2.83819127e-14,\n",
       "         4.06166516e-14, 6.94938199e-14, 2.22969073e-13, 4.00000000e-02,\n",
       "         2.70603724e-14, 3.27907795e-14, 4.62378659e-14, 8.16079285e-14,\n",
       "         2.61733875e-13],\n",
       "        [2.83212867e-14, 2.70611545e-14, 2.52473399e-14, 2.31948520e-14,\n",
       "         2.12608348e-14, 3.65291208e-14, 3.59043621e-14, 3.11570406e-14,\n",
       "         2.70702573e-14, 2.31944277e-14, 6.07585125e-14, 5.09000170e-14,\n",
       "         3.63305736e-14, 3.11568864e-14, 2.52475932e-14, 2.61733969e-13,\n",
       "         1.00604740e-13, 5.08999876e-14, 3.59044945e-14, 2.70607442e-14,\n",
       "         4.00000000e-02, 2.61734130e-13, 6.07581809e-14, 3.65289043e-14,\n",
       "         2.83209097e-14],\n",
       "        [2.70608655e-14, 2.83823111e-14, 2.70095969e-14, 2.49955047e-14,\n",
       "         2.31945787e-14, 3.27907518e-14, 4.06163956e-14, 3.55946418e-14,\n",
       "         3.08678483e-14, 2.56864896e-14, 4.62381110e-14, 6.94937629e-14,\n",
       "         4.40104133e-14, 3.84042657e-14, 2.91543022e-14, 8.16078382e-14,\n",
       "         2.22969023e-13, 9.58278625e-14, 5.23508733e-14, 3.27906065e-14,\n",
       "         2.61733585e-13, 4.00000000e-02, 2.56643653e-13, 5.91677268e-14,\n",
       "         3.65287195e-14],\n",
       "        [2.52474015e-14, 2.70099474e-14, 2.87368213e-14, 2.70097313e-14,\n",
       "         2.52472010e-14, 2.91541348e-14, 3.62880954e-14, 4.08580553e-14,\n",
       "         3.62881187e-14, 2.91537592e-14, 3.61517966e-14, 5.25265334e-14,\n",
       "         5.80141466e-14, 5.25265091e-14, 3.61518541e-14, 4.62377810e-14,\n",
       "         1.02541362e-13, 1.87776043e-13, 1.02541325e-13, 4.62378557e-14,\n",
       "         6.07577989e-14, 2.56643816e-13, 4.00000000e-02, 2.56643658e-13,\n",
       "         6.07580014e-14],\n",
       "        [2.31949366e-14, 2.49958783e-14, 2.70097544e-14, 2.83822525e-14,\n",
       "         2.70608225e-14, 2.56870227e-14, 3.08679825e-14, 3.55947992e-14,\n",
       "         4.06165764e-14, 3.27905338e-14, 2.91544021e-14, 3.84044475e-14,\n",
       "         4.40105708e-14, 6.94938960e-14, 4.62383260e-14, 3.27906892e-14,\n",
       "         5.23510679e-14, 9.58280200e-14, 2.22969144e-13, 8.16080704e-14,\n",
       "         3.65286745e-14, 5.91680417e-14, 2.56643811e-13, 4.00000000e-02,\n",
       "         2.61733945e-13],\n",
       "        [2.12608326e-14, 2.31948656e-14, 2.52471374e-14, 2.70607357e-14,\n",
       "         2.83208838e-14, 2.31946007e-14, 2.70700315e-14, 3.11568381e-14,\n",
       "         3.59041828e-14, 3.65285425e-14, 2.52473331e-14, 3.11567081e-14,\n",
       "         3.63303711e-14, 5.08997902e-14, 6.07583675e-14, 2.70604670e-14,\n",
       "         3.59043290e-14, 5.08997850e-14, 1.00604501e-13, 2.61733841e-13,\n",
       "         2.83205046e-14, 3.65288593e-14, 6.07579784e-14, 2.61733770e-13,\n",
       "         4.00000000e-02]]),\n",
       " 'Cost': 1.414213562444884}"
      ]
     },
     "execution_count": 14,
     "metadata": {},
     "output_type": "execute_result"
    }
   ],
   "source": [
    "fluid_sol"
   ]
  },
  {
   "cell_type": "code",
   "execution_count": 31,
   "metadata": {},
   "outputs": [],
   "source": [
    "# Get the sorted indices of x\n",
    "sorted_indices = np.argsort(average_cost_M)\n",
    "\n",
    "# Sort x and reorder y accordingly\n",
    "average_cost_M = average_cost_M[sorted_indices]\n",
    "average_queue_M = average_queue_M[sorted_indices]"
   ]
  },
  {
   "cell_type": "code",
   "execution_count": 32,
   "metadata": {},
   "outputs": [
    {
     "data": {
      "text/plain": [
       "array([814.61072, 616.64257, 512.32472, 425.64272, 375.78524, 328.40474,\n",
       "       292.72627, 266.91167, 239.41731, 217.77392, 217.12631, 141.98968,\n",
       "       132.76162, 101.50661,  76.70484,  66.11743,  51.94034,  41.47543,\n",
       "        25.05616,  32.57472,  24.10088,  19.51087,  18.93589,  15.5262 ,\n",
       "         8.12446,   7.15301,   6.90919,   6.28548,   4.23885,   4.25567,\n",
       "         3.9613 ,   2.96555,   1.95611,   1.04434,   1.     ,   1.     ])"
      ]
     },
     "execution_count": 32,
     "metadata": {},
     "output_type": "execute_result"
    }
   ],
   "source": [
    "average_queue_M"
   ]
  },
  {
   "cell_type": "code",
   "execution_count": 33,
   "metadata": {},
   "outputs": [
    {
     "data": {
      "text/plain": [
       "array([1.41557908, 1.42242095, 1.42597806, 1.43132874, 1.43336347,\n",
       "       1.44098061, 1.44131298, 1.44938353, 1.44995684, 1.45764534,\n",
       "       1.45871396, 1.47917872, 1.48272992, 1.49743977, 1.52395532,\n",
       "       1.55624625, 1.57414252, 1.59822422, 1.67196732, 1.67204165,\n",
       "       1.71901123, 1.74487963, 1.76569474, 1.86647754, 1.93784532,\n",
       "       2.06174826, 2.08812522, 2.16153194, 2.23564137, 2.24283212,\n",
       "       2.29692117, 2.52470837, 2.87574033, 3.76850157, 3.85504101,\n",
       "       3.85896337])"
      ]
     },
     "execution_count": 33,
     "metadata": {},
     "output_type": "execute_result"
    }
   ],
   "source": [
    "average_cost_M"
   ]
  },
  {
   "cell_type": "code",
   "execution_count": 40,
   "metadata": {},
   "outputs": [],
   "source": [
    "file_name = \"../large_queue_25.pkl\"\n",
    "with open(file_name,'rb') as f:\n",
    "        average_cost_B2_, average_queue_B2, average_cost_B2,  N, W, pmf_cust, pmf_serv = pickle.load(f)\n",
    "\n",
    "file_name = \"../large_queue_25_2.pkl\"\n",
    "with open(file_name,'rb') as f:\n",
    "        average_cost_B2_2_, average_queue_B2_2, average_cost_B2_2, N, W, pmf_cust, pmf_serv = pickle.load(f)"
   ]
  },
  {
   "cell_type": "code",
   "execution_count": 43,
   "metadata": {},
   "outputs": [
    {
     "name": "stderr",
     "output_type": "stream",
     "text": [
      "c:\\Users\\HP\\Anaconda3\\lib\\site-packages\\ipykernel_launcher.py:13: RuntimeWarning: invalid value encountered in log\n",
      "  del sys.path[0]\n"
     ]
    }
   ],
   "source": [
    "# Polynomial fit\n",
    "deg = 1\n",
    "\n",
    "# Get the sorted indices of x\n",
    "sorted_indices = np.argsort(average_cost_B2)\n",
    "\n",
    "# Sort x and reorder y accordingly\n",
    "average_cost_B = average_cost_B2[sorted_indices]\n",
    "average_queue_B = average_queue_B2[sorted_indices]\n",
    "\n",
    "\n",
    "\n",
    "xB = np.log(average_cost_B2_2 - Cstar)\n",
    "yB = np.log(average_queue_B2)"
   ]
  },
  {
   "cell_type": "code",
   "execution_count": 47,
   "metadata": {},
   "outputs": [
    {
     "data": {
      "text/plain": [
       "array([0.08100157, 0.06728972, 0.05783476, 0.0403368 , 0.03342638,\n",
       "       0.0296899 , 0.0255492 , 0.02446199, 0.02313304, 0.02175698,\n",
       "       0.0193091 , 0.01610368, 0.01686457, 0.01633145, 0.0152915 ,\n",
       "       0.01590208, 0.01435378, 0.01374011, 0.01452638, 0.0149533 ,\n",
       "       0.01251626, 0.01155993])"
      ]
     },
     "execution_count": 47,
     "metadata": {},
     "output_type": "execute_result"
    }
   ],
   "source": [
    "average_cost_B2_"
   ]
  },
  {
   "cell_type": "code",
   "execution_count": 48,
   "metadata": {},
   "outputs": [
    {
     "data": {
      "text/plain": [
       "1.414213562444884"
      ]
     },
     "execution_count": 48,
     "metadata": {},
     "output_type": "execute_result"
    }
   ],
   "source": [
    "Cstar"
   ]
  },
  {
   "cell_type": "code",
   "execution_count": null,
   "metadata": {},
   "outputs": [],
   "source": []
  }
 ],
 "metadata": {
  "kernelspec": {
   "display_name": "Python 3",
   "language": "python",
   "name": "python3"
  },
  "language_info": {
   "codemirror_mode": {
    "name": "ipython",
    "version": 3
   },
   "file_extension": ".py",
   "mimetype": "text/x-python",
   "name": "python",
   "nbconvert_exporter": "python",
   "pygments_lexer": "ipython3",
   "version": "3.7.3"
  }
 },
 "nbformat": 4,
 "nbformat_minor": 2
}
