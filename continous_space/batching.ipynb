{
 "cells": [
  {
   "cell_type": "code",
   "execution_count": 1,
   "metadata": {},
   "outputs": [],
   "source": [
    "import numpy as np\n",
    "from scipy.stats import rv_discrete\n",
    "from matplotlib import pyplot as plt\n",
    "import cvxpy as cp\n",
    "import pickle\n",
    "# import gurobipy"
   ]
  },
  {
   "cell_type": "code",
   "execution_count": 5,
   "metadata": {},
   "outputs": [],
   "source": [
    "grid_size = 10\n",
    "time_steps = 15\n",
    "cust_arrivals_x = np.random.uniform(low=0, high=grid_size, size=time_steps)\n",
    "cust_arrivals_y = np.random.uniform(low=0, high=grid_size, size=time_steps)\n",
    "# cust_arrivals = np.column_stack((x_coords, y_coords))\n",
    "serv_arrivals_x = np.random.uniform(low=0, high=grid_size, size=time_steps)\n",
    "serv_arrivals_y = np.random.uniform(low=0, high=grid_size, size=time_steps)"
   ]
  },
  {
   "cell_type": "code",
   "execution_count": 6,
   "metadata": {},
   "outputs": [
    {
     "data": {
      "text/plain": [
       "[<matplotlib.lines.Line2D at 0x2178e78a390>]"
      ]
     },
     "execution_count": 6,
     "metadata": {},
     "output_type": "execute_result"
    },
    {
     "data": {
      "image/png": "[encoded data removed]",
      "text/plain": [
       "<Figure size 432x288 with 1 Axes>"
      ]
     },
     "metadata": {
      "needs_background": "light"
     },
     "output_type": "display_data"
    }
   ],
   "source": [
    "plt.plot(cust_arrivals_x,cust_arrivals_y, 'x')\n",
    "plt.plot(serv_arrivals_x,serv_arrivals_y, 'o')"
   ]
  },
  {
   "cell_type": "code",
   "execution_count": 17,
   "metadata": {},
   "outputs": [],
   "source": [
    "customers = []\n",
    "servers = []\n",
    "customers.append([cust_arrivals_x[0],cust_arrivals_y[0]])\n",
    "customers.append([cust_arrivals_x[1],cust_arrivals_y[1]])\n",
    "servers.append([serv_arrivals_x[0],serv_arrivals_y[0]])\n",
    "servers.append([serv_arrivals_x[1],serv_arrivals_y[1]])"
   ]
  },
  {
   "cell_type": "code",
   "execution_count": 18,
   "metadata": {},
   "outputs": [],
   "source": [
    "coords1 = np.array(customers)\n",
    "coords2 = np.array(servers)\n",
    "diff = coords1[:, np.newaxis, :] - coords2[np.newaxis, :, :]"
   ]
  },
  {
   "cell_type": "code",
   "execution_count": 19,
   "metadata": {},
   "outputs": [
    {
     "data": {
      "text/plain": [
       "(2, 2, 2)"
      ]
     },
     "execution_count": 19,
     "metadata": {},
     "output_type": "execute_result"
    }
   ],
   "source": [
    "diff.shape"
   ]
  },
  {
   "cell_type": "code",
   "execution_count": 20,
   "metadata": {},
   "outputs": [
    {
     "name": "stdout",
     "output_type": "stream",
     "text": [
      "[[7.37350546 6.79513685]\n",
      " [4.86188431 2.78837591]]\n"
     ]
    }
   ],
   "source": [
    "weights = np.sqrt(np.sum(diff**2, axis=-1))\n",
    "print(weights)"
   ]
  },
  {
   "cell_type": "code",
   "execution_count": 21,
   "metadata": {},
   "outputs": [
    {
     "data": {
      "text/plain": [
       "array([[[-6.86017217,  2.70307612],\n",
       "        [-4.05690389,  5.45118479]],\n",
       "\n",
       "       [[-4.7959968 , -0.7977053 ],\n",
       "        [-1.99272851,  1.95040337]]])"
      ]
     },
     "execution_count": 21,
     "metadata": {},
     "output_type": "execute_result"
    }
   ],
   "source": [
    "diff"
   ]
  },
  {
   "cell_type": "code",
   "execution_count": 36,
   "metadata": {},
   "outputs": [
    {
     "name": "stdout",
     "output_type": "stream",
     "text": [
      "iteration 3\n",
      "Customers [[6.100530051435383, 2.2112582863900365], [2.5413458706900895, 2.1921111084827762], [0.49975432868331726, 8.450140764845743]]\n",
      "Servers [[1.787826691115536, 8.697707477124766], [3.7038646133415343, 5.28631324914574], [3.631388861204253, 7.33093733900573]]\n",
      "iteration 6\n",
      "Customers [[7.742855166157386, 4.320834913573988], [8.026637787174417, 0.06836932824301423], [4.39181153048175, 3.0537935233995492]]\n",
      "Servers [[2.4326296512139614, 5.052192433781697], [8.171088646346726, 9.621019278223217], [9.46669436366471, 6.969705002320573]]\n",
      "iteration 9\n",
      "Customers [[5.0009446127660695, 9.148023811666437], [1.5175728838697033, 9.16085173136697], [5.864376930548113, 5.35955164325003]]\n",
      "Servers [[3.5566832342070223, 4.009938227556445], [1.53494178938949, 5.904813200714388], [5.65836959848732, 9.407068279549994]]\n",
      "iteration 12\n",
      "Customers [[5.147309471969358, 5.194080467151768], [3.0881156914242567, 1.3882391107418446], [7.41333139175893, 6.975338972886714]]\n",
      "Servers [[7.885861319743377, 9.377719273628278], [5.21306942697678, 1.0031683667831326], [7.403732478607653, 1.5769131717207252]]\n"
     ]
    }
   ],
   "source": [
    "Tbatch = 3\n",
    "\n",
    "cust_arrivals_x = np.random.uniform(low=0, high=grid_size, size=time_steps)\n",
    "cust_arrivals_y = np.random.uniform(low=0, high=grid_size, size=time_steps)\n",
    "# cust_arrivals = np.column_stack((x_coords, y_coords))\n",
    "serv_arrivals_x = np.random.uniform(low=0, high=grid_size, size=time_steps)\n",
    "serv_arrivals_y = np.random.uniform(low=0, high=grid_size, size=time_steps)\n",
    "\n",
    "customers = []\n",
    "servers = []\n",
    "\n",
    "customers.append([cust_arrivals_x[0],cust_arrivals_y[0]])\n",
    "servers.append([serv_arrivals_x[0],serv_arrivals_y[0]])\n",
    "\n",
    "cost_path = [0]\n",
    "total_queue = []\n",
    "total_queue.append(len(customers))\n",
    "\n",
    "count = 0\n",
    "\n",
    "for k in range(1,time_steps):\n",
    "    queue_length = len(customers)\n",
    "    Mstar = np.zeros(shape=(queue_length,queue_length))\n",
    "    W = np.zeros(shape=(queue_length,queue_length))\n",
    "    # Batching\n",
    "    if k%Tbatch == 0:\n",
    "        N = len(customers)\n",
    "        M = cp.Variable((N,N),boolean=True)\n",
    "        constraints = []\n",
    "        for i in range(N):\n",
    "            # Match customer i with 1 server\n",
    "            constraints.append( cp.sum(M[i,:]) == 1 )\n",
    "            # Match server i with 1 customer\n",
    "            constraints.append( cp.sum(M[:,i]) == 1 )\n",
    "        constraints.append( M[:,:]>=0 )\n",
    "        \n",
    "        coords1 = np.array(customers)\n",
    "        coords2 = np.array(servers)\n",
    "        diff = coords1[:, np.newaxis, :] - coords2[np.newaxis, :, :]\n",
    "        W = np.sqrt(np.sum(diff**2, axis=-1))\n",
    "        objective = cp.Minimize( cp.sum( cp.multiply( W, M ) ) )\n",
    "        \n",
    "        problem  = cp.Problem(objective, constraints)\n",
    "        problem.solve(solver=\"GLPK_MI\")\n",
    "        \n",
    "        Mstar = M.value\n",
    "        print(\"iteration\",k)\n",
    "        print(\"Customers\", customers)\n",
    "        print(\"Servers\", servers)\n",
    "        \n",
    "        customers = []\n",
    "        servers = []\n",
    "\n",
    "    customers.append([cust_arrivals_x[k],cust_arrivals_y[k]])\n",
    "    servers.append([serv_arrivals_x[k],serv_arrivals_y[k]])\n",
    "\n",
    "    matching_cost = np.sum( np.multiply( W, Mstar ) )\n",
    "\n",
    "    total_queue.append(len(customers))\n",
    "    cost_path.append(matching_cost)"
   ]
  },
  {
   "cell_type": "code",
   "execution_count": 31,
   "metadata": {},
   "outputs": [
    {
     "data": {
      "text/plain": [
       "[1, 2, 3, 1, 2, 3, 1, 2, 3, 1, 2, 3, 1, 2, 3]"
      ]
     },
     "execution_count": 31,
     "metadata": {},
     "output_type": "execute_result"
    }
   ],
   "source": [
    "total_queue"
   ]
  },
  {
   "cell_type": "code",
   "execution_count": 32,
   "metadata": {},
   "outputs": [
    {
     "data": {
      "text/plain": [
       "[0,\n",
       " 0.0,\n",
       " 0.0,\n",
       " 13.439185031032114,\n",
       " 0.0,\n",
       " 0.0,\n",
       " 15.46185738447516,\n",
       " 0.0,\n",
       " 0.0,\n",
       " 8.515095464477,\n",
       " 0.0,\n",
       " 0.0,\n",
       " 11.56960006904361,\n",
       " 0.0,\n",
       " 0.0]"
      ]
     },
     "execution_count": 32,
     "metadata": {},
     "output_type": "execute_result"
    }
   ],
   "source": [
    "cost_path"
   ]
  },
  {
   "cell_type": "code",
   "execution_count": null,
   "metadata": {},
   "outputs": [],
   "source": []
  }
 ],
 "metadata": {
  "kernelspec": {
   "display_name": "base",
   "language": "python",
   "name": "python3"
  },
  "language_info": {
   "codemirror_mode": {
    "name": "ipython",
    "version": 3
   },
   "file_extension": ".py",
   "mimetype": "text/x-python",
   "name": "python",
   "nbconvert_exporter": "python",
   "pygments_lexer": "ipython3",
   "version": "3.7.3"
  }
 },
 "nbformat": 4,
 "nbformat_minor": 2
}
